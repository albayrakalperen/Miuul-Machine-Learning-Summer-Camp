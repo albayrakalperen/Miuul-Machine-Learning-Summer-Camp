{
 "cells": [
  {
   "cell_type": "code",
   "execution_count": 1,
   "id": "cf7262be",
   "metadata": {},
   "outputs": [],
   "source": [
    "import numpy as np\n",
    "import pandas as pd\n",
    "import seaborn as sns\n",
    "from matplotlib import pyplot as plt\n",
    "from datetime import date\n",
    "from sklearn.metrics import accuracy_score\n",
    "from sklearn.model_selection import train_test_split\n",
    "from sklearn.neighbors import LocalOutlierFactor\n",
    "from sklearn.preprocessing import MinMaxScaler, LabelEncoder, StandardScaler, RobustScaler\n",
    "from sklearn.ensemble import RandomForestClassifier"
   ]
  },
  {
   "cell_type": "code",
   "execution_count": 2,
   "id": "b87be8f9",
   "metadata": {},
   "outputs": [],
   "source": [
    "pd.set_option('expand_frame_repr', True)\n",
    "pd.set_option(\"display.max_rows\", 999)\n",
    "pd.set_option('max_colwidth',100)"
   ]
  },
  {
   "cell_type": "markdown",
   "id": "b471ca01",
   "metadata": {},
   "source": [
    "## TASK 1"
   ]
  },
  {
   "cell_type": "code",
   "execution_count": 3,
   "id": "23358165",
   "metadata": {},
   "outputs": [
    {
     "data": {
      "text/html": [
       "<div>\n",
       "<style scoped>\n",
       "    .dataframe tbody tr th:only-of-type {\n",
       "        vertical-align: middle;\n",
       "    }\n",
       "\n",
       "    .dataframe tbody tr th {\n",
       "        vertical-align: top;\n",
       "    }\n",
       "\n",
       "    .dataframe thead th {\n",
       "        text-align: right;\n",
       "    }\n",
       "</style>\n",
       "<table border=\"1\" class=\"dataframe\">\n",
       "  <thead>\n",
       "    <tr style=\"text-align: right;\">\n",
       "      <th></th>\n",
       "      <th>customerID</th>\n",
       "      <th>gender</th>\n",
       "      <th>SeniorCitizen</th>\n",
       "      <th>Partner</th>\n",
       "      <th>Dependents</th>\n",
       "      <th>tenure</th>\n",
       "      <th>PhoneService</th>\n",
       "      <th>MultipleLines</th>\n",
       "      <th>InternetService</th>\n",
       "      <th>OnlineSecurity</th>\n",
       "      <th>...</th>\n",
       "      <th>DeviceProtection</th>\n",
       "      <th>TechSupport</th>\n",
       "      <th>StreamingTV</th>\n",
       "      <th>StreamingMovies</th>\n",
       "      <th>Contract</th>\n",
       "      <th>PaperlessBilling</th>\n",
       "      <th>PaymentMethod</th>\n",
       "      <th>MonthlyCharges</th>\n",
       "      <th>TotalCharges</th>\n",
       "      <th>Churn</th>\n",
       "    </tr>\n",
       "  </thead>\n",
       "  <tbody>\n",
       "    <tr>\n",
       "      <th>0</th>\n",
       "      <td>7590-VHVEG</td>\n",
       "      <td>Female</td>\n",
       "      <td>0</td>\n",
       "      <td>Yes</td>\n",
       "      <td>No</td>\n",
       "      <td>1</td>\n",
       "      <td>No</td>\n",
       "      <td>No phone service</td>\n",
       "      <td>DSL</td>\n",
       "      <td>No</td>\n",
       "      <td>...</td>\n",
       "      <td>No</td>\n",
       "      <td>No</td>\n",
       "      <td>No</td>\n",
       "      <td>No</td>\n",
       "      <td>Month-to-month</td>\n",
       "      <td>Yes</td>\n",
       "      <td>Electronic check</td>\n",
       "      <td>29.85</td>\n",
       "      <td>29.85</td>\n",
       "      <td>No</td>\n",
       "    </tr>\n",
       "    <tr>\n",
       "      <th>1</th>\n",
       "      <td>5575-GNVDE</td>\n",
       "      <td>Male</td>\n",
       "      <td>0</td>\n",
       "      <td>No</td>\n",
       "      <td>No</td>\n",
       "      <td>34</td>\n",
       "      <td>Yes</td>\n",
       "      <td>No</td>\n",
       "      <td>DSL</td>\n",
       "      <td>Yes</td>\n",
       "      <td>...</td>\n",
       "      <td>Yes</td>\n",
       "      <td>No</td>\n",
       "      <td>No</td>\n",
       "      <td>No</td>\n",
       "      <td>One year</td>\n",
       "      <td>No</td>\n",
       "      <td>Mailed check</td>\n",
       "      <td>56.95</td>\n",
       "      <td>1889.5</td>\n",
       "      <td>No</td>\n",
       "    </tr>\n",
       "    <tr>\n",
       "      <th>2</th>\n",
       "      <td>3668-QPYBK</td>\n",
       "      <td>Male</td>\n",
       "      <td>0</td>\n",
       "      <td>No</td>\n",
       "      <td>No</td>\n",
       "      <td>2</td>\n",
       "      <td>Yes</td>\n",
       "      <td>No</td>\n",
       "      <td>DSL</td>\n",
       "      <td>Yes</td>\n",
       "      <td>...</td>\n",
       "      <td>No</td>\n",
       "      <td>No</td>\n",
       "      <td>No</td>\n",
       "      <td>No</td>\n",
       "      <td>Month-to-month</td>\n",
       "      <td>Yes</td>\n",
       "      <td>Mailed check</td>\n",
       "      <td>53.85</td>\n",
       "      <td>108.15</td>\n",
       "      <td>Yes</td>\n",
       "    </tr>\n",
       "    <tr>\n",
       "      <th>3</th>\n",
       "      <td>7795-CFOCW</td>\n",
       "      <td>Male</td>\n",
       "      <td>0</td>\n",
       "      <td>No</td>\n",
       "      <td>No</td>\n",
       "      <td>45</td>\n",
       "      <td>No</td>\n",
       "      <td>No phone service</td>\n",
       "      <td>DSL</td>\n",
       "      <td>Yes</td>\n",
       "      <td>...</td>\n",
       "      <td>Yes</td>\n",
       "      <td>Yes</td>\n",
       "      <td>No</td>\n",
       "      <td>No</td>\n",
       "      <td>One year</td>\n",
       "      <td>No</td>\n",
       "      <td>Bank transfer (automatic)</td>\n",
       "      <td>42.30</td>\n",
       "      <td>1840.75</td>\n",
       "      <td>No</td>\n",
       "    </tr>\n",
       "    <tr>\n",
       "      <th>4</th>\n",
       "      <td>9237-HQITU</td>\n",
       "      <td>Female</td>\n",
       "      <td>0</td>\n",
       "      <td>No</td>\n",
       "      <td>No</td>\n",
       "      <td>2</td>\n",
       "      <td>Yes</td>\n",
       "      <td>No</td>\n",
       "      <td>Fiber optic</td>\n",
       "      <td>No</td>\n",
       "      <td>...</td>\n",
       "      <td>No</td>\n",
       "      <td>No</td>\n",
       "      <td>No</td>\n",
       "      <td>No</td>\n",
       "      <td>Month-to-month</td>\n",
       "      <td>Yes</td>\n",
       "      <td>Electronic check</td>\n",
       "      <td>70.70</td>\n",
       "      <td>151.65</td>\n",
       "      <td>Yes</td>\n",
       "    </tr>\n",
       "  </tbody>\n",
       "</table>\n",
       "<p>5 rows × 21 columns</p>\n",
       "</div>"
      ],
      "text/plain": [
       "   customerID  gender  SeniorCitizen Partner Dependents  tenure PhoneService  \\\n",
       "0  7590-VHVEG  Female              0     Yes         No       1           No   \n",
       "1  5575-GNVDE    Male              0      No         No      34          Yes   \n",
       "2  3668-QPYBK    Male              0      No         No       2          Yes   \n",
       "3  7795-CFOCW    Male              0      No         No      45           No   \n",
       "4  9237-HQITU  Female              0      No         No       2          Yes   \n",
       "\n",
       "      MultipleLines InternetService OnlineSecurity  ... DeviceProtection  \\\n",
       "0  No phone service             DSL             No  ...               No   \n",
       "1                No             DSL            Yes  ...              Yes   \n",
       "2                No             DSL            Yes  ...               No   \n",
       "3  No phone service             DSL            Yes  ...              Yes   \n",
       "4                No     Fiber optic             No  ...               No   \n",
       "\n",
       "  TechSupport StreamingTV StreamingMovies        Contract PaperlessBilling  \\\n",
       "0          No          No              No  Month-to-month              Yes   \n",
       "1          No          No              No        One year               No   \n",
       "2          No          No              No  Month-to-month              Yes   \n",
       "3         Yes          No              No        One year               No   \n",
       "4          No          No              No  Month-to-month              Yes   \n",
       "\n",
       "               PaymentMethod MonthlyCharges  TotalCharges Churn  \n",
       "0           Electronic check          29.85         29.85    No  \n",
       "1               Mailed check          56.95        1889.5    No  \n",
       "2               Mailed check          53.85        108.15   Yes  \n",
       "3  Bank transfer (automatic)          42.30       1840.75    No  \n",
       "4           Electronic check          70.70        151.65   Yes  \n",
       "\n",
       "[5 rows x 21 columns]"
      ]
     },
     "execution_count": 3,
     "metadata": {},
     "output_type": "execute_result"
    }
   ],
   "source": [
    "df = pd.read_csv('Telco-Customer-Churn.csv')\n",
    "df.head()"
   ]
  },
  {
   "cell_type": "code",
   "execution_count": 4,
   "id": "850ffe3e",
   "metadata": {},
   "outputs": [],
   "source": [
    "def check_df(dataframe, head=8):\n",
    "  print(\"##### Shape #####\")\n",
    "  print(dataframe.shape)\n",
    "  print(\"\\n##### Types #####\")\n",
    "  print(dataframe.dtypes)\n",
    "  print(\"\\n##### Tail #####\")\n",
    "  print(dataframe.tail(head))\n",
    "  print(\"\\n##### Head #####\")\n",
    "  print(dataframe.head(head))\n",
    "  print(\"\\n##### Null Analysis #####\")\n",
    "  print(dataframe.isnull().sum())\n",
    "  print(\"\\n##### Quantiles #####\")\n",
    "  print(dataframe.describe([0,0.05, 0.50, 0.95, 0.99, 1]).T)"
   ]
  },
  {
   "cell_type": "code",
   "execution_count": 5,
   "id": "a724e288",
   "metadata": {
    "scrolled": true
   },
   "outputs": [
    {
     "name": "stdout",
     "output_type": "stream",
     "text": [
      "##### Shape #####\n",
      "(7043, 21)\n",
      "\n",
      "##### Types #####\n",
      "customerID           object\n",
      "gender               object\n",
      "SeniorCitizen         int64\n",
      "Partner              object\n",
      "Dependents           object\n",
      "tenure                int64\n",
      "PhoneService         object\n",
      "MultipleLines        object\n",
      "InternetService      object\n",
      "OnlineSecurity       object\n",
      "OnlineBackup         object\n",
      "DeviceProtection     object\n",
      "TechSupport          object\n",
      "StreamingTV          object\n",
      "StreamingMovies      object\n",
      "Contract             object\n",
      "PaperlessBilling     object\n",
      "PaymentMethod        object\n",
      "MonthlyCharges      float64\n",
      "TotalCharges         object\n",
      "Churn                object\n",
      "dtype: object\n",
      "\n",
      "##### Tail #####\n",
      "      customerID  gender  SeniorCitizen Partner Dependents  tenure  \\\n",
      "7035  8456-QDAVC    Male              0      No         No      19   \n",
      "7036  7750-EYXWZ  Female              0      No         No      12   \n",
      "7037  2569-WGERO  Female              0      No         No      72   \n",
      "7038  6840-RESVB    Male              0     Yes        Yes      24   \n",
      "7039  2234-XADUH  Female              0     Yes        Yes      72   \n",
      "7040  4801-JZAZL  Female              0     Yes        Yes      11   \n",
      "7041  8361-LTMKD    Male              1     Yes         No       4   \n",
      "7042  3186-AJIEK    Male              0      No         No      66   \n",
      "\n",
      "     PhoneService     MultipleLines InternetService       OnlineSecurity  ...  \\\n",
      "7035          Yes                No     Fiber optic                   No  ...   \n",
      "7036           No  No phone service             DSL                   No  ...   \n",
      "7037          Yes                No              No  No internet service  ...   \n",
      "7038          Yes               Yes             DSL                  Yes  ...   \n",
      "7039          Yes               Yes     Fiber optic                   No  ...   \n",
      "7040           No  No phone service             DSL                  Yes  ...   \n",
      "7041          Yes               Yes     Fiber optic                   No  ...   \n",
      "7042          Yes                No     Fiber optic                  Yes  ...   \n",
      "\n",
      "         DeviceProtection          TechSupport          StreamingTV  \\\n",
      "7035                   No                   No                  Yes   \n",
      "7036                  Yes                  Yes                  Yes   \n",
      "7037  No internet service  No internet service  No internet service   \n",
      "7038                  Yes                  Yes                  Yes   \n",
      "7039                  Yes                   No                  Yes   \n",
      "7040                   No                   No                   No   \n",
      "7041                   No                   No                   No   \n",
      "7042                  Yes                  Yes                  Yes   \n",
      "\n",
      "          StreamingMovies        Contract PaperlessBilling  \\\n",
      "7035                   No  Month-to-month              Yes   \n",
      "7036                  Yes        One year               No   \n",
      "7037  No internet service        Two year              Yes   \n",
      "7038                  Yes        One year              Yes   \n",
      "7039                  Yes        One year              Yes   \n",
      "7040                   No  Month-to-month              Yes   \n",
      "7041                   No  Month-to-month              Yes   \n",
      "7042                  Yes        Two year              Yes   \n",
      "\n",
      "                  PaymentMethod MonthlyCharges  TotalCharges Churn  \n",
      "7035  Bank transfer (automatic)          78.70        1495.1    No  \n",
      "7036           Electronic check          60.65         743.3    No  \n",
      "7037  Bank transfer (automatic)          21.15        1419.4    No  \n",
      "7038               Mailed check          84.80        1990.5    No  \n",
      "7039    Credit card (automatic)         103.20        7362.9    No  \n",
      "7040           Electronic check          29.60        346.45    No  \n",
      "7041               Mailed check          74.40         306.6   Yes  \n",
      "7042  Bank transfer (automatic)         105.65        6844.5    No  \n",
      "\n",
      "[8 rows x 21 columns]\n",
      "\n",
      "##### Head #####\n",
      "   customerID  gender  SeniorCitizen Partner Dependents  tenure PhoneService  \\\n",
      "0  7590-VHVEG  Female              0     Yes         No       1           No   \n",
      "1  5575-GNVDE    Male              0      No         No      34          Yes   \n",
      "2  3668-QPYBK    Male              0      No         No       2          Yes   \n",
      "3  7795-CFOCW    Male              0      No         No      45           No   \n",
      "4  9237-HQITU  Female              0      No         No       2          Yes   \n",
      "5  9305-CDSKC  Female              0      No         No       8          Yes   \n",
      "6  1452-KIOVK    Male              0      No        Yes      22          Yes   \n",
      "7  6713-OKOMC  Female              0      No         No      10           No   \n",
      "\n",
      "      MultipleLines InternetService OnlineSecurity  ... DeviceProtection  \\\n",
      "0  No phone service             DSL             No  ...               No   \n",
      "1                No             DSL            Yes  ...              Yes   \n",
      "2                No             DSL            Yes  ...               No   \n",
      "3  No phone service             DSL            Yes  ...              Yes   \n",
      "4                No     Fiber optic             No  ...               No   \n",
      "5               Yes     Fiber optic             No  ...              Yes   \n",
      "6               Yes     Fiber optic             No  ...               No   \n",
      "7  No phone service             DSL            Yes  ...               No   \n",
      "\n",
      "  TechSupport StreamingTV StreamingMovies        Contract PaperlessBilling  \\\n",
      "0          No          No              No  Month-to-month              Yes   \n",
      "1          No          No              No        One year               No   \n",
      "2          No          No              No  Month-to-month              Yes   \n",
      "3         Yes          No              No        One year               No   \n",
      "4          No          No              No  Month-to-month              Yes   \n",
      "5          No         Yes             Yes  Month-to-month              Yes   \n",
      "6          No         Yes              No  Month-to-month              Yes   \n",
      "7          No          No              No  Month-to-month               No   \n",
      "\n",
      "               PaymentMethod MonthlyCharges  TotalCharges Churn  \n",
      "0           Electronic check          29.85         29.85    No  \n",
      "1               Mailed check          56.95        1889.5    No  \n",
      "2               Mailed check          53.85        108.15   Yes  \n",
      "3  Bank transfer (automatic)          42.30       1840.75    No  \n",
      "4           Electronic check          70.70        151.65   Yes  \n",
      "5           Electronic check          99.65         820.5   Yes  \n",
      "6    Credit card (automatic)          89.10        1949.4    No  \n",
      "7               Mailed check          29.75         301.9    No  \n",
      "\n",
      "[8 rows x 21 columns]\n",
      "\n",
      "##### Null Analysis #####\n",
      "customerID          0\n",
      "gender              0\n",
      "SeniorCitizen       0\n",
      "Partner             0\n",
      "Dependents          0\n",
      "tenure              0\n",
      "PhoneService        0\n",
      "MultipleLines       0\n",
      "InternetService     0\n",
      "OnlineSecurity      0\n",
      "OnlineBackup        0\n",
      "DeviceProtection    0\n",
      "TechSupport         0\n",
      "StreamingTV         0\n",
      "StreamingMovies     0\n",
      "Contract            0\n",
      "PaperlessBilling    0\n",
      "PaymentMethod       0\n",
      "MonthlyCharges      0\n",
      "TotalCharges        0\n",
      "Churn               0\n",
      "dtype: int64\n",
      "\n",
      "##### Quantiles #####\n",
      "                 count       mean        std    min     0%     5%    50%  \\\n",
      "SeniorCitizen   7043.0   0.162147   0.368612   0.00   0.00   0.00   0.00   \n",
      "tenure          7043.0  32.371149  24.559481   0.00   0.00   1.00  29.00   \n",
      "MonthlyCharges  7043.0  64.761692  30.090047  18.25  18.25  19.65  70.35   \n",
      "\n",
      "                  95%      99%    100%     max  \n",
      "SeniorCitizen     1.0    1.000    1.00    1.00  \n",
      "tenure           72.0   72.000   72.00   72.00  \n",
      "MonthlyCharges  107.4  114.729  118.75  118.75  \n"
     ]
    }
   ],
   "source": [
    "check_df(df)"
   ]
  },
  {
   "cell_type": "code",
   "execution_count": 6,
   "id": "beb58e68",
   "metadata": {},
   "outputs": [
    {
     "data": {
      "text/plain": [
       "0                      No\n",
       "1                     Yes\n",
       "2                     Yes\n",
       "3                     Yes\n",
       "4                      No\n",
       "5                      No\n",
       "6                      No\n",
       "7                     Yes\n",
       "8                      No\n",
       "9                     Yes\n",
       "10                    Yes\n",
       "11    No internet service\n",
       "12                     No\n",
       "13                     No\n",
       "14                    Yes\n",
       "15                    Yes\n",
       "16    No internet service\n",
       "17                    Yes\n",
       "18                     No\n",
       "19                     No\n",
       "Name: OnlineSecurity, dtype: object"
      ]
     },
     "execution_count": 6,
     "metadata": {},
     "output_type": "execute_result"
    }
   ],
   "source": [
    "df['OnlineSecurity'].head(20)"
   ]
  },
  {
   "cell_type": "code",
   "execution_count": 7,
   "id": "a1acd1a2",
   "metadata": {},
   "outputs": [],
   "source": [
    "df.columns = [col.upper() for col in df.columns]"
   ]
  },
  {
   "cell_type": "code",
   "execution_count": 8,
   "id": "f41b32fe",
   "metadata": {},
   "outputs": [
    {
     "data": {
      "text/plain": [
       "Int64Index([488, 753, 936, 1082, 1340, 3331, 3826, 4380, 5218, 6670, 6754], dtype='int64')"
      ]
     },
     "execution_count": 8,
     "metadata": {},
     "output_type": "execute_result"
    }
   ],
   "source": [
    "hidden_nan_index = df[df['TOTALCHARGES'].str.contains(' ', case=True, flags=0, na=None, regex=True)].index\n",
    "hidden_nan_index"
   ]
  },
  {
   "cell_type": "code",
   "execution_count": 9,
   "id": "237a9b46",
   "metadata": {},
   "outputs": [],
   "source": [
    "df['TOTALCHARGES'].replace({' ':np.nan}, inplace=True)"
   ]
  },
  {
   "cell_type": "code",
   "execution_count": 10,
   "id": "fb21ac3a",
   "metadata": {},
   "outputs": [
    {
     "data": {
      "text/plain": [
       "0      29.85\n",
       "1     1889.5\n",
       "2     108.15\n",
       "3    1840.75\n",
       "4     151.65\n",
       "Name: TOTALCHARGES, dtype: object"
      ]
     },
     "execution_count": 10,
     "metadata": {},
     "output_type": "execute_result"
    }
   ],
   "source": [
    "df['TOTALCHARGES'].head()"
   ]
  },
  {
   "cell_type": "code",
   "execution_count": 11,
   "id": "8ea9e831",
   "metadata": {},
   "outputs": [
    {
     "data": {
      "text/plain": [
       "488     NaN\n",
       "753     NaN\n",
       "936     NaN\n",
       "1082    NaN\n",
       "1340    NaN\n",
       "3331    NaN\n",
       "3826    NaN\n",
       "4380    NaN\n",
       "5218    NaN\n",
       "6670    NaN\n",
       "6754    NaN\n",
       "Name: TOTALCHARGES, dtype: object"
      ]
     },
     "execution_count": 11,
     "metadata": {},
     "output_type": "execute_result"
    }
   ],
   "source": [
    "df['TOTALCHARGES'][df['TOTALCHARGES'].isnull() == True]"
   ]
  },
  {
   "cell_type": "code",
   "execution_count": 12,
   "id": "d22aac33",
   "metadata": {},
   "outputs": [],
   "source": [
    "df['TOTALCHARGES'] = pd.to_numeric(df['TOTALCHARGES'])"
   ]
  },
  {
   "cell_type": "code",
   "execution_count": 13,
   "id": "d137a3df",
   "metadata": {},
   "outputs": [],
   "source": [
    "df['CHURN'] = np.where((df['CHURN'] == 'Yes'), 1, 0).astype(int)"
   ]
  },
  {
   "cell_type": "markdown",
   "id": "66c7c86b",
   "metadata": {},
   "source": [
    "## TASK 2"
   ]
  },
  {
   "cell_type": "code",
   "execution_count": 14,
   "id": "1b2e3fd2",
   "metadata": {},
   "outputs": [],
   "source": [
    "def grab_col_names(dataframe, cat_th=10, car_th=20):\n",
    "    cat_cols = [col for col in dataframe.columns if dataframe[col].dtype == 'O']\n",
    "\n",
    "    num_but_cat = [col for col in dataframe.columns if dataframe[col].nunique() < cat_th and\n",
    "                   dataframe[col].dtype != 'O']\n",
    "\n",
    "    cat_but_car = [col for col in dataframe.columns if dataframe[col].nunique() > car_th and\n",
    "                   dataframe[col].dtype == 'O']\n",
    "\n",
    "    cat_cols = cat_cols + num_but_cat\n",
    "\n",
    "    cat_cols = [col for col in cat_cols if col not in cat_but_car]\n",
    "\n",
    "    # num_cols\n",
    "    num_cols = [col for col in dataframe.columns if dataframe[col].dtype != 'O']\n",
    "\n",
    "    num_cols = [col for col in num_cols if col not in num_but_cat]\n",
    "\n",
    "    print(f\"Observations: {dataframe.shape[0]}\")\n",
    "    print(f\"Variables: {dataframe.shape[1]}\")\n",
    "    print(f'cat_cols: {len(cat_cols)}')\n",
    "    print(f'num_cols: {len(num_cols)}')\n",
    "    print(f'cat_but_car: {len(cat_but_car)}')\n",
    "    print(f'num_but_cat: {len(num_but_cat)}')\n",
    "    return cat_cols, num_cols, cat_but_car"
   ]
  },
  {
   "cell_type": "code",
   "execution_count": 15,
   "id": "53b7add4",
   "metadata": {
    "scrolled": true
   },
   "outputs": [
    {
     "name": "stdout",
     "output_type": "stream",
     "text": [
      "Observations: 7043\n",
      "Variables: 21\n",
      "cat_cols: 17\n",
      "num_cols: 3\n",
      "cat_but_car: 1\n",
      "num_but_cat: 2\n"
     ]
    }
   ],
   "source": [
    "cat_cols, num_cols, cat_but_car = grab_col_names(df)"
   ]
  },
  {
   "cell_type": "code",
   "execution_count": 16,
   "id": "db91f07e",
   "metadata": {},
   "outputs": [
    {
     "data": {
      "text/plain": [
       "['GENDER',\n",
       " 'PARTNER',\n",
       " 'DEPENDENTS',\n",
       " 'PHONESERVICE',\n",
       " 'MULTIPLELINES',\n",
       " 'INTERNETSERVICE',\n",
       " 'ONLINESECURITY',\n",
       " 'ONLINEBACKUP',\n",
       " 'DEVICEPROTECTION',\n",
       " 'TECHSUPPORT',\n",
       " 'STREAMINGTV',\n",
       " 'STREAMINGMOVIES',\n",
       " 'CONTRACT',\n",
       " 'PAPERLESSBILLING',\n",
       " 'PAYMENTMETHOD',\n",
       " 'SENIORCITIZEN',\n",
       " 'CHURN']"
      ]
     },
     "execution_count": 16,
     "metadata": {},
     "output_type": "execute_result"
    }
   ],
   "source": [
    "cat_cols"
   ]
  },
  {
   "cell_type": "code",
   "execution_count": 17,
   "id": "989f7df5",
   "metadata": {},
   "outputs": [
    {
     "data": {
      "text/plain": [
       "['TENURE', 'MONTHLYCHARGES', 'TOTALCHARGES']"
      ]
     },
     "execution_count": 17,
     "metadata": {},
     "output_type": "execute_result"
    }
   ],
   "source": [
    "num_cols"
   ]
  },
  {
   "cell_type": "code",
   "execution_count": 18,
   "id": "ad4d1048",
   "metadata": {},
   "outputs": [
    {
     "data": {
      "text/plain": [
       "['CUSTOMERID']"
      ]
     },
     "execution_count": 18,
     "metadata": {},
     "output_type": "execute_result"
    }
   ],
   "source": [
    "cat_but_car"
   ]
  },
  {
   "cell_type": "markdown",
   "id": "2e00d9cb",
   "metadata": {},
   "source": [
    "## TASK 3"
   ]
  },
  {
   "cell_type": "code",
   "execution_count": 19,
   "id": "e574148c",
   "metadata": {},
   "outputs": [],
   "source": [
    "def num_summary(dataframe, num_col, plot=False):\n",
    "    quantiles = [0.05, 0.10, 0.20, 0.30, 0.40, 0.50, 0.60, 0.70, 0.80, 0.90, 0.95, 0.99]\n",
    "    print(dataframe[num_col].describe(quantiles).T)\n",
    "    if plot:\n",
    "        dataframe[num_col].hist()\n",
    "        plt.xlabel(num_col)\n",
    "        plt.title(num_col)\n",
    "        plt.show(block=True)"
   ]
  },
  {
   "cell_type": "code",
   "execution_count": 20,
   "id": "ad543cec",
   "metadata": {},
   "outputs": [
    {
     "name": "stdout",
     "output_type": "stream",
     "text": [
      "count    7043.000000\n",
      "mean       32.371149\n",
      "std        24.559481\n",
      "min         0.000000\n",
      "5%          1.000000\n",
      "10%         2.000000\n",
      "20%         6.000000\n",
      "30%        12.000000\n",
      "40%        20.000000\n",
      "50%        29.000000\n",
      "60%        40.000000\n",
      "70%        50.000000\n",
      "80%        60.000000\n",
      "90%        69.000000\n",
      "95%        72.000000\n",
      "99%        72.000000\n",
      "max        72.000000\n",
      "Name: TENURE, dtype: float64\n"
     ]
    },
    {
     "data": {
      "image/png": "[encoded data removed]",
      "text/plain": [
       "<Figure size 432x288 with 1 Axes>"
      ]
     },
     "metadata": {
      "needs_background": "light"
     },
     "output_type": "display_data"
    },
    {
     "name": "stdout",
     "output_type": "stream",
     "text": [
      "count    7043.000000\n",
      "mean       64.761692\n",
      "std        30.090047\n",
      "min        18.250000\n",
      "5%         19.650000\n",
      "10%        20.050000\n",
      "20%        25.050000\n",
      "30%        45.850000\n",
      "40%        58.830000\n",
      "50%        70.350000\n",
      "60%        79.100000\n",
      "70%        85.500000\n",
      "80%        94.250000\n",
      "90%       102.600000\n",
      "95%       107.400000\n",
      "99%       114.729000\n",
      "max       118.750000\n",
      "Name: MONTHLYCHARGES, dtype: float64\n"
     ]
    },
    {
     "data": {
      "image/png": "[encoded data removed]",
      "text/plain": [
       "<Figure size 432x288 with 1 Axes>"
      ]
     },
     "metadata": {
      "needs_background": "light"
     },
     "output_type": "display_data"
    },
    {
     "name": "stdout",
     "output_type": "stream",
     "text": [
      "count    7032.000000\n",
      "mean     2283.300441\n",
      "std      2266.771362\n",
      "min        18.800000\n",
      "5%         49.605000\n",
      "10%        84.600000\n",
      "20%       267.070000\n",
      "30%       551.995000\n",
      "40%       944.170000\n",
      "50%      1397.475000\n",
      "60%      2048.950000\n",
      "70%      3141.130000\n",
      "80%      4475.410000\n",
      "90%      5976.640000\n",
      "95%      6923.590000\n",
      "99%      8039.883000\n",
      "max      8684.800000\n",
      "Name: TOTALCHARGES, dtype: float64\n"
     ]
    },
    {
     "data": {
      "image/png": "[encoded data removed]",
      "text/plain": [
       "<Figure size 432x288 with 1 Axes>"
      ]
     },
     "metadata": {
      "needs_background": "light"
     },
     "output_type": "display_data"
    }
   ],
   "source": [
    "for col in num_cols:\n",
    "    num_summary(df, col, True)"
   ]
  },
  {
   "cell_type": "code",
   "execution_count": 21,
   "id": "f3a83d49",
   "metadata": {},
   "outputs": [],
   "source": [
    "def cat_summary(dataframe, cat_col, plot=False):\n",
    "    print(pd.DataFrame({cat_col: dataframe[cat_col].value_counts(),\n",
    "                        \"Ratio\": 100 * dataframe[cat_col].value_counts() / len(dataframe)}))\n",
    "    print(\"##########################################\")\n",
    "\n",
    "    if plot:\n",
    "        sns.countplot(x=dataframe[cat_col], data=dataframe)\n",
    "        plt.show(block=True)"
   ]
  },
  {
   "cell_type": "code",
   "execution_count": 22,
   "id": "7cb083da",
   "metadata": {
    "scrolled": true
   },
   "outputs": [
    {
     "name": "stdout",
     "output_type": "stream",
     "text": [
      "        GENDER     Ratio\n",
      "Male      3555  50.47565\n",
      "Female    3488  49.52435\n",
      "##########################################\n"
     ]
    },
    {
     "data": {
      "image/png": "[encoded data removed]",
      "text/plain": [
       "<Figure size 432x288 with 1 Axes>"
      ]
     },
     "metadata": {
      "needs_background": "light"
     },
     "output_type": "display_data"
    },
    {
     "name": "stdout",
     "output_type": "stream",
     "text": [
      "     PARTNER     Ratio\n",
      "No      3641  51.69672\n",
      "Yes     3402  48.30328\n",
      "##########################################\n"
     ]
    },
    {
     "data": {
      "image/png": "[encoded data removed]",
      "text/plain": [
       "<Figure size 432x288 with 1 Axes>"
      ]
     },
     "metadata": {
      "needs_background": "light"
     },
     "output_type": "display_data"
    },
    {
     "name": "stdout",
     "output_type": "stream",
     "text": [
      "     DEPENDENTS      Ratio\n",
      "No         4933  70.041176\n",
      "Yes        2110  29.958824\n",
      "##########################################\n"
     ]
    },
    {
     "data": {
      "image/png": "[encoded data removed]",
      "text/plain": [
       "<Figure size 432x288 with 1 Axes>"
      ]
     },
     "metadata": {
      "needs_background": "light"
     },
     "output_type": "display_data"
    },
    {
     "name": "stdout",
     "output_type": "stream",
     "text": [
      "     PHONESERVICE      Ratio\n",
      "Yes          6361  90.316626\n",
      "No            682   9.683374\n",
      "##########################################\n"
     ]
    },
    {
     "data": {
      "image/png": "[encoded data removed]",
      "text/plain": [
       "<Figure size 432x288 with 1 Axes>"
      ]
     },
     "metadata": {
      "needs_background": "light"
     },
     "output_type": "display_data"
    },
    {
     "name": "stdout",
     "output_type": "stream",
     "text": [
      "                  MULTIPLELINES      Ratio\n",
      "No                         3390  48.132898\n",
      "Yes                        2971  42.183729\n",
      "No phone service            682   9.683374\n",
      "##########################################\n"
     ]
    },
    {
     "data": {
      "image/png": "[encoded data removed]",
      "text/plain": [
       "<Figure size 432x288 with 1 Axes>"
      ]
     },
     "metadata": {
      "needs_background": "light"
     },
     "output_type": "display_data"
    },
    {
     "name": "stdout",
     "output_type": "stream",
     "text": [
      "             INTERNETSERVICE      Ratio\n",
      "Fiber optic             3096  43.958540\n",
      "DSL                     2421  34.374556\n",
      "No                      1526  21.666903\n",
      "##########################################\n"
     ]
    },
    {
     "data": {
      "image/png": "[encoded data removed]",
      "text/plain": [
       "<Figure size 432x288 with 1 Axes>"
      ]
     },
     "metadata": {
      "needs_background": "light"
     },
     "output_type": "display_data"
    },
    {
     "name": "stdout",
     "output_type": "stream",
     "text": [
      "                     ONLINESECURITY      Ratio\n",
      "No                             3498  49.666335\n",
      "Yes                            2019  28.666761\n",
      "No internet service            1526  21.666903\n",
      "##########################################\n"
     ]
    },
    {
     "data": {
      "image/png": "[encoded data removed]",
      "text/plain": [
       "<Figure size 432x288 with 1 Axes>"
      ]
     },
     "metadata": {
      "needs_background": "light"
     },
     "output_type": "display_data"
    },
    {
     "name": "stdout",
     "output_type": "stream",
     "text": [
      "                     ONLINEBACKUP      Ratio\n",
      "No                           3088  43.844952\n",
      "Yes                          2429  34.488144\n",
      "No internet service          1526  21.666903\n",
      "##########################################\n"
     ]
    },
    {
     "data": {
      "image/png": "[encoded data removed]",
      "text/plain": [
       "<Figure size 432x288 with 1 Axes>"
      ]
     },
     "metadata": {
      "needs_background": "light"
     },
     "output_type": "display_data"
    },
    {
     "name": "stdout",
     "output_type": "stream",
     "text": [
      "                     DEVICEPROTECTION      Ratio\n",
      "No                               3095  43.944342\n",
      "Yes                              2422  34.388755\n",
      "No internet service              1526  21.666903\n",
      "##########################################\n"
     ]
    },
    {
     "data": {
      "image/png": "[encoded data removed]",
      "text/plain": [
       "<Figure size 432x288 with 1 Axes>"
      ]
     },
     "metadata": {
      "needs_background": "light"
     },
     "output_type": "display_data"
    },
    {
     "name": "stdout",
     "output_type": "stream",
     "text": [
      "                     TECHSUPPORT      Ratio\n",
      "No                          3473  49.311373\n",
      "Yes                         2044  29.021724\n",
      "No internet service         1526  21.666903\n",
      "##########################################\n"
     ]
    },
    {
     "data": {
      "image/png": "[encoded data removed]",
      "text/plain": [
       "<Figure size 432x288 with 1 Axes>"
      ]
     },
     "metadata": {
      "needs_background": "light"
     },
     "output_type": "display_data"
    },
    {
     "name": "stdout",
     "output_type": "stream",
     "text": [
      "                     STREAMINGTV      Ratio\n",
      "No                          2810  39.897771\n",
      "Yes                         2707  38.435326\n",
      "No internet service         1526  21.666903\n",
      "##########################################\n"
     ]
    },
    {
     "data": {
      "image/png": "[encoded data removed]",
      "text/plain": [
       "<Figure size 432x288 with 1 Axes>"
      ]
     },
     "metadata": {
      "needs_background": "light"
     },
     "output_type": "display_data"
    },
    {
     "name": "stdout",
     "output_type": "stream",
     "text": [
      "                     STREAMINGMOVIES      Ratio\n",
      "No                              2785  39.542808\n",
      "Yes                             2732  38.790288\n",
      "No internet service             1526  21.666903\n",
      "##########################################\n"
     ]
    },
    {
     "data": {
      "image/png": "[encoded data removed]",
      "text/plain": [
       "<Figure size 432x288 with 1 Axes>"
      ]
     },
     "metadata": {
      "needs_background": "light"
     },
     "output_type": "display_data"
    },
    {
     "name": "stdout",
     "output_type": "stream",
     "text": [
      "                CONTRACT      Ratio\n",
      "Month-to-month      3875  55.019168\n",
      "Two year            1695  24.066449\n",
      "One year            1473  20.914383\n",
      "##########################################\n"
     ]
    },
    {
     "data": {
      "image/png": "[encoded data removed]",
      "text/plain": [
       "<Figure size 432x288 with 1 Axes>"
      ]
     },
     "metadata": {
      "needs_background": "light"
     },
     "output_type": "display_data"
    },
    {
     "name": "stdout",
     "output_type": "stream",
     "text": [
      "     PAPERLESSBILLING      Ratio\n",
      "Yes              4171  59.221922\n",
      "No               2872  40.778078\n",
      "##########################################\n"
     ]
    },
    {
     "data": {
      "image/png": "[encoded data removed]",
      "text/plain": [
       "<Figure size 432x288 with 1 Axes>"
      ]
     },
     "metadata": {
      "needs_background": "light"
     },
     "output_type": "display_data"
    },
    {
     "name": "stdout",
     "output_type": "stream",
     "text": [
      "                           PAYMENTMETHOD      Ratio\n",
      "Electronic check                    2365  33.579441\n",
      "Mailed check                        1612  22.887974\n",
      "Bank transfer (automatic)           1544  21.922476\n",
      "Credit card (automatic)             1522  21.610109\n",
      "##########################################\n"
     ]
    },
    {
     "data": {
      "image/png": "[encoded data removed]",
      "text/plain": [
       "<Figure size 432x288 with 1 Axes>"
      ]
     },
     "metadata": {
      "needs_background": "light"
     },
     "output_type": "display_data"
    },
    {
     "name": "stdout",
     "output_type": "stream",
     "text": [
      "   SENIORCITIZEN      Ratio\n",
      "0           5901  83.785319\n",
      "1           1142  16.214681\n",
      "##########################################\n"
     ]
    },
    {
     "data": {
      "image/png": "[encoded data removed]",
      "text/plain": [
       "<Figure size 432x288 with 1 Axes>"
      ]
     },
     "metadata": {
      "needs_background": "light"
     },
     "output_type": "display_data"
    },
    {
     "name": "stdout",
     "output_type": "stream",
     "text": [
      "   CHURN      Ratio\n",
      "0   5174  73.463013\n",
      "1   1869  26.536987\n",
      "##########################################\n"
     ]
    },
    {
     "data": {
      "image/png": "[encoded data removed]",
      "text/plain": [
       "<Figure size 432x288 with 1 Axes>"
      ]
     },
     "metadata": {
      "needs_background": "light"
     },
     "output_type": "display_data"
    }
   ],
   "source": [
    "for col in cat_cols:\n",
    "    cat_summary(df, col, True)"
   ]
  },
  {
   "cell_type": "markdown",
   "id": "6adac7e2",
   "metadata": {},
   "source": [
    "## TASK 4"
   ]
  },
  {
   "cell_type": "code",
   "execution_count": 23,
   "id": "e6994d21",
   "metadata": {},
   "outputs": [],
   "source": [
    "def target_summary_with_cat(dataframe, target, cat_col):\n",
    "    print(pd.DataFrame({\"TARGET_MEAN\": dataframe.groupby(cat_col)[target].mean()}), end=\"\\n\\n\\n\")"
   ]
  },
  {
   "cell_type": "code",
   "execution_count": 24,
   "id": "83d15b8b",
   "metadata": {},
   "outputs": [],
   "source": [
    "def target_summary_with_num(dataframe, target, num_col):\n",
    "    print(dataframe.groupby(target).agg({num_col: \"mean\"}), end=\"\\n\\n\\n\")"
   ]
  },
  {
   "cell_type": "code",
   "execution_count": null,
   "id": "b43c4e31",
   "metadata": {},
   "outputs": [],
   "source": []
  },
  {
   "cell_type": "code",
   "execution_count": 25,
   "id": "9f6fa5e0",
   "metadata": {},
   "outputs": [
    {
     "data": {
      "text/html": [
       "<div>\n",
       "<style scoped>\n",
       "    .dataframe tbody tr th:only-of-type {\n",
       "        vertical-align: middle;\n",
       "    }\n",
       "\n",
       "    .dataframe tbody tr th {\n",
       "        vertical-align: top;\n",
       "    }\n",
       "\n",
       "    .dataframe thead th {\n",
       "        text-align: right;\n",
       "    }\n",
       "</style>\n",
       "<table border=\"1\" class=\"dataframe\">\n",
       "  <thead>\n",
       "    <tr style=\"text-align: right;\">\n",
       "      <th></th>\n",
       "      <th>CUSTOMERID</th>\n",
       "      <th>GENDER</th>\n",
       "      <th>SENIORCITIZEN</th>\n",
       "      <th>PARTNER</th>\n",
       "      <th>DEPENDENTS</th>\n",
       "      <th>TENURE</th>\n",
       "      <th>PHONESERVICE</th>\n",
       "      <th>MULTIPLELINES</th>\n",
       "      <th>INTERNETSERVICE</th>\n",
       "      <th>ONLINESECURITY</th>\n",
       "      <th>...</th>\n",
       "      <th>DEVICEPROTECTION</th>\n",
       "      <th>TECHSUPPORT</th>\n",
       "      <th>STREAMINGTV</th>\n",
       "      <th>STREAMINGMOVIES</th>\n",
       "      <th>CONTRACT</th>\n",
       "      <th>PAPERLESSBILLING</th>\n",
       "      <th>PAYMENTMETHOD</th>\n",
       "      <th>MONTHLYCHARGES</th>\n",
       "      <th>TOTALCHARGES</th>\n",
       "      <th>CHURN</th>\n",
       "    </tr>\n",
       "  </thead>\n",
       "  <tbody>\n",
       "    <tr>\n",
       "      <th>0</th>\n",
       "      <td>7590-VHVEG</td>\n",
       "      <td>Female</td>\n",
       "      <td>0</td>\n",
       "      <td>Yes</td>\n",
       "      <td>No</td>\n",
       "      <td>1</td>\n",
       "      <td>No</td>\n",
       "      <td>No phone service</td>\n",
       "      <td>DSL</td>\n",
       "      <td>No</td>\n",
       "      <td>...</td>\n",
       "      <td>No</td>\n",
       "      <td>No</td>\n",
       "      <td>No</td>\n",
       "      <td>No</td>\n",
       "      <td>Month-to-month</td>\n",
       "      <td>Yes</td>\n",
       "      <td>Electronic check</td>\n",
       "      <td>29.85</td>\n",
       "      <td>29.85</td>\n",
       "      <td>0</td>\n",
       "    </tr>\n",
       "    <tr>\n",
       "      <th>1</th>\n",
       "      <td>5575-GNVDE</td>\n",
       "      <td>Male</td>\n",
       "      <td>0</td>\n",
       "      <td>No</td>\n",
       "      <td>No</td>\n",
       "      <td>34</td>\n",
       "      <td>Yes</td>\n",
       "      <td>No</td>\n",
       "      <td>DSL</td>\n",
       "      <td>Yes</td>\n",
       "      <td>...</td>\n",
       "      <td>Yes</td>\n",
       "      <td>No</td>\n",
       "      <td>No</td>\n",
       "      <td>No</td>\n",
       "      <td>One year</td>\n",
       "      <td>No</td>\n",
       "      <td>Mailed check</td>\n",
       "      <td>56.95</td>\n",
       "      <td>1889.50</td>\n",
       "      <td>0</td>\n",
       "    </tr>\n",
       "    <tr>\n",
       "      <th>2</th>\n",
       "      <td>3668-QPYBK</td>\n",
       "      <td>Male</td>\n",
       "      <td>0</td>\n",
       "      <td>No</td>\n",
       "      <td>No</td>\n",
       "      <td>2</td>\n",
       "      <td>Yes</td>\n",
       "      <td>No</td>\n",
       "      <td>DSL</td>\n",
       "      <td>Yes</td>\n",
       "      <td>...</td>\n",
       "      <td>No</td>\n",
       "      <td>No</td>\n",
       "      <td>No</td>\n",
       "      <td>No</td>\n",
       "      <td>Month-to-month</td>\n",
       "      <td>Yes</td>\n",
       "      <td>Mailed check</td>\n",
       "      <td>53.85</td>\n",
       "      <td>108.15</td>\n",
       "      <td>1</td>\n",
       "    </tr>\n",
       "    <tr>\n",
       "      <th>3</th>\n",
       "      <td>7795-CFOCW</td>\n",
       "      <td>Male</td>\n",
       "      <td>0</td>\n",
       "      <td>No</td>\n",
       "      <td>No</td>\n",
       "      <td>45</td>\n",
       "      <td>No</td>\n",
       "      <td>No phone service</td>\n",
       "      <td>DSL</td>\n",
       "      <td>Yes</td>\n",
       "      <td>...</td>\n",
       "      <td>Yes</td>\n",
       "      <td>Yes</td>\n",
       "      <td>No</td>\n",
       "      <td>No</td>\n",
       "      <td>One year</td>\n",
       "      <td>No</td>\n",
       "      <td>Bank transfer (automatic)</td>\n",
       "      <td>42.30</td>\n",
       "      <td>1840.75</td>\n",
       "      <td>0</td>\n",
       "    </tr>\n",
       "    <tr>\n",
       "      <th>4</th>\n",
       "      <td>9237-HQITU</td>\n",
       "      <td>Female</td>\n",
       "      <td>0</td>\n",
       "      <td>No</td>\n",
       "      <td>No</td>\n",
       "      <td>2</td>\n",
       "      <td>Yes</td>\n",
       "      <td>No</td>\n",
       "      <td>Fiber optic</td>\n",
       "      <td>No</td>\n",
       "      <td>...</td>\n",
       "      <td>No</td>\n",
       "      <td>No</td>\n",
       "      <td>No</td>\n",
       "      <td>No</td>\n",
       "      <td>Month-to-month</td>\n",
       "      <td>Yes</td>\n",
       "      <td>Electronic check</td>\n",
       "      <td>70.70</td>\n",
       "      <td>151.65</td>\n",
       "      <td>1</td>\n",
       "    </tr>\n",
       "  </tbody>\n",
       "</table>\n",
       "<p>5 rows × 21 columns</p>\n",
       "</div>"
      ],
      "text/plain": [
       "   CUSTOMERID  GENDER  SENIORCITIZEN PARTNER DEPENDENTS  TENURE PHONESERVICE  \\\n",
       "0  7590-VHVEG  Female              0     Yes         No       1           No   \n",
       "1  5575-GNVDE    Male              0      No         No      34          Yes   \n",
       "2  3668-QPYBK    Male              0      No         No       2          Yes   \n",
       "3  7795-CFOCW    Male              0      No         No      45           No   \n",
       "4  9237-HQITU  Female              0      No         No       2          Yes   \n",
       "\n",
       "      MULTIPLELINES INTERNETSERVICE ONLINESECURITY  ... DEVICEPROTECTION  \\\n",
       "0  No phone service             DSL             No  ...               No   \n",
       "1                No             DSL            Yes  ...              Yes   \n",
       "2                No             DSL            Yes  ...               No   \n",
       "3  No phone service             DSL            Yes  ...              Yes   \n",
       "4                No     Fiber optic             No  ...               No   \n",
       "\n",
       "  TECHSUPPORT STREAMINGTV STREAMINGMOVIES        CONTRACT PAPERLESSBILLING  \\\n",
       "0          No          No              No  Month-to-month              Yes   \n",
       "1          No          No              No        One year               No   \n",
       "2          No          No              No  Month-to-month              Yes   \n",
       "3         Yes          No              No        One year               No   \n",
       "4          No          No              No  Month-to-month              Yes   \n",
       "\n",
       "               PAYMENTMETHOD MONTHLYCHARGES  TOTALCHARGES  CHURN  \n",
       "0           Electronic check          29.85         29.85      0  \n",
       "1               Mailed check          56.95       1889.50      0  \n",
       "2               Mailed check          53.85        108.15      1  \n",
       "3  Bank transfer (automatic)          42.30       1840.75      0  \n",
       "4           Electronic check          70.70        151.65      1  \n",
       "\n",
       "[5 rows x 21 columns]"
      ]
     },
     "execution_count": 25,
     "metadata": {},
     "output_type": "execute_result"
    }
   ],
   "source": [
    "df.head()"
   ]
  },
  {
   "cell_type": "code",
   "execution_count": 26,
   "id": "dbdd6daf",
   "metadata": {},
   "outputs": [
    {
     "data": {
      "text/plain": [
       "CUSTOMERID           object\n",
       "GENDER               object\n",
       "SENIORCITIZEN         int64\n",
       "PARTNER              object\n",
       "DEPENDENTS           object\n",
       "TENURE                int64\n",
       "PHONESERVICE         object\n",
       "MULTIPLELINES        object\n",
       "INTERNETSERVICE      object\n",
       "ONLINESECURITY       object\n",
       "ONLINEBACKUP         object\n",
       "DEVICEPROTECTION     object\n",
       "TECHSUPPORT          object\n",
       "STREAMINGTV          object\n",
       "STREAMINGMOVIES      object\n",
       "CONTRACT             object\n",
       "PAPERLESSBILLING     object\n",
       "PAYMENTMETHOD        object\n",
       "MONTHLYCHARGES      float64\n",
       "TOTALCHARGES        float64\n",
       "CHURN                 int32\n",
       "dtype: object"
      ]
     },
     "execution_count": 26,
     "metadata": {},
     "output_type": "execute_result"
    }
   ],
   "source": [
    "df.dtypes"
   ]
  },
  {
   "cell_type": "code",
   "execution_count": 27,
   "id": "61f18648",
   "metadata": {},
   "outputs": [
    {
     "name": "stdout",
     "output_type": "stream",
     "text": [
      "        TARGET_MEAN\n",
      "GENDER             \n",
      "Female     0.269209\n",
      "Male       0.261603\n",
      "\n",
      "\n",
      "         TARGET_MEAN\n",
      "PARTNER             \n",
      "No          0.329580\n",
      "Yes         0.196649\n",
      "\n",
      "\n",
      "            TARGET_MEAN\n",
      "DEPENDENTS             \n",
      "No             0.312791\n",
      "Yes            0.154502\n",
      "\n",
      "\n",
      "              TARGET_MEAN\n",
      "PHONESERVICE             \n",
      "No               0.249267\n",
      "Yes              0.267096\n",
      "\n",
      "\n",
      "                  TARGET_MEAN\n",
      "MULTIPLELINES                \n",
      "No                   0.250442\n",
      "No phone service     0.249267\n",
      "Yes                  0.286099\n",
      "\n",
      "\n",
      "                 TARGET_MEAN\n",
      "INTERNETSERVICE             \n",
      "DSL                 0.189591\n",
      "Fiber optic         0.418928\n",
      "No                  0.074050\n",
      "\n",
      "\n",
      "                     TARGET_MEAN\n",
      "ONLINESECURITY                  \n",
      "No                      0.417667\n",
      "No internet service     0.074050\n",
      "Yes                     0.146112\n",
      "\n",
      "\n",
      "                     TARGET_MEAN\n",
      "ONLINEBACKUP                    \n",
      "No                      0.399288\n",
      "No internet service     0.074050\n",
      "Yes                     0.215315\n",
      "\n",
      "\n",
      "                     TARGET_MEAN\n",
      "DEVICEPROTECTION                \n",
      "No                      0.391276\n",
      "No internet service     0.074050\n",
      "Yes                     0.225021\n",
      "\n",
      "\n",
      "                     TARGET_MEAN\n",
      "TECHSUPPORT                     \n",
      "No                      0.416355\n",
      "No internet service     0.074050\n",
      "Yes                     0.151663\n",
      "\n",
      "\n",
      "                     TARGET_MEAN\n",
      "STREAMINGTV                     \n",
      "No                      0.335231\n",
      "No internet service     0.074050\n",
      "Yes                     0.300702\n",
      "\n",
      "\n",
      "                     TARGET_MEAN\n",
      "STREAMINGMOVIES                 \n",
      "No                      0.336804\n",
      "No internet service     0.074050\n",
      "Yes                     0.299414\n",
      "\n",
      "\n",
      "                TARGET_MEAN\n",
      "CONTRACT                   \n",
      "Month-to-month     0.427097\n",
      "One year           0.112695\n",
      "Two year           0.028319\n",
      "\n",
      "\n",
      "                  TARGET_MEAN\n",
      "PAPERLESSBILLING             \n",
      "No                   0.163301\n",
      "Yes                  0.335651\n",
      "\n",
      "\n",
      "                           TARGET_MEAN\n",
      "PAYMENTMETHOD                         \n",
      "Bank transfer (automatic)     0.167098\n",
      "Credit card (automatic)       0.152431\n",
      "Electronic check              0.452854\n",
      "Mailed check                  0.191067\n",
      "\n",
      "\n",
      "               TARGET_MEAN\n",
      "SENIORCITIZEN             \n",
      "0                 0.236062\n",
      "1                 0.416813\n",
      "\n",
      "\n",
      "       TARGET_MEAN\n",
      "CHURN             \n",
      "0              0.0\n",
      "1              1.0\n",
      "\n",
      "\n"
     ]
    }
   ],
   "source": [
    "for col in cat_cols:\n",
    "    target_summary_with_cat(df, 'CHURN', col)"
   ]
  },
  {
   "cell_type": "code",
   "execution_count": 28,
   "id": "5b2f236d",
   "metadata": {
    "scrolled": true
   },
   "outputs": [
    {
     "name": "stdout",
     "output_type": "stream",
     "text": [
      "          TENURE\n",
      "CHURN           \n",
      "0      37.569965\n",
      "1      17.979133\n",
      "\n",
      "\n",
      "       MONTHLYCHARGES\n",
      "CHURN                \n",
      "0           61.265124\n",
      "1           74.441332\n",
      "\n",
      "\n",
      "       TOTALCHARGES\n",
      "CHURN              \n",
      "0       2555.344141\n",
      "1       1531.796094\n",
      "\n",
      "\n"
     ]
    }
   ],
   "source": [
    "for col in num_cols:\n",
    "    target_summary_with_num(df, 'CHURN', col)"
   ]
  },
  {
   "cell_type": "code",
   "execution_count": 29,
   "id": "e5d707ef",
   "metadata": {},
   "outputs": [
    {
     "name": "stdout",
     "output_type": "stream",
     "text": [
      "Observations: 7043\n",
      "Variables: 21\n",
      "cat_cols: 17\n",
      "num_cols: 3\n",
      "cat_but_car: 1\n",
      "num_but_cat: 2\n"
     ]
    }
   ],
   "source": [
    "cat_cols, num_cols, cat_but_car = grab_col_names(df)"
   ]
  },
  {
   "cell_type": "markdown",
   "id": "cb394350",
   "metadata": {},
   "source": [
    "## TASK 5"
   ]
  },
  {
   "cell_type": "code",
   "execution_count": 30,
   "id": "799c3218",
   "metadata": {},
   "outputs": [],
   "source": [
    "def outlier_thresholds(dataframe, col_name, q1=0.25, q3=0.75):\n",
    "    quartile1 = dataframe[col_name].quantile(q1)\n",
    "    quartile3 = dataframe[col_name].quantile(q3)\n",
    "    interquantile_range = quartile3 - quartile1\n",
    "    up_limit = quartile3 + 1.5 * interquantile_range\n",
    "    low_limit = quartile1 - 1.5 * interquantile_range\n",
    "    return low_limit, up_limit"
   ]
  },
  {
   "cell_type": "code",
   "execution_count": 31,
   "id": "b1e2d3e1",
   "metadata": {},
   "outputs": [],
   "source": [
    "def check_outlier(dataframe, col_name):\n",
    "    low_limit, up_limit = outlier_thresholds(dataframe, col_name)\n",
    "    if dataframe[(dataframe[col_name] > up_limit) | (dataframe[col_name] < low_limit)].any(axis=None):\n",
    "        return True\n",
    "    else:\n",
    "        return False"
   ]
  },
  {
   "cell_type": "code",
   "execution_count": 32,
   "id": "d7da4636",
   "metadata": {},
   "outputs": [],
   "source": [
    "def grab_outliers(dataframe, col_name, index=False):\n",
    "    low, up = outlier_thresholds(dataframe,col_name)\n",
    "    outlier_df = dataframe[(dataframe[col_name] < low) | (dataframe[col_name] > up)]\n",
    "\n",
    "    if outlier_df.shape[0] > 10:\n",
    "        print(outlier_df.head())\n",
    "    else:\n",
    "        print(outlier_df)\n",
    "\n",
    "    if index:\n",
    "        return outlier_df.index"
   ]
  },
  {
   "cell_type": "code",
   "execution_count": 33,
   "id": "7bd242ae",
   "metadata": {},
   "outputs": [
    {
     "name": "stdout",
     "output_type": "stream",
     "text": [
      "TENURE False\n",
      "MONTHLYCHARGES False\n",
      "TOTALCHARGES False\n"
     ]
    }
   ],
   "source": [
    "for col in num_cols:\n",
    "    print(col, check_outlier(df, col))"
   ]
  },
  {
   "cell_type": "code",
   "execution_count": 34,
   "id": "2ca1fec9",
   "metadata": {},
   "outputs": [
    {
     "name": "stdout",
     "output_type": "stream",
     "text": [
      "TENURE (-60.0, 124.0)\n",
      "MONTHLYCHARGES (-46.02499999999999, 171.375)\n",
      "TOTALCHARGES (-4688.481250000001, 8884.66875)\n"
     ]
    }
   ],
   "source": [
    "for col in num_cols:\n",
    "    print(col, outlier_thresholds(df, col))"
   ]
  },
  {
   "cell_type": "code",
   "execution_count": 35,
   "id": "ad6715fd",
   "metadata": {
    "scrolled": true
   },
   "outputs": [
    {
     "name": "stdout",
     "output_type": "stream",
     "text": [
      "\n",
      "#####TENURE#####\n",
      "Empty DataFrame\n",
      "Columns: [CUSTOMERID, GENDER, SENIORCITIZEN, PARTNER, DEPENDENTS, TENURE, PHONESERVICE, MULTIPLELINES, INTERNETSERVICE, ONLINESECURITY, ONLINEBACKUP, DEVICEPROTECTION, TECHSUPPORT, STREAMINGTV, STREAMINGMOVIES, CONTRACT, PAPERLESSBILLING, PAYMENTMETHOD, MONTHLYCHARGES, TOTALCHARGES, CHURN]\n",
      "Index: []\n",
      "\n",
      "[0 rows x 21 columns]\n",
      "None\n",
      "\n",
      "#####MONTHLYCHARGES#####\n",
      "Empty DataFrame\n",
      "Columns: [CUSTOMERID, GENDER, SENIORCITIZEN, PARTNER, DEPENDENTS, TENURE, PHONESERVICE, MULTIPLELINES, INTERNETSERVICE, ONLINESECURITY, ONLINEBACKUP, DEVICEPROTECTION, TECHSUPPORT, STREAMINGTV, STREAMINGMOVIES, CONTRACT, PAPERLESSBILLING, PAYMENTMETHOD, MONTHLYCHARGES, TOTALCHARGES, CHURN]\n",
      "Index: []\n",
      "\n",
      "[0 rows x 21 columns]\n",
      "None\n",
      "\n",
      "#####TOTALCHARGES#####\n",
      "Empty DataFrame\n",
      "Columns: [CUSTOMERID, GENDER, SENIORCITIZEN, PARTNER, DEPENDENTS, TENURE, PHONESERVICE, MULTIPLELINES, INTERNETSERVICE, ONLINESECURITY, ONLINEBACKUP, DEVICEPROTECTION, TECHSUPPORT, STREAMINGTV, STREAMINGMOVIES, CONTRACT, PAPERLESSBILLING, PAYMENTMETHOD, MONTHLYCHARGES, TOTALCHARGES, CHURN]\n",
      "Index: []\n",
      "\n",
      "[0 rows x 21 columns]\n",
      "None\n"
     ]
    }
   ],
   "source": [
    "for col in num_cols:\n",
    "    print(f'\\n#####{col}#####')\n",
    "    print(grab_outliers(df, col))"
   ]
  },
  {
   "cell_type": "code",
   "execution_count": 36,
   "id": "80975d5b",
   "metadata": {},
   "outputs": [],
   "source": [
    "def replace_with_thresholds(dataframe, col_name):\n",
    "    low, up = outlier_thresholds(dataframe, col_name)\n",
    "\n",
    "    dataframe.loc[dataframe[col_name] > up, col_name] = up\n",
    "    dataframe.loc[dataframe[col_name] < low, col_name] = low"
   ]
  },
  {
   "cell_type": "code",
   "execution_count": 37,
   "id": "69dbd796",
   "metadata": {},
   "outputs": [],
   "source": [
    "for col in num_cols:\n",
    "    replace_with_thresholds(df, col)"
   ]
  },
  {
   "cell_type": "markdown",
   "id": "3fe43888",
   "metadata": {},
   "source": [
    "## TASK 6"
   ]
  },
  {
   "cell_type": "code",
   "execution_count": 38,
   "id": "b8223556",
   "metadata": {},
   "outputs": [],
   "source": [
    "def missing_values_table(dataframe, na_name=False):\n",
    "    na_columns = [col for col in dataframe.columns if dataframe[col].isnull().sum() > 0]\n",
    "    n_miss = dataframe[na_columns].isnull().sum().sort_values(ascending=False)\n",
    "    ratio = (dataframe[na_columns].isnull().sum() / dataframe.shape[0] * 100).sort_values(ascending=False)\n",
    "    missing_df = pd.concat([n_miss, np.round(ratio, 2)], axis=1, keys=['n_miss', 'ratio'])\n",
    "    print(missing_df, end='\\n')\n",
    "\n",
    "    if na_name:\n",
    "        return na_columns"
   ]
  },
  {
   "cell_type": "code",
   "execution_count": 39,
   "id": "d980774b",
   "metadata": {},
   "outputs": [],
   "source": [
    "def missing_vs_target(dataframe, target, na_columns):\n",
    "    temp_df = dataframe.copy()\n",
    "    for col in na_columns:\n",
    "        temp_df[col + '_NA_FLAG'] = np.where(temp_df[col].isnull(), 1, 0)\n",
    "    na_flags = temp_df.loc[:, temp_df.columns.str.contains('_NA_')].columns\n",
    "    for col in na_flags:\n",
    "        print(pd.DataFrame({'TARGET_MEAN': temp_df.groupby(col)[target].mean(),\n",
    "                            'Count': temp_df.groupby(col)[target].count()}), end='\\n\\n\\n')"
   ]
  },
  {
   "cell_type": "code",
   "execution_count": 40,
   "id": "3907f8a1",
   "metadata": {},
   "outputs": [
    {
     "name": "stdout",
     "output_type": "stream",
     "text": [
      "              n_miss  ratio\n",
      "TOTALCHARGES      11   0.16\n"
     ]
    }
   ],
   "source": [
    "missing_values_table(df)"
   ]
  },
  {
   "cell_type": "code",
   "execution_count": 41,
   "id": "7f359cd7",
   "metadata": {},
   "outputs": [
    {
     "data": {
      "text/plain": [
       "True"
      ]
     },
     "execution_count": 41,
     "metadata": {},
     "output_type": "execute_result"
    }
   ],
   "source": [
    "df['TOTALCHARGES'].isnull().values.any()"
   ]
  },
  {
   "cell_type": "code",
   "execution_count": 42,
   "id": "6f77c97a",
   "metadata": {},
   "outputs": [
    {
     "name": "stdout",
     "output_type": "stream",
     "text": [
      "                      TARGET_MEAN  Count\n",
      "TOTALCHARGES_NA_FLAG                    \n",
      "0                        0.265785   7032\n",
      "1                        0.000000     11\n",
      "\n",
      "\n"
     ]
    }
   ],
   "source": [
    "missing_vs_target(df, 'CHURN', ['TOTALCHARGES'])"
   ]
  },
  {
   "cell_type": "code",
   "execution_count": 43,
   "id": "801297ea",
   "metadata": {},
   "outputs": [
    {
     "data": {
      "text/plain": [
       "0    5174\n",
       "1    1869\n",
       "Name: CHURN, dtype: int64"
      ]
     },
     "execution_count": 43,
     "metadata": {},
     "output_type": "execute_result"
    }
   ],
   "source": [
    "df['CHURN'].value_counts()"
   ]
  },
  {
   "cell_type": "code",
   "execution_count": 44,
   "id": "f925a3db",
   "metadata": {},
   "outputs": [
    {
     "data": {
      "text/plain": [
       "21"
      ]
     },
     "execution_count": 44,
     "metadata": {},
     "output_type": "execute_result"
    }
   ],
   "source": [
    "len(df.columns)"
   ]
  },
  {
   "cell_type": "markdown",
   "id": "d76982cc",
   "metadata": {},
   "source": [
    "## TASK 7"
   ]
  },
  {
   "cell_type": "code",
   "execution_count": 45,
   "id": "175f9d6e",
   "metadata": {},
   "outputs": [
    {
     "data": {
      "text/html": [
       "<div>\n",
       "<style scoped>\n",
       "    .dataframe tbody tr th:only-of-type {\n",
       "        vertical-align: middle;\n",
       "    }\n",
       "\n",
       "    .dataframe tbody tr th {\n",
       "        vertical-align: top;\n",
       "    }\n",
       "\n",
       "    .dataframe thead th {\n",
       "        text-align: right;\n",
       "    }\n",
       "</style>\n",
       "<table border=\"1\" class=\"dataframe\">\n",
       "  <thead>\n",
       "    <tr style=\"text-align: right;\">\n",
       "      <th></th>\n",
       "      <th>TENURE</th>\n",
       "      <th>MONTHLYCHARGES</th>\n",
       "      <th>TOTALCHARGES</th>\n",
       "    </tr>\n",
       "  </thead>\n",
       "  <tbody>\n",
       "    <tr>\n",
       "      <th>TENURE</th>\n",
       "      <td>1.00000</td>\n",
       "      <td>0.247900</td>\n",
       "      <td>0.825880</td>\n",
       "    </tr>\n",
       "    <tr>\n",
       "      <th>MONTHLYCHARGES</th>\n",
       "      <td>0.24790</td>\n",
       "      <td>1.000000</td>\n",
       "      <td>0.651065</td>\n",
       "    </tr>\n",
       "    <tr>\n",
       "      <th>TOTALCHARGES</th>\n",
       "      <td>0.82588</td>\n",
       "      <td>0.651065</td>\n",
       "      <td>1.000000</td>\n",
       "    </tr>\n",
       "  </tbody>\n",
       "</table>\n",
       "</div>"
      ],
      "text/plain": [
       "                 TENURE  MONTHLYCHARGES  TOTALCHARGES\n",
       "TENURE          1.00000        0.247900      0.825880\n",
       "MONTHLYCHARGES  0.24790        1.000000      0.651065\n",
       "TOTALCHARGES    0.82588        0.651065      1.000000"
      ]
     },
     "execution_count": 45,
     "metadata": {},
     "output_type": "execute_result"
    }
   ],
   "source": [
    "corr = df[num_cols].corr() \n",
    "corr"
   ]
  },
  {
   "cell_type": "code",
   "execution_count": 46,
   "id": "6d153303",
   "metadata": {},
   "outputs": [],
   "source": [
    "def high_correlated_cols(dataframe, plot=False, corr_th=0.90):\n",
    "    corr = dataframe.corr()\n",
    "    corr_matrix = corr.abs()\n",
    "    upper_triangle_matrix = corr_matrix.where(np.triu(np.ones(corr_matrix.shape), k=1).astype(bool))\n",
    "    drop_list = [col for col in upper_triangle_matrix.columns if any(upper_triangle_matrix[col] > corr_th)]\n",
    "    if plot:\n",
    "        import seaborn as sns\n",
    "        import matplotlib.pyplot as plt\n",
    "        sns.set(rc={'figure.figsize': (15, 15)})\n",
    "        sns.heatmap(corr, cmap=\"RdBu\")\n",
    "        plt.show()\n",
    "    return drop_list"
   ]
  },
  {
   "cell_type": "code",
   "execution_count": 47,
   "id": "61281a13",
   "metadata": {
    "scrolled": true
   },
   "outputs": [
    {
     "data": {
      "image/png": "[encoded data removed]",
      "text/plain": [
       "<Figure size 1080x1080 with 2 Axes>"
      ]
     },
     "metadata": {},
     "output_type": "display_data"
    },
    {
     "data": {
      "text/plain": [
       "[]"
      ]
     },
     "execution_count": 47,
     "metadata": {},
     "output_type": "execute_result"
    }
   ],
   "source": [
    "high_correlated_cols(df, True)"
   ]
  },
  {
   "cell_type": "markdown",
   "id": "1cff65fa",
   "metadata": {},
   "source": [
    "## TASK 8"
   ]
  },
  {
   "cell_type": "code",
   "execution_count": 48,
   "id": "ff590eb5",
   "metadata": {
    "scrolled": false
   },
   "outputs": [
    {
     "data": {
      "text/plain": [
       "SENIORCITIZEN     1.833633\n",
       "TENURE            0.239540\n",
       "MONTHLYCHARGES   -0.220524\n",
       "TOTALCHARGES      0.961642\n",
       "CHURN             1.063031\n",
       "dtype: float64"
      ]
     },
     "execution_count": 48,
     "metadata": {},
     "output_type": "execute_result"
    }
   ],
   "source": [
    "df.skew(skipna=True, numeric_only=True)"
   ]
  },
  {
   "cell_type": "code",
   "execution_count": 49,
   "id": "bd6aecd5",
   "metadata": {},
   "outputs": [
    {
     "name": "stdout",
     "output_type": "stream",
     "text": [
      "<class 'pandas.core.frame.DataFrame'>\n",
      "RangeIndex: 7043 entries, 0 to 7042\n",
      "Data columns (total 21 columns):\n",
      " #   Column            Non-Null Count  Dtype  \n",
      "---  ------            --------------  -----  \n",
      " 0   CUSTOMERID        7043 non-null   object \n",
      " 1   GENDER            7043 non-null   object \n",
      " 2   SENIORCITIZEN     7043 non-null   int64  \n",
      " 3   PARTNER           7043 non-null   object \n",
      " 4   DEPENDENTS        7043 non-null   object \n",
      " 5   TENURE            7043 non-null   int64  \n",
      " 6   PHONESERVICE      7043 non-null   object \n",
      " 7   MULTIPLELINES     7043 non-null   object \n",
      " 8   INTERNETSERVICE   7043 non-null   object \n",
      " 9   ONLINESECURITY    7043 non-null   object \n",
      " 10  ONLINEBACKUP      7043 non-null   object \n",
      " 11  DEVICEPROTECTION  7043 non-null   object \n",
      " 12  TECHSUPPORT       7043 non-null   object \n",
      " 13  STREAMINGTV       7043 non-null   object \n",
      " 14  STREAMINGMOVIES   7043 non-null   object \n",
      " 15  CONTRACT          7043 non-null   object \n",
      " 16  PAPERLESSBILLING  7043 non-null   object \n",
      " 17  PAYMENTMETHOD     7043 non-null   object \n",
      " 18  MONTHLYCHARGES    7043 non-null   float64\n",
      " 19  TOTALCHARGES      7032 non-null   float64\n",
      " 20  CHURN             7043 non-null   int32  \n",
      "dtypes: float64(2), int32(1), int64(2), object(16)\n",
      "memory usage: 1.1+ MB\n"
     ]
    }
   ],
   "source": [
    "df.info()"
   ]
  },
  {
   "cell_type": "code",
   "execution_count": 50,
   "id": "d9efd92e",
   "metadata": {
    "scrolled": true
   },
   "outputs": [
    {
     "data": {
      "text/plain": [
       "CUSTOMERID          0\n",
       "GENDER              0\n",
       "SENIORCITIZEN       0\n",
       "PARTNER             0\n",
       "DEPENDENTS          0\n",
       "TENURE              0\n",
       "PHONESERVICE        0\n",
       "MULTIPLELINES       0\n",
       "INTERNETSERVICE     0\n",
       "ONLINESECURITY      0\n",
       "ONLINEBACKUP        0\n",
       "DEVICEPROTECTION    0\n",
       "TECHSUPPORT         0\n",
       "STREAMINGTV         0\n",
       "STREAMINGMOVIES     0\n",
       "CONTRACT            0\n",
       "PAPERLESSBILLING    0\n",
       "PAYMENTMETHOD       0\n",
       "MONTHLYCHARGES      0\n",
       "TOTALCHARGES        0\n",
       "CHURN               0\n",
       "dtype: int64"
      ]
     },
     "execution_count": 50,
     "metadata": {},
     "output_type": "execute_result"
    }
   ],
   "source": [
    "df = df.apply(lambda x: x.fillna(x.mean()) if x.dtype != \"O\" else x, axis=0)\n",
    "df = df.apply(lambda x: x.fillna(x.mode()[0]) if (x.dtype == \"O\" and len(x.unique()) <= 10) else x, axis=0)\n",
    "df.isnull().sum()"
   ]
  },
  {
   "cell_type": "code",
   "execution_count": 51,
   "id": "5862c097",
   "metadata": {},
   "outputs": [],
   "source": [
    "def missing_vs_target(dataframe, target, na_columns):\n",
    "    temp_df = dataframe.copy()\n",
    "    for col in na_columns:\n",
    "        temp_df[col + '_NA_FLAG'] = np.where(temp_df[col].isnull(), 1, 0)\n",
    "    na_flags = temp_df.loc[:, temp_df.columns.str.contains('_NA_')].columns\n",
    "    for col in na_flags:\n",
    "        print(pd.DataFrame({'TARGET_MEAN': temp_df.groupby(col)[target].mean(),\n",
    "                            'Count': temp_df.groupby(col)[target].count()}), end='\\n\\n\\n')"
   ]
  },
  {
   "cell_type": "code",
   "execution_count": 52,
   "id": "02b19004",
   "metadata": {},
   "outputs": [
    {
     "data": {
      "text/plain": [
       "array([-1,  1,  1, ...,  1,  1,  1])"
      ]
     },
     "execution_count": 52,
     "metadata": {},
     "output_type": "execute_result"
    }
   ],
   "source": [
    "clf = LocalOutlierFactor(n_neighbors=20)\n",
    "clf.fit_predict(df[num_cols])"
   ]
  },
  {
   "cell_type": "code",
   "execution_count": 53,
   "id": "5fdb526f",
   "metadata": {},
   "outputs": [
    {
     "data": {
      "image/png": "[encoded data removed]",
      "text/plain": [
       "<Figure size 1080x1080 with 1 Axes>"
      ]
     },
     "metadata": {},
     "output_type": "display_data"
    }
   ],
   "source": [
    "df_scores = clf.negative_outlier_factor_\n",
    "sorted_df_scores = np.sort(df_scores)\n",
    "scores = pd.DataFrame(sorted_df_scores)\n",
    "scores.plot(stacked=True, xlim=[0, 20], style='.-')\n",
    "plt.show()"
   ]
  },
  {
   "cell_type": "code",
   "execution_count": 54,
   "id": "ff2e80c6",
   "metadata": {
    "scrolled": true
   },
   "outputs": [
    {
     "data": {
      "text/html": [
       "<div>\n",
       "<style scoped>\n",
       "    .dataframe tbody tr th:only-of-type {\n",
       "        vertical-align: middle;\n",
       "    }\n",
       "\n",
       "    .dataframe tbody tr th {\n",
       "        vertical-align: top;\n",
       "    }\n",
       "\n",
       "    .dataframe thead th {\n",
       "        text-align: right;\n",
       "    }\n",
       "</style>\n",
       "<table border=\"1\" class=\"dataframe\">\n",
       "  <thead>\n",
       "    <tr style=\"text-align: right;\">\n",
       "      <th></th>\n",
       "      <th>0</th>\n",
       "    </tr>\n",
       "  </thead>\n",
       "  <tbody>\n",
       "    <tr>\n",
       "      <th>0</th>\n",
       "      <td>-8.593221</td>\n",
       "    </tr>\n",
       "    <tr>\n",
       "      <th>1</th>\n",
       "      <td>-6.418967</td>\n",
       "    </tr>\n",
       "    <tr>\n",
       "      <th>2</th>\n",
       "      <td>-5.980949</td>\n",
       "    </tr>\n",
       "    <tr>\n",
       "      <th>3</th>\n",
       "      <td>-5.010659</td>\n",
       "    </tr>\n",
       "    <tr>\n",
       "      <th>4</th>\n",
       "      <td>-5.000959</td>\n",
       "    </tr>\n",
       "    <tr>\n",
       "      <th>5</th>\n",
       "      <td>-4.995111</td>\n",
       "    </tr>\n",
       "    <tr>\n",
       "      <th>6</th>\n",
       "      <td>-4.967987</td>\n",
       "    </tr>\n",
       "    <tr>\n",
       "      <th>7</th>\n",
       "      <td>-4.940862</td>\n",
       "    </tr>\n",
       "    <tr>\n",
       "      <th>8</th>\n",
       "      <td>-4.884457</td>\n",
       "    </tr>\n",
       "    <tr>\n",
       "      <th>9</th>\n",
       "      <td>-4.859490</td>\n",
       "    </tr>\n",
       "    <tr>\n",
       "      <th>10</th>\n",
       "      <td>-3.794872</td>\n",
       "    </tr>\n",
       "    <tr>\n",
       "      <th>11</th>\n",
       "      <td>-3.658684</td>\n",
       "    </tr>\n",
       "    <tr>\n",
       "      <th>12</th>\n",
       "      <td>-3.515379</td>\n",
       "    </tr>\n",
       "    <tr>\n",
       "      <th>13</th>\n",
       "      <td>-2.992031</td>\n",
       "    </tr>\n",
       "    <tr>\n",
       "      <th>14</th>\n",
       "      <td>-2.660441</td>\n",
       "    </tr>\n",
       "    <tr>\n",
       "      <th>15</th>\n",
       "      <td>-2.652334</td>\n",
       "    </tr>\n",
       "    <tr>\n",
       "      <th>16</th>\n",
       "      <td>-2.548011</td>\n",
       "    </tr>\n",
       "    <tr>\n",
       "      <th>17</th>\n",
       "      <td>-2.511975</td>\n",
       "    </tr>\n",
       "    <tr>\n",
       "      <th>18</th>\n",
       "      <td>-2.507619</td>\n",
       "    </tr>\n",
       "    <tr>\n",
       "      <th>19</th>\n",
       "      <td>-2.378092</td>\n",
       "    </tr>\n",
       "  </tbody>\n",
       "</table>\n",
       "</div>"
      ],
      "text/plain": [
       "           0\n",
       "0  -8.593221\n",
       "1  -6.418967\n",
       "2  -5.980949\n",
       "3  -5.010659\n",
       "4  -5.000959\n",
       "5  -4.995111\n",
       "6  -4.967987\n",
       "7  -4.940862\n",
       "8  -4.884457\n",
       "9  -4.859490\n",
       "10 -3.794872\n",
       "11 -3.658684\n",
       "12 -3.515379\n",
       "13 -2.992031\n",
       "14 -2.660441\n",
       "15 -2.652334\n",
       "16 -2.548011\n",
       "17 -2.511975\n",
       "18 -2.507619\n",
       "19 -2.378092"
      ]
     },
     "execution_count": 54,
     "metadata": {},
     "output_type": "execute_result"
    }
   ],
   "source": [
    "scores.head(20)"
   ]
  },
  {
   "cell_type": "code",
   "execution_count": 55,
   "id": "a3245442",
   "metadata": {},
   "outputs": [
    {
     "data": {
      "text/plain": [
       "-3.794872031482323"
      ]
     },
     "execution_count": 55,
     "metadata": {},
     "output_type": "execute_result"
    }
   ],
   "source": [
    "th = sorted_df_scores[10]\n",
    "th"
   ]
  },
  {
   "cell_type": "code",
   "execution_count": 56,
   "id": "68814f81",
   "metadata": {},
   "outputs": [
    {
     "data": {
      "text/html": [
       "<div>\n",
       "<style scoped>\n",
       "    .dataframe tbody tr th:only-of-type {\n",
       "        vertical-align: middle;\n",
       "    }\n",
       "\n",
       "    .dataframe tbody tr th {\n",
       "        vertical-align: top;\n",
       "    }\n",
       "\n",
       "    .dataframe thead th {\n",
       "        text-align: right;\n",
       "    }\n",
       "</style>\n",
       "<table border=\"1\" class=\"dataframe\">\n",
       "  <thead>\n",
       "    <tr style=\"text-align: right;\">\n",
       "      <th></th>\n",
       "      <th>count</th>\n",
       "      <th>mean</th>\n",
       "      <th>std</th>\n",
       "      <th>min</th>\n",
       "      <th>1%</th>\n",
       "      <th>5%</th>\n",
       "      <th>50%</th>\n",
       "      <th>75%</th>\n",
       "      <th>90%</th>\n",
       "      <th>99%</th>\n",
       "      <th>max</th>\n",
       "    </tr>\n",
       "  </thead>\n",
       "  <tbody>\n",
       "    <tr>\n",
       "      <th>SENIORCITIZEN</th>\n",
       "      <td>7043.0</td>\n",
       "      <td>0.162147</td>\n",
       "      <td>0.368612</td>\n",
       "      <td>0.00</td>\n",
       "      <td>0.0</td>\n",
       "      <td>0.00</td>\n",
       "      <td>0.00</td>\n",
       "      <td>0.00</td>\n",
       "      <td>1.00</td>\n",
       "      <td>1.000</td>\n",
       "      <td>1.00</td>\n",
       "    </tr>\n",
       "    <tr>\n",
       "      <th>TENURE</th>\n",
       "      <td>7043.0</td>\n",
       "      <td>32.371149</td>\n",
       "      <td>24.559481</td>\n",
       "      <td>0.00</td>\n",
       "      <td>1.0</td>\n",
       "      <td>1.00</td>\n",
       "      <td>29.00</td>\n",
       "      <td>55.00</td>\n",
       "      <td>69.00</td>\n",
       "      <td>72.000</td>\n",
       "      <td>72.00</td>\n",
       "    </tr>\n",
       "    <tr>\n",
       "      <th>MONTHLYCHARGES</th>\n",
       "      <td>7043.0</td>\n",
       "      <td>64.761692</td>\n",
       "      <td>30.090047</td>\n",
       "      <td>18.25</td>\n",
       "      <td>19.2</td>\n",
       "      <td>19.65</td>\n",
       "      <td>70.35</td>\n",
       "      <td>89.85</td>\n",
       "      <td>102.60</td>\n",
       "      <td>114.729</td>\n",
       "      <td>118.75</td>\n",
       "    </tr>\n",
       "    <tr>\n",
       "      <th>TOTALCHARGES</th>\n",
       "      <td>7043.0</td>\n",
       "      <td>2283.300441</td>\n",
       "      <td>2265.000258</td>\n",
       "      <td>18.80</td>\n",
       "      <td>19.9</td>\n",
       "      <td>49.65</td>\n",
       "      <td>1400.55</td>\n",
       "      <td>3786.60</td>\n",
       "      <td>5973.69</td>\n",
       "      <td>8039.256</td>\n",
       "      <td>8684.80</td>\n",
       "    </tr>\n",
       "    <tr>\n",
       "      <th>CHURN</th>\n",
       "      <td>7043.0</td>\n",
       "      <td>0.265370</td>\n",
       "      <td>0.441561</td>\n",
       "      <td>0.00</td>\n",
       "      <td>0.0</td>\n",
       "      <td>0.00</td>\n",
       "      <td>0.00</td>\n",
       "      <td>1.00</td>\n",
       "      <td>1.00</td>\n",
       "      <td>1.000</td>\n",
       "      <td>1.00</td>\n",
       "    </tr>\n",
       "  </tbody>\n",
       "</table>\n",
       "</div>"
      ],
      "text/plain": [
       "                 count         mean          std    min    1%     5%      50%  \\\n",
       "SENIORCITIZEN   7043.0     0.162147     0.368612   0.00   0.0   0.00     0.00   \n",
       "TENURE          7043.0    32.371149    24.559481   0.00   1.0   1.00    29.00   \n",
       "MONTHLYCHARGES  7043.0    64.761692    30.090047  18.25  19.2  19.65    70.35   \n",
       "TOTALCHARGES    7043.0  2283.300441  2265.000258  18.80  19.9  49.65  1400.55   \n",
       "CHURN           7043.0     0.265370     0.441561   0.00   0.0   0.00     0.00   \n",
       "\n",
       "                    75%      90%       99%      max  \n",
       "SENIORCITIZEN      0.00     1.00     1.000     1.00  \n",
       "TENURE            55.00    69.00    72.000    72.00  \n",
       "MONTHLYCHARGES    89.85   102.60   114.729   118.75  \n",
       "TOTALCHARGES    3786.60  5973.69  8039.256  8684.80  \n",
       "CHURN              1.00     1.00     1.000     1.00  "
      ]
     },
     "execution_count": 56,
     "metadata": {},
     "output_type": "execute_result"
    }
   ],
   "source": [
    "df.describe([0.01, 0.05, 0.75, 0.90, 0.99]).T"
   ]
  },
  {
   "cell_type": "code",
   "execution_count": 57,
   "id": "ee5b4586",
   "metadata": {},
   "outputs": [
    {
     "data": {
      "text/plain": [
       "(10, 21)"
      ]
     },
     "execution_count": 57,
     "metadata": {},
     "output_type": "execute_result"
    }
   ],
   "source": [
    "df[df_scores < th].shape"
   ]
  },
  {
   "cell_type": "code",
   "execution_count": 58,
   "id": "b0325136",
   "metadata": {},
   "outputs": [
    {
     "data": {
      "text/plain": [
       "Int64Index([0, 20, 180, 252, 900, 1282, 3753, 3902, 4290, 6080], dtype='int64')"
      ]
     },
     "execution_count": 58,
     "metadata": {},
     "output_type": "execute_result"
    }
   ],
   "source": [
    "df[df_scores < th].index"
   ]
  },
  {
   "cell_type": "code",
   "execution_count": 59,
   "id": "aa945ced",
   "metadata": {},
   "outputs": [],
   "source": [
    "df.drop(axis=0, labels=df[df_scores < th].index, inplace=True)"
   ]
  },
  {
   "cell_type": "markdown",
   "id": "70c23a1c",
   "metadata": {},
   "source": [
    "## TASK 9"
   ]
  },
  {
   "cell_type": "code",
   "execution_count": 60,
   "id": "49f13f21",
   "metadata": {},
   "outputs": [],
   "source": [
    "df.loc[df['SENIORCITIZEN'] == 1, 'NEW_AGE_CAT'] = 'old'\n",
    "df.loc[df['SENIORCITIZEN'] == 0, 'NEW_AGE_CAT'] = 'young'"
   ]
  },
  {
   "cell_type": "code",
   "execution_count": 61,
   "id": "581e74bc",
   "metadata": {},
   "outputs": [],
   "source": [
    "df.loc[(df['PAYMENTMETHOD'] == 'Electronic check') & (df['NEW_AGE_CAT'] == 'old'), 'NEW_PAYMENT_AGE' ] = 'electronicold'\n",
    "\n",
    "df.loc[(df['PAYMENTMETHOD'] == 'Electronic check') & (df['NEW_AGE_CAT'] == 'young'), 'NEW_PAYMENT_AGE' ] = 'electronicyoung'\n",
    "\n",
    "df.loc[(df['PAYMENTMETHOD'] == 'Mailed check') & (df['NEW_AGE_CAT'] == 'old'), 'NEW_PAYMENT_AGE' ] = 'mailold'\n",
    "\n",
    "df.loc[(df['PAYMENTMETHOD'] == 'Mailed check') & (df['NEW_AGE_CAT'] == 'young'), 'NEW_PAYMENT_AGE' ] = 'mailyoung'\n",
    "\n",
    "df.loc[(df['PAYMENTMETHOD'] == 'Bank transfer (automatic)') & (df['NEW_AGE_CAT'] == 'old'), 'NEW_PAYMENT_AGE' ] = 'bankold'\n",
    "\n",
    "df.loc[(df['PAYMENTMETHOD'] == 'Bank transfer (automatic)') & (df['NEW_AGE_CAT'] == 'young'), 'NEW_PAYMENT_AGE' ] = 'bankyoung'\n",
    "\n",
    "df.loc[(df['PAYMENTMETHOD'] == 'Credit card (automatic)') & (df['NEW_AGE_CAT'] == 'old'), 'NEW_PAYMENT_AGE' ] = 'creditold'\n",
    "\n",
    "df.loc[(df['PAYMENTMETHOD'] == 'Credit card (automatic)') & (df['NEW_AGE_CAT'] == 'young'), 'NEW_PAYMENT_AGE' ] = 'credityoung'\n"
   ]
  },
  {
   "cell_type": "code",
   "execution_count": 62,
   "id": "c9de2ccc",
   "metadata": {},
   "outputs": [
    {
     "data": {
      "text/plain": [
       "electronicyoung    1769\n",
       "mailyoung          1513\n",
       "bankyoung          1310\n",
       "credityoung        1301\n",
       "electronicold       592\n",
       "bankold             233\n",
       "creditold           221\n",
       "mailold              94\n",
       "Name: NEW_PAYMENT_AGE, dtype: int64"
      ]
     },
     "execution_count": 62,
     "metadata": {},
     "output_type": "execute_result"
    }
   ],
   "source": [
    "df['NEW_PAYMENT_AGE'].value_counts()"
   ]
  },
  {
   "cell_type": "code",
   "execution_count": 63,
   "id": "ad2391c6",
   "metadata": {},
   "outputs": [],
   "source": [
    "df['NEW_TOTAL_CHARGES_TENURE'] = df['TOTALCHARGES'] / df['TENURE'] "
   ]
  },
  {
   "cell_type": "code",
   "execution_count": 64,
   "id": "949f3b3c",
   "metadata": {},
   "outputs": [],
   "source": [
    "df['NEW_NEW_TOTAL_CHARGES_TENURE_MONTHLY'] = df['NEW_TOTAL_CHARGES_TENURE'] / df['MONTHLYCHARGES']"
   ]
  },
  {
   "cell_type": "code",
   "execution_count": 65,
   "id": "3c4335fe",
   "metadata": {},
   "outputs": [
    {
     "data": {
      "text/plain": [
       "1    0.975830\n",
       "2    1.004178\n",
       "3    0.967034\n",
       "4    1.072489\n",
       "5    1.029227\n",
       "Name: NEW_NEW_TOTAL_CHARGES_TENURE_MONTHLY, dtype: float64"
      ]
     },
     "execution_count": 65,
     "metadata": {},
     "output_type": "execute_result"
    }
   ],
   "source": [
    "df['NEW_NEW_TOTAL_CHARGES_TENURE_MONTHLY'].head()"
   ]
  },
  {
   "cell_type": "code",
   "execution_count": 66,
   "id": "397fb870",
   "metadata": {},
   "outputs": [],
   "source": [
    "df['NEW_PAYMENT_TENURE'] = df['CONTRACT'] * df['TENURE']"
   ]
  },
  {
   "cell_type": "markdown",
   "id": "fb3b4900",
   "metadata": {},
   "source": [
    "## TASK 10\n"
   ]
  },
  {
   "cell_type": "code",
   "execution_count": 67,
   "id": "d1d903c8",
   "metadata": {},
   "outputs": [],
   "source": [
    "def label_encoder(dataframe, binary_col):\n",
    "    labelencoder = LabelEncoder()\n",
    "    dataframe[binary_col] = labelencoder.fit_transform(dataframe[binary_col])\n",
    "    return dataframe"
   ]
  },
  {
   "cell_type": "code",
   "execution_count": 68,
   "id": "7c8f9b4f",
   "metadata": {},
   "outputs": [
    {
     "data": {
      "text/plain": [
       "['GENDER',\n",
       " 'SENIORCITIZEN',\n",
       " 'PARTNER',\n",
       " 'DEPENDENTS',\n",
       " 'PHONESERVICE',\n",
       " 'PAPERLESSBILLING',\n",
       " 'NEW_AGE_CAT']"
      ]
     },
     "execution_count": 68,
     "metadata": {},
     "output_type": "execute_result"
    }
   ],
   "source": [
    "binary_cols = [col for col in df.columns if df[col].dtype not in [int, float]\n",
    "               and df[col].nunique() == 2]\n",
    "binary_cols"
   ]
  },
  {
   "cell_type": "code",
   "execution_count": 69,
   "id": "2c172f58",
   "metadata": {},
   "outputs": [],
   "source": [
    "for col in binary_cols:\n",
    "    label_encoder(df, col)"
   ]
  },
  {
   "cell_type": "code",
   "execution_count": 70,
   "id": "bc632f9f",
   "metadata": {},
   "outputs": [],
   "source": [
    "def rare_analyser(dataframe, target, cat_cols):\n",
    "    for col in cat_cols:\n",
    "        print(col, \":\", len(dataframe[col].value_counts()))\n",
    "        print(pd.DataFrame({\"COUNT\": dataframe[col].value_counts(),\n",
    "                            \"RATIO\": dataframe[col].value_counts() / len(dataframe),\n",
    "                            \"TARGET_MEAN\": dataframe.groupby(col)[target].mean()}), end=\"\\n\\n\\n\")"
   ]
  },
  {
   "cell_type": "code",
   "execution_count": 71,
   "id": "01bbbce9",
   "metadata": {
    "scrolled": true
   },
   "outputs": [
    {
     "name": "stdout",
     "output_type": "stream",
     "text": [
      "GENDER : 2\n",
      "   COUNT     RATIO  TARGET_MEAN\n",
      "0   3483  0.495237     0.269021\n",
      "1   3550  0.504763     0.261127\n",
      "\n",
      "\n",
      "PARTNER : 2\n",
      "   COUNT     RATIO  TARGET_MEAN\n",
      "0   3634  0.516707     0.329389\n",
      "1   3399  0.483293     0.196234\n",
      "\n",
      "\n",
      "DEPENDENTS : 2\n",
      "   COUNT     RATIO  TARGET_MEAN\n",
      "0   4924  0.700128     0.312551\n",
      "1   2109  0.299872     0.154101\n",
      "\n",
      "\n",
      "PHONESERVICE : 2\n",
      "   COUNT     RATIO  TARGET_MEAN\n",
      "0    674  0.095834     0.244807\n",
      "1   6359  0.904166     0.267180\n",
      "\n",
      "\n",
      "MULTIPLELINES : 3\n",
      "                  COUNT     RATIO  TARGET_MEAN\n",
      "No                 3388  0.481729     0.250590\n",
      "No phone service    674  0.095834     0.244807\n",
      "Yes                2971  0.422437     0.286099\n",
      "\n",
      "\n",
      "INTERNETSERVICE : 3\n",
      "             COUNT     RATIO  TARGET_MEAN\n",
      "DSL           2412  0.342955     0.188226\n",
      "Fiber optic   3096  0.440210     0.418928\n",
      "No            1525  0.216835     0.074098\n",
      "\n",
      "\n",
      "ONLINESECURITY : 3\n",
      "                     COUNT     RATIO  TARGET_MEAN\n",
      "No                    3491  0.496374     0.417359\n",
      "No internet service   1525  0.216835     0.074098\n",
      "Yes                   2017  0.286791     0.145761\n",
      "\n",
      "\n",
      "ONLINEBACKUP : 3\n",
      "                     COUNT     RATIO  TARGET_MEAN\n",
      "No                    3082  0.438220     0.399091\n",
      "No internet service   1525  0.216835     0.074098\n",
      "Yes                   2426  0.344945     0.214757\n",
      "\n",
      "\n",
      "DEVICEPROTECTION : 3\n",
      "                     COUNT     RATIO  TARGET_MEAN\n",
      "No                    3087  0.438931     0.390994\n",
      "No internet service   1525  0.216835     0.074098\n",
      "Yes                   2421  0.344234     0.224701\n",
      "\n",
      "\n",
      "TECHSUPPORT : 3\n",
      "                     COUNT     RATIO  TARGET_MEAN\n",
      "No                    3466  0.492820     0.416042\n",
      "No internet service   1525  0.216835     0.074098\n",
      "Yes                   2042  0.290346     0.151322\n",
      "\n",
      "\n",
      "STREAMINGTV : 3\n",
      "                     COUNT     RATIO  TARGET_MEAN\n",
      "No                    2804  0.398692     0.334879\n",
      "No internet service   1525  0.216835     0.074098\n",
      "Yes                   2704  0.384473     0.300296\n",
      "\n",
      "\n",
      "STREAMINGMOVIES : 3\n",
      "                     COUNT     RATIO  TARGET_MEAN\n",
      "No                    2778  0.394995     0.336213\n",
      "No internet service   1525  0.216835     0.074098\n",
      "Yes                   2730  0.388170     0.299267\n",
      "\n",
      "\n",
      "CONTRACT : 3\n",
      "                COUNT     RATIO  TARGET_MEAN\n",
      "Month-to-month   3865  0.549552     0.426908\n",
      "One year         1473  0.209441     0.112695\n",
      "Two year         1695  0.241007     0.028319\n",
      "\n",
      "\n",
      "PAPERLESSBILLING : 2\n",
      "   COUNT     RATIO  TARGET_MEAN\n",
      "0   2865  0.407365     0.162304\n",
      "1   4168  0.592635     0.335653\n",
      "\n",
      "\n",
      "PAYMENTMETHOD : 4\n",
      "                           COUNT     RATIO  TARGET_MEAN\n",
      "Bank transfer (automatic)   1543  0.219394     0.166559\n",
      "Credit card (automatic)     1522  0.216408     0.152431\n",
      "Electronic check            2361  0.335703     0.452351\n",
      "Mailed check                1607  0.228494     0.191039\n",
      "\n",
      "\n",
      "SENIORCITIZEN : 2\n",
      "   COUNT     RATIO  TARGET_MEAN\n",
      "0   5893  0.837907     0.235873\n",
      "1   1140  0.162093     0.415789\n",
      "\n",
      "\n",
      "CHURN : 2\n",
      "   COUNT     RATIO  TARGET_MEAN\n",
      "0   5169  0.734964          0.0\n",
      "1   1864  0.265036          1.0\n",
      "\n",
      "\n"
     ]
    }
   ],
   "source": [
    "rare_analyser(df, \"CHURN\", cat_cols)"
   ]
  },
  {
   "cell_type": "code",
   "execution_count": 72,
   "id": "a6a5b9c0",
   "metadata": {},
   "outputs": [],
   "source": [
    "def rare_encoder(dataframe, rare_perc):\n",
    "    temp_df = dataframe.copy()\n",
    "\n",
    "    rare_columns = [col for col in temp_df.columns if temp_df[col].dtypes == 'O'\n",
    "                    and (temp_df[col].value_counts() / len(temp_df) < rare_perc).any(axis=None)]\n",
    "    print(rare_columns)\n",
    "    for var in rare_columns:\n",
    "        tmp = temp_df[var].value_counts() / len(temp_df)\n",
    "        rare_labels = tmp[tmp < rare_perc].index\n",
    "        temp_df[var] = np.where(temp_df[var].isin(rare_labels), 'Rare', temp_df[var])\n",
    "\n",
    "    return temp_df"
   ]
  },
  {
   "cell_type": "code",
   "execution_count": 73,
   "id": "1777feb9",
   "metadata": {},
   "outputs": [
    {
     "name": "stdout",
     "output_type": "stream",
     "text": [
      "['CUSTOMERID', 'NEW_PAYMENT_TENURE']\n"
     ]
    }
   ],
   "source": [
    "df = rare_encoder(df, 0.01)"
   ]
  },
  {
   "cell_type": "code",
   "execution_count": 74,
   "id": "4dec52b4",
   "metadata": {},
   "outputs": [],
   "source": [
    "def one_hot_encoder(dataframe, categorical_cols, drop_first=True):\n",
    "    dataframe = pd.get_dummies(dataframe, columns=categorical_cols, drop_first=drop_first)\n",
    "    return dataframe"
   ]
  },
  {
   "cell_type": "code",
   "execution_count": 75,
   "id": "f8e335ab",
   "metadata": {},
   "outputs": [],
   "source": [
    "ohe_cols = [col for col in df.columns if 10 >= df[col].nunique() > 2]"
   ]
  },
  {
   "cell_type": "code",
   "execution_count": 76,
   "id": "2157897c",
   "metadata": {},
   "outputs": [
    {
     "data": {
      "text/plain": [
       "['MULTIPLELINES',\n",
       " 'INTERNETSERVICE',\n",
       " 'ONLINESECURITY',\n",
       " 'ONLINEBACKUP',\n",
       " 'DEVICEPROTECTION',\n",
       " 'TECHSUPPORT',\n",
       " 'STREAMINGTV',\n",
       " 'STREAMINGMOVIES',\n",
       " 'CONTRACT',\n",
       " 'PAYMENTMETHOD',\n",
       " 'NEW_PAYMENT_AGE']"
      ]
     },
     "execution_count": 76,
     "metadata": {},
     "output_type": "execute_result"
    }
   ],
   "source": [
    "ohe_cols"
   ]
  },
  {
   "cell_type": "code",
   "execution_count": 77,
   "id": "3cf1df18",
   "metadata": {},
   "outputs": [
    {
     "data": {
      "text/plain": [
       "False"
      ]
     },
     "execution_count": 77,
     "metadata": {},
     "output_type": "execute_result"
    }
   ],
   "source": [
    "df['TOTALCHARGES'].isnull().any()"
   ]
  },
  {
   "cell_type": "code",
   "execution_count": 78,
   "id": "1837ebfe",
   "metadata": {},
   "outputs": [],
   "source": [
    "df = one_hot_encoder(df, ohe_cols)"
   ]
  },
  {
   "cell_type": "code",
   "execution_count": 79,
   "id": "6e7df83f",
   "metadata": {
    "scrolled": true
   },
   "outputs": [
    {
     "data": {
      "text/html": [
       "<div>\n",
       "<style scoped>\n",
       "    .dataframe tbody tr th:only-of-type {\n",
       "        vertical-align: middle;\n",
       "    }\n",
       "\n",
       "    .dataframe tbody tr th {\n",
       "        vertical-align: top;\n",
       "    }\n",
       "\n",
       "    .dataframe thead th {\n",
       "        text-align: right;\n",
       "    }\n",
       "</style>\n",
       "<table border=\"1\" class=\"dataframe\">\n",
       "  <thead>\n",
       "    <tr style=\"text-align: right;\">\n",
       "      <th></th>\n",
       "      <th>CUSTOMERID</th>\n",
       "      <th>GENDER</th>\n",
       "      <th>SENIORCITIZEN</th>\n",
       "      <th>PARTNER</th>\n",
       "      <th>DEPENDENTS</th>\n",
       "      <th>TENURE</th>\n",
       "      <th>PHONESERVICE</th>\n",
       "      <th>PAPERLESSBILLING</th>\n",
       "      <th>MONTHLYCHARGES</th>\n",
       "      <th>TOTALCHARGES</th>\n",
       "      <th>...</th>\n",
       "      <th>PAYMENTMETHOD_Credit card (automatic)</th>\n",
       "      <th>PAYMENTMETHOD_Electronic check</th>\n",
       "      <th>PAYMENTMETHOD_Mailed check</th>\n",
       "      <th>NEW_PAYMENT_AGE_bankyoung</th>\n",
       "      <th>NEW_PAYMENT_AGE_creditold</th>\n",
       "      <th>NEW_PAYMENT_AGE_credityoung</th>\n",
       "      <th>NEW_PAYMENT_AGE_electronicold</th>\n",
       "      <th>NEW_PAYMENT_AGE_electronicyoung</th>\n",
       "      <th>NEW_PAYMENT_AGE_mailold</th>\n",
       "      <th>NEW_PAYMENT_AGE_mailyoung</th>\n",
       "    </tr>\n",
       "  </thead>\n",
       "  <tbody>\n",
       "    <tr>\n",
       "      <th>1</th>\n",
       "      <td>Rare</td>\n",
       "      <td>1</td>\n",
       "      <td>0</td>\n",
       "      <td>0</td>\n",
       "      <td>0</td>\n",
       "      <td>34</td>\n",
       "      <td>1</td>\n",
       "      <td>0</td>\n",
       "      <td>56.95</td>\n",
       "      <td>1889.50</td>\n",
       "      <td>...</td>\n",
       "      <td>0</td>\n",
       "      <td>0</td>\n",
       "      <td>1</td>\n",
       "      <td>0</td>\n",
       "      <td>0</td>\n",
       "      <td>0</td>\n",
       "      <td>0</td>\n",
       "      <td>0</td>\n",
       "      <td>0</td>\n",
       "      <td>1</td>\n",
       "    </tr>\n",
       "    <tr>\n",
       "      <th>2</th>\n",
       "      <td>Rare</td>\n",
       "      <td>1</td>\n",
       "      <td>0</td>\n",
       "      <td>0</td>\n",
       "      <td>0</td>\n",
       "      <td>2</td>\n",
       "      <td>1</td>\n",
       "      <td>1</td>\n",
       "      <td>53.85</td>\n",
       "      <td>108.15</td>\n",
       "      <td>...</td>\n",
       "      <td>0</td>\n",
       "      <td>0</td>\n",
       "      <td>1</td>\n",
       "      <td>0</td>\n",
       "      <td>0</td>\n",
       "      <td>0</td>\n",
       "      <td>0</td>\n",
       "      <td>0</td>\n",
       "      <td>0</td>\n",
       "      <td>1</td>\n",
       "    </tr>\n",
       "    <tr>\n",
       "      <th>3</th>\n",
       "      <td>Rare</td>\n",
       "      <td>1</td>\n",
       "      <td>0</td>\n",
       "      <td>0</td>\n",
       "      <td>0</td>\n",
       "      <td>45</td>\n",
       "      <td>0</td>\n",
       "      <td>0</td>\n",
       "      <td>42.30</td>\n",
       "      <td>1840.75</td>\n",
       "      <td>...</td>\n",
       "      <td>0</td>\n",
       "      <td>0</td>\n",
       "      <td>0</td>\n",
       "      <td>1</td>\n",
       "      <td>0</td>\n",
       "      <td>0</td>\n",
       "      <td>0</td>\n",
       "      <td>0</td>\n",
       "      <td>0</td>\n",
       "      <td>0</td>\n",
       "    </tr>\n",
       "    <tr>\n",
       "      <th>4</th>\n",
       "      <td>Rare</td>\n",
       "      <td>0</td>\n",
       "      <td>0</td>\n",
       "      <td>0</td>\n",
       "      <td>0</td>\n",
       "      <td>2</td>\n",
       "      <td>1</td>\n",
       "      <td>1</td>\n",
       "      <td>70.70</td>\n",
       "      <td>151.65</td>\n",
       "      <td>...</td>\n",
       "      <td>0</td>\n",
       "      <td>1</td>\n",
       "      <td>0</td>\n",
       "      <td>0</td>\n",
       "      <td>0</td>\n",
       "      <td>0</td>\n",
       "      <td>0</td>\n",
       "      <td>1</td>\n",
       "      <td>0</td>\n",
       "      <td>0</td>\n",
       "    </tr>\n",
       "    <tr>\n",
       "      <th>5</th>\n",
       "      <td>Rare</td>\n",
       "      <td>0</td>\n",
       "      <td>0</td>\n",
       "      <td>0</td>\n",
       "      <td>0</td>\n",
       "      <td>8</td>\n",
       "      <td>1</td>\n",
       "      <td>1</td>\n",
       "      <td>99.65</td>\n",
       "      <td>820.50</td>\n",
       "      <td>...</td>\n",
       "      <td>0</td>\n",
       "      <td>1</td>\n",
       "      <td>0</td>\n",
       "      <td>0</td>\n",
       "      <td>0</td>\n",
       "      <td>0</td>\n",
       "      <td>0</td>\n",
       "      <td>1</td>\n",
       "      <td>0</td>\n",
       "      <td>0</td>\n",
       "    </tr>\n",
       "  </tbody>\n",
       "</table>\n",
       "<p>5 rows × 43 columns</p>\n",
       "</div>"
      ],
      "text/plain": [
       "  CUSTOMERID  GENDER  SENIORCITIZEN  PARTNER  DEPENDENTS  TENURE  \\\n",
       "1       Rare       1              0        0           0      34   \n",
       "2       Rare       1              0        0           0       2   \n",
       "3       Rare       1              0        0           0      45   \n",
       "4       Rare       0              0        0           0       2   \n",
       "5       Rare       0              0        0           0       8   \n",
       "\n",
       "   PHONESERVICE  PAPERLESSBILLING  MONTHLYCHARGES  TOTALCHARGES  ...  \\\n",
       "1             1                 0           56.95       1889.50  ...   \n",
       "2             1                 1           53.85        108.15  ...   \n",
       "3             0                 0           42.30       1840.75  ...   \n",
       "4             1                 1           70.70        151.65  ...   \n",
       "5             1                 1           99.65        820.50  ...   \n",
       "\n",
       "   PAYMENTMETHOD_Credit card (automatic)  PAYMENTMETHOD_Electronic check  \\\n",
       "1                                      0                               0   \n",
       "2                                      0                               0   \n",
       "3                                      0                               0   \n",
       "4                                      0                               1   \n",
       "5                                      0                               1   \n",
       "\n",
       "   PAYMENTMETHOD_Mailed check  NEW_PAYMENT_AGE_bankyoung  \\\n",
       "1                           1                          0   \n",
       "2                           1                          0   \n",
       "3                           0                          1   \n",
       "4                           0                          0   \n",
       "5                           0                          0   \n",
       "\n",
       "  NEW_PAYMENT_AGE_creditold  NEW_PAYMENT_AGE_credityoung  \\\n",
       "1                         0                            0   \n",
       "2                         0                            0   \n",
       "3                         0                            0   \n",
       "4                         0                            0   \n",
       "5                         0                            0   \n",
       "\n",
       "   NEW_PAYMENT_AGE_electronicold  NEW_PAYMENT_AGE_electronicyoung  \\\n",
       "1                              0                                0   \n",
       "2                              0                                0   \n",
       "3                              0                                0   \n",
       "4                              0                                1   \n",
       "5                              0                                1   \n",
       "\n",
       "   NEW_PAYMENT_AGE_mailold  NEW_PAYMENT_AGE_mailyoung  \n",
       "1                        0                          1  \n",
       "2                        0                          1  \n",
       "3                        0                          0  \n",
       "4                        0                          0  \n",
       "5                        0                          0  \n",
       "\n",
       "[5 rows x 43 columns]"
      ]
     },
     "execution_count": 79,
     "metadata": {},
     "output_type": "execute_result"
    }
   ],
   "source": [
    "df.head()"
   ]
  },
  {
   "cell_type": "code",
   "execution_count": 80,
   "id": "ddcdb2eb",
   "metadata": {
    "scrolled": true
   },
   "outputs": [
    {
     "name": "stdout",
     "output_type": "stream",
     "text": [
      "Observations: 7033\n",
      "Variables: 43\n",
      "cat_cols: 38\n",
      "num_cols: 5\n",
      "cat_but_car: 0\n",
      "num_but_cat: 36\n"
     ]
    }
   ],
   "source": [
    "cat_cols, num_cols, cat_but_car = grab_col_names(df)"
   ]
  },
  {
   "cell_type": "code",
   "execution_count": 81,
   "id": "17f2cc3c",
   "metadata": {},
   "outputs": [
    {
     "data": {
      "text/plain": [
       "['TENURE',\n",
       " 'MONTHLYCHARGES',\n",
       " 'TOTALCHARGES',\n",
       " 'NEW_TOTAL_CHARGES_TENURE',\n",
       " 'NEW_NEW_TOTAL_CHARGES_TENURE_MONTHLY']"
      ]
     },
     "execution_count": 81,
     "metadata": {},
     "output_type": "execute_result"
    }
   ],
   "source": [
    "num_cols"
   ]
  },
  {
   "cell_type": "code",
   "execution_count": 82,
   "id": "cbeb580e",
   "metadata": {
    "scrolled": true
   },
   "outputs": [
    {
     "data": {
      "text/plain": [
       "CUSTOMERID                                object\n",
       "GENDER                                     int32\n",
       "SENIORCITIZEN                              int64\n",
       "PARTNER                                    int32\n",
       "DEPENDENTS                                 int32\n",
       "TENURE                                     int64\n",
       "PHONESERVICE                               int32\n",
       "PAPERLESSBILLING                           int32\n",
       "MONTHLYCHARGES                           float64\n",
       "TOTALCHARGES                             float64\n",
       "CHURN                                      int32\n",
       "NEW_AGE_CAT                                int32\n",
       "NEW_TOTAL_CHARGES_TENURE                 float64\n",
       "NEW_NEW_TOTAL_CHARGES_TENURE_MONTHLY     float64\n",
       "NEW_PAYMENT_TENURE                        object\n",
       "MULTIPLELINES_No phone service             uint8\n",
       "MULTIPLELINES_Yes                          uint8\n",
       "INTERNETSERVICE_Fiber optic                uint8\n",
       "INTERNETSERVICE_No                         uint8\n",
       "ONLINESECURITY_No internet service         uint8\n",
       "ONLINESECURITY_Yes                         uint8\n",
       "ONLINEBACKUP_No internet service           uint8\n",
       "ONLINEBACKUP_Yes                           uint8\n",
       "DEVICEPROTECTION_No internet service       uint8\n",
       "DEVICEPROTECTION_Yes                       uint8\n",
       "TECHSUPPORT_No internet service            uint8\n",
       "TECHSUPPORT_Yes                            uint8\n",
       "STREAMINGTV_No internet service            uint8\n",
       "STREAMINGTV_Yes                            uint8\n",
       "STREAMINGMOVIES_No internet service        uint8\n",
       "STREAMINGMOVIES_Yes                        uint8\n",
       "CONTRACT_One year                          uint8\n",
       "CONTRACT_Two year                          uint8\n",
       "PAYMENTMETHOD_Credit card (automatic)      uint8\n",
       "PAYMENTMETHOD_Electronic check             uint8\n",
       "PAYMENTMETHOD_Mailed check                 uint8\n",
       "NEW_PAYMENT_AGE_bankyoung                  uint8\n",
       "NEW_PAYMENT_AGE_creditold                  uint8\n",
       "NEW_PAYMENT_AGE_credityoung                uint8\n",
       "NEW_PAYMENT_AGE_electronicold              uint8\n",
       "NEW_PAYMENT_AGE_electronicyoung            uint8\n",
       "NEW_PAYMENT_AGE_mailold                    uint8\n",
       "NEW_PAYMENT_AGE_mailyoung                  uint8\n",
       "dtype: object"
      ]
     },
     "execution_count": 82,
     "metadata": {},
     "output_type": "execute_result"
    }
   ],
   "source": [
    "df.dtypes"
   ]
  },
  {
   "cell_type": "code",
   "execution_count": 83,
   "id": "7e673854",
   "metadata": {},
   "outputs": [],
   "source": [
    "df =df[~df.isin([np.nan, np.inf, -np.inf]).any(1)]\n"
   ]
  },
  {
   "cell_type": "markdown",
   "id": "6988f954",
   "metadata": {},
   "source": [
    "## TASK 11"
   ]
  },
  {
   "cell_type": "code",
   "execution_count": 84,
   "id": "3f692f89",
   "metadata": {},
   "outputs": [],
   "source": [
    "scaler = StandardScaler()\n",
    "df[num_cols] = scaler.fit_transform(df[num_cols])"
   ]
  },
  {
   "cell_type": "code",
   "execution_count": 85,
   "id": "46d28fb3",
   "metadata": {},
   "outputs": [
    {
     "data": {
      "text/html": [
       "<div>\n",
       "<style scoped>\n",
       "    .dataframe tbody tr th:only-of-type {\n",
       "        vertical-align: middle;\n",
       "    }\n",
       "\n",
       "    .dataframe tbody tr th {\n",
       "        vertical-align: top;\n",
       "    }\n",
       "\n",
       "    .dataframe thead th {\n",
       "        text-align: right;\n",
       "    }\n",
       "</style>\n",
       "<table border=\"1\" class=\"dataframe\">\n",
       "  <thead>\n",
       "    <tr style=\"text-align: right;\">\n",
       "      <th></th>\n",
       "      <th>TENURE</th>\n",
       "      <th>MONTHLYCHARGES</th>\n",
       "      <th>TOTALCHARGES</th>\n",
       "      <th>NEW_TOTAL_CHARGES_TENURE</th>\n",
       "      <th>NEW_NEW_TOTAL_CHARGES_TENURE_MONTHLY</th>\n",
       "    </tr>\n",
       "  </thead>\n",
       "  <tbody>\n",
       "    <tr>\n",
       "      <th>1</th>\n",
       "      <td>0.062513</td>\n",
       "      <td>-0.262306</td>\n",
       "      <td>-0.175150</td>\n",
       "      <td>-0.307123</td>\n",
       "      <td>-0.479466</td>\n",
       "    </tr>\n",
       "    <tr>\n",
       "      <th>2</th>\n",
       "      <td>-1.241880</td>\n",
       "      <td>-0.365359</td>\n",
       "      <td>-0.961051</td>\n",
       "      <td>-0.356776</td>\n",
       "      <td>0.075605</td>\n",
       "    </tr>\n",
       "    <tr>\n",
       "      <th>3</th>\n",
       "      <td>0.510898</td>\n",
       "      <td>-0.749317</td>\n",
       "      <td>-0.196658</td>\n",
       "      <td>-0.793137</td>\n",
       "      <td>-0.651692</td>\n",
       "    </tr>\n",
       "    <tr>\n",
       "      <th>4</th>\n",
       "      <td>-1.241880</td>\n",
       "      <td>0.194787</td>\n",
       "      <td>-0.941859</td>\n",
       "      <td>0.363896</td>\n",
       "      <td>1.413176</td>\n",
       "    </tr>\n",
       "    <tr>\n",
       "      <th>5</th>\n",
       "      <td>-0.997306</td>\n",
       "      <td>1.157175</td>\n",
       "      <td>-0.646774</td>\n",
       "      <td>1.249825</td>\n",
       "      <td>0.566079</td>\n",
       "    </tr>\n",
       "  </tbody>\n",
       "</table>\n",
       "</div>"
      ],
      "text/plain": [
       "     TENURE  MONTHLYCHARGES  TOTALCHARGES  NEW_TOTAL_CHARGES_TENURE  \\\n",
       "1  0.062513       -0.262306     -0.175150                 -0.307123   \n",
       "2 -1.241880       -0.365359     -0.961051                 -0.356776   \n",
       "3  0.510898       -0.749317     -0.196658                 -0.793137   \n",
       "4 -1.241880        0.194787     -0.941859                  0.363896   \n",
       "5 -0.997306        1.157175     -0.646774                  1.249825   \n",
       "\n",
       "   NEW_NEW_TOTAL_CHARGES_TENURE_MONTHLY  \n",
       "1                             -0.479466  \n",
       "2                              0.075605  \n",
       "3                             -0.651692  \n",
       "4                              1.413176  \n",
       "5                              0.566079  "
      ]
     },
     "execution_count": 85,
     "metadata": {},
     "output_type": "execute_result"
    }
   ],
   "source": [
    "df[num_cols].head()"
   ]
  },
  {
   "cell_type": "code",
   "execution_count": 86,
   "id": "b9c5497e",
   "metadata": {},
   "outputs": [
    {
     "data": {
      "text/plain": [
       "Index(['CUSTOMERID', 'GENDER', 'SENIORCITIZEN', 'PARTNER', 'DEPENDENTS',\n",
       "       'TENURE', 'PHONESERVICE', 'PAPERLESSBILLING', 'MONTHLYCHARGES',\n",
       "       'TOTALCHARGES', 'CHURN', 'NEW_AGE_CAT', 'NEW_TOTAL_CHARGES_TENURE',\n",
       "       'NEW_NEW_TOTAL_CHARGES_TENURE_MONTHLY', 'NEW_PAYMENT_TENURE',\n",
       "       'MULTIPLELINES_No phone service', 'MULTIPLELINES_Yes',\n",
       "       'INTERNETSERVICE_Fiber optic', 'INTERNETSERVICE_No',\n",
       "       'ONLINESECURITY_No internet service', 'ONLINESECURITY_Yes',\n",
       "       'ONLINEBACKUP_No internet service', 'ONLINEBACKUP_Yes',\n",
       "       'DEVICEPROTECTION_No internet service', 'DEVICEPROTECTION_Yes',\n",
       "       'TECHSUPPORT_No internet service', 'TECHSUPPORT_Yes',\n",
       "       'STREAMINGTV_No internet service', 'STREAMINGTV_Yes',\n",
       "       'STREAMINGMOVIES_No internet service', 'STREAMINGMOVIES_Yes',\n",
       "       'CONTRACT_One year', 'CONTRACT_Two year',\n",
       "       'PAYMENTMETHOD_Credit card (automatic)',\n",
       "       'PAYMENTMETHOD_Electronic check', 'PAYMENTMETHOD_Mailed check',\n",
       "       'NEW_PAYMENT_AGE_bankyoung', 'NEW_PAYMENT_AGE_creditold',\n",
       "       'NEW_PAYMENT_AGE_credityoung', 'NEW_PAYMENT_AGE_electronicold',\n",
       "       'NEW_PAYMENT_AGE_electronicyoung', 'NEW_PAYMENT_AGE_mailold',\n",
       "       'NEW_PAYMENT_AGE_mailyoung'],\n",
       "      dtype='object')"
      ]
     },
     "execution_count": 86,
     "metadata": {},
     "output_type": "execute_result"
    }
   ],
   "source": [
    "df.columns"
   ]
  },
  {
   "cell_type": "code",
   "execution_count": 87,
   "id": "518fbd45",
   "metadata": {
    "scrolled": true
   },
   "outputs": [
    {
     "name": "stdout",
     "output_type": "stream",
     "text": [
      "Observations: 7022\n",
      "Variables: 43\n",
      "cat_cols: 38\n",
      "num_cols: 5\n",
      "cat_but_car: 0\n",
      "num_but_cat: 36\n"
     ]
    }
   ],
   "source": [
    "cat_cols, num_cols, cat_but_car = grab_col_names(df)"
   ]
  },
  {
   "cell_type": "code",
   "execution_count": 88,
   "id": "ccde66fc",
   "metadata": {},
   "outputs": [
    {
     "data": {
      "text/plain": [
       "False"
      ]
     },
     "execution_count": 88,
     "metadata": {},
     "output_type": "execute_result"
    }
   ],
   "source": [
    "df['TOTALCHARGES'].isnull().any()"
   ]
  },
  {
   "cell_type": "code",
   "execution_count": 89,
   "id": "35440642",
   "metadata": {},
   "outputs": [
    {
     "data": {
      "text/plain": [
       "1   -0.175150\n",
       "2   -0.961051\n",
       "3   -0.196658\n",
       "4   -0.941859\n",
       "5   -0.646774\n",
       "Name: TOTALCHARGES, dtype: float64"
      ]
     },
     "execution_count": 89,
     "metadata": {},
     "output_type": "execute_result"
    }
   ],
   "source": [
    "df['TOTALCHARGES'].head()"
   ]
  },
  {
   "cell_type": "markdown",
   "id": "90923ea2",
   "metadata": {},
   "source": [
    "## TASK 12"
   ]
  },
  {
   "cell_type": "code",
   "execution_count": 93,
   "id": "8d5fbc54",
   "metadata": {},
   "outputs": [],
   "source": [
    "y = df[\"CHURN\"]\n",
    "X = df.drop(['CHURN', 'CUSTOMERID', 'NEW_PAYMENT_TENURE'], axis=1)"
   ]
  },
  {
   "cell_type": "code",
   "execution_count": 94,
   "id": "13575f28",
   "metadata": {},
   "outputs": [],
   "source": [
    "X_train, X_test, y_train, y_test = train_test_split(X, y, test_size=0.30, random_state=17)"
   ]
  },
  {
   "cell_type": "code",
   "execution_count": 95,
   "id": "b87347a5",
   "metadata": {},
   "outputs": [],
   "source": [
    "rf_model = RandomForestClassifier(random_state=46).fit(X_train, y_train)"
   ]
  },
  {
   "cell_type": "code",
   "execution_count": 96,
   "id": "dd52cb33",
   "metadata": {},
   "outputs": [
    {
     "data": {
      "text/plain": [
       "0.7968675842429995"
      ]
     },
     "execution_count": 96,
     "metadata": {},
     "output_type": "execute_result"
    }
   ],
   "source": [
    "y_pred = rf_model.predict(X_test)\n",
    "accuracy_score(y_pred, y_test)"
   ]
  },
  {
   "cell_type": "code",
   "execution_count": 97,
   "id": "a64c13f9",
   "metadata": {},
   "outputs": [
    {
     "data": {
      "text/html": [
       "<div>\n",
       "<style scoped>\n",
       "    .dataframe tbody tr th:only-of-type {\n",
       "        vertical-align: middle;\n",
       "    }\n",
       "\n",
       "    .dataframe tbody tr th {\n",
       "        vertical-align: top;\n",
       "    }\n",
       "\n",
       "    .dataframe thead th {\n",
       "        text-align: right;\n",
       "    }\n",
       "</style>\n",
       "<table border=\"1\" class=\"dataframe\">\n",
       "  <thead>\n",
       "    <tr style=\"text-align: right;\">\n",
       "      <th></th>\n",
       "      <th>GENDER</th>\n",
       "      <th>SENIORCITIZEN</th>\n",
       "      <th>PARTNER</th>\n",
       "      <th>DEPENDENTS</th>\n",
       "      <th>TENURE</th>\n",
       "      <th>PHONESERVICE</th>\n",
       "      <th>PAPERLESSBILLING</th>\n",
       "      <th>MONTHLYCHARGES</th>\n",
       "      <th>TOTALCHARGES</th>\n",
       "      <th>NEW_AGE_CAT</th>\n",
       "      <th>...</th>\n",
       "      <th>PAYMENTMETHOD_Credit card (automatic)</th>\n",
       "      <th>PAYMENTMETHOD_Electronic check</th>\n",
       "      <th>PAYMENTMETHOD_Mailed check</th>\n",
       "      <th>NEW_PAYMENT_AGE_bankyoung</th>\n",
       "      <th>NEW_PAYMENT_AGE_creditold</th>\n",
       "      <th>NEW_PAYMENT_AGE_credityoung</th>\n",
       "      <th>NEW_PAYMENT_AGE_electronicold</th>\n",
       "      <th>NEW_PAYMENT_AGE_electronicyoung</th>\n",
       "      <th>NEW_PAYMENT_AGE_mailold</th>\n",
       "      <th>NEW_PAYMENT_AGE_mailyoung</th>\n",
       "    </tr>\n",
       "  </thead>\n",
       "  <tbody>\n",
       "    <tr>\n",
       "      <th>1</th>\n",
       "      <td>1</td>\n",
       "      <td>0</td>\n",
       "      <td>0</td>\n",
       "      <td>0</td>\n",
       "      <td>0.062513</td>\n",
       "      <td>1</td>\n",
       "      <td>0</td>\n",
       "      <td>-0.262306</td>\n",
       "      <td>-0.175150</td>\n",
       "      <td>1</td>\n",
       "      <td>...</td>\n",
       "      <td>0</td>\n",
       "      <td>0</td>\n",
       "      <td>1</td>\n",
       "      <td>0</td>\n",
       "      <td>0</td>\n",
       "      <td>0</td>\n",
       "      <td>0</td>\n",
       "      <td>0</td>\n",
       "      <td>0</td>\n",
       "      <td>1</td>\n",
       "    </tr>\n",
       "    <tr>\n",
       "      <th>2</th>\n",
       "      <td>1</td>\n",
       "      <td>0</td>\n",
       "      <td>0</td>\n",
       "      <td>0</td>\n",
       "      <td>-1.241880</td>\n",
       "      <td>1</td>\n",
       "      <td>1</td>\n",
       "      <td>-0.365359</td>\n",
       "      <td>-0.961051</td>\n",
       "      <td>1</td>\n",
       "      <td>...</td>\n",
       "      <td>0</td>\n",
       "      <td>0</td>\n",
       "      <td>1</td>\n",
       "      <td>0</td>\n",
       "      <td>0</td>\n",
       "      <td>0</td>\n",
       "      <td>0</td>\n",
       "      <td>0</td>\n",
       "      <td>0</td>\n",
       "      <td>1</td>\n",
       "    </tr>\n",
       "    <tr>\n",
       "      <th>3</th>\n",
       "      <td>1</td>\n",
       "      <td>0</td>\n",
       "      <td>0</td>\n",
       "      <td>0</td>\n",
       "      <td>0.510898</td>\n",
       "      <td>0</td>\n",
       "      <td>0</td>\n",
       "      <td>-0.749317</td>\n",
       "      <td>-0.196658</td>\n",
       "      <td>1</td>\n",
       "      <td>...</td>\n",
       "      <td>0</td>\n",
       "      <td>0</td>\n",
       "      <td>0</td>\n",
       "      <td>1</td>\n",
       "      <td>0</td>\n",
       "      <td>0</td>\n",
       "      <td>0</td>\n",
       "      <td>0</td>\n",
       "      <td>0</td>\n",
       "      <td>0</td>\n",
       "    </tr>\n",
       "    <tr>\n",
       "      <th>4</th>\n",
       "      <td>0</td>\n",
       "      <td>0</td>\n",
       "      <td>0</td>\n",
       "      <td>0</td>\n",
       "      <td>-1.241880</td>\n",
       "      <td>1</td>\n",
       "      <td>1</td>\n",
       "      <td>0.194787</td>\n",
       "      <td>-0.941859</td>\n",
       "      <td>1</td>\n",
       "      <td>...</td>\n",
       "      <td>0</td>\n",
       "      <td>1</td>\n",
       "      <td>0</td>\n",
       "      <td>0</td>\n",
       "      <td>0</td>\n",
       "      <td>0</td>\n",
       "      <td>0</td>\n",
       "      <td>1</td>\n",
       "      <td>0</td>\n",
       "      <td>0</td>\n",
       "    </tr>\n",
       "    <tr>\n",
       "      <th>5</th>\n",
       "      <td>0</td>\n",
       "      <td>0</td>\n",
       "      <td>0</td>\n",
       "      <td>0</td>\n",
       "      <td>-0.997306</td>\n",
       "      <td>1</td>\n",
       "      <td>1</td>\n",
       "      <td>1.157175</td>\n",
       "      <td>-0.646774</td>\n",
       "      <td>1</td>\n",
       "      <td>...</td>\n",
       "      <td>0</td>\n",
       "      <td>1</td>\n",
       "      <td>0</td>\n",
       "      <td>0</td>\n",
       "      <td>0</td>\n",
       "      <td>0</td>\n",
       "      <td>0</td>\n",
       "      <td>1</td>\n",
       "      <td>0</td>\n",
       "      <td>0</td>\n",
       "    </tr>\n",
       "  </tbody>\n",
       "</table>\n",
       "<p>5 rows × 40 columns</p>\n",
       "</div>"
      ],
      "text/plain": [
       "   GENDER  SENIORCITIZEN  PARTNER  DEPENDENTS    TENURE  PHONESERVICE  \\\n",
       "1       1              0        0           0  0.062513             1   \n",
       "2       1              0        0           0 -1.241880             1   \n",
       "3       1              0        0           0  0.510898             0   \n",
       "4       0              0        0           0 -1.241880             1   \n",
       "5       0              0        0           0 -0.997306             1   \n",
       "\n",
       "   PAPERLESSBILLING  MONTHLYCHARGES  TOTALCHARGES  NEW_AGE_CAT  ...  \\\n",
       "1                 0       -0.262306     -0.175150            1  ...   \n",
       "2                 1       -0.365359     -0.961051            1  ...   \n",
       "3                 0       -0.749317     -0.196658            1  ...   \n",
       "4                 1        0.194787     -0.941859            1  ...   \n",
       "5                 1        1.157175     -0.646774            1  ...   \n",
       "\n",
       "   PAYMENTMETHOD_Credit card (automatic)  PAYMENTMETHOD_Electronic check  \\\n",
       "1                                      0                               0   \n",
       "2                                      0                               0   \n",
       "3                                      0                               0   \n",
       "4                                      0                               1   \n",
       "5                                      0                               1   \n",
       "\n",
       "   PAYMENTMETHOD_Mailed check  NEW_PAYMENT_AGE_bankyoung  \\\n",
       "1                           1                          0   \n",
       "2                           1                          0   \n",
       "3                           0                          1   \n",
       "4                           0                          0   \n",
       "5                           0                          0   \n",
       "\n",
       "   NEW_PAYMENT_AGE_creditold  NEW_PAYMENT_AGE_credityoung  \\\n",
       "1                          0                            0   \n",
       "2                          0                            0   \n",
       "3                          0                            0   \n",
       "4                          0                            0   \n",
       "5                          0                            0   \n",
       "\n",
       "   NEW_PAYMENT_AGE_electronicold  NEW_PAYMENT_AGE_electronicyoung  \\\n",
       "1                              0                                0   \n",
       "2                              0                                0   \n",
       "3                              0                                0   \n",
       "4                              0                                1   \n",
       "5                              0                                1   \n",
       "\n",
       "   NEW_PAYMENT_AGE_mailold  NEW_PAYMENT_AGE_mailyoung  \n",
       "1                        0                          1  \n",
       "2                        0                          1  \n",
       "3                        0                          0  \n",
       "4                        0                          0  \n",
       "5                        0                          0  \n",
       "\n",
       "[5 rows x 40 columns]"
      ]
     },
     "execution_count": 97,
     "metadata": {},
     "output_type": "execute_result"
    }
   ],
   "source": [
    "X.head()"
   ]
  },
  {
   "cell_type": "code",
   "execution_count": 98,
   "id": "c380dc08",
   "metadata": {},
   "outputs": [
    {
     "data": {
      "image/png": "[encoded data removed]",
      "text/plain": [
       "<Figure size 720x720 with 1 Axes>"
      ]
     },
     "metadata": {},
     "output_type": "display_data"
    }
   ],
   "source": [
    "def plot_importance(model, features, num=len(X), save=False):\n",
    "    feature_imp = pd.DataFrame({\"Value\": model.feature_importances_, \"Feature\": features.columns})\n",
    "    plt.figure(figsize=(10,10))\n",
    "    sns.set(font_scale=1)\n",
    "    sns.barplot(x=\"Value\", y=\"Feature\", data=feature_imp.sort_values(by=\"Value\",\n",
    "                                                                     ascending=False)[0:num])\n",
    "    plt.title(\"Features\")\n",
    "    plt.tight_layout()\n",
    "    plt.show()\n",
    "    if save:\n",
    "        plt.savefig(\"importance.png\")\n",
    "plot_importance(rf_model, X_train)"
   ]
  },
  {
   "cell_type": "code",
   "execution_count": null,
   "id": "08745fc8",
   "metadata": {},
   "outputs": [],
   "source": []
  }
 ],
 "metadata": {
  "kernelspec": {
   "display_name": "Python 3 (ipykernel)",
   "language": "python",
   "name": "python3"
  },
  "language_info": {
   "codemirror_mode": {
    "name": "ipython",
    "version": 3
   },
   "file_extension": ".py",
   "mimetype": "text/x-python",
   "name": "python",
   "nbconvert_exporter": "python",
   "pygments_lexer": "ipython3",
   "version": "3.9.7"
  }
 },
 "nbformat": 4,
 "nbformat_minor": 5
}
