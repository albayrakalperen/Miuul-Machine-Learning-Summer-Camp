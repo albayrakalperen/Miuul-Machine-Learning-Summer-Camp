{
 "cells": [
  {
   "cell_type": "code",
   "execution_count": 1,
   "id": "cf7262be",
   "metadata": {},
   "outputs": [],
   "source": [
    "import numpy as np\n",
    "import pandas as pd\n",
    "import seaborn as sns\n",
    "from matplotlib import pyplot as plt\n",
    "from datetime import date\n",
    "from sklearn.metrics import accuracy_score\n",
    "from sklearn.model_selection import train_test_split\n",
    "from sklearn.neighbors import LocalOutlierFactor\n",
    "from sklearn.preprocessing import MinMaxScaler, LabelEncoder, StandardScaler, RobustScaler\n",
    "from sklearn.ensemble import RandomForestClassifier"
   ]
  },
  {
   "cell_type": "code",
   "execution_count": 2,
   "id": "b87be8f9",
   "metadata": {},
   "outputs": [],
   "source": [
    "pd.set_option('expand_frame_repr', True)\n",
    "pd.set_option(\"display.max_rows\", 999)\n",
    "pd.set_option('max_colwidth',100)"
   ]
  },
  {
   "cell_type": "markdown",
   "id": "b471ca01",
   "metadata": {},
   "source": [
    "## TASK 1"
   ]
  },
  {
   "cell_type": "code",
   "execution_count": 3,
   "id": "23358165",
   "metadata": {},
   "outputs": [
    {
     "data": {
      "text/html": [
       "<div>\n",
       "<style scoped>\n",
       "    .dataframe tbody tr th:only-of-type {\n",
       "        vertical-align: middle;\n",
       "    }\n",
       "\n",
       "    .dataframe tbody tr th {\n",
       "        vertical-align: top;\n",
       "    }\n",
       "\n",
       "    .dataframe thead th {\n",
       "        text-align: right;\n",
       "    }\n",
       "</style>\n",
       "<table border=\"1\" class=\"dataframe\">\n",
       "  <thead>\n",
       "    <tr style=\"text-align: right;\">\n",
       "      <th></th>\n",
       "      <th>customerID</th>\n",
       "      <th>gender</th>\n",
       "      <th>SeniorCitizen</th>\n",
       "      <th>Partner</th>\n",
       "      <th>Dependents</th>\n",
       "      <th>tenure</th>\n",
       "      <th>PhoneService</th>\n",
       "      <th>MultipleLines</th>\n",
       "      <th>InternetService</th>\n",
       "      <th>OnlineSecurity</th>\n",
       "      <th>...</th>\n",
       "      <th>DeviceProtection</th>\n",
       "      <th>TechSupport</th>\n",
       "      <th>StreamingTV</th>\n",
       "      <th>StreamingMovies</th>\n",
       "      <th>Contract</th>\n",
       "      <th>PaperlessBilling</th>\n",
       "      <th>PaymentMethod</th>\n",
       "      <th>MonthlyCharges</th>\n",
       "      <th>TotalCharges</th>\n",
       "      <th>Churn</th>\n",
       "    </tr>\n",
       "  </thead>\n",
       "  <tbody>\n",
       "    <tr>\n",
       "      <th>0</th>\n",
       "      <td>7590-VHVEG</td>\n",
       "      <td>Female</td>\n",
       "      <td>0</td>\n",
       "      <td>Yes</td>\n",
       "      <td>No</td>\n",
       "      <td>1</td>\n",
       "      <td>No</td>\n",
       "      <td>No phone service</td>\n",
       "      <td>DSL</td>\n",
       "      <td>No</td>\n",
       "      <td>...</td>\n",
       "      <td>No</td>\n",
       "      <td>No</td>\n",
       "      <td>No</td>\n",
       "      <td>No</td>\n",
       "      <td>Month-to-month</td>\n",
       "      <td>Yes</td>\n",
       "      <td>Electronic check</td>\n",
       "      <td>29.85</td>\n",
       "      <td>29.85</td>\n",
       "      <td>No</td>\n",
       "    </tr>\n",
       "    <tr>\n",
       "      <th>1</th>\n",
       "      <td>5575-GNVDE</td>\n",
       "      <td>Male</td>\n",
       "      <td>0</td>\n",
       "      <td>No</td>\n",
       "      <td>No</td>\n",
       "      <td>34</td>\n",
       "      <td>Yes</td>\n",
       "      <td>No</td>\n",
       "      <td>DSL</td>\n",
       "      <td>Yes</td>\n",
       "      <td>...</td>\n",
       "      <td>Yes</td>\n",
       "      <td>No</td>\n",
       "      <td>No</td>\n",
       "      <td>No</td>\n",
       "      <td>One year</td>\n",
       "      <td>No</td>\n",
       "      <td>Mailed check</td>\n",
       "      <td>56.95</td>\n",
       "      <td>1889.5</td>\n",
       "      <td>No</td>\n",
       "    </tr>\n",
       "    <tr>\n",
       "      <th>2</th>\n",
       "      <td>3668-QPYBK</td>\n",
       "      <td>Male</td>\n",
       "      <td>0</td>\n",
       "      <td>No</td>\n",
       "      <td>No</td>\n",
       "      <td>2</td>\n",
       "      <td>Yes</td>\n",
       "      <td>No</td>\n",
       "      <td>DSL</td>\n",
       "      <td>Yes</td>\n",
       "      <td>...</td>\n",
       "      <td>No</td>\n",
       "      <td>No</td>\n",
       "      <td>No</td>\n",
       "      <td>No</td>\n",
       "      <td>Month-to-month</td>\n",
       "      <td>Yes</td>\n",
       "      <td>Mailed check</td>\n",
       "      <td>53.85</td>\n",
       "      <td>108.15</td>\n",
       "      <td>Yes</td>\n",
       "    </tr>\n",
       "    <tr>\n",
       "      <th>3</th>\n",
       "      <td>7795-CFOCW</td>\n",
       "      <td>Male</td>\n",
       "      <td>0</td>\n",
       "      <td>No</td>\n",
       "      <td>No</td>\n",
       "      <td>45</td>\n",
       "      <td>No</td>\n",
       "      <td>No phone service</td>\n",
       "      <td>DSL</td>\n",
       "      <td>Yes</td>\n",
       "      <td>...</td>\n",
       "      <td>Yes</td>\n",
       "      <td>Yes</td>\n",
       "      <td>No</td>\n",
       "      <td>No</td>\n",
       "      <td>One year</td>\n",
       "      <td>No</td>\n",
       "      <td>Bank transfer (automatic)</td>\n",
       "      <td>42.30</td>\n",
       "      <td>1840.75</td>\n",
       "      <td>No</td>\n",
       "    </tr>\n",
       "    <tr>\n",
       "      <th>4</th>\n",
       "      <td>9237-HQITU</td>\n",
       "      <td>Female</td>\n",
       "      <td>0</td>\n",
       "      <td>No</td>\n",
       "      <td>No</td>\n",
       "      <td>2</td>\n",
       "      <td>Yes</td>\n",
       "      <td>No</td>\n",
       "      <td>Fiber optic</td>\n",
       "      <td>No</td>\n",
       "      <td>...</td>\n",
       "      <td>No</td>\n",
       "      <td>No</td>\n",
       "      <td>No</td>\n",
       "      <td>No</td>\n",
       "      <td>Month-to-month</td>\n",
       "      <td>Yes</td>\n",
       "      <td>Electronic check</td>\n",
       "      <td>70.70</td>\n",
       "      <td>151.65</td>\n",
       "      <td>Yes</td>\n",
       "    </tr>\n",
       "  </tbody>\n",
       "</table>\n",
       "<p>5 rows × 21 columns</p>\n",
       "</div>"
      ],
      "text/plain": [
       "   customerID  gender  SeniorCitizen Partner Dependents  tenure PhoneService  \\\n",
       "0  7590-VHVEG  Female              0     Yes         No       1           No   \n",
       "1  5575-GNVDE    Male              0      No         No      34          Yes   \n",
       "2  3668-QPYBK    Male              0      No         No       2          Yes   \n",
       "3  7795-CFOCW    Male              0      No         No      45           No   \n",
       "4  9237-HQITU  Female              0      No         No       2          Yes   \n",
       "\n",
       "      MultipleLines InternetService OnlineSecurity  ... DeviceProtection  \\\n",
       "0  No phone service             DSL             No  ...               No   \n",
       "1                No             DSL            Yes  ...              Yes   \n",
       "2                No             DSL            Yes  ...               No   \n",
       "3  No phone service             DSL            Yes  ...              Yes   \n",
       "4                No     Fiber optic             No  ...               No   \n",
       "\n",
       "  TechSupport StreamingTV StreamingMovies        Contract PaperlessBilling  \\\n",
       "0          No          No              No  Month-to-month              Yes   \n",
       "1          No          No              No        One year               No   \n",
       "2          No          No              No  Month-to-month              Yes   \n",
       "3         Yes          No              No        One year               No   \n",
       "4          No          No              No  Month-to-month              Yes   \n",
       "\n",
       "               PaymentMethod MonthlyCharges  TotalCharges Churn  \n",
       "0           Electronic check          29.85         29.85    No  \n",
       "1               Mailed check          56.95        1889.5    No  \n",
       "2               Mailed check          53.85        108.15   Yes  \n",
       "3  Bank transfer (automatic)          42.30       1840.75    No  \n",
       "4           Electronic check          70.70        151.65   Yes  \n",
       "\n",
       "[5 rows x 21 columns]"
      ]
     },
     "execution_count": 3,
     "metadata": {},
     "output_type": "execute_result"
    }
   ],
   "source": [
    "df = pd.read_csv('Telco-Customer-Churn.csv')\n",
    "df.head()"
   ]
  },
  {
   "cell_type": "code",
   "execution_count": 4,
   "id": "850ffe3e",
   "metadata": {},
   "outputs": [],
   "source": [
    "def check_df(dataframe, head=8):\n",
    "  print(\"##### Shape #####\")\n",
    "  print(dataframe.shape)\n",
    "  print(\"\\n##### Types #####\")\n",
    "  print(dataframe.dtypes)\n",
    "  print(\"\\n##### Tail #####\")\n",
    "  print(dataframe.tail(head))\n",
    "  print(\"\\n##### Head #####\")\n",
    "  print(dataframe.head(head))\n",
    "  print(\"\\n##### Null Analysis #####\")\n",
    "  print(dataframe.isnull().sum())\n",
    "  print(\"\\n##### Quantiles #####\")\n",
    "  print(dataframe.describe([0,0.05, 0.50, 0.95, 0.99, 1]).T)"
   ]
  },
  {
   "cell_type": "code",
   "execution_count": 5,
   "id": "a724e288",
   "metadata": {
    "scrolled": true
   },
   "outputs": [
    {
     "name": "stdout",
     "output_type": "stream",
     "text": [
      "##### Shape #####\n",
      "(7043, 21)\n",
      "\n",
      "##### Types #####\n",
      "customerID           object\n",
      "gender               object\n",
      "SeniorCitizen         int64\n",
      "Partner              object\n",
      "Dependents           object\n",
      "tenure                int64\n",
      "PhoneService         object\n",
      "MultipleLines        object\n",
      "InternetService      object\n",
      "OnlineSecurity       object\n",
      "OnlineBackup         object\n",
      "DeviceProtection     object\n",
      "TechSupport          object\n",
      "StreamingTV          object\n",
      "StreamingMovies      object\n",
      "Contract             object\n",
      "PaperlessBilling     object\n",
      "PaymentMethod        object\n",
      "MonthlyCharges      float64\n",
      "TotalCharges         object\n",
      "Churn                object\n",
      "dtype: object\n",
      "\n",
      "##### Tail #####\n",
      "      customerID  gender  SeniorCitizen Partner Dependents  tenure  \\\n",
      "7035  8456-QDAVC    Male              0      No         No      19   \n",
      "7036  7750-EYXWZ  Female              0      No         No      12   \n",
      "7037  2569-WGERO  Female              0      No         No      72   \n",
      "7038  6840-RESVB    Male              0     Yes        Yes      24   \n",
      "7039  2234-XADUH  Female              0     Yes        Yes      72   \n",
      "7040  4801-JZAZL  Female              0     Yes        Yes      11   \n",
      "7041  8361-LTMKD    Male              1     Yes         No       4   \n",
      "7042  3186-AJIEK    Male              0      No         No      66   \n",
      "\n",
      "     PhoneService     MultipleLines InternetService       OnlineSecurity  ...  \\\n",
      "7035          Yes                No     Fiber optic                   No  ...   \n",
      "7036           No  No phone service             DSL                   No  ...   \n",
      "7037          Yes                No              No  No internet service  ...   \n",
      "7038          Yes               Yes             DSL                  Yes  ...   \n",
      "7039          Yes               Yes     Fiber optic                   No  ...   \n",
      "7040           No  No phone service             DSL                  Yes  ...   \n",
      "7041          Yes               Yes     Fiber optic                   No  ...   \n",
      "7042          Yes                No     Fiber optic                  Yes  ...   \n",
      "\n",
      "         DeviceProtection          TechSupport          StreamingTV  \\\n",
      "7035                   No                   No                  Yes   \n",
      "7036                  Yes                  Yes                  Yes   \n",
      "7037  No internet service  No internet service  No internet service   \n",
      "7038                  Yes                  Yes                  Yes   \n",
      "7039                  Yes                   No                  Yes   \n",
      "7040                   No                   No                   No   \n",
      "7041                   No                   No                   No   \n",
      "7042                  Yes                  Yes                  Yes   \n",
      "\n",
      "          StreamingMovies        Contract PaperlessBilling  \\\n",
      "7035                   No  Month-to-month              Yes   \n",
      "7036                  Yes        One year               No   \n",
      "7037  No internet service        Two year              Yes   \n",
      "7038                  Yes        One year              Yes   \n",
      "7039                  Yes        One year              Yes   \n",
      "7040                   No  Month-to-month              Yes   \n",
      "7041                   No  Month-to-month              Yes   \n",
      "7042                  Yes        Two year              Yes   \n",
      "\n",
      "                  PaymentMethod MonthlyCharges  TotalCharges Churn  \n",
      "7035  Bank transfer (automatic)          78.70        1495.1    No  \n",
      "7036           Electronic check          60.65         743.3    No  \n",
      "7037  Bank transfer (automatic)          21.15        1419.4    No  \n",
      "7038               Mailed check          84.80        1990.5    No  \n",
      "7039    Credit card (automatic)         103.20        7362.9    No  \n",
      "7040           Electronic check          29.60        346.45    No  \n",
      "7041               Mailed check          74.40         306.6   Yes  \n",
      "7042  Bank transfer (automatic)         105.65        6844.5    No  \n",
      "\n",
      "[8 rows x 21 columns]\n",
      "\n",
      "##### Head #####\n",
      "   customerID  gender  SeniorCitizen Partner Dependents  tenure PhoneService  \\\n",
      "0  7590-VHVEG  Female              0     Yes         No       1           No   \n",
      "1  5575-GNVDE    Male              0      No         No      34          Yes   \n",
      "2  3668-QPYBK    Male              0      No         No       2          Yes   \n",
      "3  7795-CFOCW    Male              0      No         No      45           No   \n",
      "4  9237-HQITU  Female              0      No         No       2          Yes   \n",
      "5  9305-CDSKC  Female              0      No         No       8          Yes   \n",
      "6  1452-KIOVK    Male              0      No        Yes      22          Yes   \n",
      "7  6713-OKOMC  Female              0      No         No      10           No   \n",
      "\n",
      "      MultipleLines InternetService OnlineSecurity  ... DeviceProtection  \\\n",
      "0  No phone service             DSL             No  ...               No   \n",
      "1                No             DSL            Yes  ...              Yes   \n",
      "2                No             DSL            Yes  ...               No   \n",
      "3  No phone service             DSL            Yes  ...              Yes   \n",
      "4                No     Fiber optic             No  ...               No   \n",
      "5               Yes     Fiber optic             No  ...              Yes   \n",
      "6               Yes     Fiber optic             No  ...               No   \n",
      "7  No phone service             DSL            Yes  ...               No   \n",
      "\n",
      "  TechSupport StreamingTV StreamingMovies        Contract PaperlessBilling  \\\n",
      "0          No          No              No  Month-to-month              Yes   \n",
      "1          No          No              No        One year               No   \n",
      "2          No          No              No  Month-to-month              Yes   \n",
      "3         Yes          No              No        One year               No   \n",
      "4          No          No              No  Month-to-month              Yes   \n",
      "5          No         Yes             Yes  Month-to-month              Yes   \n",
      "6          No         Yes              No  Month-to-month              Yes   \n",
      "7          No          No              No  Month-to-month               No   \n",
      "\n",
      "               PaymentMethod MonthlyCharges  TotalCharges Churn  \n",
      "0           Electronic check          29.85         29.85    No  \n",
      "1               Mailed check          56.95        1889.5    No  \n",
      "2               Mailed check          53.85        108.15   Yes  \n",
      "3  Bank transfer (automatic)          42.30       1840.75    No  \n",
      "4           Electronic check          70.70        151.65   Yes  \n",
      "5           Electronic check          99.65         820.5   Yes  \n",
      "6    Credit card (automatic)          89.10        1949.4    No  \n",
      "7               Mailed check          29.75         301.9    No  \n",
      "\n",
      "[8 rows x 21 columns]\n",
      "\n",
      "##### Null Analysis #####\n",
      "customerID          0\n",
      "gender              0\n",
      "SeniorCitizen       0\n",
      "Partner             0\n",
      "Dependents          0\n",
      "tenure              0\n",
      "PhoneService        0\n",
      "MultipleLines       0\n",
      "InternetService     0\n",
      "OnlineSecurity      0\n",
      "OnlineBackup        0\n",
      "DeviceProtection    0\n",
      "TechSupport         0\n",
      "StreamingTV         0\n",
      "StreamingMovies     0\n",
      "Contract            0\n",
      "PaperlessBilling    0\n",
      "PaymentMethod       0\n",
      "MonthlyCharges      0\n",
      "TotalCharges        0\n",
      "Churn               0\n",
      "dtype: int64\n",
      "\n",
      "##### Quantiles #####\n",
      "                 count       mean        std    min     0%     5%    50%  \\\n",
      "SeniorCitizen   7043.0   0.162147   0.368612   0.00   0.00   0.00   0.00   \n",
      "tenure          7043.0  32.371149  24.559481   0.00   0.00   1.00  29.00   \n",
      "MonthlyCharges  7043.0  64.761692  30.090047  18.25  18.25  19.65  70.35   \n",
      "\n",
      "                  95%      99%    100%     max  \n",
      "SeniorCitizen     1.0    1.000    1.00    1.00  \n",
      "tenure           72.0   72.000   72.00   72.00  \n",
      "MonthlyCharges  107.4  114.729  118.75  118.75  \n"
     ]
    }
   ],
   "source": [
    "check_df(df)"
   ]
  },
  {
   "cell_type": "code",
   "execution_count": 6,
   "id": "beb58e68",
   "metadata": {},
   "outputs": [
    {
     "data": {
      "text/plain": [
       "0                      No\n",
       "1                     Yes\n",
       "2                     Yes\n",
       "3                     Yes\n",
       "4                      No\n",
       "5                      No\n",
       "6                      No\n",
       "7                     Yes\n",
       "8                      No\n",
       "9                     Yes\n",
       "10                    Yes\n",
       "11    No internet service\n",
       "12                     No\n",
       "13                     No\n",
       "14                    Yes\n",
       "15                    Yes\n",
       "16    No internet service\n",
       "17                    Yes\n",
       "18                     No\n",
       "19                     No\n",
       "Name: OnlineSecurity, dtype: object"
      ]
     },
     "execution_count": 6,
     "metadata": {},
     "output_type": "execute_result"
    }
   ],
   "source": [
    "df['OnlineSecurity'].head(20)"
   ]
  },
  {
   "cell_type": "code",
   "execution_count": 7,
   "id": "a1acd1a2",
   "metadata": {},
   "outputs": [],
   "source": [
    "df.columns = [col.upper() for col in df.columns]"
   ]
  },
  {
   "cell_type": "markdown",
   "id": "66c7c86b",
   "metadata": {},
   "source": [
    "## TASK 2"
   ]
  },
  {
   "cell_type": "code",
   "execution_count": 8,
   "id": "1b2e3fd2",
   "metadata": {},
   "outputs": [],
   "source": [
    "def grab_col_names(dataframe, cat_th=10, car_th=20):\n",
    "    cat_cols = [col for col in dataframe.columns if dataframe[col].dtype == 'O']\n",
    "\n",
    "    num_but_cat = [col for col in dataframe.columns if dataframe[col].nunique() < cat_th and\n",
    "                   dataframe[col].dtype != 'O']\n",
    "\n",
    "    cat_but_car = [col for col in dataframe.columns if dataframe[col].nunique() > car_th and\n",
    "                   dataframe[col].dtype == 'O']\n",
    "\n",
    "    cat_cols = cat_cols + num_but_cat\n",
    "\n",
    "    cat_cols = [col for col in cat_cols if col not in cat_but_car]\n",
    "\n",
    "    # num_cols\n",
    "    num_cols = [col for col in dataframe.columns if dataframe[col].dtype != 'O']\n",
    "\n",
    "    num_cols = [col for col in num_cols if col not in num_but_cat]\n",
    "\n",
    "    print(f\"Observations: {dataframe.shape[0]}\")\n",
    "    print(f\"Variables: {dataframe.shape[1]}\")\n",
    "    print(f'cat_cols: {len(cat_cols)}')\n",
    "    print(f'num_cols: {len(num_cols)}')\n",
    "    print(f'cat_but_car: {len(cat_but_car)}')\n",
    "    print(f'num_but_cat: {len(num_but_cat)}')\n",
    "    return cat_cols, num_cols, cat_but_car"
   ]
  },
  {
   "cell_type": "code",
   "execution_count": 9,
   "id": "53b7add4",
   "metadata": {},
   "outputs": [
    {
     "name": "stdout",
     "output_type": "stream",
     "text": [
      "Observations: 7043\n",
      "Variables: 21\n",
      "cat_cols: 17\n",
      "num_cols: 2\n",
      "cat_but_car: 2\n",
      "num_but_cat: 1\n"
     ]
    }
   ],
   "source": [
    "cat_cols, num_cols, cat_but_car = grab_col_names(df)"
   ]
  },
  {
   "cell_type": "markdown",
   "id": "2e00d9cb",
   "metadata": {},
   "source": [
    "## TASK 3"
   ]
  },
  {
   "cell_type": "code",
   "execution_count": 10,
   "id": "e574148c",
   "metadata": {},
   "outputs": [],
   "source": [
    "def num_summary(dataframe, num_col, plot=False):\n",
    "    quantiles = [0.05, 0.10, 0.20, 0.30, 0.40, 0.50, 0.60, 0.70, 0.80, 0.90, 0.95, 0.99]\n",
    "    print(dataframe[num_col].describe(quantiles).T)\n",
    "    if plot:\n",
    "        dataframe[num_col].hist()\n",
    "        plt.xlabel(num_col)\n",
    "        plt.title(num_col)\n",
    "        plt.show(block=True)"
   ]
  },
  {
   "cell_type": "code",
   "execution_count": 11,
   "id": "ad543cec",
   "metadata": {},
   "outputs": [
    {
     "name": "stdout",
     "output_type": "stream",
     "text": [
      "count    7043.000000\n",
      "mean       32.371149\n",
      "std        24.559481\n",
      "min         0.000000\n",
      "5%          1.000000\n",
      "10%         2.000000\n",
      "20%         6.000000\n",
      "30%        12.000000\n",
      "40%        20.000000\n",
      "50%        29.000000\n",
      "60%        40.000000\n",
      "70%        50.000000\n",
      "80%        60.000000\n",
      "90%        69.000000\n",
      "95%        72.000000\n",
      "99%        72.000000\n",
      "max        72.000000\n",
      "Name: TENURE, dtype: float64\n"
     ]
    },
    {
     "data": {
      "image/png": "[encoded data removed]",
      "text/plain": [
       "<Figure size 432x288 with 1 Axes>"
      ]
     },
     "metadata": {
      "needs_background": "light"
     },
     "output_type": "display_data"
    },
    {
     "name": "stdout",
     "output_type": "stream",
     "text": [
      "count    7043.000000\n",
      "mean       64.761692\n",
      "std        30.090047\n",
      "min        18.250000\n",
      "5%         19.650000\n",
      "10%        20.050000\n",
      "20%        25.050000\n",
      "30%        45.850000\n",
      "40%        58.830000\n",
      "50%        70.350000\n",
      "60%        79.100000\n",
      "70%        85.500000\n",
      "80%        94.250000\n",
      "90%       102.600000\n",
      "95%       107.400000\n",
      "99%       114.729000\n",
      "max       118.750000\n",
      "Name: MONTHLYCHARGES, dtype: float64\n"
     ]
    },
    {
     "data": {
      "image/png": "[encoded data removed]",
      "text/plain": [
       "<Figure size 432x288 with 1 Axes>"
      ]
     },
     "metadata": {
      "needs_background": "light"
     },
     "output_type": "display_data"
    }
   ],
   "source": [
    "for col in num_cols:\n",
    "    num_summary(df, col, True)"
   ]
  },
  {
   "cell_type": "code",
   "execution_count": 12,
   "id": "f3a83d49",
   "metadata": {},
   "outputs": [],
   "source": [
    "def cat_summary(dataframe, cat_col, plot=False):\n",
    "    print(pd.DataFrame({cat_col: dataframe[cat_col].value_counts(),\n",
    "                        \"Ratio\": 100 * dataframe[cat_col].value_counts() / len(dataframe)}))\n",
    "    print(\"##########################################\")\n",
    "\n",
    "    if plot:\n",
    "        sns.countplot(x=dataframe[cat_col], data=dataframe)\n",
    "        plt.show(block=True)"
   ]
  },
  {
   "cell_type": "code",
   "execution_count": 13,
   "id": "7cb083da",
   "metadata": {
    "scrolled": true
   },
   "outputs": [
    {
     "name": "stdout",
     "output_type": "stream",
     "text": [
      "        GENDER     Ratio\n",
      "Male      3555  50.47565\n",
      "Female    3488  49.52435\n",
      "##########################################\n"
     ]
    },
    {
     "data": {
      "image/png": "[encoded data removed]",
      "text/plain": [
       "<Figure size 432x288 with 1 Axes>"
      ]
     },
     "metadata": {
      "needs_background": "light"
     },
     "output_type": "display_data"
    },
    {
     "name": "stdout",
     "output_type": "stream",
     "text": [
      "     PARTNER     Ratio\n",
      "No      3641  51.69672\n",
      "Yes     3402  48.30328\n",
      "##########################################\n"
     ]
    },
    {
     "data": {
      "image/png": "[encoded data removed]",
      "text/plain": [
       "<Figure size 432x288 with 1 Axes>"
      ]
     },
     "metadata": {
      "needs_background": "light"
     },
     "output_type": "display_data"
    },
    {
     "name": "stdout",
     "output_type": "stream",
     "text": [
      "     DEPENDENTS      Ratio\n",
      "No         4933  70.041176\n",
      "Yes        2110  29.958824\n",
      "##########################################\n"
     ]
    },
    {
     "data": {
      "image/png": "[encoded data removed]",
      "text/plain": [
       "<Figure size 432x288 with 1 Axes>"
      ]
     },
     "metadata": {
      "needs_background": "light"
     },
     "output_type": "display_data"
    },
    {
     "name": "stdout",
     "output_type": "stream",
     "text": [
      "     PHONESERVICE      Ratio\n",
      "Yes          6361  90.316626\n",
      "No            682   9.683374\n",
      "##########################################\n"
     ]
    },
    {
     "data": {
      "image/png": "[encoded data removed]",
      "text/plain": [
       "<Figure size 432x288 with 1 Axes>"
      ]
     },
     "metadata": {
      "needs_background": "light"
     },
     "output_type": "display_data"
    },
    {
     "name": "stdout",
     "output_type": "stream",
     "text": [
      "                  MULTIPLELINES      Ratio\n",
      "No                         3390  48.132898\n",
      "Yes                        2971  42.183729\n",
      "No phone service            682   9.683374\n",
      "##########################################\n"
     ]
    },
    {
     "data": {
      "image/png": "[encoded data removed]",
      "text/plain": [
       "<Figure size 432x288 with 1 Axes>"
      ]
     },
     "metadata": {
      "needs_background": "light"
     },
     "output_type": "display_data"
    },
    {
     "name": "stdout",
     "output_type": "stream",
     "text": [
      "             INTERNETSERVICE      Ratio\n",
      "Fiber optic             3096  43.958540\n",
      "DSL                     2421  34.374556\n",
      "No                      1526  21.666903\n",
      "##########################################\n"
     ]
    },
    {
     "data": {
      "image/png": "[encoded data removed]",
      "text/plain": [
       "<Figure size 432x288 with 1 Axes>"
      ]
     },
     "metadata": {
      "needs_background": "light"
     },
     "output_type": "display_data"
    },
    {
     "name": "stdout",
     "output_type": "stream",
     "text": [
      "                     ONLINESECURITY      Ratio\n",
      "No                             3498  49.666335\n",
      "Yes                            2019  28.666761\n",
      "No internet service            1526  21.666903\n",
      "##########################################\n"
     ]
    },
    {
     "data": {
      "image/png": "[encoded data removed]",
      "text/plain": [
       "<Figure size 432x288 with 1 Axes>"
      ]
     },
     "metadata": {
      "needs_background": "light"
     },
     "output_type": "display_data"
    },
    {
     "name": "stdout",
     "output_type": "stream",
     "text": [
      "                     ONLINEBACKUP      Ratio\n",
      "No                           3088  43.844952\n",
      "Yes                          2429  34.488144\n",
      "No internet service          1526  21.666903\n",
      "##########################################\n"
     ]
    },
    {
     "data": {
      "image/png": "[encoded data removed]",
      "text/plain": [
       "<Figure size 432x288 with 1 Axes>"
      ]
     },
     "metadata": {
      "needs_background": "light"
     },
     "output_type": "display_data"
    },
    {
     "name": "stdout",
     "output_type": "stream",
     "text": [
      "                     DEVICEPROTECTION      Ratio\n",
      "No                               3095  43.944342\n",
      "Yes                              2422  34.388755\n",
      "No internet service              1526  21.666903\n",
      "##########################################\n"
     ]
    },
    {
     "data": {
      "image/png": "[encoded data removed]",
      "text/plain": [
       "<Figure size 432x288 with 1 Axes>"
      ]
     },
     "metadata": {
      "needs_background": "light"
     },
     "output_type": "display_data"
    },
    {
     "name": "stdout",
     "output_type": "stream",
     "text": [
      "                     TECHSUPPORT      Ratio\n",
      "No                          3473  49.311373\n",
      "Yes                         2044  29.021724\n",
      "No internet service         1526  21.666903\n",
      "##########################################\n"
     ]
    },
    {
     "data": {
      "image/png": "[encoded data removed]",
      "text/plain": [
       "<Figure size 432x288 with 1 Axes>"
      ]
     },
     "metadata": {
      "needs_background": "light"
     },
     "output_type": "display_data"
    },
    {
     "name": "stdout",
     "output_type": "stream",
     "text": [
      "                     STREAMINGTV      Ratio\n",
      "No                          2810  39.897771\n",
      "Yes                         2707  38.435326\n",
      "No internet service         1526  21.666903\n",
      "##########################################\n"
     ]
    },
    {
     "data": {
      "image/png": "[encoded data removed]",
      "text/plain": [
       "<Figure size 432x288 with 1 Axes>"
      ]
     },
     "metadata": {
      "needs_background": "light"
     },
     "output_type": "display_data"
    },
    {
     "name": "stdout",
     "output_type": "stream",
     "text": [
      "                     STREAMINGMOVIES      Ratio\n",
      "No                              2785  39.542808\n",
      "Yes                             2732  38.790288\n",
      "No internet service             1526  21.666903\n",
      "##########################################\n"
     ]
    },
    {
     "data": {
      "image/png": "[encoded data removed]",
      "text/plain": [
       "<Figure size 432x288 with 1 Axes>"
      ]
     },
     "metadata": {
      "needs_background": "light"
     },
     "output_type": "display_data"
    },
    {
     "name": "stdout",
     "output_type": "stream",
     "text": [
      "                CONTRACT      Ratio\n",
      "Month-to-month      3875  55.019168\n",
      "Two year            1695  24.066449\n",
      "One year            1473  20.914383\n",
      "##########################################\n"
     ]
    },
    {
     "data": {
      "image/png": "[encoded data removed]",
      "text/plain": [
       "<Figure size 432x288 with 1 Axes>"
      ]
     },
     "metadata": {
      "needs_background": "light"
     },
     "output_type": "display_data"
    },
    {
     "name": "stdout",
     "output_type": "stream",
     "text": [
      "     PAPERLESSBILLING      Ratio\n",
      "Yes              4171  59.221922\n",
      "No               2872  40.778078\n",
      "##########################################\n"
     ]
    },
    {
     "data": {
      "image/png": "[encoded data removed]",
      "text/plain": [
       "<Figure size 432x288 with 1 Axes>"
      ]
     },
     "metadata": {
      "needs_background": "light"
     },
     "output_type": "display_data"
    },
    {
     "name": "stdout",
     "output_type": "stream",
     "text": [
      "                           PAYMENTMETHOD      Ratio\n",
      "Electronic check                    2365  33.579441\n",
      "Mailed check                        1612  22.887974\n",
      "Bank transfer (automatic)           1544  21.922476\n",
      "Credit card (automatic)             1522  21.610109\n",
      "##########################################\n"
     ]
    },
    {
     "data": {
      "image/png": "[encoded data removed]",
      "text/plain": [
       "<Figure size 432x288 with 1 Axes>"
      ]
     },
     "metadata": {
      "needs_background": "light"
     },
     "output_type": "display_data"
    },
    {
     "name": "stdout",
     "output_type": "stream",
     "text": [
      "     CHURN      Ratio\n",
      "No    5174  73.463013\n",
      "Yes   1869  26.536987\n",
      "##########################################\n"
     ]
    },
    {
     "data": {
      "image/png": "[encoded data removed]",
      "text/plain": [
       "<Figure size 432x288 with 1 Axes>"
      ]
     },
     "metadata": {
      "needs_background": "light"
     },
     "output_type": "display_data"
    },
    {
     "name": "stdout",
     "output_type": "stream",
     "text": [
      "   SENIORCITIZEN      Ratio\n",
      "0           5901  83.785319\n",
      "1           1142  16.214681\n",
      "##########################################\n"
     ]
    },
    {
     "data": {
      "image/png": "[encoded data removed]",
      "text/plain": [
       "<Figure size 432x288 with 1 Axes>"
      ]
     },
     "metadata": {
      "needs_background": "light"
     },
     "output_type": "display_data"
    }
   ],
   "source": [
    "for col in cat_cols:\n",
    "    cat_summary(df, col, True)"
   ]
  },
  {
   "cell_type": "markdown",
   "id": "6adac7e2",
   "metadata": {},
   "source": [
    "## TASK 4"
   ]
  },
  {
   "cell_type": "code",
   "execution_count": 14,
   "id": "e6994d21",
   "metadata": {},
   "outputs": [],
   "source": [
    "def target_summary_with_cat(dataframe, target, cat_col):\n",
    "    print(pd.DataFrame({\"TARGET_MEAN\": dataframe.groupby(cat_col)[target].mean()}), end=\"\\n\\n\\n\")"
   ]
  },
  {
   "cell_type": "code",
   "execution_count": 15,
   "id": "83d15b8b",
   "metadata": {},
   "outputs": [],
   "source": [
    "def target_summary_with_num(dataframe, target, num_col):\n",
    "    print(dataframe.groupby(target).agg({num_col: \"mean\"}), end=\"\\n\\n\\n\")"
   ]
  },
  {
   "cell_type": "code",
   "execution_count": 16,
   "id": "b43c4e31",
   "metadata": {},
   "outputs": [],
   "source": [
    "df['CHURN'] = np.where((df['CHURN'] == 'Yes'), 1, 0)"
   ]
  },
  {
   "cell_type": "code",
   "execution_count": 17,
   "id": "61f18648",
   "metadata": {},
   "outputs": [
    {
     "name": "stdout",
     "output_type": "stream",
     "text": [
      "        TARGET_MEAN\n",
      "GENDER             \n",
      "Female     0.269209\n",
      "Male       0.261603\n",
      "\n",
      "\n",
      "         TARGET_MEAN\n",
      "PARTNER             \n",
      "No          0.329580\n",
      "Yes         0.196649\n",
      "\n",
      "\n",
      "            TARGET_MEAN\n",
      "DEPENDENTS             \n",
      "No             0.312791\n",
      "Yes            0.154502\n",
      "\n",
      "\n",
      "              TARGET_MEAN\n",
      "PHONESERVICE             \n",
      "No               0.249267\n",
      "Yes              0.267096\n",
      "\n",
      "\n",
      "                  TARGET_MEAN\n",
      "MULTIPLELINES                \n",
      "No                   0.250442\n",
      "No phone service     0.249267\n",
      "Yes                  0.286099\n",
      "\n",
      "\n",
      "                 TARGET_MEAN\n",
      "INTERNETSERVICE             \n",
      "DSL                 0.189591\n",
      "Fiber optic         0.418928\n",
      "No                  0.074050\n",
      "\n",
      "\n",
      "                     TARGET_MEAN\n",
      "ONLINESECURITY                  \n",
      "No                      0.417667\n",
      "No internet service     0.074050\n",
      "Yes                     0.146112\n",
      "\n",
      "\n",
      "                     TARGET_MEAN\n",
      "ONLINEBACKUP                    \n",
      "No                      0.399288\n",
      "No internet service     0.074050\n",
      "Yes                     0.215315\n",
      "\n",
      "\n",
      "                     TARGET_MEAN\n",
      "DEVICEPROTECTION                \n",
      "No                      0.391276\n",
      "No internet service     0.074050\n",
      "Yes                     0.225021\n",
      "\n",
      "\n",
      "                     TARGET_MEAN\n",
      "TECHSUPPORT                     \n",
      "No                      0.416355\n",
      "No internet service     0.074050\n",
      "Yes                     0.151663\n",
      "\n",
      "\n",
      "                     TARGET_MEAN\n",
      "STREAMINGTV                     \n",
      "No                      0.335231\n",
      "No internet service     0.074050\n",
      "Yes                     0.300702\n",
      "\n",
      "\n",
      "                     TARGET_MEAN\n",
      "STREAMINGMOVIES                 \n",
      "No                      0.336804\n",
      "No internet service     0.074050\n",
      "Yes                     0.299414\n",
      "\n",
      "\n",
      "                TARGET_MEAN\n",
      "CONTRACT                   \n",
      "Month-to-month     0.427097\n",
      "One year           0.112695\n",
      "Two year           0.028319\n",
      "\n",
      "\n",
      "                  TARGET_MEAN\n",
      "PAPERLESSBILLING             \n",
      "No                   0.163301\n",
      "Yes                  0.335651\n",
      "\n",
      "\n",
      "                           TARGET_MEAN\n",
      "PAYMENTMETHOD                         \n",
      "Bank transfer (automatic)     0.167098\n",
      "Credit card (automatic)       0.152431\n",
      "Electronic check              0.452854\n",
      "Mailed check                  0.191067\n",
      "\n",
      "\n",
      "       TARGET_MEAN\n",
      "CHURN             \n",
      "0              0.0\n",
      "1              1.0\n",
      "\n",
      "\n",
      "               TARGET_MEAN\n",
      "SENIORCITIZEN             \n",
      "0                 0.236062\n",
      "1                 0.416813\n",
      "\n",
      "\n"
     ]
    }
   ],
   "source": [
    "for col in cat_cols:\n",
    "    target_summary_with_cat(df, 'CHURN', col)"
   ]
  },
  {
   "cell_type": "code",
   "execution_count": 18,
   "id": "5b2f236d",
   "metadata": {},
   "outputs": [
    {
     "name": "stdout",
     "output_type": "stream",
     "text": [
      "          TENURE\n",
      "CHURN           \n",
      "0      37.569965\n",
      "1      17.979133\n",
      "\n",
      "\n",
      "       MONTHLYCHARGES\n",
      "CHURN                \n",
      "0           61.265124\n",
      "1           74.441332\n",
      "\n",
      "\n"
     ]
    }
   ],
   "source": [
    "for col in num_cols:\n",
    "    target_summary_with_num(df, 'CHURN', col)"
   ]
  },
  {
   "cell_type": "code",
   "execution_count": 19,
   "id": "e5d707ef",
   "metadata": {},
   "outputs": [
    {
     "name": "stdout",
     "output_type": "stream",
     "text": [
      "Observations: 7043\n",
      "Variables: 21\n",
      "cat_cols: 17\n",
      "num_cols: 2\n",
      "cat_but_car: 2\n",
      "num_but_cat: 2\n"
     ]
    }
   ],
   "source": [
    "cat_cols, num_cols, cat_but_car = grab_col_names(df)"
   ]
  },
  {
   "cell_type": "markdown",
   "id": "cb394350",
   "metadata": {},
   "source": [
    "## TASK 5"
   ]
  },
  {
   "cell_type": "code",
   "execution_count": 20,
   "id": "799c3218",
   "metadata": {},
   "outputs": [],
   "source": [
    "def outlier_thresholds(dataframe, col_name, q1=0.25, q3=0.75):\n",
    "    quartile1 = dataframe[col_name].quantile(q1)\n",
    "    quartile3 = dataframe[col_name].quantile(q3)\n",
    "    interquantile_range = quartile3 - quartile1\n",
    "    up_limit = quartile3 + 1.5 * interquantile_range\n",
    "    low_limit = quartile1 - 1.5 * interquantile_range\n",
    "    return low_limit, up_limit"
   ]
  },
  {
   "cell_type": "code",
   "execution_count": 21,
   "id": "b1e2d3e1",
   "metadata": {},
   "outputs": [],
   "source": [
    "def check_outlier(dataframe, col_name):\n",
    "    low_limit, up_limit = outlier_thresholds(dataframe, col_name)\n",
    "    if dataframe[(dataframe[col_name] > up_limit) | (dataframe[col_name] < low_limit)].any(axis=None):\n",
    "        return True\n",
    "    else:\n",
    "        return False"
   ]
  },
  {
   "cell_type": "code",
   "execution_count": 22,
   "id": "d7da4636",
   "metadata": {},
   "outputs": [],
   "source": [
    "def grab_outliers(dataframe, col_name, index=False):\n",
    "    low, up = outlier_thresholds(dataframe,col_name)\n",
    "    outlier_df = dataframe[(dataframe[col_name] < low) | (dataframe[col_name] > up)]\n",
    "\n",
    "    if outlier_df.shape[0] > 10:\n",
    "        print(outlier_df.head())\n",
    "    else:\n",
    "        print(outlier_df)\n",
    "\n",
    "    if index:\n",
    "        return outlier_df.index"
   ]
  },
  {
   "cell_type": "code",
   "execution_count": 23,
   "id": "7bd242ae",
   "metadata": {},
   "outputs": [
    {
     "name": "stdout",
     "output_type": "stream",
     "text": [
      "TENURE False\n",
      "MONTHLYCHARGES False\n"
     ]
    }
   ],
   "source": [
    "for col in num_cols:\n",
    "    print(col, check_outlier(df, col))"
   ]
  },
  {
   "cell_type": "code",
   "execution_count": 24,
   "id": "2ca1fec9",
   "metadata": {},
   "outputs": [
    {
     "name": "stdout",
     "output_type": "stream",
     "text": [
      "TENURE (-60.0, 124.0)\n",
      "MONTHLYCHARGES (-46.02499999999999, 171.375)\n"
     ]
    }
   ],
   "source": [
    "for col in num_cols:\n",
    "    print(col, outlier_thresholds(df, col))"
   ]
  },
  {
   "cell_type": "code",
   "execution_count": 25,
   "id": "ad6715fd",
   "metadata": {},
   "outputs": [
    {
     "name": "stdout",
     "output_type": "stream",
     "text": [
      "\n",
      "#####TENURE#####\n",
      "Empty DataFrame\n",
      "Columns: [CUSTOMERID, GENDER, SENIORCITIZEN, PARTNER, DEPENDENTS, TENURE, PHONESERVICE, MULTIPLELINES, INTERNETSERVICE, ONLINESECURITY, ONLINEBACKUP, DEVICEPROTECTION, TECHSUPPORT, STREAMINGTV, STREAMINGMOVIES, CONTRACT, PAPERLESSBILLING, PAYMENTMETHOD, MONTHLYCHARGES, TOTALCHARGES, CHURN]\n",
      "Index: []\n",
      "\n",
      "[0 rows x 21 columns]\n",
      "None\n",
      "\n",
      "#####MONTHLYCHARGES#####\n",
      "Empty DataFrame\n",
      "Columns: [CUSTOMERID, GENDER, SENIORCITIZEN, PARTNER, DEPENDENTS, TENURE, PHONESERVICE, MULTIPLELINES, INTERNETSERVICE, ONLINESECURITY, ONLINEBACKUP, DEVICEPROTECTION, TECHSUPPORT, STREAMINGTV, STREAMINGMOVIES, CONTRACT, PAPERLESSBILLING, PAYMENTMETHOD, MONTHLYCHARGES, TOTALCHARGES, CHURN]\n",
      "Index: []\n",
      "\n",
      "[0 rows x 21 columns]\n",
      "None\n"
     ]
    }
   ],
   "source": [
    "for col in num_cols:\n",
    "    print(f'\\n#####{col}#####')\n",
    "    print(grab_outliers(df, col))"
   ]
  },
  {
   "cell_type": "markdown",
   "id": "3fe43888",
   "metadata": {},
   "source": [
    "## TASK 6"
   ]
  },
  {
   "cell_type": "code",
   "execution_count": 26,
   "id": "b8223556",
   "metadata": {},
   "outputs": [],
   "source": [
    "def missing_values_table(dataframe, na_name=False):\n",
    "    na_columns = [col for col in dataframe.columns if dataframe[col].isnull().sum() > 0]\n",
    "    n_miss = dataframe[na_columns].isnull().sum().sort_values(ascending=False)\n",
    "    ratio = (dataframe[na_columns].isnull().sum() / dataframe.shape[0] * 100).sort_values(ascending=False)\n",
    "    missing_df = pd.concat([n_miss, np.round(ratio, 2)], axis=1, keys=['n_miss', 'ratio'])\n",
    "    print(missing_df, end='\\n')\n",
    "\n",
    "    if na_name:\n",
    "        return na_columns"
   ]
  },
  {
   "cell_type": "code",
   "execution_count": 27,
   "id": "d980774b",
   "metadata": {},
   "outputs": [],
   "source": [
    "def missing_vs_target(dataframe, target, na_columns):\n",
    "    temp_df = dataframe.copy()\n",
    "    for col in na_columns:\n",
    "        temp_df[col + '_NA_FLAG'] = np.where(temp_df[col].isnull(), 1, 0)\n",
    "    na_flags = temp_df.loc[:, temp_df.columns.str.contains('_NA_')].columns\n",
    "    for col in na_flags:\n",
    "        print(pd.DataFrame({'TARGET_MEAN': temp_df.groupby(col)[target].mean(),\n",
    "                            'Count': temp_df.groupby(col)[target].count()}), end='\\n\\n\\n')"
   ]
  },
  {
   "cell_type": "code",
   "execution_count": 28,
   "id": "3907f8a1",
   "metadata": {},
   "outputs": [
    {
     "name": "stdout",
     "output_type": "stream",
     "text": [
      "Empty DataFrame\n",
      "Columns: [n_miss, ratio]\n",
      "Index: []\n"
     ]
    }
   ],
   "source": [
    "missing_values_table(df)"
   ]
  },
  {
   "cell_type": "markdown",
   "id": "d76982cc",
   "metadata": {},
   "source": [
    "## TASK 7"
   ]
  },
  {
   "cell_type": "code",
   "execution_count": 29,
   "id": "175f9d6e",
   "metadata": {},
   "outputs": [
    {
     "data": {
      "text/html": [
       "<div>\n",
       "<style scoped>\n",
       "    .dataframe tbody tr th:only-of-type {\n",
       "        vertical-align: middle;\n",
       "    }\n",
       "\n",
       "    .dataframe tbody tr th {\n",
       "        vertical-align: top;\n",
       "    }\n",
       "\n",
       "    .dataframe thead th {\n",
       "        text-align: right;\n",
       "    }\n",
       "</style>\n",
       "<table border=\"1\" class=\"dataframe\">\n",
       "  <thead>\n",
       "    <tr style=\"text-align: right;\">\n",
       "      <th></th>\n",
       "      <th>TENURE</th>\n",
       "      <th>MONTHLYCHARGES</th>\n",
       "    </tr>\n",
       "  </thead>\n",
       "  <tbody>\n",
       "    <tr>\n",
       "      <th>TENURE</th>\n",
       "      <td>1.0000</td>\n",
       "      <td>0.2479</td>\n",
       "    </tr>\n",
       "    <tr>\n",
       "      <th>MONTHLYCHARGES</th>\n",
       "      <td>0.2479</td>\n",
       "      <td>1.0000</td>\n",
       "    </tr>\n",
       "  </tbody>\n",
       "</table>\n",
       "</div>"
      ],
      "text/plain": [
       "                TENURE  MONTHLYCHARGES\n",
       "TENURE          1.0000          0.2479\n",
       "MONTHLYCHARGES  0.2479          1.0000"
      ]
     },
     "execution_count": 29,
     "metadata": {},
     "output_type": "execute_result"
    }
   ],
   "source": [
    "corr = df[num_cols].corr() \n",
    "corr"
   ]
  },
  {
   "cell_type": "code",
   "execution_count": 30,
   "id": "6d153303",
   "metadata": {},
   "outputs": [],
   "source": [
    "def high_correlated_cols(dataframe, plot=False, corr_th=0.90):\n",
    "    corr = dataframe.corr()\n",
    "    corr_matrix = corr.abs()\n",
    "    upper_triangle_matrix = corr_matrix.where(np.triu(np.ones(corr_matrix.shape), k=1).astype(bool))\n",
    "    drop_list = [col for col in upper_triangle_matrix.columns if any(upper_triangle_matrix[col] > corr_th)]\n",
    "    if plot:\n",
    "        import seaborn as sns\n",
    "        import matplotlib.pyplot as plt\n",
    "        sns.set(rc={'figure.figsize': (15, 15)})\n",
    "        sns.heatmap(corr, cmap=\"RdBu\")\n",
    "        plt.show()\n",
    "    return drop_list"
   ]
  },
  {
   "cell_type": "code",
   "execution_count": 31,
   "id": "61281a13",
   "metadata": {
    "scrolled": true
   },
   "outputs": [
    {
     "data": {
      "image/png": "[encoded data removed]",
      "text/plain": [
       "<Figure size 1080x1080 with 2 Axes>"
      ]
     },
     "metadata": {},
     "output_type": "display_data"
    },
    {
     "data": {
      "text/plain": [
       "[]"
      ]
     },
     "execution_count": 31,
     "metadata": {},
     "output_type": "execute_result"
    }
   ],
   "source": [
    "high_correlated_cols(df, True)"
   ]
  },
  {
   "cell_type": "code",
   "execution_count": 32,
   "id": "ae104865",
   "metadata": {},
   "outputs": [
    {
     "name": "stdout",
     "output_type": "stream",
     "text": [
      "Observations: 7043\n",
      "Variables: 21\n",
      "cat_cols: 17\n",
      "num_cols: 2\n",
      "cat_but_car: 2\n",
      "num_but_cat: 2\n"
     ]
    }
   ],
   "source": [
    "cat_cols, num_cols, cat_but_car = grab_col_names(df)"
   ]
  },
  {
   "cell_type": "markdown",
   "id": "1cff65fa",
   "metadata": {},
   "source": [
    "## TASK 8"
   ]
  },
  {
   "cell_type": "code",
   "execution_count": 33,
   "id": "ff590eb5",
   "metadata": {},
   "outputs": [],
   "source": [
    "# Nothing to do here."
   ]
  },
  {
   "cell_type": "markdown",
   "id": "70c23a1c",
   "metadata": {},
   "source": [
    "## TASK 9"
   ]
  },
  {
   "cell_type": "code",
   "execution_count": null,
   "id": "2495146b",
   "metadata": {},
   "outputs": [],
   "source": []
  },
  {
   "cell_type": "markdown",
   "id": "fb3b4900",
   "metadata": {},
   "source": [
    "## TASK 10\n"
   ]
  },
  {
   "cell_type": "code",
   "execution_count": 36,
   "id": "d1d903c8",
   "metadata": {},
   "outputs": [],
   "source": [
    "def label_encoder(dataframe, binary_col):\n",
    "    labelencoder = LabelEncoder()\n",
    "    dataframe[binary_col] = labelencoder.fit_transform(dataframe[binary_col])\n",
    "    return dataframe"
   ]
  },
  {
   "cell_type": "code",
   "execution_count": 37,
   "id": "7c8f9b4f",
   "metadata": {},
   "outputs": [
    {
     "data": {
      "text/plain": [
       "['GENDER',\n",
       " 'SENIORCITIZEN',\n",
       " 'PARTNER',\n",
       " 'DEPENDENTS',\n",
       " 'PHONESERVICE',\n",
       " 'PAPERLESSBILLING']"
      ]
     },
     "execution_count": 37,
     "metadata": {},
     "output_type": "execute_result"
    }
   ],
   "source": [
    "binary_cols = [col for col in df.columns if df[col].dtype not in [int, float]\n",
    "               and df[col].nunique() == 2]\n",
    "binary_cols"
   ]
  },
  {
   "cell_type": "code",
   "execution_count": 38,
   "id": "2c172f58",
   "metadata": {},
   "outputs": [],
   "source": [
    "for col in binary_cols:\n",
    "    label_encoder(df, col)"
   ]
  },
  {
   "cell_type": "code",
   "execution_count": 39,
   "id": "bc632f9f",
   "metadata": {},
   "outputs": [],
   "source": [
    "def rare_analyser(dataframe, target, cat_cols):\n",
    "    for col in cat_cols:\n",
    "        print(col, \":\", len(dataframe[col].value_counts()))\n",
    "        print(pd.DataFrame({\"COUNT\": dataframe[col].value_counts(),\n",
    "                            \"RATIO\": dataframe[col].value_counts() / len(dataframe),\n",
    "                            \"TARGET_MEAN\": dataframe.groupby(col)[target].mean()}), end=\"\\n\\n\\n\")"
   ]
  },
  {
   "cell_type": "code",
   "execution_count": 40,
   "id": "01bbbce9",
   "metadata": {},
   "outputs": [
    {
     "name": "stdout",
     "output_type": "stream",
     "text": [
      "GENDER : 2\n",
      "   COUNT     RATIO  TARGET_MEAN\n",
      "0   3488  0.495244     0.269209\n",
      "1   3555  0.504756     0.261603\n",
      "\n",
      "\n",
      "PARTNER : 2\n",
      "   COUNT     RATIO  TARGET_MEAN\n",
      "0   3641  0.516967     0.329580\n",
      "1   3402  0.483033     0.196649\n",
      "\n",
      "\n",
      "DEPENDENTS : 2\n",
      "   COUNT     RATIO  TARGET_MEAN\n",
      "0   4933  0.700412     0.312791\n",
      "1   2110  0.299588     0.154502\n",
      "\n",
      "\n",
      "PHONESERVICE : 2\n",
      "   COUNT     RATIO  TARGET_MEAN\n",
      "0    682  0.096834     0.249267\n",
      "1   6361  0.903166     0.267096\n",
      "\n",
      "\n",
      "MULTIPLELINES : 3\n",
      "                  COUNT     RATIO  TARGET_MEAN\n",
      "No                 3390  0.481329     0.250442\n",
      "No phone service    682  0.096834     0.249267\n",
      "Yes                2971  0.421837     0.286099\n",
      "\n",
      "\n",
      "INTERNETSERVICE : 3\n",
      "             COUNT     RATIO  TARGET_MEAN\n",
      "DSL           2421  0.343746     0.189591\n",
      "Fiber optic   3096  0.439585     0.418928\n",
      "No            1526  0.216669     0.074050\n",
      "\n",
      "\n",
      "ONLINESECURITY : 3\n",
      "                     COUNT     RATIO  TARGET_MEAN\n",
      "No                    3498  0.496663     0.417667\n",
      "No internet service   1526  0.216669     0.074050\n",
      "Yes                   2019  0.286668     0.146112\n",
      "\n",
      "\n",
      "ONLINEBACKUP : 3\n",
      "                     COUNT     RATIO  TARGET_MEAN\n",
      "No                    3088  0.438450     0.399288\n",
      "No internet service   1526  0.216669     0.074050\n",
      "Yes                   2429  0.344881     0.215315\n",
      "\n",
      "\n",
      "DEVICEPROTECTION : 3\n",
      "                     COUNT     RATIO  TARGET_MEAN\n",
      "No                    3095  0.439443     0.391276\n",
      "No internet service   1526  0.216669     0.074050\n",
      "Yes                   2422  0.343888     0.225021\n",
      "\n",
      "\n",
      "TECHSUPPORT : 3\n",
      "                     COUNT     RATIO  TARGET_MEAN\n",
      "No                    3473  0.493114     0.416355\n",
      "No internet service   1526  0.216669     0.074050\n",
      "Yes                   2044  0.290217     0.151663\n",
      "\n",
      "\n",
      "STREAMINGTV : 3\n",
      "                     COUNT     RATIO  TARGET_MEAN\n",
      "No                    2810  0.398978     0.335231\n",
      "No internet service   1526  0.216669     0.074050\n",
      "Yes                   2707  0.384353     0.300702\n",
      "\n",
      "\n",
      "STREAMINGMOVIES : 3\n",
      "                     COUNT     RATIO  TARGET_MEAN\n",
      "No                    2785  0.395428     0.336804\n",
      "No internet service   1526  0.216669     0.074050\n",
      "Yes                   2732  0.387903     0.299414\n",
      "\n",
      "\n",
      "CONTRACT : 3\n",
      "                COUNT     RATIO  TARGET_MEAN\n",
      "Month-to-month   3875  0.550192     0.427097\n",
      "One year         1473  0.209144     0.112695\n",
      "Two year         1695  0.240664     0.028319\n",
      "\n",
      "\n",
      "PAPERLESSBILLING : 2\n",
      "   COUNT     RATIO  TARGET_MEAN\n",
      "0   2872  0.407781     0.163301\n",
      "1   4171  0.592219     0.335651\n",
      "\n",
      "\n",
      "PAYMENTMETHOD : 4\n",
      "                           COUNT     RATIO  TARGET_MEAN\n",
      "Bank transfer (automatic)   1544  0.219225     0.167098\n",
      "Credit card (automatic)     1522  0.216101     0.152431\n",
      "Electronic check            2365  0.335794     0.452854\n",
      "Mailed check                1612  0.228880     0.191067\n",
      "\n",
      "\n",
      "SENIORCITIZEN : 2\n",
      "   COUNT     RATIO  TARGET_MEAN\n",
      "0   5901  0.837853     0.236062\n",
      "1   1142  0.162147     0.416813\n",
      "\n",
      "\n",
      "CHURN : 2\n",
      "   COUNT    RATIO  TARGET_MEAN\n",
      "0   5174  0.73463          0.0\n",
      "1   1869  0.26537          1.0\n",
      "\n",
      "\n"
     ]
    }
   ],
   "source": [
    "rare_analyser(df, \"CHURN\", cat_cols)"
   ]
  },
  {
   "cell_type": "code",
   "execution_count": 41,
   "id": "a6a5b9c0",
   "metadata": {},
   "outputs": [],
   "source": [
    "def rare_encoder(dataframe, rare_perc):\n",
    "    temp_df = dataframe.copy()\n",
    "\n",
    "    rare_columns = [col for col in temp_df.columns if temp_df[col].dtypes == 'O'\n",
    "                    and (temp_df[col].value_counts() / len(temp_df) < rare_perc).any(axis=None)]\n",
    "\n",
    "    for var in rare_columns:\n",
    "        tmp = temp_df[var].value_counts() / len(temp_df)\n",
    "        rare_labels = tmp[tmp < rare_perc].index\n",
    "        temp_df[var] = np.where(temp_df[var].isin(rare_labels), 'Rare', temp_df[var])\n",
    "\n",
    "    return temp_df"
   ]
  },
  {
   "cell_type": "code",
   "execution_count": 42,
   "id": "1777feb9",
   "metadata": {},
   "outputs": [],
   "source": [
    "#df = rare_encoder(df, 0.01)"
   ]
  },
  {
   "cell_type": "code",
   "execution_count": 43,
   "id": "4dec52b4",
   "metadata": {},
   "outputs": [],
   "source": [
    "def one_hot_encoder(dataframe, categorical_cols, drop_first=True):\n",
    "    dataframe = pd.get_dummies(dataframe, columns=categorical_cols, drop_first=drop_first)\n",
    "    return dataframe"
   ]
  },
  {
   "cell_type": "code",
   "execution_count": 44,
   "id": "f8e335ab",
   "metadata": {},
   "outputs": [],
   "source": [
    "ohe_cols = [col for col in df.columns if 10 >= df[col].nunique() > 2]"
   ]
  },
  {
   "cell_type": "code",
   "execution_count": 45,
   "id": "2157897c",
   "metadata": {},
   "outputs": [
    {
     "data": {
      "text/plain": [
       "['MULTIPLELINES',\n",
       " 'INTERNETSERVICE',\n",
       " 'ONLINESECURITY',\n",
       " 'ONLINEBACKUP',\n",
       " 'DEVICEPROTECTION',\n",
       " 'TECHSUPPORT',\n",
       " 'STREAMINGTV',\n",
       " 'STREAMINGMOVIES',\n",
       " 'CONTRACT',\n",
       " 'PAYMENTMETHOD']"
      ]
     },
     "execution_count": 45,
     "metadata": {},
     "output_type": "execute_result"
    }
   ],
   "source": [
    "ohe_cols"
   ]
  },
  {
   "cell_type": "code",
   "execution_count": 46,
   "id": "1837ebfe",
   "metadata": {},
   "outputs": [],
   "source": [
    "df = one_hot_encoder(df, ohe_cols)"
   ]
  },
  {
   "cell_type": "code",
   "execution_count": 47,
   "id": "6e7df83f",
   "metadata": {
    "scrolled": true
   },
   "outputs": [
    {
     "data": {
      "text/html": [
       "<div>\n",
       "<style scoped>\n",
       "    .dataframe tbody tr th:only-of-type {\n",
       "        vertical-align: middle;\n",
       "    }\n",
       "\n",
       "    .dataframe tbody tr th {\n",
       "        vertical-align: top;\n",
       "    }\n",
       "\n",
       "    .dataframe thead th {\n",
       "        text-align: right;\n",
       "    }\n",
       "</style>\n",
       "<table border=\"1\" class=\"dataframe\">\n",
       "  <thead>\n",
       "    <tr style=\"text-align: right;\">\n",
       "      <th></th>\n",
       "      <th>CUSTOMERID</th>\n",
       "      <th>GENDER</th>\n",
       "      <th>SENIORCITIZEN</th>\n",
       "      <th>PARTNER</th>\n",
       "      <th>DEPENDENTS</th>\n",
       "      <th>TENURE</th>\n",
       "      <th>PHONESERVICE</th>\n",
       "      <th>PAPERLESSBILLING</th>\n",
       "      <th>MONTHLYCHARGES</th>\n",
       "      <th>TOTALCHARGES</th>\n",
       "      <th>...</th>\n",
       "      <th>TECHSUPPORT_Yes</th>\n",
       "      <th>STREAMINGTV_No internet service</th>\n",
       "      <th>STREAMINGTV_Yes</th>\n",
       "      <th>STREAMINGMOVIES_No internet service</th>\n",
       "      <th>STREAMINGMOVIES_Yes</th>\n",
       "      <th>CONTRACT_One year</th>\n",
       "      <th>CONTRACT_Two year</th>\n",
       "      <th>PAYMENTMETHOD_Credit card (automatic)</th>\n",
       "      <th>PAYMENTMETHOD_Electronic check</th>\n",
       "      <th>PAYMENTMETHOD_Mailed check</th>\n",
       "    </tr>\n",
       "  </thead>\n",
       "  <tbody>\n",
       "    <tr>\n",
       "      <th>0</th>\n",
       "      <td>7590-VHVEG</td>\n",
       "      <td>0</td>\n",
       "      <td>0</td>\n",
       "      <td>1</td>\n",
       "      <td>0</td>\n",
       "      <td>1</td>\n",
       "      <td>0</td>\n",
       "      <td>1</td>\n",
       "      <td>29.85</td>\n",
       "      <td>29.85</td>\n",
       "      <td>...</td>\n",
       "      <td>0</td>\n",
       "      <td>0</td>\n",
       "      <td>0</td>\n",
       "      <td>0</td>\n",
       "      <td>0</td>\n",
       "      <td>0</td>\n",
       "      <td>0</td>\n",
       "      <td>0</td>\n",
       "      <td>1</td>\n",
       "      <td>0</td>\n",
       "    </tr>\n",
       "    <tr>\n",
       "      <th>1</th>\n",
       "      <td>5575-GNVDE</td>\n",
       "      <td>1</td>\n",
       "      <td>0</td>\n",
       "      <td>0</td>\n",
       "      <td>0</td>\n",
       "      <td>34</td>\n",
       "      <td>1</td>\n",
       "      <td>0</td>\n",
       "      <td>56.95</td>\n",
       "      <td>1889.5</td>\n",
       "      <td>...</td>\n",
       "      <td>0</td>\n",
       "      <td>0</td>\n",
       "      <td>0</td>\n",
       "      <td>0</td>\n",
       "      <td>0</td>\n",
       "      <td>1</td>\n",
       "      <td>0</td>\n",
       "      <td>0</td>\n",
       "      <td>0</td>\n",
       "      <td>1</td>\n",
       "    </tr>\n",
       "    <tr>\n",
       "      <th>2</th>\n",
       "      <td>3668-QPYBK</td>\n",
       "      <td>1</td>\n",
       "      <td>0</td>\n",
       "      <td>0</td>\n",
       "      <td>0</td>\n",
       "      <td>2</td>\n",
       "      <td>1</td>\n",
       "      <td>1</td>\n",
       "      <td>53.85</td>\n",
       "      <td>108.15</td>\n",
       "      <td>...</td>\n",
       "      <td>0</td>\n",
       "      <td>0</td>\n",
       "      <td>0</td>\n",
       "      <td>0</td>\n",
       "      <td>0</td>\n",
       "      <td>0</td>\n",
       "      <td>0</td>\n",
       "      <td>0</td>\n",
       "      <td>0</td>\n",
       "      <td>1</td>\n",
       "    </tr>\n",
       "    <tr>\n",
       "      <th>3</th>\n",
       "      <td>7795-CFOCW</td>\n",
       "      <td>1</td>\n",
       "      <td>0</td>\n",
       "      <td>0</td>\n",
       "      <td>0</td>\n",
       "      <td>45</td>\n",
       "      <td>0</td>\n",
       "      <td>0</td>\n",
       "      <td>42.30</td>\n",
       "      <td>1840.75</td>\n",
       "      <td>...</td>\n",
       "      <td>1</td>\n",
       "      <td>0</td>\n",
       "      <td>0</td>\n",
       "      <td>0</td>\n",
       "      <td>0</td>\n",
       "      <td>1</td>\n",
       "      <td>0</td>\n",
       "      <td>0</td>\n",
       "      <td>0</td>\n",
       "      <td>0</td>\n",
       "    </tr>\n",
       "    <tr>\n",
       "      <th>4</th>\n",
       "      <td>9237-HQITU</td>\n",
       "      <td>0</td>\n",
       "      <td>0</td>\n",
       "      <td>0</td>\n",
       "      <td>0</td>\n",
       "      <td>2</td>\n",
       "      <td>1</td>\n",
       "      <td>1</td>\n",
       "      <td>70.70</td>\n",
       "      <td>151.65</td>\n",
       "      <td>...</td>\n",
       "      <td>0</td>\n",
       "      <td>0</td>\n",
       "      <td>0</td>\n",
       "      <td>0</td>\n",
       "      <td>0</td>\n",
       "      <td>0</td>\n",
       "      <td>0</td>\n",
       "      <td>0</td>\n",
       "      <td>1</td>\n",
       "      <td>0</td>\n",
       "    </tr>\n",
       "  </tbody>\n",
       "</table>\n",
       "<p>5 rows × 32 columns</p>\n",
       "</div>"
      ],
      "text/plain": [
       "   CUSTOMERID  GENDER  SENIORCITIZEN  PARTNER  DEPENDENTS  TENURE  \\\n",
       "0  7590-VHVEG       0              0        1           0       1   \n",
       "1  5575-GNVDE       1              0        0           0      34   \n",
       "2  3668-QPYBK       1              0        0           0       2   \n",
       "3  7795-CFOCW       1              0        0           0      45   \n",
       "4  9237-HQITU       0              0        0           0       2   \n",
       "\n",
       "   PHONESERVICE  PAPERLESSBILLING  MONTHLYCHARGES TOTALCHARGES  ...  \\\n",
       "0             0                 1           29.85        29.85  ...   \n",
       "1             1                 0           56.95       1889.5  ...   \n",
       "2             1                 1           53.85       108.15  ...   \n",
       "3             0                 0           42.30      1840.75  ...   \n",
       "4             1                 1           70.70       151.65  ...   \n",
       "\n",
       "   TECHSUPPORT_Yes  STREAMINGTV_No internet service  STREAMINGTV_Yes  \\\n",
       "0                0                                0                0   \n",
       "1                0                                0                0   \n",
       "2                0                                0                0   \n",
       "3                1                                0                0   \n",
       "4                0                                0                0   \n",
       "\n",
       "   STREAMINGMOVIES_No internet service  STREAMINGMOVIES_Yes  \\\n",
       "0                                    0                    0   \n",
       "1                                    0                    0   \n",
       "2                                    0                    0   \n",
       "3                                    0                    0   \n",
       "4                                    0                    0   \n",
       "\n",
       "   CONTRACT_One year  CONTRACT_Two year  \\\n",
       "0                  0                  0   \n",
       "1                  1                  0   \n",
       "2                  0                  0   \n",
       "3                  1                  0   \n",
       "4                  0                  0   \n",
       "\n",
       "   PAYMENTMETHOD_Credit card (automatic)  PAYMENTMETHOD_Electronic check  \\\n",
       "0                                      0                               1   \n",
       "1                                      0                               0   \n",
       "2                                      0                               0   \n",
       "3                                      0                               0   \n",
       "4                                      0                               1   \n",
       "\n",
       "   PAYMENTMETHOD_Mailed check  \n",
       "0                           0  \n",
       "1                           1  \n",
       "2                           1  \n",
       "3                           0  \n",
       "4                           0  \n",
       "\n",
       "[5 rows x 32 columns]"
      ]
     },
     "execution_count": 47,
     "metadata": {},
     "output_type": "execute_result"
    }
   ],
   "source": [
    "df.head()"
   ]
  },
  {
   "cell_type": "code",
   "execution_count": 48,
   "id": "ddcdb2eb",
   "metadata": {},
   "outputs": [
    {
     "name": "stdout",
     "output_type": "stream",
     "text": [
      "Observations: 7043\n",
      "Variables: 32\n",
      "cat_cols: 28\n",
      "num_cols: 2\n",
      "cat_but_car: 2\n",
      "num_but_cat: 28\n"
     ]
    }
   ],
   "source": [
    "cat_cols, num_cols, cat_but_car = grab_col_names(df)"
   ]
  },
  {
   "cell_type": "markdown",
   "id": "6988f954",
   "metadata": {},
   "source": [
    "## TASK 11"
   ]
  },
  {
   "cell_type": "code",
   "execution_count": 49,
   "id": "3f692f89",
   "metadata": {},
   "outputs": [],
   "source": [
    "scaler = StandardScaler()\n",
    "df[num_cols] = scaler.fit_transform(df[num_cols])"
   ]
  },
  {
   "cell_type": "code",
   "execution_count": 50,
   "id": "46d28fb3",
   "metadata": {},
   "outputs": [
    {
     "data": {
      "text/html": [
       "<div>\n",
       "<style scoped>\n",
       "    .dataframe tbody tr th:only-of-type {\n",
       "        vertical-align: middle;\n",
       "    }\n",
       "\n",
       "    .dataframe tbody tr th {\n",
       "        vertical-align: top;\n",
       "    }\n",
       "\n",
       "    .dataframe thead th {\n",
       "        text-align: right;\n",
       "    }\n",
       "</style>\n",
       "<table border=\"1\" class=\"dataframe\">\n",
       "  <thead>\n",
       "    <tr style=\"text-align: right;\">\n",
       "      <th></th>\n",
       "      <th>TENURE</th>\n",
       "      <th>MONTHLYCHARGES</th>\n",
       "    </tr>\n",
       "  </thead>\n",
       "  <tbody>\n",
       "    <tr>\n",
       "      <th>0</th>\n",
       "      <td>-1.277445</td>\n",
       "      <td>-1.160323</td>\n",
       "    </tr>\n",
       "    <tr>\n",
       "      <th>1</th>\n",
       "      <td>0.066327</td>\n",
       "      <td>-0.259629</td>\n",
       "    </tr>\n",
       "    <tr>\n",
       "      <th>2</th>\n",
       "      <td>-1.236724</td>\n",
       "      <td>-0.362660</td>\n",
       "    </tr>\n",
       "    <tr>\n",
       "      <th>3</th>\n",
       "      <td>0.514251</td>\n",
       "      <td>-0.746535</td>\n",
       "    </tr>\n",
       "    <tr>\n",
       "      <th>4</th>\n",
       "      <td>-1.236724</td>\n",
       "      <td>0.197365</td>\n",
       "    </tr>\n",
       "  </tbody>\n",
       "</table>\n",
       "</div>"
      ],
      "text/plain": [
       "     TENURE  MONTHLYCHARGES\n",
       "0 -1.277445       -1.160323\n",
       "1  0.066327       -0.259629\n",
       "2 -1.236724       -0.362660\n",
       "3  0.514251       -0.746535\n",
       "4 -1.236724        0.197365"
      ]
     },
     "execution_count": 50,
     "metadata": {},
     "output_type": "execute_result"
    }
   ],
   "source": [
    "df[num_cols].head()"
   ]
  },
  {
   "cell_type": "code",
   "execution_count": 51,
   "id": "b9c5497e",
   "metadata": {},
   "outputs": [
    {
     "data": {
      "text/plain": [
       "Index(['CUSTOMERID', 'GENDER', 'SENIORCITIZEN', 'PARTNER', 'DEPENDENTS',\n",
       "       'TENURE', 'PHONESERVICE', 'PAPERLESSBILLING', 'MONTHLYCHARGES',\n",
       "       'TOTALCHARGES', 'CHURN', 'MULTIPLELINES_No phone service',\n",
       "       'MULTIPLELINES_Yes', 'INTERNETSERVICE_Fiber optic',\n",
       "       'INTERNETSERVICE_No', 'ONLINESECURITY_No internet service',\n",
       "       'ONLINESECURITY_Yes', 'ONLINEBACKUP_No internet service',\n",
       "       'ONLINEBACKUP_Yes', 'DEVICEPROTECTION_No internet service',\n",
       "       'DEVICEPROTECTION_Yes', 'TECHSUPPORT_No internet service',\n",
       "       'TECHSUPPORT_Yes', 'STREAMINGTV_No internet service', 'STREAMINGTV_Yes',\n",
       "       'STREAMINGMOVIES_No internet service', 'STREAMINGMOVIES_Yes',\n",
       "       'CONTRACT_One year', 'CONTRACT_Two year',\n",
       "       'PAYMENTMETHOD_Credit card (automatic)',\n",
       "       'PAYMENTMETHOD_Electronic check', 'PAYMENTMETHOD_Mailed check'],\n",
       "      dtype='object')"
      ]
     },
     "execution_count": 51,
     "metadata": {},
     "output_type": "execute_result"
    }
   ],
   "source": [
    "df.columns"
   ]
  },
  {
   "cell_type": "code",
   "execution_count": 52,
   "id": "518fbd45",
   "metadata": {
    "scrolled": true
   },
   "outputs": [
    {
     "name": "stdout",
     "output_type": "stream",
     "text": [
      "Observations: 7043\n",
      "Variables: 32\n",
      "cat_cols: 28\n",
      "num_cols: 2\n",
      "cat_but_car: 2\n",
      "num_but_cat: 28\n"
     ]
    }
   ],
   "source": [
    "cat_cols, num_cols, cat_but_car = grab_col_names(df)"
   ]
  },
  {
   "cell_type": "code",
   "execution_count": 53,
   "id": "b07328f2",
   "metadata": {},
   "outputs": [],
   "source": [
    "df['TOTALCHARGES'] = pd.to_numeric(df['TOTALCHARGES'], errors='coerce')"
   ]
  },
  {
   "cell_type": "code",
   "execution_count": 54,
   "id": "2b65ec13",
   "metadata": {},
   "outputs": [],
   "source": [
    "df.dropna(inplace=True)"
   ]
  },
  {
   "cell_type": "markdown",
   "id": "90923ea2",
   "metadata": {},
   "source": [
    "## TASK 12"
   ]
  },
  {
   "cell_type": "code",
   "execution_count": 55,
   "id": "8d5fbc54",
   "metadata": {},
   "outputs": [],
   "source": [
    "y = df[\"CHURN\"]\n",
    "X = df.drop(['CHURN', 'CUSTOMERID'], axis=1)"
   ]
  },
  {
   "cell_type": "code",
   "execution_count": 56,
   "id": "13575f28",
   "metadata": {},
   "outputs": [],
   "source": [
    "X_train, X_test, y_train, y_test = train_test_split(X, y, test_size=0.30, random_state=17)"
   ]
  },
  {
   "cell_type": "code",
   "execution_count": 57,
   "id": "b87347a5",
   "metadata": {},
   "outputs": [],
   "source": [
    "rf_model = RandomForestClassifier(random_state=46).fit(X_train, y_train)"
   ]
  },
  {
   "cell_type": "code",
   "execution_count": 58,
   "id": "210c7d39",
   "metadata": {},
   "outputs": [
    {
     "data": {
      "text/html": [
       "<div>\n",
       "<style scoped>\n",
       "    .dataframe tbody tr th:only-of-type {\n",
       "        vertical-align: middle;\n",
       "    }\n",
       "\n",
       "    .dataframe tbody tr th {\n",
       "        vertical-align: top;\n",
       "    }\n",
       "\n",
       "    .dataframe thead th {\n",
       "        text-align: right;\n",
       "    }\n",
       "</style>\n",
       "<table border=\"1\" class=\"dataframe\">\n",
       "  <thead>\n",
       "    <tr style=\"text-align: right;\">\n",
       "      <th></th>\n",
       "      <th>CUSTOMERID</th>\n",
       "      <th>GENDER</th>\n",
       "      <th>SENIORCITIZEN</th>\n",
       "      <th>PARTNER</th>\n",
       "      <th>DEPENDENTS</th>\n",
       "      <th>TENURE</th>\n",
       "      <th>PHONESERVICE</th>\n",
       "      <th>PAPERLESSBILLING</th>\n",
       "      <th>MONTHLYCHARGES</th>\n",
       "      <th>TOTALCHARGES</th>\n",
       "      <th>...</th>\n",
       "      <th>TECHSUPPORT_Yes</th>\n",
       "      <th>STREAMINGTV_No internet service</th>\n",
       "      <th>STREAMINGTV_Yes</th>\n",
       "      <th>STREAMINGMOVIES_No internet service</th>\n",
       "      <th>STREAMINGMOVIES_Yes</th>\n",
       "      <th>CONTRACT_One year</th>\n",
       "      <th>CONTRACT_Two year</th>\n",
       "      <th>PAYMENTMETHOD_Credit card (automatic)</th>\n",
       "      <th>PAYMENTMETHOD_Electronic check</th>\n",
       "      <th>PAYMENTMETHOD_Mailed check</th>\n",
       "    </tr>\n",
       "  </thead>\n",
       "  <tbody>\n",
       "    <tr>\n",
       "      <th>0</th>\n",
       "      <td>7590-VHVEG</td>\n",
       "      <td>0</td>\n",
       "      <td>0</td>\n",
       "      <td>1</td>\n",
       "      <td>0</td>\n",
       "      <td>-1.277445</td>\n",
       "      <td>0</td>\n",
       "      <td>1</td>\n",
       "      <td>-1.160323</td>\n",
       "      <td>29.85</td>\n",
       "      <td>...</td>\n",
       "      <td>0</td>\n",
       "      <td>0</td>\n",
       "      <td>0</td>\n",
       "      <td>0</td>\n",
       "      <td>0</td>\n",
       "      <td>0</td>\n",
       "      <td>0</td>\n",
       "      <td>0</td>\n",
       "      <td>1</td>\n",
       "      <td>0</td>\n",
       "    </tr>\n",
       "    <tr>\n",
       "      <th>1</th>\n",
       "      <td>5575-GNVDE</td>\n",
       "      <td>1</td>\n",
       "      <td>0</td>\n",
       "      <td>0</td>\n",
       "      <td>0</td>\n",
       "      <td>0.066327</td>\n",
       "      <td>1</td>\n",
       "      <td>0</td>\n",
       "      <td>-0.259629</td>\n",
       "      <td>1889.50</td>\n",
       "      <td>...</td>\n",
       "      <td>0</td>\n",
       "      <td>0</td>\n",
       "      <td>0</td>\n",
       "      <td>0</td>\n",
       "      <td>0</td>\n",
       "      <td>1</td>\n",
       "      <td>0</td>\n",
       "      <td>0</td>\n",
       "      <td>0</td>\n",
       "      <td>1</td>\n",
       "    </tr>\n",
       "    <tr>\n",
       "      <th>2</th>\n",
       "      <td>3668-QPYBK</td>\n",
       "      <td>1</td>\n",
       "      <td>0</td>\n",
       "      <td>0</td>\n",
       "      <td>0</td>\n",
       "      <td>-1.236724</td>\n",
       "      <td>1</td>\n",
       "      <td>1</td>\n",
       "      <td>-0.362660</td>\n",
       "      <td>108.15</td>\n",
       "      <td>...</td>\n",
       "      <td>0</td>\n",
       "      <td>0</td>\n",
       "      <td>0</td>\n",
       "      <td>0</td>\n",
       "      <td>0</td>\n",
       "      <td>0</td>\n",
       "      <td>0</td>\n",
       "      <td>0</td>\n",
       "      <td>0</td>\n",
       "      <td>1</td>\n",
       "    </tr>\n",
       "    <tr>\n",
       "      <th>3</th>\n",
       "      <td>7795-CFOCW</td>\n",
       "      <td>1</td>\n",
       "      <td>0</td>\n",
       "      <td>0</td>\n",
       "      <td>0</td>\n",
       "      <td>0.514251</td>\n",
       "      <td>0</td>\n",
       "      <td>0</td>\n",
       "      <td>-0.746535</td>\n",
       "      <td>1840.75</td>\n",
       "      <td>...</td>\n",
       "      <td>1</td>\n",
       "      <td>0</td>\n",
       "      <td>0</td>\n",
       "      <td>0</td>\n",
       "      <td>0</td>\n",
       "      <td>1</td>\n",
       "      <td>0</td>\n",
       "      <td>0</td>\n",
       "      <td>0</td>\n",
       "      <td>0</td>\n",
       "    </tr>\n",
       "    <tr>\n",
       "      <th>4</th>\n",
       "      <td>9237-HQITU</td>\n",
       "      <td>0</td>\n",
       "      <td>0</td>\n",
       "      <td>0</td>\n",
       "      <td>0</td>\n",
       "      <td>-1.236724</td>\n",
       "      <td>1</td>\n",
       "      <td>1</td>\n",
       "      <td>0.197365</td>\n",
       "      <td>151.65</td>\n",
       "      <td>...</td>\n",
       "      <td>0</td>\n",
       "      <td>0</td>\n",
       "      <td>0</td>\n",
       "      <td>0</td>\n",
       "      <td>0</td>\n",
       "      <td>0</td>\n",
       "      <td>0</td>\n",
       "      <td>0</td>\n",
       "      <td>1</td>\n",
       "      <td>0</td>\n",
       "    </tr>\n",
       "  </tbody>\n",
       "</table>\n",
       "<p>5 rows × 32 columns</p>\n",
       "</div>"
      ],
      "text/plain": [
       "   CUSTOMERID  GENDER  SENIORCITIZEN  PARTNER  DEPENDENTS    TENURE  \\\n",
       "0  7590-VHVEG       0              0        1           0 -1.277445   \n",
       "1  5575-GNVDE       1              0        0           0  0.066327   \n",
       "2  3668-QPYBK       1              0        0           0 -1.236724   \n",
       "3  7795-CFOCW       1              0        0           0  0.514251   \n",
       "4  9237-HQITU       0              0        0           0 -1.236724   \n",
       "\n",
       "   PHONESERVICE  PAPERLESSBILLING  MONTHLYCHARGES  TOTALCHARGES  ...  \\\n",
       "0             0                 1       -1.160323         29.85  ...   \n",
       "1             1                 0       -0.259629       1889.50  ...   \n",
       "2             1                 1       -0.362660        108.15  ...   \n",
       "3             0                 0       -0.746535       1840.75  ...   \n",
       "4             1                 1        0.197365        151.65  ...   \n",
       "\n",
       "   TECHSUPPORT_Yes  STREAMINGTV_No internet service  STREAMINGTV_Yes  \\\n",
       "0                0                                0                0   \n",
       "1                0                                0                0   \n",
       "2                0                                0                0   \n",
       "3                1                                0                0   \n",
       "4                0                                0                0   \n",
       "\n",
       "   STREAMINGMOVIES_No internet service  STREAMINGMOVIES_Yes  \\\n",
       "0                                    0                    0   \n",
       "1                                    0                    0   \n",
       "2                                    0                    0   \n",
       "3                                    0                    0   \n",
       "4                                    0                    0   \n",
       "\n",
       "   CONTRACT_One year  CONTRACT_Two year  \\\n",
       "0                  0                  0   \n",
       "1                  1                  0   \n",
       "2                  0                  0   \n",
       "3                  1                  0   \n",
       "4                  0                  0   \n",
       "\n",
       "   PAYMENTMETHOD_Credit card (automatic)  PAYMENTMETHOD_Electronic check  \\\n",
       "0                                      0                               1   \n",
       "1                                      0                               0   \n",
       "2                                      0                               0   \n",
       "3                                      0                               0   \n",
       "4                                      0                               1   \n",
       "\n",
       "   PAYMENTMETHOD_Mailed check  \n",
       "0                           0  \n",
       "1                           1  \n",
       "2                           1  \n",
       "3                           0  \n",
       "4                           0  \n",
       "\n",
       "[5 rows x 32 columns]"
      ]
     },
     "execution_count": 58,
     "metadata": {},
     "output_type": "execute_result"
    }
   ],
   "source": [
    "df.head()"
   ]
  },
  {
   "cell_type": "code",
   "execution_count": 59,
   "id": "dd52cb33",
   "metadata": {},
   "outputs": [
    {
     "data": {
      "text/plain": [
       "0.7834123222748816"
      ]
     },
     "execution_count": 59,
     "metadata": {},
     "output_type": "execute_result"
    }
   ],
   "source": [
    "y_pred = rf_model.predict(X_test)\n",
    "accuracy_score(y_pred, y_test)"
   ]
  },
  {
   "cell_type": "code",
   "execution_count": null,
   "id": "ccce6737",
   "metadata": {},
   "outputs": [],
   "source": []
  },
  {
   "cell_type": "code",
   "execution_count": null,
   "id": "e504c8e9",
   "metadata": {},
   "outputs": [],
   "source": []
  },
  {
   "cell_type": "code",
   "execution_count": null,
   "id": "f0623ec3",
   "metadata": {},
   "outputs": [],
   "source": []
  }
 ],
 "metadata": {
  "kernelspec": {
   "display_name": "Python 3 (ipykernel)",
   "language": "python",
   "name": "python3"
  },
  "language_info": {
   "codemirror_mode": {
    "name": "ipython",
    "version": 3
   },
   "file_extension": ".py",
   "mimetype": "text/x-python",
   "name": "python",
   "nbconvert_exporter": "python",
   "pygments_lexer": "ipython3",
   "version": "3.9.7"
  }
 },
 "nbformat": 4,
 "nbformat_minor": 5
}
