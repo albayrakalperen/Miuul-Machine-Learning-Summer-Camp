{
 "cells": [
  {
   "cell_type": "code",
   "execution_count": 1,
   "id": "db708be1",
   "metadata": {},
   "outputs": [],
   "source": [
    "import numpy as np\n",
    "import pandas as pd\n",
    "import seaborn as sns\n",
    "from matplotlib import pyplot as plt\n",
    "from datetime import date\n",
    "from sklearn.metrics import accuracy_score\n",
    "from sklearn.model_selection import train_test_split\n",
    "from sklearn.neighbors import LocalOutlierFactor\n",
    "from sklearn.preprocessing import MinMaxScaler, LabelEncoder, StandardScaler, RobustScaler\n",
    "from sklearn.ensemble import RandomForestClassifier"
   ]
  },
  {
   "cell_type": "code",
   "execution_count": 2,
   "id": "462d4a99",
   "metadata": {},
   "outputs": [],
   "source": [
    "pd.set_option('expand_frame_repr', True)\n",
    "pd.set_option(\"display.max_rows\", 999)\n",
    "pd.set_option('max_colwidth',100)"
   ]
  },
  {
   "cell_type": "markdown",
   "id": "6a8eacc5",
   "metadata": {},
   "source": [
    "## TASK 1"
   ]
  },
  {
   "cell_type": "code",
   "execution_count": 3,
   "id": "55e2bfbc",
   "metadata": {},
   "outputs": [
    {
     "data": {
      "text/html": [
       "<div>\n",
       "<style scoped>\n",
       "    .dataframe tbody tr th:only-of-type {\n",
       "        vertical-align: middle;\n",
       "    }\n",
       "\n",
       "    .dataframe tbody tr th {\n",
       "        vertical-align: top;\n",
       "    }\n",
       "\n",
       "    .dataframe thead th {\n",
       "        text-align: right;\n",
       "    }\n",
       "</style>\n",
       "<table border=\"1\" class=\"dataframe\">\n",
       "  <thead>\n",
       "    <tr style=\"text-align: right;\">\n",
       "      <th></th>\n",
       "      <th>Pregnancies</th>\n",
       "      <th>Glucose</th>\n",
       "      <th>BloodPressure</th>\n",
       "      <th>SkinThickness</th>\n",
       "      <th>Insulin</th>\n",
       "      <th>BMI</th>\n",
       "      <th>DiabetesPedigreeFunction</th>\n",
       "      <th>Age</th>\n",
       "      <th>Outcome</th>\n",
       "    </tr>\n",
       "  </thead>\n",
       "  <tbody>\n",
       "    <tr>\n",
       "      <th>0</th>\n",
       "      <td>6</td>\n",
       "      <td>148</td>\n",
       "      <td>72</td>\n",
       "      <td>35</td>\n",
       "      <td>0</td>\n",
       "      <td>33.6</td>\n",
       "      <td>0.627</td>\n",
       "      <td>50</td>\n",
       "      <td>1</td>\n",
       "    </tr>\n",
       "    <tr>\n",
       "      <th>1</th>\n",
       "      <td>1</td>\n",
       "      <td>85</td>\n",
       "      <td>66</td>\n",
       "      <td>29</td>\n",
       "      <td>0</td>\n",
       "      <td>26.6</td>\n",
       "      <td>0.351</td>\n",
       "      <td>31</td>\n",
       "      <td>0</td>\n",
       "    </tr>\n",
       "    <tr>\n",
       "      <th>2</th>\n",
       "      <td>8</td>\n",
       "      <td>183</td>\n",
       "      <td>64</td>\n",
       "      <td>0</td>\n",
       "      <td>0</td>\n",
       "      <td>23.3</td>\n",
       "      <td>0.672</td>\n",
       "      <td>32</td>\n",
       "      <td>1</td>\n",
       "    </tr>\n",
       "    <tr>\n",
       "      <th>3</th>\n",
       "      <td>1</td>\n",
       "      <td>89</td>\n",
       "      <td>66</td>\n",
       "      <td>23</td>\n",
       "      <td>94</td>\n",
       "      <td>28.1</td>\n",
       "      <td>0.167</td>\n",
       "      <td>21</td>\n",
       "      <td>0</td>\n",
       "    </tr>\n",
       "    <tr>\n",
       "      <th>4</th>\n",
       "      <td>0</td>\n",
       "      <td>137</td>\n",
       "      <td>40</td>\n",
       "      <td>35</td>\n",
       "      <td>168</td>\n",
       "      <td>43.1</td>\n",
       "      <td>2.288</td>\n",
       "      <td>33</td>\n",
       "      <td>1</td>\n",
       "    </tr>\n",
       "  </tbody>\n",
       "</table>\n",
       "</div>"
      ],
      "text/plain": [
       "   Pregnancies  Glucose  BloodPressure  SkinThickness  Insulin   BMI  \\\n",
       "0            6      148             72             35        0  33.6   \n",
       "1            1       85             66             29        0  26.6   \n",
       "2            8      183             64              0        0  23.3   \n",
       "3            1       89             66             23       94  28.1   \n",
       "4            0      137             40             35      168  43.1   \n",
       "\n",
       "   DiabetesPedigreeFunction  Age  Outcome  \n",
       "0                     0.627   50        1  \n",
       "1                     0.351   31        0  \n",
       "2                     0.672   32        1  \n",
       "3                     0.167   21        0  \n",
       "4                     2.288   33        1  "
      ]
     },
     "execution_count": 3,
     "metadata": {},
     "output_type": "execute_result"
    }
   ],
   "source": [
    "df = pd.read_csv('diabetes.csv')\n",
    "df.head()"
   ]
  },
  {
   "cell_type": "code",
   "execution_count": 4,
   "id": "13302601",
   "metadata": {},
   "outputs": [],
   "source": [
    "def check_df(dataframe, head=8):\n",
    "  print(\"##### Shape #####\")\n",
    "  print(dataframe.shape)\n",
    "  print(\"\\n##### Types #####\")\n",
    "  print(dataframe.dtypes)\n",
    "  print(\"\\n##### Tail #####\")\n",
    "  print(dataframe.tail(head))\n",
    "  print(\"\\n##### Head #####\")\n",
    "  print(dataframe.head(head))\n",
    "  print(\"\\n##### Null Analysis #####\")\n",
    "  print(dataframe.isnull().sum())\n",
    "  print(\"\\n##### Quantiles #####\")\n",
    "  print(dataframe.describe([0,0.05, 0.50, 0.95, 0.99, 1]).T)"
   ]
  },
  {
   "cell_type": "code",
   "execution_count": 5,
   "id": "26c7f3e2",
   "metadata": {
    "scrolled": true
   },
   "outputs": [
    {
     "name": "stdout",
     "output_type": "stream",
     "text": [
      "##### Shape #####\n",
      "(768, 9)\n",
      "\n",
      "##### Types #####\n",
      "Pregnancies                   int64\n",
      "Glucose                       int64\n",
      "BloodPressure                 int64\n",
      "SkinThickness                 int64\n",
      "Insulin                       int64\n",
      "BMI                         float64\n",
      "DiabetesPedigreeFunction    float64\n",
      "Age                           int64\n",
      "Outcome                       int64\n",
      "dtype: object\n",
      "\n",
      "##### Tail #####\n",
      "     Pregnancies  Glucose  BloodPressure  SkinThickness  Insulin   BMI  \\\n",
      "760            2       88             58             26       16  28.4   \n",
      "761            9      170             74             31        0  44.0   \n",
      "762            9       89             62              0        0  22.5   \n",
      "763           10      101             76             48      180  32.9   \n",
      "764            2      122             70             27        0  36.8   \n",
      "765            5      121             72             23      112  26.2   \n",
      "766            1      126             60              0        0  30.1   \n",
      "767            1       93             70             31        0  30.4   \n",
      "\n",
      "     DiabetesPedigreeFunction  Age  Outcome  \n",
      "760                     0.766   22        0  \n",
      "761                     0.403   43        1  \n",
      "762                     0.142   33        0  \n",
      "763                     0.171   63        0  \n",
      "764                     0.340   27        0  \n",
      "765                     0.245   30        0  \n",
      "766                     0.349   47        1  \n",
      "767                     0.315   23        0  \n",
      "\n",
      "##### Head #####\n",
      "   Pregnancies  Glucose  BloodPressure  SkinThickness  Insulin   BMI  \\\n",
      "0            6      148             72             35        0  33.6   \n",
      "1            1       85             66             29        0  26.6   \n",
      "2            8      183             64              0        0  23.3   \n",
      "3            1       89             66             23       94  28.1   \n",
      "4            0      137             40             35      168  43.1   \n",
      "5            5      116             74              0        0  25.6   \n",
      "6            3       78             50             32       88  31.0   \n",
      "7           10      115              0              0        0  35.3   \n",
      "\n",
      "   DiabetesPedigreeFunction  Age  Outcome  \n",
      "0                     0.627   50        1  \n",
      "1                     0.351   31        0  \n",
      "2                     0.672   32        1  \n",
      "3                     0.167   21        0  \n",
      "4                     2.288   33        1  \n",
      "5                     0.201   30        0  \n",
      "6                     0.248   26        1  \n",
      "7                     0.134   29        0  \n",
      "\n",
      "##### Null Analysis #####\n",
      "Pregnancies                 0\n",
      "Glucose                     0\n",
      "BloodPressure               0\n",
      "SkinThickness               0\n",
      "Insulin                     0\n",
      "BMI                         0\n",
      "DiabetesPedigreeFunction    0\n",
      "Age                         0\n",
      "Outcome                     0\n",
      "dtype: int64\n",
      "\n",
      "##### Quantiles #####\n",
      "                          count        mean         std     min      0%  \\\n",
      "Pregnancies               768.0    3.845052    3.369578   0.000   0.000   \n",
      "Glucose                   768.0  120.894531   31.972618   0.000   0.000   \n",
      "BloodPressure             768.0   69.105469   19.355807   0.000   0.000   \n",
      "SkinThickness             768.0   20.536458   15.952218   0.000   0.000   \n",
      "Insulin                   768.0   79.799479  115.244002   0.000   0.000   \n",
      "BMI                       768.0   31.992578    7.884160   0.000   0.000   \n",
      "DiabetesPedigreeFunction  768.0    0.471876    0.331329   0.078   0.078   \n",
      "Age                       768.0   33.240885   11.760232  21.000  21.000   \n",
      "Outcome                   768.0    0.348958    0.476951   0.000   0.000   \n",
      "\n",
      "                                5%       50%        95%        99%    100%  \\\n",
      "Pregnancies                0.00000    3.0000   10.00000   13.00000   17.00   \n",
      "Glucose                   79.00000  117.0000  181.00000  196.00000  199.00   \n",
      "BloodPressure             38.70000   72.0000   90.00000  106.00000  122.00   \n",
      "SkinThickness              0.00000   23.0000   44.00000   51.33000   99.00   \n",
      "Insulin                    0.00000   30.5000  293.00000  519.90000  846.00   \n",
      "BMI                       21.80000   32.0000   44.39500   50.75900   67.10   \n",
      "DiabetesPedigreeFunction   0.14035    0.3725    1.13285    1.69833    2.42   \n",
      "Age                       21.00000   29.0000   58.00000   67.00000   81.00   \n",
      "Outcome                    0.00000    0.0000    1.00000    1.00000    1.00   \n",
      "\n",
      "                             max  \n",
      "Pregnancies                17.00  \n",
      "Glucose                   199.00  \n",
      "BloodPressure             122.00  \n",
      "SkinThickness              99.00  \n",
      "Insulin                   846.00  \n",
      "BMI                        67.10  \n",
      "DiabetesPedigreeFunction    2.42  \n",
      "Age                        81.00  \n",
      "Outcome                     1.00  \n"
     ]
    }
   ],
   "source": [
    "check_df(df)"
   ]
  },
  {
   "cell_type": "code",
   "execution_count": 6,
   "id": "a1cddc7e",
   "metadata": {},
   "outputs": [],
   "source": [
    "df.columns = [col.upper() for col in df.columns]"
   ]
  },
  {
   "cell_type": "markdown",
   "id": "550792f3",
   "metadata": {},
   "source": [
    "## TASK 2"
   ]
  },
  {
   "cell_type": "code",
   "execution_count": 7,
   "id": "1d97331d",
   "metadata": {},
   "outputs": [],
   "source": [
    "def grab_col_names(dataframe, cat_th=10, car_th=20):\n",
    "    # cat_cols\n",
    "    cat_cols = [col for col in dataframe.columns if dataframe[col].dtype == 'O']\n",
    "\n",
    "    num_but_cat = [col for col in dataframe.columns if dataframe[col].nunique() < cat_th and\n",
    "                   dataframe[col].dtype != 'O']\n",
    "\n",
    "    cat_but_car = [col for col in dataframe.columns if dataframe[col].nunique() > car_th and\n",
    "                   dataframe[col].dtype == 'O']\n",
    "\n",
    "    cat_cols = cat_cols + num_but_cat\n",
    "\n",
    "    cat_cols = [col for col in cat_cols if col not in cat_but_car]\n",
    "\n",
    "    # num_cols\n",
    "    num_cols = [col for col in dataframe.columns if dataframe[col].dtype != 'O']\n",
    "\n",
    "    num_cols = [col for col in num_cols if col not in num_but_cat]\n",
    "\n",
    "    print(f\"Observations: {dataframe.shape[0]}\")\n",
    "    print(f\"Variables: {dataframe.shape[1]}\")\n",
    "    print(f'cat_cols: {len(cat_cols)}')\n",
    "    print(f'num_cols: {len(num_cols)}')\n",
    "    print(f'cat_but_car: {len(cat_but_car)}')\n",
    "    print(f'num_but_cat: {len(num_but_cat)}')\n",
    "    return cat_cols, num_cols, cat_but_car"
   ]
  },
  {
   "cell_type": "code",
   "execution_count": 8,
   "id": "72f4764e",
   "metadata": {},
   "outputs": [
    {
     "name": "stdout",
     "output_type": "stream",
     "text": [
      "Observations: 768\n",
      "Variables: 9\n",
      "cat_cols: 1\n",
      "num_cols: 8\n",
      "cat_but_car: 0\n",
      "num_but_cat: 1\n"
     ]
    }
   ],
   "source": [
    "cat_cols, num_cols, cat_but_car = grab_col_names(df)"
   ]
  },
  {
   "cell_type": "code",
   "execution_count": 9,
   "id": "7373a783",
   "metadata": {},
   "outputs": [
    {
     "data": {
      "text/plain": [
       "['PREGNANCIES',\n",
       " 'GLUCOSE',\n",
       " 'BLOODPRESSURE',\n",
       " 'SKINTHICKNESS',\n",
       " 'INSULIN',\n",
       " 'BMI',\n",
       " 'DIABETESPEDIGREEFUNCTION',\n",
       " 'AGE']"
      ]
     },
     "execution_count": 9,
     "metadata": {},
     "output_type": "execute_result"
    }
   ],
   "source": [
    "num_cols"
   ]
  },
  {
   "cell_type": "code",
   "execution_count": 10,
   "id": "7485ee12",
   "metadata": {},
   "outputs": [
    {
     "data": {
      "text/plain": [
       "['OUTCOME']"
      ]
     },
     "execution_count": 10,
     "metadata": {},
     "output_type": "execute_result"
    }
   ],
   "source": [
    "cat_cols"
   ]
  },
  {
   "cell_type": "markdown",
   "id": "fe56ab00",
   "metadata": {},
   "source": [
    "## TASK 3"
   ]
  },
  {
   "cell_type": "code",
   "execution_count": 11,
   "id": "50fd4a42",
   "metadata": {},
   "outputs": [],
   "source": [
    "def num_summary(dataframe, num_col, plot=False):\n",
    "    quantiles = [0.05, 0.10, 0.20, 0.30, 0.40, 0.50, 0.60, 0.70, 0.80, 0.90, 0.95, 0.99]\n",
    "    print(dataframe[num_col].describe(quantiles).T)\n",
    "    if plot:\n",
    "        dataframe[num_col].hist()\n",
    "        plt.xlabel(num_col)\n",
    "        plt.title(num_col)\n",
    "        plt.show(block=True)"
   ]
  },
  {
   "cell_type": "code",
   "execution_count": 12,
   "id": "28613f96",
   "metadata": {
    "scrolled": true
   },
   "outputs": [
    {
     "name": "stdout",
     "output_type": "stream",
     "text": [
      "count    768.000000\n",
      "mean       3.845052\n",
      "std        3.369578\n",
      "min        0.000000\n",
      "5%         0.000000\n",
      "10%        0.000000\n",
      "20%        1.000000\n",
      "30%        1.000000\n",
      "40%        2.000000\n",
      "50%        3.000000\n",
      "60%        4.000000\n",
      "70%        5.000000\n",
      "80%        7.000000\n",
      "90%        9.000000\n",
      "95%       10.000000\n",
      "99%       13.000000\n",
      "max       17.000000\n",
      "Name: PREGNANCIES, dtype: float64\n"
     ]
    },
    {
     "data": {
      "image/png": "[encoded data removed]",
      "text/plain": [
       "<Figure size 432x288 with 1 Axes>"
      ]
     },
     "metadata": {
      "needs_background": "light"
     },
     "output_type": "display_data"
    },
    {
     "name": "stdout",
     "output_type": "stream",
     "text": [
      "count    768.000000\n",
      "mean     120.894531\n",
      "std       31.972618\n",
      "min        0.000000\n",
      "5%        79.000000\n",
      "10%       85.000000\n",
      "20%       95.000000\n",
      "30%      102.000000\n",
      "40%      109.000000\n",
      "50%      117.000000\n",
      "60%      125.000000\n",
      "70%      134.000000\n",
      "80%      147.000000\n",
      "90%      167.000000\n",
      "95%      181.000000\n",
      "99%      196.000000\n",
      "max      199.000000\n",
      "Name: GLUCOSE, dtype: float64\n"
     ]
    },
    {
     "data": {
      "image/png": "[encoded data removed]",
      "text/plain": [
       "<Figure size 432x288 with 1 Axes>"
      ]
     },
     "metadata": {
      "needs_background": "light"
     },
     "output_type": "display_data"
    },
    {
     "name": "stdout",
     "output_type": "stream",
     "text": [
      "count    768.000000\n",
      "mean      69.105469\n",
      "std       19.355807\n",
      "min        0.000000\n",
      "5%        38.700000\n",
      "10%       54.000000\n",
      "20%       60.000000\n",
      "30%       64.000000\n",
      "40%       68.000000\n",
      "50%       72.000000\n",
      "60%       74.000000\n",
      "70%       78.000000\n",
      "80%       82.000000\n",
      "90%       88.000000\n",
      "95%       90.000000\n",
      "99%      106.000000\n",
      "max      122.000000\n",
      "Name: BLOODPRESSURE, dtype: float64\n"
     ]
    },
    {
     "data": {
      "image/png": "[encoded data removed]",
      "text/plain": [
       "<Figure size 432x288 with 1 Axes>"
      ]
     },
     "metadata": {
      "needs_background": "light"
     },
     "output_type": "display_data"
    },
    {
     "name": "stdout",
     "output_type": "stream",
     "text": [
      "count    768.000000\n",
      "mean      20.536458\n",
      "std       15.952218\n",
      "min        0.000000\n",
      "5%         0.000000\n",
      "10%        0.000000\n",
      "20%        0.000000\n",
      "30%        8.200000\n",
      "40%       18.000000\n",
      "50%       23.000000\n",
      "60%       27.000000\n",
      "70%       31.000000\n",
      "80%       35.000000\n",
      "90%       40.000000\n",
      "95%       44.000000\n",
      "99%       51.330000\n",
      "max       99.000000\n",
      "Name: SKINTHICKNESS, dtype: float64\n"
     ]
    },
    {
     "data": {
      "image/png": "[encoded data removed]",
      "text/plain": [
       "<Figure size 432x288 with 1 Axes>"
      ]
     },
     "metadata": {
      "needs_background": "light"
     },
     "output_type": "display_data"
    },
    {
     "name": "stdout",
     "output_type": "stream",
     "text": [
      "count    768.000000\n",
      "mean      79.799479\n",
      "std      115.244002\n",
      "min        0.000000\n",
      "5%         0.000000\n",
      "10%        0.000000\n",
      "20%        0.000000\n",
      "30%        0.000000\n",
      "40%        0.000000\n",
      "50%       30.500000\n",
      "60%       72.200000\n",
      "70%      106.000000\n",
      "80%      150.000000\n",
      "90%      210.000000\n",
      "95%      293.000000\n",
      "99%      519.900000\n",
      "max      846.000000\n",
      "Name: INSULIN, dtype: float64\n"
     ]
    },
    {
     "data": {
      "image/png": "[encoded data removed]",
      "text/plain": [
       "<Figure size 432x288 with 1 Axes>"
      ]
     },
     "metadata": {
      "needs_background": "light"
     },
     "output_type": "display_data"
    },
    {
     "name": "stdout",
     "output_type": "stream",
     "text": [
      "count    768.000000\n",
      "mean      31.992578\n",
      "std        7.884160\n",
      "min        0.000000\n",
      "5%        21.800000\n",
      "10%       23.600000\n",
      "20%       25.900000\n",
      "30%       28.200000\n",
      "40%       30.100000\n",
      "50%       32.000000\n",
      "60%       33.700000\n",
      "70%       35.490000\n",
      "80%       37.800000\n",
      "90%       41.500000\n",
      "95%       44.395000\n",
      "99%       50.759000\n",
      "max       67.100000\n",
      "Name: BMI, dtype: float64\n"
     ]
    },
    {
     "data": {
      "image/png": "[encoded data removed]",
      "text/plain": [
       "<Figure size 432x288 with 1 Axes>"
      ]
     },
     "metadata": {
      "needs_background": "light"
     },
     "output_type": "display_data"
    },
    {
     "name": "stdout",
     "output_type": "stream",
     "text": [
      "count    768.000000\n",
      "mean       0.471876\n",
      "std        0.331329\n",
      "min        0.078000\n",
      "5%         0.140350\n",
      "10%        0.165000\n",
      "20%        0.219400\n",
      "30%        0.259000\n",
      "40%        0.302800\n",
      "50%        0.372500\n",
      "60%        0.454200\n",
      "70%        0.563700\n",
      "80%        0.687000\n",
      "90%        0.878600\n",
      "95%        1.132850\n",
      "99%        1.698330\n",
      "max        2.420000\n",
      "Name: DIABETESPEDIGREEFUNCTION, dtype: float64\n"
     ]
    },
    {
     "data": {
      "image/png": "[encoded data removed]",
      "text/plain": [
       "<Figure size 432x288 with 1 Axes>"
      ]
     },
     "metadata": {
      "needs_background": "light"
     },
     "output_type": "display_data"
    },
    {
     "name": "stdout",
     "output_type": "stream",
     "text": [
      "count    768.000000\n",
      "mean      33.240885\n",
      "std       11.760232\n",
      "min       21.000000\n",
      "5%        21.000000\n",
      "10%       22.000000\n",
      "20%       23.000000\n",
      "30%       25.000000\n",
      "40%       27.000000\n",
      "50%       29.000000\n",
      "60%       33.000000\n",
      "70%       38.000000\n",
      "80%       42.600000\n",
      "90%       51.000000\n",
      "95%       58.000000\n",
      "99%       67.000000\n",
      "max       81.000000\n",
      "Name: AGE, dtype: float64\n"
     ]
    },
    {
     "data": {
      "image/png": "[encoded data removed]",
      "text/plain": [
       "<Figure size 432x288 with 1 Axes>"
      ]
     },
     "metadata": {
      "needs_background": "light"
     },
     "output_type": "display_data"
    }
   ],
   "source": [
    "for col in num_cols:\n",
    "    num_summary(df, col, True)"
   ]
  },
  {
   "cell_type": "code",
   "execution_count": 13,
   "id": "8d99d03a",
   "metadata": {},
   "outputs": [],
   "source": [
    "def cat_summary(dataframe, cat_col, plot=False):\n",
    "    print(pd.DataFrame({cat_col: dataframe[cat_col].value_counts(),\n",
    "                        \"Ratio\": 100 * dataframe[cat_col].value_counts() / len(dataframe)}))\n",
    "    print(\"##########################################\")\n",
    "\n",
    "    if plot:\n",
    "        sns.countplot(x=dataframe[cat_col], data=dataframe)\n",
    "        plt.show(block=True)"
   ]
  },
  {
   "cell_type": "code",
   "execution_count": 14,
   "id": "1c1e40a1",
   "metadata": {},
   "outputs": [
    {
     "name": "stdout",
     "output_type": "stream",
     "text": [
      "   OUTCOME      Ratio\n",
      "0      500  65.104167\n",
      "1      268  34.895833\n",
      "##########################################\n"
     ]
    },
    {
     "data": {
      "image/png": "[encoded data removed]",
      "text/plain": [
       "<Figure size 432x288 with 1 Axes>"
      ]
     },
     "metadata": {
      "needs_background": "light"
     },
     "output_type": "display_data"
    }
   ],
   "source": [
    "cat_summary(df, 'OUTCOME', plot=True)"
   ]
  },
  {
   "cell_type": "markdown",
   "id": "b383253f",
   "metadata": {},
   "source": [
    "## TASK 4"
   ]
  },
  {
   "cell_type": "code",
   "execution_count": 15,
   "id": "44695ede",
   "metadata": {
    "scrolled": true
   },
   "outputs": [],
   "source": [
    "def target_summary_with_cat(dataframe, target, cat_col):\n",
    "    print(pd.DataFrame({\"TARGET_MEAN\": dataframe.groupby(cat_col)[target].mean()}), end=\"\\n\\n\\n\")"
   ]
  },
  {
   "cell_type": "code",
   "execution_count": 16,
   "id": "e9391208",
   "metadata": {},
   "outputs": [],
   "source": [
    "def target_summary_with_num(dataframe, target, num_col):\n",
    "    print(dataframe.groupby(target).agg({num_col: \"mean\"}), end=\"\\n\\n\\n\")"
   ]
  },
  {
   "cell_type": "code",
   "execution_count": 17,
   "id": "dcc04ab6",
   "metadata": {},
   "outputs": [
    {
     "name": "stdout",
     "output_type": "stream",
     "text": [
      "         PREGNANCIES\n",
      "OUTCOME             \n",
      "0           3.298000\n",
      "1           4.865672\n",
      "\n",
      "\n",
      "            GLUCOSE\n",
      "OUTCOME            \n",
      "0        109.980000\n",
      "1        141.257463\n",
      "\n",
      "\n",
      "         BLOODPRESSURE\n",
      "OUTCOME               \n",
      "0            68.184000\n",
      "1            70.824627\n",
      "\n",
      "\n",
      "         SKINTHICKNESS\n",
      "OUTCOME               \n",
      "0            19.664000\n",
      "1            22.164179\n",
      "\n",
      "\n",
      "            INSULIN\n",
      "OUTCOME            \n",
      "0         68.792000\n",
      "1        100.335821\n",
      "\n",
      "\n",
      "               BMI\n",
      "OUTCOME           \n",
      "0        30.304200\n",
      "1        35.142537\n",
      "\n",
      "\n",
      "         DIABETESPEDIGREEFUNCTION\n",
      "OUTCOME                          \n",
      "0                        0.429734\n",
      "1                        0.550500\n",
      "\n",
      "\n",
      "               AGE\n",
      "OUTCOME           \n",
      "0        31.190000\n",
      "1        37.067164\n",
      "\n",
      "\n"
     ]
    }
   ],
   "source": [
    "for col in num_cols:\n",
    "    target_summary_with_num(df, 'OUTCOME', col)"
   ]
  },
  {
   "cell_type": "markdown",
   "id": "3601efe7",
   "metadata": {},
   "source": [
    "## TASK 5"
   ]
  },
  {
   "cell_type": "code",
   "execution_count": 18,
   "id": "d83ae569",
   "metadata": {},
   "outputs": [],
   "source": [
    "def outlier_thresholds(dataframe, col_name, q1=0.25, q3=0.75):\n",
    "    quartile1 = dataframe[col_name].quantile(q1)\n",
    "    quartile3 = dataframe[col_name].quantile(q3)\n",
    "    interquantile_range = quartile3 - quartile1\n",
    "    up_limit = quartile3 + 1.5 * interquantile_range\n",
    "    low_limit = quartile1 - 1.5 * interquantile_range\n",
    "    return low_limit, up_limit"
   ]
  },
  {
   "cell_type": "code",
   "execution_count": 19,
   "id": "4d294624",
   "metadata": {},
   "outputs": [],
   "source": [
    "def check_outlier(dataframe, col_name):\n",
    "    low_limit, up_limit = outlier_thresholds(dataframe, col_name)\n",
    "    if dataframe[(dataframe[col_name] > up_limit) | (dataframe[col_name] < low_limit)].any(axis=None):\n",
    "        return True\n",
    "    else:\n",
    "        return False"
   ]
  },
  {
   "cell_type": "code",
   "execution_count": 20,
   "id": "06ac4472",
   "metadata": {},
   "outputs": [],
   "source": [
    "def grab_outliers(dataframe, col_name, index=False):\n",
    "    low, up = outlier_thresholds(dataframe,col_name)\n",
    "    outlier_df = dataframe[(dataframe[col_name] < low) | (dataframe[col_name] > up)]\n",
    "\n",
    "    if outlier_df.shape[0] > 10:\n",
    "        print(outlier_df.head())\n",
    "    else:\n",
    "        print(outlier_df)\n",
    "\n",
    "    if index:\n",
    "        return outlier_df.index"
   ]
  },
  {
   "cell_type": "code",
   "execution_count": 21,
   "id": "916c5b52",
   "metadata": {
    "scrolled": false
   },
   "outputs": [
    {
     "name": "stdout",
     "output_type": "stream",
     "text": [
      "PREGNANCIES True\n",
      "GLUCOSE True\n",
      "BLOODPRESSURE True\n",
      "SKINTHICKNESS True\n",
      "INSULIN True\n",
      "BMI True\n",
      "DIABETESPEDIGREEFUNCTION True\n",
      "AGE True\n"
     ]
    }
   ],
   "source": [
    "for col in num_cols:\n",
    "    print(col, check_outlier(df, col))"
   ]
  },
  {
   "cell_type": "code",
   "execution_count": 22,
   "id": "12974bac",
   "metadata": {},
   "outputs": [
    {
     "name": "stdout",
     "output_type": "stream",
     "text": [
      "PREGNANCIES (-6.5, 13.5)\n",
      "GLUCOSE (37.125, 202.125)\n",
      "BLOODPRESSURE (35.0, 107.0)\n",
      "SKINTHICKNESS (-48.0, 80.0)\n",
      "INSULIN (-190.875, 318.125)\n",
      "BMI (13.35, 50.550000000000004)\n",
      "DIABETESPEDIGREEFUNCTION (-0.32999999999999996, 1.2)\n",
      "AGE (-1.5, 66.5)\n"
     ]
    }
   ],
   "source": [
    "for col in num_cols:\n",
    "    print(col, outlier_thresholds(df, col))"
   ]
  },
  {
   "cell_type": "code",
   "execution_count": 23,
   "id": "cb9e7068",
   "metadata": {
    "scrolled": true
   },
   "outputs": [
    {
     "name": "stdout",
     "output_type": "stream",
     "text": [
      "\n",
      "#####PREGNANCIES#####\n",
      "     PREGNANCIES  GLUCOSE  BLOODPRESSURE  SKINTHICKNESS  INSULIN   BMI  \\\n",
      "88            15      136             70             32      110  37.1   \n",
      "159           17      163             72             41      114  40.9   \n",
      "298           14      100             78             25      184  36.6   \n",
      "455           14      175             62             30        0  33.6   \n",
      "\n",
      "     DIABETESPEDIGREEFUNCTION  AGE  OUTCOME  \n",
      "88                      0.153   43        1  \n",
      "159                     0.817   47        1  \n",
      "298                     0.412   46        1  \n",
      "455                     0.212   38        1  \n",
      "None\n",
      "\n",
      "#####GLUCOSE#####\n",
      "     PREGNANCIES  GLUCOSE  BLOODPRESSURE  SKINTHICKNESS  INSULIN   BMI  \\\n",
      "75             1        0             48             20        0  24.7   \n",
      "182            1        0             74             20       23  27.7   \n",
      "342            1        0             68             35        0  32.0   \n",
      "349            5        0             80             32        0  41.0   \n",
      "502            6        0             68             41        0  39.0   \n",
      "\n",
      "     DIABETESPEDIGREEFUNCTION  AGE  OUTCOME  \n",
      "75                      0.140   22        0  \n",
      "182                     0.299   21        0  \n",
      "342                     0.389   22        0  \n",
      "349                     0.346   37        1  \n",
      "502                     0.727   41        1  \n",
      "None\n",
      "\n",
      "#####BLOODPRESSURE#####\n",
      "    PREGNANCIES  GLUCOSE  BLOODPRESSURE  SKINTHICKNESS  INSULIN   BMI  \\\n",
      "7            10      115              0              0        0  35.3   \n",
      "15            7      100              0              0        0  30.0   \n",
      "18            1      103             30             38       83  43.3   \n",
      "43            9      171            110             24      240  45.4   \n",
      "49            7      105              0              0        0   0.0   \n",
      "\n",
      "    DIABETESPEDIGREEFUNCTION  AGE  OUTCOME  \n",
      "7                      0.134   29        0  \n",
      "15                     0.484   32        1  \n",
      "18                     0.183   33        0  \n",
      "43                     0.721   54        1  \n",
      "49                     0.305   24        0  \n",
      "None\n",
      "\n",
      "#####SKINTHICKNESS#####\n",
      "     PREGNANCIES  GLUCOSE  BLOODPRESSURE  SKINTHICKNESS  INSULIN   BMI  \\\n",
      "579            2      197             70             99        0  34.7   \n",
      "\n",
      "     DIABETESPEDIGREEFUNCTION  AGE  OUTCOME  \n",
      "579                     0.575   62        1  \n",
      "None\n",
      "\n",
      "#####INSULIN#####\n",
      "     PREGNANCIES  GLUCOSE  BLOODPRESSURE  SKINTHICKNESS  INSULIN   BMI  \\\n",
      "8              2      197             70             45      543  30.5   \n",
      "13             1      189             60             23      846  30.1   \n",
      "54             7      150             66             42      342  34.7   \n",
      "111            8      155             62             26      495  34.0   \n",
      "139            5      105             72             29      325  36.9   \n",
      "\n",
      "     DIABETESPEDIGREEFUNCTION  AGE  OUTCOME  \n",
      "8                       0.158   53        1  \n",
      "13                      0.398   59        1  \n",
      "54                      0.718   42        0  \n",
      "111                     0.543   46        1  \n",
      "139                     0.159   28        0  \n",
      "None\n",
      "\n",
      "#####BMI#####\n",
      "     PREGNANCIES  GLUCOSE  BLOODPRESSURE  SKINTHICKNESS  INSULIN   BMI  \\\n",
      "9              8      125             96              0        0   0.0   \n",
      "49             7      105              0              0        0   0.0   \n",
      "60             2       84              0              0        0   0.0   \n",
      "81             2       74              0              0        0   0.0   \n",
      "120            0      162             76             56      100  53.2   \n",
      "\n",
      "     DIABETESPEDIGREEFUNCTION  AGE  OUTCOME  \n",
      "9                       0.232   54        1  \n",
      "49                      0.305   24        0  \n",
      "60                      0.304   21        0  \n",
      "81                      0.102   22        0  \n",
      "120                     0.759   25        1  \n",
      "None\n",
      "\n",
      "#####DIABETESPEDIGREEFUNCTION#####\n",
      "    PREGNANCIES  GLUCOSE  BLOODPRESSURE  SKINTHICKNESS  INSULIN   BMI  \\\n",
      "4             0      137             40             35      168  43.1   \n",
      "12           10      139             80              0        0  27.1   \n",
      "39            4      111             72             47      207  37.1   \n",
      "45            0      180             66             39        0  42.0   \n",
      "58            0      146             82              0        0  40.5   \n",
      "\n",
      "    DIABETESPEDIGREEFUNCTION  AGE  OUTCOME  \n",
      "4                      2.288   33        1  \n",
      "12                     1.441   57        0  \n",
      "39                     1.390   56        1  \n",
      "45                     1.893   25        1  \n",
      "58                     1.781   44        0  \n",
      "None\n",
      "\n",
      "#####AGE#####\n",
      "     PREGNANCIES  GLUCOSE  BLOODPRESSURE  SKINTHICKNESS  INSULIN   BMI  \\\n",
      "123            5      132             80              0        0  26.8   \n",
      "363            4      146             78              0        0  38.5   \n",
      "453            2      119              0              0        0  19.6   \n",
      "459            9      134             74             33       60  25.9   \n",
      "489            8      194             80              0        0  26.1   \n",
      "537            0       57             60              0        0  21.7   \n",
      "666            4      145             82             18        0  32.5   \n",
      "674            8       91             82              0        0  35.6   \n",
      "684            5      136             82              0        0   0.0   \n",
      "\n",
      "     DIABETESPEDIGREEFUNCTION  AGE  OUTCOME  \n",
      "123                     0.186   69        0  \n",
      "363                     0.520   67        1  \n",
      "453                     0.832   72        0  \n",
      "459                     0.460   81        0  \n",
      "489                     0.551   67        0  \n",
      "537                     0.735   67        0  \n",
      "666                     0.235   70        1  \n",
      "674                     0.587   68        0  \n",
      "684                     0.640   69        0  \n",
      "None\n"
     ]
    }
   ],
   "source": [
    "for col in num_cols:\n",
    "    print(f'\\n#####{col}#####')\n",
    "    print(grab_outliers(df, col))"
   ]
  },
  {
   "cell_type": "markdown",
   "id": "51518da0",
   "metadata": {},
   "source": [
    "## TASK 6"
   ]
  },
  {
   "cell_type": "code",
   "execution_count": 24,
   "id": "92ea5fa1",
   "metadata": {},
   "outputs": [],
   "source": [
    "def missing_values_table(dataframe, na_name=False):\n",
    "    na_columns = [col for col in dataframe.columns if dataframe[col].isnull().sum() > 0]\n",
    "    n_miss = dataframe[na_columns].isnull().sum().sort_values(ascending=False)\n",
    "    ratio = (dataframe[na_columns].isnull().sum() / dataframe.shape[0] * 100).sort_values(ascending=False)\n",
    "    missing_df = pd.concat([n_miss, np.round(ratio, 2)], axis=1, keys=['n_miss', 'ratio'])\n",
    "    print(missing_df, end='\\n')\n",
    "\n",
    "    if na_name:\n",
    "        return na_columns"
   ]
  },
  {
   "cell_type": "code",
   "execution_count": 25,
   "id": "8cf7640e",
   "metadata": {},
   "outputs": [],
   "source": [
    "def missing_vs_target(dataframe, target, na_columns):\n",
    "    temp_df = dataframe.copy()\n",
    "    for col in na_columns:\n",
    "        temp_df[col + '_NA_FLAG'] = np.where(temp_df[col].isnull(), 1, 0)\n",
    "    na_flags = temp_df.loc[:, temp_df.columns.str.contains('_NA_')].columns\n",
    "    for col in na_flags:\n",
    "        print(pd.DataFrame({'TARGET_MEAN': temp_df.groupby(col)[target].mean(),\n",
    "                            'Count': temp_df.groupby(col)[target].count()}), end='\\n\\n\\n')"
   ]
  },
  {
   "cell_type": "code",
   "execution_count": 26,
   "id": "5f6d798b",
   "metadata": {},
   "outputs": [
    {
     "name": "stdout",
     "output_type": "stream",
     "text": [
      "Empty DataFrame\n",
      "Columns: [n_miss, ratio]\n",
      "Index: []\n"
     ]
    }
   ],
   "source": [
    "missing_values_table(df)"
   ]
  },
  {
   "cell_type": "markdown",
   "id": "89b0cbaa",
   "metadata": {},
   "source": [
    "## TASK 7"
   ]
  },
  {
   "cell_type": "code",
   "execution_count": 27,
   "id": "9fa8234b",
   "metadata": {},
   "outputs": [
    {
     "data": {
      "text/html": [
       "<div>\n",
       "<style scoped>\n",
       "    .dataframe tbody tr th:only-of-type {\n",
       "        vertical-align: middle;\n",
       "    }\n",
       "\n",
       "    .dataframe tbody tr th {\n",
       "        vertical-align: top;\n",
       "    }\n",
       "\n",
       "    .dataframe thead th {\n",
       "        text-align: right;\n",
       "    }\n",
       "</style>\n",
       "<table border=\"1\" class=\"dataframe\">\n",
       "  <thead>\n",
       "    <tr style=\"text-align: right;\">\n",
       "      <th></th>\n",
       "      <th>PREGNANCIES</th>\n",
       "      <th>GLUCOSE</th>\n",
       "      <th>BLOODPRESSURE</th>\n",
       "      <th>SKINTHICKNESS</th>\n",
       "      <th>INSULIN</th>\n",
       "      <th>BMI</th>\n",
       "      <th>DIABETESPEDIGREEFUNCTION</th>\n",
       "      <th>AGE</th>\n",
       "    </tr>\n",
       "  </thead>\n",
       "  <tbody>\n",
       "    <tr>\n",
       "      <th>PREGNANCIES</th>\n",
       "      <td>1.000000</td>\n",
       "      <td>0.129459</td>\n",
       "      <td>0.141282</td>\n",
       "      <td>-0.081672</td>\n",
       "      <td>-0.073535</td>\n",
       "      <td>0.017683</td>\n",
       "      <td>-0.033523</td>\n",
       "      <td>0.544341</td>\n",
       "    </tr>\n",
       "    <tr>\n",
       "      <th>GLUCOSE</th>\n",
       "      <td>0.129459</td>\n",
       "      <td>1.000000</td>\n",
       "      <td>0.152590</td>\n",
       "      <td>0.057328</td>\n",
       "      <td>0.331357</td>\n",
       "      <td>0.221071</td>\n",
       "      <td>0.137337</td>\n",
       "      <td>0.263514</td>\n",
       "    </tr>\n",
       "    <tr>\n",
       "      <th>BLOODPRESSURE</th>\n",
       "      <td>0.141282</td>\n",
       "      <td>0.152590</td>\n",
       "      <td>1.000000</td>\n",
       "      <td>0.207371</td>\n",
       "      <td>0.088933</td>\n",
       "      <td>0.281805</td>\n",
       "      <td>0.041265</td>\n",
       "      <td>0.239528</td>\n",
       "    </tr>\n",
       "    <tr>\n",
       "      <th>SKINTHICKNESS</th>\n",
       "      <td>-0.081672</td>\n",
       "      <td>0.057328</td>\n",
       "      <td>0.207371</td>\n",
       "      <td>1.000000</td>\n",
       "      <td>0.436783</td>\n",
       "      <td>0.392573</td>\n",
       "      <td>0.183928</td>\n",
       "      <td>-0.113970</td>\n",
       "    </tr>\n",
       "    <tr>\n",
       "      <th>INSULIN</th>\n",
       "      <td>-0.073535</td>\n",
       "      <td>0.331357</td>\n",
       "      <td>0.088933</td>\n",
       "      <td>0.436783</td>\n",
       "      <td>1.000000</td>\n",
       "      <td>0.197859</td>\n",
       "      <td>0.185071</td>\n",
       "      <td>-0.042163</td>\n",
       "    </tr>\n",
       "    <tr>\n",
       "      <th>BMI</th>\n",
       "      <td>0.017683</td>\n",
       "      <td>0.221071</td>\n",
       "      <td>0.281805</td>\n",
       "      <td>0.392573</td>\n",
       "      <td>0.197859</td>\n",
       "      <td>1.000000</td>\n",
       "      <td>0.140647</td>\n",
       "      <td>0.036242</td>\n",
       "    </tr>\n",
       "    <tr>\n",
       "      <th>DIABETESPEDIGREEFUNCTION</th>\n",
       "      <td>-0.033523</td>\n",
       "      <td>0.137337</td>\n",
       "      <td>0.041265</td>\n",
       "      <td>0.183928</td>\n",
       "      <td>0.185071</td>\n",
       "      <td>0.140647</td>\n",
       "      <td>1.000000</td>\n",
       "      <td>0.033561</td>\n",
       "    </tr>\n",
       "    <tr>\n",
       "      <th>AGE</th>\n",
       "      <td>0.544341</td>\n",
       "      <td>0.263514</td>\n",
       "      <td>0.239528</td>\n",
       "      <td>-0.113970</td>\n",
       "      <td>-0.042163</td>\n",
       "      <td>0.036242</td>\n",
       "      <td>0.033561</td>\n",
       "      <td>1.000000</td>\n",
       "    </tr>\n",
       "  </tbody>\n",
       "</table>\n",
       "</div>"
      ],
      "text/plain": [
       "                          PREGNANCIES   GLUCOSE  BLOODPRESSURE  SKINTHICKNESS  \\\n",
       "PREGNANCIES                  1.000000  0.129459       0.141282      -0.081672   \n",
       "GLUCOSE                      0.129459  1.000000       0.152590       0.057328   \n",
       "BLOODPRESSURE                0.141282  0.152590       1.000000       0.207371   \n",
       "SKINTHICKNESS               -0.081672  0.057328       0.207371       1.000000   \n",
       "INSULIN                     -0.073535  0.331357       0.088933       0.436783   \n",
       "BMI                          0.017683  0.221071       0.281805       0.392573   \n",
       "DIABETESPEDIGREEFUNCTION    -0.033523  0.137337       0.041265       0.183928   \n",
       "AGE                          0.544341  0.263514       0.239528      -0.113970   \n",
       "\n",
       "                           INSULIN       BMI  DIABETESPEDIGREEFUNCTION  \\\n",
       "PREGNANCIES              -0.073535  0.017683                 -0.033523   \n",
       "GLUCOSE                   0.331357  0.221071                  0.137337   \n",
       "BLOODPRESSURE             0.088933  0.281805                  0.041265   \n",
       "SKINTHICKNESS             0.436783  0.392573                  0.183928   \n",
       "INSULIN                   1.000000  0.197859                  0.185071   \n",
       "BMI                       0.197859  1.000000                  0.140647   \n",
       "DIABETESPEDIGREEFUNCTION  0.185071  0.140647                  1.000000   \n",
       "AGE                      -0.042163  0.036242                  0.033561   \n",
       "\n",
       "                               AGE  \n",
       "PREGNANCIES               0.544341  \n",
       "GLUCOSE                   0.263514  \n",
       "BLOODPRESSURE             0.239528  \n",
       "SKINTHICKNESS            -0.113970  \n",
       "INSULIN                  -0.042163  \n",
       "BMI                       0.036242  \n",
       "DIABETESPEDIGREEFUNCTION  0.033561  \n",
       "AGE                       1.000000  "
      ]
     },
     "execution_count": 27,
     "metadata": {},
     "output_type": "execute_result"
    }
   ],
   "source": [
    "corr = df[num_cols].corr() \n",
    "corr"
   ]
  },
  {
   "cell_type": "code",
   "execution_count": 28,
   "id": "f95c7a4e",
   "metadata": {},
   "outputs": [],
   "source": [
    "def high_correlated_cols(dataframe, plot=False, corr_th=0.90):\n",
    "    corr = dataframe.corr()\n",
    "    corr_matrix = corr.abs()\n",
    "    upper_triangle_matrix = corr_matrix.where(np.triu(np.ones(corr_matrix.shape), k=1).astype(bool))\n",
    "    drop_list = [col for col in upper_triangle_matrix.columns if any(upper_triangle_matrix[col] > corr_th)]\n",
    "    if plot:\n",
    "        import seaborn as sns\n",
    "        import matplotlib.pyplot as plt\n",
    "        sns.set(rc={'figure.figsize': (15, 15)})\n",
    "        sns.heatmap(corr, cmap=\"RdBu\")\n",
    "        plt.show()\n",
    "    return drop_list"
   ]
  },
  {
   "cell_type": "code",
   "execution_count": 29,
   "id": "85d6fe0f",
   "metadata": {},
   "outputs": [
    {
     "data": {
      "image/png": "[encoded data removed]",
      "text/plain": [
       "<Figure size 1080x1080 with 2 Axes>"
      ]
     },
     "metadata": {},
     "output_type": "display_data"
    },
    {
     "data": {
      "text/plain": [
       "[]"
      ]
     },
     "execution_count": 29,
     "metadata": {},
     "output_type": "execute_result"
    }
   ],
   "source": [
    "high_correlated_cols(df, True)"
   ]
  },
  {
   "cell_type": "markdown",
   "id": "033f20fc",
   "metadata": {},
   "source": [
    "## TASK 8"
   ]
  },
  {
   "cell_type": "code",
   "execution_count": 30,
   "id": "ff8f86a4",
   "metadata": {},
   "outputs": [
    {
     "data": {
      "text/plain": [
       "PREGNANCIES                 0.901674\n",
       "GLUCOSE                     0.173754\n",
       "BLOODPRESSURE              -1.843608\n",
       "SKINTHICKNESS               0.109372\n",
       "INSULIN                     2.272251\n",
       "BMI                        -0.428982\n",
       "DIABETESPEDIGREEFUNCTION    1.919911\n",
       "AGE                         1.129597\n",
       "OUTCOME                     0.635017\n",
       "dtype: float64"
      ]
     },
     "execution_count": 30,
     "metadata": {},
     "output_type": "execute_result"
    }
   ],
   "source": [
    "df.skew(skipna=True)"
   ]
  },
  {
   "cell_type": "code",
   "execution_count": 43,
   "id": "3928891c",
   "metadata": {},
   "outputs": [],
   "source": [
    "df = df.apply(lambda x: x.fillna(x.mean()) if x.dtype != \"O\" else x, axis=0)\n",
    "df = df.apply(lambda x: x.fillna(x.mode()[0]) if (x.dtype == \"O\" and len(x.unique()) <= 10) else x, axis=0)"
   ]
  },
  {
   "cell_type": "code",
   "execution_count": 44,
   "id": "3d1801d3",
   "metadata": {},
   "outputs": [
    {
     "data": {
      "text/plain": [
       "PREGNANCIES                 0\n",
       "GLUCOSE                     0\n",
       "BLOODPRESSURE               0\n",
       "SKINTHICKNESS               0\n",
       "INSULIN                     0\n",
       "BMI                         0\n",
       "DIABETESPEDIGREEFUNCTION    0\n",
       "AGE                         0\n",
       "OUTCOME                     0\n",
       "dtype: int64"
      ]
     },
     "execution_count": 44,
     "metadata": {},
     "output_type": "execute_result"
    }
   ],
   "source": [
    "df.isnull().sum()"
   ]
  },
  {
   "cell_type": "code",
   "execution_count": 45,
   "id": "431815b9",
   "metadata": {},
   "outputs": [],
   "source": [
    "zero_to_nan_cols = ['GLUCOSE', 'BLOODPRESSURE', 'SKINTHICKNESS', 'INSULIN', 'BMI']"
   ]
  },
  {
   "cell_type": "code",
   "execution_count": 46,
   "id": "78193354",
   "metadata": {},
   "outputs": [],
   "source": [
    "for col in zero_to_nan_cols:\n",
    "    df[col] = df[col].replace({'0':np.nan, 0:np.nan})\n",
    "    "
   ]
  },
  {
   "cell_type": "code",
   "execution_count": 47,
   "id": "d8fa98dc",
   "metadata": {},
   "outputs": [
    {
     "name": "stdout",
     "output_type": "stream",
     "text": [
      "Empty DataFrame\n",
      "Columns: [n_miss, ratio]\n",
      "Index: []\n"
     ]
    }
   ],
   "source": [
    "missing_values_table(df)"
   ]
  },
  {
   "cell_type": "code",
   "execution_count": 48,
   "id": "e42ae5ff",
   "metadata": {
    "scrolled": true
   },
   "outputs": [
    {
     "name": "stdout",
     "output_type": "stream",
     "text": [
      "                 TARGET_MEAN  Count\n",
      "GLUCOSE_NA_FLAG                    \n",
      "0                   0.348958    768\n",
      "\n",
      "\n",
      "                       TARGET_MEAN  Count\n",
      "BLOODPRESSURE_NA_FLAG                    \n",
      "0                         0.348958    768\n",
      "\n",
      "\n",
      "                       TARGET_MEAN  Count\n",
      "SKINTHICKNESS_NA_FLAG                    \n",
      "0                         0.348958    768\n",
      "\n",
      "\n",
      "                 TARGET_MEAN  Count\n",
      "INSULIN_NA_FLAG                    \n",
      "0                   0.348958    768\n",
      "\n",
      "\n",
      "             TARGET_MEAN  Count\n",
      "BMI_NA_FLAG                    \n",
      "0               0.348958    768\n",
      "\n",
      "\n"
     ]
    }
   ],
   "source": [
    "missing_vs_target(df, 'OUTCOME', zero_to_nan_cols)"
   ]
  },
  {
   "cell_type": "code",
   "execution_count": 49,
   "id": "957c9a7d",
   "metadata": {
    "scrolled": true
   },
   "outputs": [
    {
     "name": "stdout",
     "output_type": "stream",
     "text": [
      "<class 'pandas.core.frame.DataFrame'>\n",
      "RangeIndex: 768 entries, 0 to 767\n",
      "Data columns (total 9 columns):\n",
      " #   Column                    Non-Null Count  Dtype  \n",
      "---  ------                    --------------  -----  \n",
      " 0   PREGNANCIES               768 non-null    float64\n",
      " 1   GLUCOSE                   768 non-null    float64\n",
      " 2   BLOODPRESSURE             768 non-null    float64\n",
      " 3   SKINTHICKNESS             768 non-null    float64\n",
      " 4   INSULIN                   768 non-null    float64\n",
      " 5   BMI                       768 non-null    float64\n",
      " 6   DIABETESPEDIGREEFUNCTION  768 non-null    float64\n",
      " 7   AGE                       768 non-null    float64\n",
      " 8   OUTCOME                   768 non-null    int64  \n",
      "dtypes: float64(8), int64(1)\n",
      "memory usage: 54.1 KB\n"
     ]
    }
   ],
   "source": [
    "df.info()"
   ]
  },
  {
   "cell_type": "code",
   "execution_count": 50,
   "id": "8b5e4fc7",
   "metadata": {},
   "outputs": [],
   "source": [
    "def replace_with_thresholds(dataframe, col_name):\n",
    "    low, up = outlier_thresholds(dataframe, col_name)\n",
    "\n",
    "    dataframe.loc[dataframe[col_name] > up, col_name] = up\n",
    "    dataframe.loc[dataframe[col_name] < low, col_name] = low"
   ]
  },
  {
   "cell_type": "code",
   "execution_count": 51,
   "id": "623781f5",
   "metadata": {
    "scrolled": true
   },
   "outputs": [],
   "source": [
    "for col in num_cols:\n",
    "    replace_with_thresholds(df, col)"
   ]
  },
  {
   "cell_type": "code",
   "execution_count": 52,
   "id": "0ebbdfce",
   "metadata": {},
   "outputs": [
    {
     "name": "stdout",
     "output_type": "stream",
     "text": [
      "PREGNANCIES False\n",
      "GLUCOSE False\n",
      "BLOODPRESSURE False\n",
      "SKINTHICKNESS False\n",
      "INSULIN False\n",
      "BMI False\n",
      "DIABETESPEDIGREEFUNCTION False\n",
      "AGE False\n"
     ]
    }
   ],
   "source": [
    "for col in num_cols:\n",
    "    print(col, check_outlier(df, col))"
   ]
  },
  {
   "cell_type": "code",
   "execution_count": 53,
   "id": "4a647137",
   "metadata": {},
   "outputs": [],
   "source": [
    "clf = LocalOutlierFactor(n_neighbors=20)"
   ]
  },
  {
   "cell_type": "code",
   "execution_count": 54,
   "id": "91e8e615",
   "metadata": {
    "scrolled": true
   },
   "outputs": [
    {
     "data": {
      "text/plain": [
       "array([ 1,  1,  1,  1,  1,  1,  1,  1,  1,  1,  1,  1,  1,  1,  1,  1,  1,\n",
       "        1,  1,  1,  1,  1,  1,  1,  1,  1,  1,  1,  1,  1,  1,  1,  1,  1,\n",
       "        1,  1,  1,  1,  1,  1,  1,  1,  1,  1,  1,  1,  1,  1,  1,  1,  1,\n",
       "        1,  1,  1,  1,  1,  1,  1,  1,  1,  1,  1, -1,  1,  1,  1,  1,  1,\n",
       "        1,  1,  1,  1,  1,  1,  1,  1,  1,  1,  1,  1,  1,  1,  1,  1,  1,\n",
       "        1,  1,  1,  1,  1,  1,  1,  1,  1,  1,  1,  1,  1,  1,  1,  1,  1,\n",
       "        1,  1,  1,  1,  1,  1,  1,  1,  1,  1,  1,  1,  1,  1,  1,  1,  1,\n",
       "        1,  1,  1,  1,  1,  1, -1,  1,  1,  1,  1,  1,  1,  1,  1,  1,  1,\n",
       "        1,  1,  1,  1,  1,  1,  1,  1,  1,  1,  1,  1,  1,  1,  1,  1,  1,\n",
       "        1,  1,  1,  1,  1,  1,  1,  1,  1,  1,  1,  1,  1,  1,  1,  1,  1,\n",
       "        1,  1,  1,  1,  1,  1,  1, -1,  1,  1,  1,  1,  1,  1,  1,  1,  1,\n",
       "        1,  1,  1,  1,  1,  1,  1,  1,  1,  1,  1,  1,  1,  1,  1,  1,  1,\n",
       "        1,  1,  1,  1,  1,  1,  1,  1,  1,  1,  1,  1,  1,  1,  1,  1,  1,\n",
       "        1,  1,  1,  1,  1,  1,  1,  1,  1,  1,  1,  1,  1,  1,  1,  1,  1,\n",
       "        1,  1,  1,  1,  1,  1,  1,  1,  1,  1,  1,  1,  1,  1,  1,  1,  1,\n",
       "        1,  1,  1,  1,  1,  1,  1,  1,  1,  1,  1,  1,  1,  1,  1,  1,  1,\n",
       "        1,  1,  1,  1,  1,  1,  1,  1,  1,  1,  1,  1,  1,  1,  1,  1,  1,\n",
       "        1,  1,  1,  1,  1, -1,  1,  1,  1,  1,  1,  1,  1,  1,  1,  1,  1,\n",
       "        1,  1,  1,  1,  1,  1,  1,  1,  1,  1,  1,  1,  1,  1,  1,  1,  1,\n",
       "        1,  1,  1,  1,  1,  1,  1,  1,  1,  1,  1,  1,  1,  1,  1,  1,  1,\n",
       "        1,  1,  1,  1,  1,  1,  1,  1,  1,  1,  1,  1,  1,  1,  1,  1,  1,\n",
       "        1,  1,  1,  1,  1,  1,  1,  1,  1,  1,  1,  1,  1,  1,  1,  1,  1,\n",
       "        1,  1,  1,  1,  1,  1,  1,  1,  1,  1,  1,  1,  1,  1,  1,  1,  1,\n",
       "        1,  1,  1,  1,  1,  1,  1,  1,  1,  1,  1,  1,  1,  1,  1,  1,  1,\n",
       "        1,  1,  1,  1,  1,  1,  1,  1,  1,  1,  1,  1,  1,  1,  1,  1,  1,\n",
       "        1,  1,  1,  1,  1,  1,  1,  1,  1,  1,  1,  1,  1,  1,  1,  1,  1,\n",
       "        1,  1,  1, -1,  1,  1,  1,  1,  1,  1,  1,  1,  1,  1,  1,  1,  1,\n",
       "        1,  1,  1,  1,  1,  1,  1,  1,  1,  1,  1,  1,  1,  1,  1,  1,  1,\n",
       "        1,  1,  1,  1,  1,  1,  1, -1,  1,  1,  1,  1,  1,  1,  1,  1,  1,\n",
       "        1,  1,  1,  1,  1,  1,  1,  1,  1,  1,  1,  1,  1,  1,  1,  1,  1,\n",
       "        1,  1,  1,  1,  1,  1,  1,  1,  1, -1,  1,  1,  1,  1,  1,  1,  1,\n",
       "        1,  1,  1,  1,  1,  1,  1,  1,  1,  1, -1,  1,  1,  1,  1,  1,  1,\n",
       "        1,  1,  1,  1,  1,  1,  1,  1,  1,  1,  1,  1,  1,  1,  1,  1,  1,\n",
       "        1,  1,  1,  1,  1,  1, -1,  1,  1,  1,  1,  1,  1,  1,  1, -1,  1,\n",
       "        1,  1,  1,  1,  1,  1,  1,  1,  1,  1,  1,  1,  1,  1,  1,  1,  1,\n",
       "        1,  1,  1,  1,  1,  1,  1,  1,  1,  1,  1,  1,  1,  1,  1,  1,  1,\n",
       "        1,  1,  1,  1,  1,  1,  1,  1,  1,  1,  1,  1,  1,  1,  1,  1,  1,\n",
       "        1,  1,  1,  1,  1,  1,  1,  1,  1,  1,  1,  1,  1,  1,  1,  1,  1,\n",
       "        1,  1,  1,  1,  1,  1,  1,  1,  1,  1,  1,  1,  1,  1,  1,  1,  1,\n",
       "        1,  1,  1,  1,  1,  1,  1,  1,  1, -1,  1,  1,  1,  1,  1,  1,  1,\n",
       "       -1,  1,  1,  1,  1,  1,  1,  1,  1,  1,  1,  1,  1,  1,  1,  1,  1,\n",
       "        1,  1,  1,  1,  1,  1,  1,  1,  1,  1,  1,  1,  1,  1,  1,  1,  1,\n",
       "        1,  1,  1,  1,  1,  1,  1,  1,  1,  1,  1,  1,  1,  1,  1,  1,  1,\n",
       "        1,  1, -1,  1,  1,  1,  1,  1,  1,  1,  1,  1,  1,  1,  1,  1,  1,\n",
       "        1,  1,  1,  1,  1,  1,  1,  1,  1,  1,  1,  1,  1,  1,  1,  1,  1,\n",
       "        1,  1,  1])"
      ]
     },
     "execution_count": 54,
     "metadata": {},
     "output_type": "execute_result"
    }
   ],
   "source": [
    "clf.fit_predict(df)"
   ]
  },
  {
   "cell_type": "code",
   "execution_count": 55,
   "id": "4340a446",
   "metadata": {},
   "outputs": [
    {
     "data": {
      "image/png": "[encoded data removed]",
      "text/plain": [
       "<Figure size 1080x1080 with 1 Axes>"
      ]
     },
     "metadata": {},
     "output_type": "display_data"
    }
   ],
   "source": [
    "df_scores = clf.negative_outlier_factor_\n",
    "sorted_df_scores = np.sort(df_scores)\n",
    "scores = pd.DataFrame(sorted_df_scores)\n",
    "scores.plot(stacked=True, xlim=[0, 20], style='.-')\n",
    "plt.show()"
   ]
  },
  {
   "cell_type": "code",
   "execution_count": 56,
   "id": "10ad9d92",
   "metadata": {},
   "outputs": [
    {
     "data": {
      "text/html": [
       "<div>\n",
       "<style scoped>\n",
       "    .dataframe tbody tr th:only-of-type {\n",
       "        vertical-align: middle;\n",
       "    }\n",
       "\n",
       "    .dataframe tbody tr th {\n",
       "        vertical-align: top;\n",
       "    }\n",
       "\n",
       "    .dataframe thead th {\n",
       "        text-align: right;\n",
       "    }\n",
       "</style>\n",
       "<table border=\"1\" class=\"dataframe\">\n",
       "  <thead>\n",
       "    <tr style=\"text-align: right;\">\n",
       "      <th></th>\n",
       "      <th>0</th>\n",
       "    </tr>\n",
       "  </thead>\n",
       "  <tbody>\n",
       "    <tr>\n",
       "      <th>0</th>\n",
       "      <td>-1.841836</td>\n",
       "    </tr>\n",
       "    <tr>\n",
       "      <th>1</th>\n",
       "      <td>-1.800494</td>\n",
       "    </tr>\n",
       "    <tr>\n",
       "      <th>2</th>\n",
       "      <td>-1.649855</td>\n",
       "    </tr>\n",
       "    <tr>\n",
       "      <th>3</th>\n",
       "      <td>-1.645828</td>\n",
       "    </tr>\n",
       "    <tr>\n",
       "      <th>4</th>\n",
       "      <td>-1.632223</td>\n",
       "    </tr>\n",
       "    <tr>\n",
       "      <th>5</th>\n",
       "      <td>-1.622978</td>\n",
       "    </tr>\n",
       "    <tr>\n",
       "      <th>6</th>\n",
       "      <td>-1.590061</td>\n",
       "    </tr>\n",
       "    <tr>\n",
       "      <th>7</th>\n",
       "      <td>-1.534604</td>\n",
       "    </tr>\n",
       "    <tr>\n",
       "      <th>8</th>\n",
       "      <td>-1.532342</td>\n",
       "    </tr>\n",
       "    <tr>\n",
       "      <th>9</th>\n",
       "      <td>-1.513833</td>\n",
       "    </tr>\n",
       "    <tr>\n",
       "      <th>10</th>\n",
       "      <td>-1.513714</td>\n",
       "    </tr>\n",
       "    <tr>\n",
       "      <th>11</th>\n",
       "      <td>-1.506166</td>\n",
       "    </tr>\n",
       "    <tr>\n",
       "      <th>12</th>\n",
       "      <td>-1.502943</td>\n",
       "    </tr>\n",
       "    <tr>\n",
       "      <th>13</th>\n",
       "      <td>-1.490141</td>\n",
       "    </tr>\n",
       "    <tr>\n",
       "      <th>14</th>\n",
       "      <td>-1.487349</td>\n",
       "    </tr>\n",
       "    <tr>\n",
       "      <th>15</th>\n",
       "      <td>-1.473606</td>\n",
       "    </tr>\n",
       "    <tr>\n",
       "      <th>16</th>\n",
       "      <td>-1.458930</td>\n",
       "    </tr>\n",
       "    <tr>\n",
       "      <th>17</th>\n",
       "      <td>-1.446074</td>\n",
       "    </tr>\n",
       "    <tr>\n",
       "      <th>18</th>\n",
       "      <td>-1.441916</td>\n",
       "    </tr>\n",
       "    <tr>\n",
       "      <th>19</th>\n",
       "      <td>-1.432746</td>\n",
       "    </tr>\n",
       "  </tbody>\n",
       "</table>\n",
       "</div>"
      ],
      "text/plain": [
       "           0\n",
       "0  -1.841836\n",
       "1  -1.800494\n",
       "2  -1.649855\n",
       "3  -1.645828\n",
       "4  -1.632223\n",
       "5  -1.622978\n",
       "6  -1.590061\n",
       "7  -1.534604\n",
       "8  -1.532342\n",
       "9  -1.513833\n",
       "10 -1.513714\n",
       "11 -1.506166\n",
       "12 -1.502943\n",
       "13 -1.490141\n",
       "14 -1.487349\n",
       "15 -1.473606\n",
       "16 -1.458930\n",
       "17 -1.446074\n",
       "18 -1.441916\n",
       "19 -1.432746"
      ]
     },
     "execution_count": 56,
     "metadata": {},
     "output_type": "execute_result"
    }
   ],
   "source": [
    "scores.head(20)"
   ]
  },
  {
   "cell_type": "code",
   "execution_count": 57,
   "id": "715cd5d5",
   "metadata": {},
   "outputs": [
    {
     "data": {
      "text/plain": [
       "-1.5346044397866696"
      ]
     },
     "execution_count": 57,
     "metadata": {},
     "output_type": "execute_result"
    }
   ],
   "source": [
    "th = sorted_df_scores[7]\n",
    "th"
   ]
  },
  {
   "cell_type": "code",
   "execution_count": 58,
   "id": "54cdaec4",
   "metadata": {},
   "outputs": [
    {
     "data": {
      "text/html": [
       "<div>\n",
       "<style scoped>\n",
       "    .dataframe tbody tr th:only-of-type {\n",
       "        vertical-align: middle;\n",
       "    }\n",
       "\n",
       "    .dataframe tbody tr th {\n",
       "        vertical-align: top;\n",
       "    }\n",
       "\n",
       "    .dataframe thead th {\n",
       "        text-align: right;\n",
       "    }\n",
       "</style>\n",
       "<table border=\"1\" class=\"dataframe\">\n",
       "  <thead>\n",
       "    <tr style=\"text-align: right;\">\n",
       "      <th></th>\n",
       "      <th>count</th>\n",
       "      <th>mean</th>\n",
       "      <th>std</th>\n",
       "      <th>min</th>\n",
       "      <th>1%</th>\n",
       "      <th>5%</th>\n",
       "      <th>50%</th>\n",
       "      <th>75%</th>\n",
       "      <th>90%</th>\n",
       "      <th>99%</th>\n",
       "      <th>max</th>\n",
       "    </tr>\n",
       "  </thead>\n",
       "  <tbody>\n",
       "    <tr>\n",
       "      <th>PREGNANCIES</th>\n",
       "      <td>768.0</td>\n",
       "      <td>3.837240</td>\n",
       "      <td>3.344157</td>\n",
       "      <td>0.000</td>\n",
       "      <td>0.00000</td>\n",
       "      <td>0.00000</td>\n",
       "      <td>3.000000</td>\n",
       "      <td>6.00000</td>\n",
       "      <td>9.0000</td>\n",
       "      <td>13.0000</td>\n",
       "      <td>13.50</td>\n",
       "    </tr>\n",
       "    <tr>\n",
       "      <th>GLUCOSE</th>\n",
       "      <td>768.0</td>\n",
       "      <td>121.686763</td>\n",
       "      <td>30.435949</td>\n",
       "      <td>44.000</td>\n",
       "      <td>67.67000</td>\n",
       "      <td>80.00000</td>\n",
       "      <td>117.000000</td>\n",
       "      <td>140.25000</td>\n",
       "      <td>167.0000</td>\n",
       "      <td>196.0000</td>\n",
       "      <td>199.00</td>\n",
       "    </tr>\n",
       "    <tr>\n",
       "      <th>BLOODPRESSURE</th>\n",
       "      <td>768.0</td>\n",
       "      <td>72.375171</td>\n",
       "      <td>11.696835</td>\n",
       "      <td>40.000</td>\n",
       "      <td>44.00000</td>\n",
       "      <td>52.00000</td>\n",
       "      <td>72.187585</td>\n",
       "      <td>80.00000</td>\n",
       "      <td>88.0000</td>\n",
       "      <td>104.0000</td>\n",
       "      <td>104.00</td>\n",
       "    </tr>\n",
       "    <tr>\n",
       "      <th>SKINTHICKNESS</th>\n",
       "      <td>768.0</td>\n",
       "      <td>28.884020</td>\n",
       "      <td>7.442716</td>\n",
       "      <td>14.500</td>\n",
       "      <td>14.50000</td>\n",
       "      <td>14.67500</td>\n",
       "      <td>29.059150</td>\n",
       "      <td>32.00000</td>\n",
       "      <td>40.0000</td>\n",
       "      <td>42.5000</td>\n",
       "      <td>42.50</td>\n",
       "    </tr>\n",
       "    <tr>\n",
       "      <th>INSULIN</th>\n",
       "      <td>768.0</td>\n",
       "      <td>138.552083</td>\n",
       "      <td>31.001586</td>\n",
       "      <td>84.000</td>\n",
       "      <td>84.00000</td>\n",
       "      <td>84.00000</td>\n",
       "      <td>146.500000</td>\n",
       "      <td>146.50000</td>\n",
       "      <td>184.0000</td>\n",
       "      <td>184.0000</td>\n",
       "      <td>184.00</td>\n",
       "    </tr>\n",
       "    <tr>\n",
       "      <th>BMI</th>\n",
       "      <td>768.0</td>\n",
       "      <td>32.394716</td>\n",
       "      <td>6.667462</td>\n",
       "      <td>18.200</td>\n",
       "      <td>19.50000</td>\n",
       "      <td>22.23500</td>\n",
       "      <td>32.394716</td>\n",
       "      <td>36.60000</td>\n",
       "      <td>41.5000</td>\n",
       "      <td>50.0825</td>\n",
       "      <td>50.25</td>\n",
       "    </tr>\n",
       "    <tr>\n",
       "      <th>DIABETESPEDIGREEFUNCTION</th>\n",
       "      <td>768.0</td>\n",
       "      <td>0.458914</td>\n",
       "      <td>0.285596</td>\n",
       "      <td>0.078</td>\n",
       "      <td>0.09468</td>\n",
       "      <td>0.14035</td>\n",
       "      <td>0.372500</td>\n",
       "      <td>0.62625</td>\n",
       "      <td>0.8786</td>\n",
       "      <td>1.2000</td>\n",
       "      <td>1.20</td>\n",
       "    </tr>\n",
       "    <tr>\n",
       "      <th>AGE</th>\n",
       "      <td>768.0</td>\n",
       "      <td>33.199870</td>\n",
       "      <td>11.628404</td>\n",
       "      <td>21.000</td>\n",
       "      <td>21.00000</td>\n",
       "      <td>21.00000</td>\n",
       "      <td>29.000000</td>\n",
       "      <td>41.00000</td>\n",
       "      <td>51.0000</td>\n",
       "      <td>66.5000</td>\n",
       "      <td>66.50</td>\n",
       "    </tr>\n",
       "    <tr>\n",
       "      <th>OUTCOME</th>\n",
       "      <td>768.0</td>\n",
       "      <td>0.348958</td>\n",
       "      <td>0.476951</td>\n",
       "      <td>0.000</td>\n",
       "      <td>0.00000</td>\n",
       "      <td>0.00000</td>\n",
       "      <td>0.000000</td>\n",
       "      <td>1.00000</td>\n",
       "      <td>1.0000</td>\n",
       "      <td>1.0000</td>\n",
       "      <td>1.00</td>\n",
       "    </tr>\n",
       "  </tbody>\n",
       "</table>\n",
       "</div>"
      ],
      "text/plain": [
       "                          count        mean        std     min        1%  \\\n",
       "PREGNANCIES               768.0    3.837240   3.344157   0.000   0.00000   \n",
       "GLUCOSE                   768.0  121.686763  30.435949  44.000  67.67000   \n",
       "BLOODPRESSURE             768.0   72.375171  11.696835  40.000  44.00000   \n",
       "SKINTHICKNESS             768.0   28.884020   7.442716  14.500  14.50000   \n",
       "INSULIN                   768.0  138.552083  31.001586  84.000  84.00000   \n",
       "BMI                       768.0   32.394716   6.667462  18.200  19.50000   \n",
       "DIABETESPEDIGREEFUNCTION  768.0    0.458914   0.285596   0.078   0.09468   \n",
       "AGE                       768.0   33.199870  11.628404  21.000  21.00000   \n",
       "OUTCOME                   768.0    0.348958   0.476951   0.000   0.00000   \n",
       "\n",
       "                                5%         50%        75%       90%       99%  \\\n",
       "PREGNANCIES                0.00000    3.000000    6.00000    9.0000   13.0000   \n",
       "GLUCOSE                   80.00000  117.000000  140.25000  167.0000  196.0000   \n",
       "BLOODPRESSURE             52.00000   72.187585   80.00000   88.0000  104.0000   \n",
       "SKINTHICKNESS             14.67500   29.059150   32.00000   40.0000   42.5000   \n",
       "INSULIN                   84.00000  146.500000  146.50000  184.0000  184.0000   \n",
       "BMI                       22.23500   32.394716   36.60000   41.5000   50.0825   \n",
       "DIABETESPEDIGREEFUNCTION   0.14035    0.372500    0.62625    0.8786    1.2000   \n",
       "AGE                       21.00000   29.000000   41.00000   51.0000   66.5000   \n",
       "OUTCOME                    0.00000    0.000000    1.00000    1.0000    1.0000   \n",
       "\n",
       "                             max  \n",
       "PREGNANCIES                13.50  \n",
       "GLUCOSE                   199.00  \n",
       "BLOODPRESSURE             104.00  \n",
       "SKINTHICKNESS              42.50  \n",
       "INSULIN                   184.00  \n",
       "BMI                        50.25  \n",
       "DIABETESPEDIGREEFUNCTION    1.20  \n",
       "AGE                        66.50  \n",
       "OUTCOME                     1.00  "
      ]
     },
     "execution_count": 58,
     "metadata": {},
     "output_type": "execute_result"
    }
   ],
   "source": [
    "df.describe([0.01, 0.05, 0.75, 0.90, 0.99]).T"
   ]
  },
  {
   "cell_type": "code",
   "execution_count": 59,
   "id": "5161e100",
   "metadata": {},
   "outputs": [
    {
     "data": {
      "text/plain": [
       "(7, 9)"
      ]
     },
     "execution_count": 59,
     "metadata": {},
     "output_type": "execute_result"
    }
   ],
   "source": [
    "df[df_scores < th].shape"
   ]
  },
  {
   "cell_type": "code",
   "execution_count": 60,
   "id": "9891856a",
   "metadata": {},
   "outputs": [
    {
     "data": {
      "text/plain": [
       "Int64Index([62, 125, 483, 537, 576, 672, 680], dtype='int64')"
      ]
     },
     "execution_count": 60,
     "metadata": {},
     "output_type": "execute_result"
    }
   ],
   "source": [
    "df[df_scores < th].index"
   ]
  },
  {
   "cell_type": "code",
   "execution_count": 61,
   "id": "6da558e0",
   "metadata": {},
   "outputs": [],
   "source": [
    "df.drop(axis=0, labels=df[df_scores < th].index, inplace=True)"
   ]
  },
  {
   "cell_type": "markdown",
   "id": "552fcc18",
   "metadata": {},
   "source": [
    "## TASK 9"
   ]
  },
  {
   "cell_type": "code",
   "execution_count": 63,
   "id": "b7632667",
   "metadata": {},
   "outputs": [],
   "source": [
    "df['NEW_PREGNANCY3ORMORE_FLAG'] = df['PREGNANCIES'].apply(lambda x: 1 if x > 2 else 0)"
   ]
  },
  {
   "cell_type": "code",
   "execution_count": 64,
   "id": "95e1da17",
   "metadata": {},
   "outputs": [
    {
     "data": {
      "text/html": [
       "<div>\n",
       "<style scoped>\n",
       "    .dataframe tbody tr th:only-of-type {\n",
       "        vertical-align: middle;\n",
       "    }\n",
       "\n",
       "    .dataframe tbody tr th {\n",
       "        vertical-align: top;\n",
       "    }\n",
       "\n",
       "    .dataframe thead th {\n",
       "        text-align: right;\n",
       "    }\n",
       "</style>\n",
       "<table border=\"1\" class=\"dataframe\">\n",
       "  <thead>\n",
       "    <tr style=\"text-align: right;\">\n",
       "      <th></th>\n",
       "      <th>OUTCOME</th>\n",
       "    </tr>\n",
       "    <tr>\n",
       "      <th>NEW_PREGNANCY3ORMORE_FLAG</th>\n",
       "      <th></th>\n",
       "    </tr>\n",
       "  </thead>\n",
       "  <tbody>\n",
       "    <tr>\n",
       "      <th>0</th>\n",
       "      <td>0.246377</td>\n",
       "    </tr>\n",
       "    <tr>\n",
       "      <th>1</th>\n",
       "      <td>0.437500</td>\n",
       "    </tr>\n",
       "  </tbody>\n",
       "</table>\n",
       "</div>"
      ],
      "text/plain": [
       "                            OUTCOME\n",
       "NEW_PREGNANCY3ORMORE_FLAG          \n",
       "0                          0.246377\n",
       "1                          0.437500"
      ]
     },
     "execution_count": 64,
     "metadata": {},
     "output_type": "execute_result"
    }
   ],
   "source": [
    "df.groupby('NEW_PREGNANCY3ORMORE_FLAG').agg({'OUTCOME': 'mean'})"
   ]
  },
  {
   "cell_type": "code",
   "execution_count": 65,
   "id": "56680f96",
   "metadata": {
    "scrolled": true
   },
   "outputs": [
    {
     "data": {
      "text/html": [
       "<div>\n",
       "<style scoped>\n",
       "    .dataframe tbody tr th:only-of-type {\n",
       "        vertical-align: middle;\n",
       "    }\n",
       "\n",
       "    .dataframe tbody tr th {\n",
       "        vertical-align: top;\n",
       "    }\n",
       "\n",
       "    .dataframe thead th {\n",
       "        text-align: right;\n",
       "    }\n",
       "</style>\n",
       "<table border=\"1\" class=\"dataframe\">\n",
       "  <thead>\n",
       "    <tr style=\"text-align: right;\">\n",
       "      <th></th>\n",
       "      <th>PREGNANCIES</th>\n",
       "      <th>NEW_PREGNANCY3ORMORE_FLAG</th>\n",
       "    </tr>\n",
       "  </thead>\n",
       "  <tbody>\n",
       "    <tr>\n",
       "      <th>0</th>\n",
       "      <td>6.0</td>\n",
       "      <td>1</td>\n",
       "    </tr>\n",
       "    <tr>\n",
       "      <th>1</th>\n",
       "      <td>1.0</td>\n",
       "      <td>0</td>\n",
       "    </tr>\n",
       "    <tr>\n",
       "      <th>2</th>\n",
       "      <td>8.0</td>\n",
       "      <td>1</td>\n",
       "    </tr>\n",
       "    <tr>\n",
       "      <th>3</th>\n",
       "      <td>1.0</td>\n",
       "      <td>0</td>\n",
       "    </tr>\n",
       "    <tr>\n",
       "      <th>4</th>\n",
       "      <td>0.0</td>\n",
       "      <td>0</td>\n",
       "    </tr>\n",
       "  </tbody>\n",
       "</table>\n",
       "</div>"
      ],
      "text/plain": [
       "   PREGNANCIES  NEW_PREGNANCY3ORMORE_FLAG\n",
       "0          6.0                          1\n",
       "1          1.0                          0\n",
       "2          8.0                          1\n",
       "3          1.0                          0\n",
       "4          0.0                          0"
      ]
     },
     "execution_count": 65,
     "metadata": {},
     "output_type": "execute_result"
    }
   ],
   "source": [
    "df[['PREGNANCIES', 'NEW_PREGNANCY3ORMORE_FLAG']].head()"
   ]
  },
  {
   "cell_type": "code",
   "execution_count": 66,
   "id": "51d34359",
   "metadata": {},
   "outputs": [
    {
     "name": "stdout",
     "output_type": "stream",
     "text": [
      "Test Stat = 5.4997, p-value = 0.0000\n"
     ]
    }
   ],
   "source": [
    "from statsmodels.stats.proportion import proportions_ztest\n",
    "\n",
    "test_stat, pvalue = proportions_ztest(count=[df.loc[df[\"NEW_PREGNANCY3ORMORE_FLAG\"] == 1, \"OUTCOME\"].sum(),\n",
    "                                             df.loc[df[\"NEW_PREGNANCY3ORMORE_FLAG\"] == 0, \"OUTCOME\"].sum()],\n",
    "\n",
    "                                      nobs=[df.loc[df[\"NEW_PREGNANCY3ORMORE_FLAG\"] == 1, \"OUTCOME\"].shape[0],\n",
    "                                            df.loc[df[\"NEW_PREGNANCY3ORMORE_FLAG\"] == 0, \"OUTCOME\"].shape[0]])\n",
    "\n",
    "print('Test Stat = %.4f, p-value = %.4f' % (test_stat, pvalue))"
   ]
  },
  {
   "cell_type": "code",
   "execution_count": 67,
   "id": "54efc037",
   "metadata": {},
   "outputs": [],
   "source": [
    "df.loc[df['AGE'] <= 29, 'NEW_AGE_CAT'] = 'young'\n",
    "\n",
    "df.loc[df['AGE'] > 29 & (df['AGE'] < 41), 'NEW_AGE_CAT'] = 'mature'\n",
    "\n",
    "df.loc[df['AGE'] >= 41, 'NEW_AGE_CAT'] = 'senior'"
   ]
  },
  {
   "cell_type": "code",
   "execution_count": 68,
   "id": "13b45208",
   "metadata": {},
   "outputs": [],
   "source": [
    "df.loc[(df['NEW_PREGNANCY3ORMORE_FLAG'] == 0) & (df['AGE'] <= 29), 'NEW_AGE_PREG'] = 'lesspregyoung'\n",
    "\n",
    "df.loc[(df['NEW_PREGNANCY3ORMORE_FLAG'] == 0) & (df['AGE'] > 29) & (df['AGE'] < 41), 'NEW_AGE_PREG'] = 'lesspregmature'\n",
    "\n",
    "df.loc[(df['NEW_PREGNANCY3ORMORE_FLAG'] == 0) & (df['AGE'] >= 41), 'NEW_AGE_PREG'] = 'lesspregsenior'\n",
    "\n",
    "df.loc[(df['NEW_PREGNANCY3ORMORE_FLAG'] == 1) & (df['AGE'] <= 29), 'NEW_AGE_PREG'] = 'morepregyoung'\n",
    "\n",
    "df.loc[(df['NEW_PREGNANCY3ORMORE_FLAG'] == 1) & (df['AGE'] > 29) & (df['AGE'] < 41), 'NEW_AGE_PREG'] = 'morepregmature'\n",
    "\n",
    "df.loc[(df['NEW_PREGNANCY3ORMORE_FLAG'] == 1) & (df['AGE'] >= 41), 'NEW_AGE_PREG'] = 'morepregsenior'"
   ]
  },
  {
   "cell_type": "code",
   "execution_count": 69,
   "id": "4e22c134",
   "metadata": {},
   "outputs": [],
   "source": [
    "df.loc[(17 <= df['BMI']) & ( df['BMI'] < 18.5 ), 'NEW_BMI_CAT'] = 'underweight'\n",
    "\n",
    "df.loc[(18.5 <= df['BMI']) & ( df['BMI'] < 25), 'NEW_BMI_CAT'] = 'normal'\n",
    "\n",
    "df.loc[(25 <= df['BMI']) & ( df['BMI']  < 30), 'NEW_BMI_CAT'] = 'overweight'\n",
    "\n",
    "df.loc[(30 <= df['BMI']) & ( df['BMI'] < 35), 'NEW_BMI_CAT'] = 'obeseI'\n",
    "\n",
    "df.loc[(35 <= df['BMI']) & ( df['BMI'] < 40), 'NEW_BMI_CAT'] = 'obeseII'\n",
    "\n",
    "df.loc[(40 <= df['BMI']), 'NEW_BMI_CAT'] = 'obeseIII'"
   ]
  },
  {
   "cell_type": "code",
   "execution_count": 70,
   "id": "c5301942",
   "metadata": {},
   "outputs": [],
   "source": [
    "df.loc[(0 <= df['GLUCOSE']) & (df['GLUCOSE'] < 100 ), 'NEW_GLUCOSE_CAT'] = 'lowglucose'\n",
    "\n",
    "df.loc[(100 <= df['GLUCOSE']) & (df['GLUCOSE'] < 140 ), 'NEW_GLUCOSE_CAT'] = 'normalglucose'\n",
    "\n",
    "df.loc[(140 <= df['GLUCOSE']) & (df['GLUCOSE'] < 200 ), 'NEW_GLUCOSE_CAT'] = 'highglucose'\n",
    "\n",
    "df.loc[(200 <= df['GLUCOSE']), 'NEW_GLUCOSE_CAT'] = 'toohighglucose'"
   ]
  },
  {
   "cell_type": "code",
   "execution_count": 71,
   "id": "ccf3be57",
   "metadata": {},
   "outputs": [],
   "source": [
    "df['NEW_AGE_BMI'] = df['AGE'] * df['BMI']"
   ]
  },
  {
   "cell_type": "code",
   "execution_count": 72,
   "id": "87e87a3d",
   "metadata": {},
   "outputs": [],
   "source": [
    "df['NEW_BMI_INSULIN'] = df['BMI'] * df['INSULIN']"
   ]
  },
  {
   "cell_type": "code",
   "execution_count": 73,
   "id": "b537d30d",
   "metadata": {},
   "outputs": [],
   "source": [
    "df.loc[(80 > df['BLOODPRESSURE']), 'NEW_BLOODPRESSURE_CAT'] = 'normalbloodpressure'\n",
    "\n",
    "df.loc[(80 <= df['BLOODPRESSURE']) & (90 > df['BLOODPRESSURE']), 'NEW_BLOODPRESSURE_CAT'] = 'elevatedbloodpressure'\n",
    "\n",
    "df.loc[ (90 < df['BLOODPRESSURE']), 'NEW_BLOODPRESSURE_CAT'] = 'highbloodpressure'"
   ]
  },
  {
   "cell_type": "code",
   "execution_count": 74,
   "id": "fc5a1013",
   "metadata": {},
   "outputs": [],
   "source": [
    "df['NEW_AGE_BLOODPRESSURE'] = df['AGE'] * df['BLOODPRESSURE']"
   ]
  },
  {
   "cell_type": "code",
   "execution_count": null,
   "id": "f9d3c111",
   "metadata": {},
   "outputs": [],
   "source": []
  },
  {
   "cell_type": "code",
   "execution_count": 75,
   "id": "93db4cc4",
   "metadata": {
    "scrolled": true
   },
   "outputs": [
    {
     "data": {
      "text/plain": [
       "Index(['PREGNANCIES', 'GLUCOSE', 'BLOODPRESSURE', 'SKINTHICKNESS', 'INSULIN',\n",
       "       'BMI', 'DIABETESPEDIGREEFUNCTION', 'AGE', 'OUTCOME',\n",
       "       'NEW_PREGNANCY3ORMORE_FLAG', 'NEW_AGE_CAT', 'NEW_AGE_PREG',\n",
       "       'NEW_BMI_CAT', 'NEW_GLUCOSE_CAT', 'NEW_AGE_BMI', 'NEW_BMI_INSULIN',\n",
       "       'NEW_BLOODPRESSURE_CAT', 'NEW_AGE_BLOODPRESSURE'],\n",
       "      dtype='object')"
      ]
     },
     "execution_count": 75,
     "metadata": {},
     "output_type": "execute_result"
    }
   ],
   "source": [
    "df.columns"
   ]
  },
  {
   "cell_type": "code",
   "execution_count": 76,
   "id": "c57edcd5",
   "metadata": {},
   "outputs": [
    {
     "name": "stdout",
     "output_type": "stream",
     "text": [
      "Observations: 761\n",
      "Variables: 18\n",
      "cat_cols: 7\n",
      "num_cols: 11\n",
      "cat_but_car: 0\n",
      "num_but_cat: 2\n"
     ]
    }
   ],
   "source": [
    "cat_cols, num_cols, cat_but_car = grab_col_names(df)"
   ]
  },
  {
   "cell_type": "markdown",
   "id": "9ebce3da",
   "metadata": {},
   "source": [
    "## TASK 10"
   ]
  },
  {
   "cell_type": "code",
   "execution_count": 77,
   "id": "11a42efb",
   "metadata": {},
   "outputs": [],
   "source": [
    "def label_encoder(dataframe, binary_col):\n",
    "    labelencoder = LabelEncoder()\n",
    "    dataframe[binary_col] = labelencoder.fit_transform(dataframe[binary_col])\n",
    "    return dataframe"
   ]
  },
  {
   "cell_type": "code",
   "execution_count": 78,
   "id": "4ec563b3",
   "metadata": {},
   "outputs": [
    {
     "data": {
      "text/plain": [
       "['OUTCOME', 'NEW_PREGNANCY3ORMORE_FLAG', 'NEW_AGE_CAT']"
      ]
     },
     "execution_count": 78,
     "metadata": {},
     "output_type": "execute_result"
    }
   ],
   "source": [
    "binary_cols = [col for col in df.columns if df[col].dtype not in [int, float]\n",
    "               and df[col].nunique() == 2]\n",
    "binary_cols"
   ]
  },
  {
   "cell_type": "code",
   "execution_count": 79,
   "id": "2c83d696",
   "metadata": {},
   "outputs": [],
   "source": [
    "for col in binary_cols:\n",
    "    label_encoder(df, col)"
   ]
  },
  {
   "cell_type": "code",
   "execution_count": 80,
   "id": "d42d48d9",
   "metadata": {},
   "outputs": [
    {
     "data": {
      "text/html": [
       "<div>\n",
       "<style scoped>\n",
       "    .dataframe tbody tr th:only-of-type {\n",
       "        vertical-align: middle;\n",
       "    }\n",
       "\n",
       "    .dataframe tbody tr th {\n",
       "        vertical-align: top;\n",
       "    }\n",
       "\n",
       "    .dataframe thead th {\n",
       "        text-align: right;\n",
       "    }\n",
       "</style>\n",
       "<table border=\"1\" class=\"dataframe\">\n",
       "  <thead>\n",
       "    <tr style=\"text-align: right;\">\n",
       "      <th></th>\n",
       "      <th>PREGNANCIES</th>\n",
       "      <th>GLUCOSE</th>\n",
       "      <th>BLOODPRESSURE</th>\n",
       "      <th>SKINTHICKNESS</th>\n",
       "      <th>INSULIN</th>\n",
       "      <th>BMI</th>\n",
       "      <th>DIABETESPEDIGREEFUNCTION</th>\n",
       "      <th>AGE</th>\n",
       "      <th>OUTCOME</th>\n",
       "      <th>NEW_PREGNANCY3ORMORE_FLAG</th>\n",
       "      <th>NEW_AGE_CAT</th>\n",
       "      <th>NEW_AGE_PREG</th>\n",
       "      <th>NEW_BMI_CAT</th>\n",
       "      <th>NEW_GLUCOSE_CAT</th>\n",
       "      <th>NEW_AGE_BMI</th>\n",
       "      <th>NEW_BMI_INSULIN</th>\n",
       "      <th>NEW_BLOODPRESSURE_CAT</th>\n",
       "      <th>NEW_AGE_BLOODPRESSURE</th>\n",
       "    </tr>\n",
       "  </thead>\n",
       "  <tbody>\n",
       "    <tr>\n",
       "      <th>0</th>\n",
       "      <td>6.0</td>\n",
       "      <td>148.0</td>\n",
       "      <td>72.0</td>\n",
       "      <td>35.00000</td>\n",
       "      <td>146.5</td>\n",
       "      <td>33.6</td>\n",
       "      <td>0.627</td>\n",
       "      <td>50.0</td>\n",
       "      <td>1</td>\n",
       "      <td>1</td>\n",
       "      <td>1</td>\n",
       "      <td>morepregsenior</td>\n",
       "      <td>obeseI</td>\n",
       "      <td>highglucose</td>\n",
       "      <td>1680.0</td>\n",
       "      <td>4922.40</td>\n",
       "      <td>normalbloodpressure</td>\n",
       "      <td>3600.0</td>\n",
       "    </tr>\n",
       "    <tr>\n",
       "      <th>1</th>\n",
       "      <td>1.0</td>\n",
       "      <td>85.0</td>\n",
       "      <td>66.0</td>\n",
       "      <td>29.00000</td>\n",
       "      <td>146.5</td>\n",
       "      <td>26.6</td>\n",
       "      <td>0.351</td>\n",
       "      <td>31.0</td>\n",
       "      <td>0</td>\n",
       "      <td>0</td>\n",
       "      <td>0</td>\n",
       "      <td>lesspregmature</td>\n",
       "      <td>overweight</td>\n",
       "      <td>lowglucose</td>\n",
       "      <td>824.6</td>\n",
       "      <td>3896.90</td>\n",
       "      <td>normalbloodpressure</td>\n",
       "      <td>2046.0</td>\n",
       "    </tr>\n",
       "    <tr>\n",
       "      <th>2</th>\n",
       "      <td>8.0</td>\n",
       "      <td>183.0</td>\n",
       "      <td>64.0</td>\n",
       "      <td>29.05915</td>\n",
       "      <td>146.5</td>\n",
       "      <td>23.3</td>\n",
       "      <td>0.672</td>\n",
       "      <td>32.0</td>\n",
       "      <td>1</td>\n",
       "      <td>1</td>\n",
       "      <td>0</td>\n",
       "      <td>morepregmature</td>\n",
       "      <td>normal</td>\n",
       "      <td>highglucose</td>\n",
       "      <td>745.6</td>\n",
       "      <td>3413.45</td>\n",
       "      <td>normalbloodpressure</td>\n",
       "      <td>2048.0</td>\n",
       "    </tr>\n",
       "    <tr>\n",
       "      <th>3</th>\n",
       "      <td>1.0</td>\n",
       "      <td>89.0</td>\n",
       "      <td>66.0</td>\n",
       "      <td>23.00000</td>\n",
       "      <td>94.0</td>\n",
       "      <td>28.1</td>\n",
       "      <td>0.167</td>\n",
       "      <td>21.0</td>\n",
       "      <td>0</td>\n",
       "      <td>0</td>\n",
       "      <td>0</td>\n",
       "      <td>lesspregyoung</td>\n",
       "      <td>overweight</td>\n",
       "      <td>lowglucose</td>\n",
       "      <td>590.1</td>\n",
       "      <td>2641.40</td>\n",
       "      <td>normalbloodpressure</td>\n",
       "      <td>1386.0</td>\n",
       "    </tr>\n",
       "    <tr>\n",
       "      <th>4</th>\n",
       "      <td>0.0</td>\n",
       "      <td>137.0</td>\n",
       "      <td>40.0</td>\n",
       "      <td>35.00000</td>\n",
       "      <td>168.0</td>\n",
       "      <td>43.1</td>\n",
       "      <td>1.200</td>\n",
       "      <td>33.0</td>\n",
       "      <td>1</td>\n",
       "      <td>0</td>\n",
       "      <td>0</td>\n",
       "      <td>lesspregmature</td>\n",
       "      <td>obeseIII</td>\n",
       "      <td>normalglucose</td>\n",
       "      <td>1422.3</td>\n",
       "      <td>7240.80</td>\n",
       "      <td>normalbloodpressure</td>\n",
       "      <td>1320.0</td>\n",
       "    </tr>\n",
       "  </tbody>\n",
       "</table>\n",
       "</div>"
      ],
      "text/plain": [
       "   PREGNANCIES  GLUCOSE  BLOODPRESSURE  SKINTHICKNESS  INSULIN   BMI  \\\n",
       "0          6.0    148.0           72.0       35.00000    146.5  33.6   \n",
       "1          1.0     85.0           66.0       29.00000    146.5  26.6   \n",
       "2          8.0    183.0           64.0       29.05915    146.5  23.3   \n",
       "3          1.0     89.0           66.0       23.00000     94.0  28.1   \n",
       "4          0.0    137.0           40.0       35.00000    168.0  43.1   \n",
       "\n",
       "   DIABETESPEDIGREEFUNCTION   AGE  OUTCOME  NEW_PREGNANCY3ORMORE_FLAG  \\\n",
       "0                     0.627  50.0        1                          1   \n",
       "1                     0.351  31.0        0                          0   \n",
       "2                     0.672  32.0        1                          1   \n",
       "3                     0.167  21.0        0                          0   \n",
       "4                     1.200  33.0        1                          0   \n",
       "\n",
       "   NEW_AGE_CAT    NEW_AGE_PREG NEW_BMI_CAT NEW_GLUCOSE_CAT  NEW_AGE_BMI  \\\n",
       "0            1  morepregsenior      obeseI     highglucose       1680.0   \n",
       "1            0  lesspregmature  overweight      lowglucose        824.6   \n",
       "2            0  morepregmature      normal     highglucose        745.6   \n",
       "3            0   lesspregyoung  overweight      lowglucose        590.1   \n",
       "4            0  lesspregmature    obeseIII   normalglucose       1422.3   \n",
       "\n",
       "   NEW_BMI_INSULIN NEW_BLOODPRESSURE_CAT  NEW_AGE_BLOODPRESSURE  \n",
       "0          4922.40   normalbloodpressure                 3600.0  \n",
       "1          3896.90   normalbloodpressure                 2046.0  \n",
       "2          3413.45   normalbloodpressure                 2048.0  \n",
       "3          2641.40   normalbloodpressure                 1386.0  \n",
       "4          7240.80   normalbloodpressure                 1320.0  "
      ]
     },
     "execution_count": 80,
     "metadata": {},
     "output_type": "execute_result"
    }
   ],
   "source": [
    "df.head()"
   ]
  },
  {
   "cell_type": "code",
   "execution_count": 81,
   "id": "41b3e52c",
   "metadata": {},
   "outputs": [],
   "source": [
    "def rare_analyser(dataframe, target, cat_cols):\n",
    "    for col in cat_cols:\n",
    "        print(col, \":\", len(dataframe[col].value_counts()))\n",
    "        print(pd.DataFrame({\"COUNT\": dataframe[col].value_counts(),\n",
    "                            \"RATIO\": dataframe[col].value_counts() / len(dataframe),\n",
    "                            \"TARGET_MEAN\": dataframe.groupby(col)[target].mean()}), end=\"\\n\\n\\n\")"
   ]
  },
  {
   "cell_type": "code",
   "execution_count": 82,
   "id": "c973b7c0",
   "metadata": {
    "scrolled": true
   },
   "outputs": [
    {
     "name": "stdout",
     "output_type": "stream",
     "text": [
      "NEW_AGE_CAT : 2\n",
      "   COUNT   RATIO  TARGET_MEAN\n",
      "0    569  0.7477     0.289982\n",
      "1    192  0.2523     0.531250\n",
      "\n",
      "\n",
      "NEW_AGE_PREG : 6\n",
      "                COUNT     RATIO  TARGET_MEAN\n",
      "lesspregmature     36  0.047306     0.583333\n",
      "lesspregsenior     33  0.043364     0.484848\n",
      "lesspregyoung     276  0.362681     0.173913\n",
      "morepregmature    140  0.183968     0.435714\n",
      "morepregsenior    159  0.208936     0.540881\n",
      "morepregyoung     117  0.153745     0.299145\n",
      "\n",
      "\n",
      "NEW_BMI_CAT : 6\n",
      "             COUNT     RATIO  TARGET_MEAN\n",
      "normal          99  0.130092     0.070707\n",
      "obeseI         235  0.308804     0.438298\n",
      "obeseII        148  0.194481     0.425676\n",
      "obeseIII        97  0.127464     0.556701\n",
      "overweight     178  0.233903     0.224719\n",
      "underweight      4  0.005256     0.000000\n",
      "\n",
      "\n",
      "NEW_GLUCOSE_CAT : 3\n",
      "               COUNT     RATIO  TARGET_MEAN\n",
      "highglucose      197  0.258870     0.685279\n",
      "lowglucose       186  0.244415     0.069892\n",
      "normalglucose    378  0.496715     0.314815\n",
      "\n",
      "\n",
      "NEW_BLOODPRESSURE_CAT : 3\n",
      "                       COUNT     RATIO  TARGET_MEAN\n",
      "elevatedbloodpressure    144  0.189225     0.423611\n",
      "highbloodpressure         37  0.048620     0.486486\n",
      "normalbloodpressure      558  0.733246     0.317204\n",
      "\n",
      "\n",
      "OUTCOME : 2\n",
      "   COUNT     RATIO  TARGET_MEAN\n",
      "0    494  0.649146          0.0\n",
      "1    267  0.350854          1.0\n",
      "\n",
      "\n",
      "NEW_PREGNANCY3ORMORE_FLAG : 2\n",
      "   COUNT     RATIO  TARGET_MEAN\n",
      "0    345  0.453351     0.246377\n",
      "1    416  0.546649     0.437500\n",
      "\n",
      "\n"
     ]
    }
   ],
   "source": [
    "rare_analyser(df, \"OUTCOME\", cat_cols)"
   ]
  },
  {
   "cell_type": "code",
   "execution_count": 83,
   "id": "736eae5d",
   "metadata": {},
   "outputs": [],
   "source": [
    "def rare_encoder(dataframe, rare_perc):\n",
    "    temp_df = dataframe.copy()\n",
    "\n",
    "    rare_columns = [col for col in temp_df.columns if temp_df[col].dtypes == 'O'\n",
    "                    and (temp_df[col].value_counts() / len(temp_df) < rare_perc).any(axis=None)]\n",
    "\n",
    "    for var in rare_columns:\n",
    "        tmp = temp_df[var].value_counts() / len(temp_df)\n",
    "        rare_labels = tmp[tmp < rare_perc].index\n",
    "        temp_df[var] = np.where(temp_df[var].isin(rare_labels), 'Rare', temp_df[var])\n",
    "\n",
    "    return temp_df"
   ]
  },
  {
   "cell_type": "code",
   "execution_count": 84,
   "id": "5287f656",
   "metadata": {},
   "outputs": [],
   "source": [
    "df = rare_encoder(df, 0.01)"
   ]
  },
  {
   "cell_type": "code",
   "execution_count": 85,
   "id": "17cb34fb",
   "metadata": {},
   "outputs": [],
   "source": [
    "def one_hot_encoder(dataframe, categorical_cols, drop_first=True):\n",
    "    dataframe = pd.get_dummies(dataframe, columns=categorical_cols, drop_first=drop_first)\n",
    "    return dataframe"
   ]
  },
  {
   "cell_type": "code",
   "execution_count": 86,
   "id": "0235c5e0",
   "metadata": {},
   "outputs": [],
   "source": [
    "ohe_cols = [col for col in df.columns if 10 >= df[col].nunique() > 2]"
   ]
  },
  {
   "cell_type": "code",
   "execution_count": 87,
   "id": "f16f81dd",
   "metadata": {},
   "outputs": [
    {
     "data": {
      "text/plain": [
       "['NEW_AGE_PREG', 'NEW_BMI_CAT', 'NEW_GLUCOSE_CAT', 'NEW_BLOODPRESSURE_CAT']"
      ]
     },
     "execution_count": 87,
     "metadata": {},
     "output_type": "execute_result"
    }
   ],
   "source": [
    "ohe_cols"
   ]
  },
  {
   "cell_type": "code",
   "execution_count": 88,
   "id": "483db082",
   "metadata": {},
   "outputs": [],
   "source": [
    "df = one_hot_encoder(df, ohe_cols)"
   ]
  },
  {
   "cell_type": "code",
   "execution_count": 89,
   "id": "d2289ab0",
   "metadata": {
    "scrolled": true
   },
   "outputs": [
    {
     "data": {
      "text/html": [
       "<div>\n",
       "<style scoped>\n",
       "    .dataframe tbody tr th:only-of-type {\n",
       "        vertical-align: middle;\n",
       "    }\n",
       "\n",
       "    .dataframe tbody tr th {\n",
       "        vertical-align: top;\n",
       "    }\n",
       "\n",
       "    .dataframe thead th {\n",
       "        text-align: right;\n",
       "    }\n",
       "</style>\n",
       "<table border=\"1\" class=\"dataframe\">\n",
       "  <thead>\n",
       "    <tr style=\"text-align: right;\">\n",
       "      <th></th>\n",
       "      <th>PREGNANCIES</th>\n",
       "      <th>GLUCOSE</th>\n",
       "      <th>BLOODPRESSURE</th>\n",
       "      <th>SKINTHICKNESS</th>\n",
       "      <th>INSULIN</th>\n",
       "      <th>BMI</th>\n",
       "      <th>DIABETESPEDIGREEFUNCTION</th>\n",
       "      <th>AGE</th>\n",
       "      <th>OUTCOME</th>\n",
       "      <th>NEW_PREGNANCY3ORMORE_FLAG</th>\n",
       "      <th>...</th>\n",
       "      <th>NEW_AGE_PREG_morepregyoung</th>\n",
       "      <th>NEW_BMI_CAT_normal</th>\n",
       "      <th>NEW_BMI_CAT_obeseI</th>\n",
       "      <th>NEW_BMI_CAT_obeseII</th>\n",
       "      <th>NEW_BMI_CAT_obeseIII</th>\n",
       "      <th>NEW_BMI_CAT_overweight</th>\n",
       "      <th>NEW_GLUCOSE_CAT_lowglucose</th>\n",
       "      <th>NEW_GLUCOSE_CAT_normalglucose</th>\n",
       "      <th>NEW_BLOODPRESSURE_CAT_highbloodpressure</th>\n",
       "      <th>NEW_BLOODPRESSURE_CAT_normalbloodpressure</th>\n",
       "    </tr>\n",
       "  </thead>\n",
       "  <tbody>\n",
       "    <tr>\n",
       "      <th>0</th>\n",
       "      <td>6.0</td>\n",
       "      <td>148.0</td>\n",
       "      <td>72.0</td>\n",
       "      <td>35.00000</td>\n",
       "      <td>146.5</td>\n",
       "      <td>33.6</td>\n",
       "      <td>0.627</td>\n",
       "      <td>50.0</td>\n",
       "      <td>1</td>\n",
       "      <td>1</td>\n",
       "      <td>...</td>\n",
       "      <td>0</td>\n",
       "      <td>0</td>\n",
       "      <td>1</td>\n",
       "      <td>0</td>\n",
       "      <td>0</td>\n",
       "      <td>0</td>\n",
       "      <td>0</td>\n",
       "      <td>0</td>\n",
       "      <td>0</td>\n",
       "      <td>1</td>\n",
       "    </tr>\n",
       "    <tr>\n",
       "      <th>1</th>\n",
       "      <td>1.0</td>\n",
       "      <td>85.0</td>\n",
       "      <td>66.0</td>\n",
       "      <td>29.00000</td>\n",
       "      <td>146.5</td>\n",
       "      <td>26.6</td>\n",
       "      <td>0.351</td>\n",
       "      <td>31.0</td>\n",
       "      <td>0</td>\n",
       "      <td>0</td>\n",
       "      <td>...</td>\n",
       "      <td>0</td>\n",
       "      <td>0</td>\n",
       "      <td>0</td>\n",
       "      <td>0</td>\n",
       "      <td>0</td>\n",
       "      <td>1</td>\n",
       "      <td>1</td>\n",
       "      <td>0</td>\n",
       "      <td>0</td>\n",
       "      <td>1</td>\n",
       "    </tr>\n",
       "    <tr>\n",
       "      <th>2</th>\n",
       "      <td>8.0</td>\n",
       "      <td>183.0</td>\n",
       "      <td>64.0</td>\n",
       "      <td>29.05915</td>\n",
       "      <td>146.5</td>\n",
       "      <td>23.3</td>\n",
       "      <td>0.672</td>\n",
       "      <td>32.0</td>\n",
       "      <td>1</td>\n",
       "      <td>1</td>\n",
       "      <td>...</td>\n",
       "      <td>0</td>\n",
       "      <td>1</td>\n",
       "      <td>0</td>\n",
       "      <td>0</td>\n",
       "      <td>0</td>\n",
       "      <td>0</td>\n",
       "      <td>0</td>\n",
       "      <td>0</td>\n",
       "      <td>0</td>\n",
       "      <td>1</td>\n",
       "    </tr>\n",
       "    <tr>\n",
       "      <th>3</th>\n",
       "      <td>1.0</td>\n",
       "      <td>89.0</td>\n",
       "      <td>66.0</td>\n",
       "      <td>23.00000</td>\n",
       "      <td>94.0</td>\n",
       "      <td>28.1</td>\n",
       "      <td>0.167</td>\n",
       "      <td>21.0</td>\n",
       "      <td>0</td>\n",
       "      <td>0</td>\n",
       "      <td>...</td>\n",
       "      <td>0</td>\n",
       "      <td>0</td>\n",
       "      <td>0</td>\n",
       "      <td>0</td>\n",
       "      <td>0</td>\n",
       "      <td>1</td>\n",
       "      <td>1</td>\n",
       "      <td>0</td>\n",
       "      <td>0</td>\n",
       "      <td>1</td>\n",
       "    </tr>\n",
       "    <tr>\n",
       "      <th>4</th>\n",
       "      <td>0.0</td>\n",
       "      <td>137.0</td>\n",
       "      <td>40.0</td>\n",
       "      <td>35.00000</td>\n",
       "      <td>168.0</td>\n",
       "      <td>43.1</td>\n",
       "      <td>1.200</td>\n",
       "      <td>33.0</td>\n",
       "      <td>1</td>\n",
       "      <td>0</td>\n",
       "      <td>...</td>\n",
       "      <td>0</td>\n",
       "      <td>0</td>\n",
       "      <td>0</td>\n",
       "      <td>0</td>\n",
       "      <td>1</td>\n",
       "      <td>0</td>\n",
       "      <td>0</td>\n",
       "      <td>1</td>\n",
       "      <td>0</td>\n",
       "      <td>1</td>\n",
       "    </tr>\n",
       "  </tbody>\n",
       "</table>\n",
       "<p>5 rows × 28 columns</p>\n",
       "</div>"
      ],
      "text/plain": [
       "   PREGNANCIES  GLUCOSE  BLOODPRESSURE  SKINTHICKNESS  INSULIN   BMI  \\\n",
       "0          6.0    148.0           72.0       35.00000    146.5  33.6   \n",
       "1          1.0     85.0           66.0       29.00000    146.5  26.6   \n",
       "2          8.0    183.0           64.0       29.05915    146.5  23.3   \n",
       "3          1.0     89.0           66.0       23.00000     94.0  28.1   \n",
       "4          0.0    137.0           40.0       35.00000    168.0  43.1   \n",
       "\n",
       "   DIABETESPEDIGREEFUNCTION   AGE  OUTCOME  NEW_PREGNANCY3ORMORE_FLAG  ...  \\\n",
       "0                     0.627  50.0        1                          1  ...   \n",
       "1                     0.351  31.0        0                          0  ...   \n",
       "2                     0.672  32.0        1                          1  ...   \n",
       "3                     0.167  21.0        0                          0  ...   \n",
       "4                     1.200  33.0        1                          0  ...   \n",
       "\n",
       "   NEW_AGE_PREG_morepregyoung  NEW_BMI_CAT_normal  NEW_BMI_CAT_obeseI  \\\n",
       "0                           0                   0                   1   \n",
       "1                           0                   0                   0   \n",
       "2                           0                   1                   0   \n",
       "3                           0                   0                   0   \n",
       "4                           0                   0                   0   \n",
       "\n",
       "   NEW_BMI_CAT_obeseII  NEW_BMI_CAT_obeseIII  NEW_BMI_CAT_overweight  \\\n",
       "0                    0                     0                       0   \n",
       "1                    0                     0                       1   \n",
       "2                    0                     0                       0   \n",
       "3                    0                     0                       1   \n",
       "4                    0                     1                       0   \n",
       "\n",
       "   NEW_GLUCOSE_CAT_lowglucose  NEW_GLUCOSE_CAT_normalglucose  \\\n",
       "0                           0                              0   \n",
       "1                           1                              0   \n",
       "2                           0                              0   \n",
       "3                           1                              0   \n",
       "4                           0                              1   \n",
       "\n",
       "   NEW_BLOODPRESSURE_CAT_highbloodpressure  \\\n",
       "0                                        0   \n",
       "1                                        0   \n",
       "2                                        0   \n",
       "3                                        0   \n",
       "4                                        0   \n",
       "\n",
       "   NEW_BLOODPRESSURE_CAT_normalbloodpressure  \n",
       "0                                          1  \n",
       "1                                          1  \n",
       "2                                          1  \n",
       "3                                          1  \n",
       "4                                          1  \n",
       "\n",
       "[5 rows x 28 columns]"
      ]
     },
     "execution_count": 89,
     "metadata": {},
     "output_type": "execute_result"
    }
   ],
   "source": [
    "df.head()"
   ]
  },
  {
   "cell_type": "markdown",
   "id": "c8eaa675",
   "metadata": {},
   "source": [
    "## TASK 11"
   ]
  },
  {
   "cell_type": "code",
   "execution_count": 90,
   "id": "7021170c",
   "metadata": {},
   "outputs": [],
   "source": [
    "scaler = StandardScaler()\n",
    "df[num_cols] = scaler.fit_transform(df[num_cols])"
   ]
  },
  {
   "cell_type": "code",
   "execution_count": 91,
   "id": "e8735448",
   "metadata": {},
   "outputs": [
    {
     "data": {
      "text/html": [
       "<div>\n",
       "<style scoped>\n",
       "    .dataframe tbody tr th:only-of-type {\n",
       "        vertical-align: middle;\n",
       "    }\n",
       "\n",
       "    .dataframe tbody tr th {\n",
       "        vertical-align: top;\n",
       "    }\n",
       "\n",
       "    .dataframe thead th {\n",
       "        text-align: right;\n",
       "    }\n",
       "</style>\n",
       "<table border=\"1\" class=\"dataframe\">\n",
       "  <thead>\n",
       "    <tr style=\"text-align: right;\">\n",
       "      <th></th>\n",
       "      <th>PREGNANCIES</th>\n",
       "      <th>GLUCOSE</th>\n",
       "      <th>BLOODPRESSURE</th>\n",
       "      <th>SKINTHICKNESS</th>\n",
       "      <th>INSULIN</th>\n",
       "      <th>BMI</th>\n",
       "      <th>DIABETESPEDIGREEFUNCTION</th>\n",
       "      <th>AGE</th>\n",
       "      <th>NEW_AGE_BMI</th>\n",
       "      <th>NEW_BMI_INSULIN</th>\n",
       "      <th>NEW_AGE_BLOODPRESSURE</th>\n",
       "    </tr>\n",
       "  </thead>\n",
       "  <tbody>\n",
       "    <tr>\n",
       "      <th>0</th>\n",
       "      <td>0.646280</td>\n",
       "      <td>0.858607</td>\n",
       "      <td>-0.039164</td>\n",
       "      <td>0.821324</td>\n",
       "      <td>0.250177</td>\n",
       "      <td>0.180286</td>\n",
       "      <td>0.588962</td>\n",
       "      <td>1.452885</td>\n",
       "      <td>1.384614</td>\n",
       "      <td>0.261018</td>\n",
       "      <td>1.079753</td>\n",
       "    </tr>\n",
       "    <tr>\n",
       "      <th>1</th>\n",
       "      <td>-0.850431</td>\n",
       "      <td>-1.233328</td>\n",
       "      <td>-0.558801</td>\n",
       "      <td>0.015563</td>\n",
       "      <td>0.250177</td>\n",
       "      <td>-0.875885</td>\n",
       "      <td>-0.376097</td>\n",
       "      <td>-0.187282</td>\n",
       "      <td>-0.583586</td>\n",
       "      <td>-0.426816</td>\n",
       "      <td>-0.377363</td>\n",
       "    </tr>\n",
       "    <tr>\n",
       "      <th>2</th>\n",
       "      <td>1.244964</td>\n",
       "      <td>2.020793</td>\n",
       "      <td>-0.732013</td>\n",
       "      <td>0.023507</td>\n",
       "      <td>0.250177</td>\n",
       "      <td>-1.373795</td>\n",
       "      <td>0.746308</td>\n",
       "      <td>-0.100958</td>\n",
       "      <td>-0.765358</td>\n",
       "      <td>-0.751081</td>\n",
       "      <td>-0.375487</td>\n",
       "    </tr>\n",
       "    <tr>\n",
       "      <th>3</th>\n",
       "      <td>-0.850431</td>\n",
       "      <td>-1.100507</td>\n",
       "      <td>-0.558801</td>\n",
       "      <td>-0.790198</td>\n",
       "      <td>-1.445795</td>\n",
       "      <td>-0.649563</td>\n",
       "      <td>-1.019470</td>\n",
       "      <td>-1.050528</td>\n",
       "      <td>-1.123149</td>\n",
       "      <td>-1.268919</td>\n",
       "      <td>-0.996215</td>\n",
       "    </tr>\n",
       "    <tr>\n",
       "      <th>4</th>\n",
       "      <td>-1.149773</td>\n",
       "      <td>0.493348</td>\n",
       "      <td>-2.810560</td>\n",
       "      <td>0.821324</td>\n",
       "      <td>0.944719</td>\n",
       "      <td>1.613662</td>\n",
       "      <td>2.592508</td>\n",
       "      <td>-0.014633</td>\n",
       "      <td>0.791669</td>\n",
       "      <td>1.816040</td>\n",
       "      <td>-1.058100</td>\n",
       "    </tr>\n",
       "  </tbody>\n",
       "</table>\n",
       "</div>"
      ],
      "text/plain": [
       "   PREGNANCIES   GLUCOSE  BLOODPRESSURE  SKINTHICKNESS   INSULIN       BMI  \\\n",
       "0     0.646280  0.858607      -0.039164       0.821324  0.250177  0.180286   \n",
       "1    -0.850431 -1.233328      -0.558801       0.015563  0.250177 -0.875885   \n",
       "2     1.244964  2.020793      -0.732013       0.023507  0.250177 -1.373795   \n",
       "3    -0.850431 -1.100507      -0.558801      -0.790198 -1.445795 -0.649563   \n",
       "4    -1.149773  0.493348      -2.810560       0.821324  0.944719  1.613662   \n",
       "\n",
       "   DIABETESPEDIGREEFUNCTION       AGE  NEW_AGE_BMI  NEW_BMI_INSULIN  \\\n",
       "0                  0.588962  1.452885     1.384614         0.261018   \n",
       "1                 -0.376097 -0.187282    -0.583586        -0.426816   \n",
       "2                  0.746308 -0.100958    -0.765358        -0.751081   \n",
       "3                 -1.019470 -1.050528    -1.123149        -1.268919   \n",
       "4                  2.592508 -0.014633     0.791669         1.816040   \n",
       "\n",
       "   NEW_AGE_BLOODPRESSURE  \n",
       "0               1.079753  \n",
       "1              -0.377363  \n",
       "2              -0.375487  \n",
       "3              -0.996215  \n",
       "4              -1.058100  "
      ]
     },
     "execution_count": 91,
     "metadata": {},
     "output_type": "execute_result"
    }
   ],
   "source": [
    "df[num_cols].head()"
   ]
  },
  {
   "cell_type": "code",
   "execution_count": 127,
   "id": "cb26d4b6",
   "metadata": {},
   "outputs": [
    {
     "data": {
      "text/plain": [
       "Index(['PREGNANCIES', 'GLUCOSE', 'BLOODPRESSURE', 'SKINTHICKNESS', 'INSULIN',\n",
       "       'BMI', 'DIABETESPEDIGREEFUNCTION', 'AGE', 'OUTCOME',\n",
       "       'NEW_PREGNANCY3ORMORE_FLAG', 'NEW_AGE_CAT', 'NEW_AGE_BMI',\n",
       "       'NEW_BMI_INSULIN', 'NEW_AGE_BLOODPRESSURE',\n",
       "       'NEW_AGE_PREG_lesspregsenior', 'NEW_AGE_PREG_lesspregyoung',\n",
       "       'NEW_AGE_PREG_morepregmature', 'NEW_AGE_PREG_morepregsenior',\n",
       "       'NEW_AGE_PREG_morepregyoung', 'NEW_BMI_CAT_normal',\n",
       "       'NEW_BMI_CAT_obeseI', 'NEW_BMI_CAT_obeseII', 'NEW_BMI_CAT_obeseIII',\n",
       "       'NEW_BMI_CAT_overweight', 'NEW_GLUCOSE_CAT_lowglucose',\n",
       "       'NEW_GLUCOSE_CAT_normalglucose',\n",
       "       'NEW_BLOODPRESSURE_CAT_highbloodpressure',\n",
       "       'NEW_BLOODPRESSURE_CAT_normalbloodpressure'],\n",
       "      dtype='object')"
      ]
     },
     "execution_count": 127,
     "metadata": {},
     "output_type": "execute_result"
    }
   ],
   "source": [
    "df.columns"
   ]
  },
  {
   "cell_type": "markdown",
   "id": "e388f66e",
   "metadata": {},
   "source": [
    "## TASK 12"
   ]
  },
  {
   "cell_type": "code",
   "execution_count": 128,
   "id": "7ba72f61",
   "metadata": {},
   "outputs": [],
   "source": [
    "y = df[\"OUTCOME\"]\n",
    "X = df.drop('OUTCOME', axis=1)"
   ]
  },
  {
   "cell_type": "code",
   "execution_count": 129,
   "id": "da6ad022",
   "metadata": {},
   "outputs": [],
   "source": [
    "X_train, X_test, y_train, y_test = train_test_split(X, y, test_size=0.30, random_state=17)"
   ]
  },
  {
   "cell_type": "code",
   "execution_count": 130,
   "id": "d8b7429b",
   "metadata": {},
   "outputs": [],
   "source": [
    "rf_model = RandomForestClassifier(random_state=46).fit(X_train, y_train)"
   ]
  },
  {
   "cell_type": "code",
   "execution_count": 131,
   "id": "fc2fa605",
   "metadata": {},
   "outputs": [
    {
     "data": {
      "text/plain": [
       "0.7467248908296943"
      ]
     },
     "execution_count": 131,
     "metadata": {},
     "output_type": "execute_result"
    }
   ],
   "source": [
    "y_pred = rf_model.predict(X_test)\n",
    "accuracy_score(y_pred, y_test)"
   ]
  },
  {
   "cell_type": "code",
   "execution_count": 132,
   "id": "2a01b489",
   "metadata": {},
   "outputs": [
    {
     "data": {
      "image/png": "[encoded data removed]",
      "text/plain": [
       "<Figure size 720x720 with 1 Axes>"
      ]
     },
     "metadata": {},
     "output_type": "display_data"
    }
   ],
   "source": [
    "def plot_importance(model, features, num=len(X), save=False):\n",
    "    feature_imp = pd.DataFrame({\"Value\": model.feature_importances_, \"Feature\": features.columns})\n",
    "    plt.figure(figsize=(10,10))\n",
    "    sns.set(font_scale=1)\n",
    "    sns.barplot(x=\"Value\", y=\"Feature\", data=feature_imp.sort_values(by=\"Value\",\n",
    "                                                                     ascending=False)[0:num])\n",
    "    plt.title(\"Features\")\n",
    "    plt.tight_layout()\n",
    "    plt.show()\n",
    "    if save:\n",
    "        plt.savefig(\"importance.png\")\n",
    "plot_importance(rf_model, X_train)"
   ]
  },
  {
   "cell_type": "markdown",
   "id": "c613ec50",
   "metadata": {},
   "source": [
    "## What would happen if we built a machine learning model directly?"
   ]
  },
  {
   "cell_type": "code",
   "execution_count": 133,
   "id": "667a92b1",
   "metadata": {},
   "outputs": [],
   "source": [
    "dff = pd.read_csv('diabetes.csv')\n",
    "dff.columns = [col.upper() for col in dff.columns]"
   ]
  },
  {
   "cell_type": "code",
   "execution_count": 134,
   "id": "809640ea",
   "metadata": {},
   "outputs": [],
   "source": [
    "zero_to_nan_cols = ['GLUCOSE', 'BLOODPRESSURE', 'SKINTHICKNESS', 'INSULIN', 'BMI']"
   ]
  },
  {
   "cell_type": "code",
   "execution_count": 135,
   "id": "8e04a766",
   "metadata": {},
   "outputs": [],
   "source": [
    "for col in zero_to_nan_cols:\n",
    "    dff[col] = dff[col].replace({'0':np.nan, 0:np.nan})"
   ]
  },
  {
   "cell_type": "code",
   "execution_count": 136,
   "id": "8d74b6d0",
   "metadata": {},
   "outputs": [
    {
     "data": {
      "text/html": [
       "<div>\n",
       "<style scoped>\n",
       "    .dataframe tbody tr th:only-of-type {\n",
       "        vertical-align: middle;\n",
       "    }\n",
       "\n",
       "    .dataframe tbody tr th {\n",
       "        vertical-align: top;\n",
       "    }\n",
       "\n",
       "    .dataframe thead th {\n",
       "        text-align: right;\n",
       "    }\n",
       "</style>\n",
       "<table border=\"1\" class=\"dataframe\">\n",
       "  <thead>\n",
       "    <tr style=\"text-align: right;\">\n",
       "      <th></th>\n",
       "      <th>PREGNANCIES</th>\n",
       "      <th>GLUCOSE</th>\n",
       "      <th>BLOODPRESSURE</th>\n",
       "      <th>SKINTHICKNESS</th>\n",
       "      <th>INSULIN</th>\n",
       "      <th>BMI</th>\n",
       "      <th>DIABETESPEDIGREEFUNCTION</th>\n",
       "      <th>AGE</th>\n",
       "      <th>OUTCOME</th>\n",
       "    </tr>\n",
       "  </thead>\n",
       "  <tbody>\n",
       "    <tr>\n",
       "      <th>0</th>\n",
       "      <td>6</td>\n",
       "      <td>148.0</td>\n",
       "      <td>72.0</td>\n",
       "      <td>35.0</td>\n",
       "      <td>NaN</td>\n",
       "      <td>33.6</td>\n",
       "      <td>0.627</td>\n",
       "      <td>50</td>\n",
       "      <td>1</td>\n",
       "    </tr>\n",
       "    <tr>\n",
       "      <th>1</th>\n",
       "      <td>1</td>\n",
       "      <td>85.0</td>\n",
       "      <td>66.0</td>\n",
       "      <td>29.0</td>\n",
       "      <td>NaN</td>\n",
       "      <td>26.6</td>\n",
       "      <td>0.351</td>\n",
       "      <td>31</td>\n",
       "      <td>0</td>\n",
       "    </tr>\n",
       "    <tr>\n",
       "      <th>2</th>\n",
       "      <td>8</td>\n",
       "      <td>183.0</td>\n",
       "      <td>64.0</td>\n",
       "      <td>NaN</td>\n",
       "      <td>NaN</td>\n",
       "      <td>23.3</td>\n",
       "      <td>0.672</td>\n",
       "      <td>32</td>\n",
       "      <td>1</td>\n",
       "    </tr>\n",
       "    <tr>\n",
       "      <th>3</th>\n",
       "      <td>1</td>\n",
       "      <td>89.0</td>\n",
       "      <td>66.0</td>\n",
       "      <td>23.0</td>\n",
       "      <td>94.0</td>\n",
       "      <td>28.1</td>\n",
       "      <td>0.167</td>\n",
       "      <td>21</td>\n",
       "      <td>0</td>\n",
       "    </tr>\n",
       "    <tr>\n",
       "      <th>4</th>\n",
       "      <td>0</td>\n",
       "      <td>137.0</td>\n",
       "      <td>40.0</td>\n",
       "      <td>35.0</td>\n",
       "      <td>168.0</td>\n",
       "      <td>43.1</td>\n",
       "      <td>2.288</td>\n",
       "      <td>33</td>\n",
       "      <td>1</td>\n",
       "    </tr>\n",
       "  </tbody>\n",
       "</table>\n",
       "</div>"
      ],
      "text/plain": [
       "   PREGNANCIES  GLUCOSE  BLOODPRESSURE  SKINTHICKNESS  INSULIN   BMI  \\\n",
       "0            6    148.0           72.0           35.0      NaN  33.6   \n",
       "1            1     85.0           66.0           29.0      NaN  26.6   \n",
       "2            8    183.0           64.0            NaN      NaN  23.3   \n",
       "3            1     89.0           66.0           23.0     94.0  28.1   \n",
       "4            0    137.0           40.0           35.0    168.0  43.1   \n",
       "\n",
       "   DIABETESPEDIGREEFUNCTION  AGE  OUTCOME  \n",
       "0                     0.627   50        1  \n",
       "1                     0.351   31        0  \n",
       "2                     0.672   32        1  \n",
       "3                     0.167   21        0  \n",
       "4                     2.288   33        1  "
      ]
     },
     "execution_count": 136,
     "metadata": {},
     "output_type": "execute_result"
    }
   ],
   "source": [
    "dff.head()"
   ]
  },
  {
   "cell_type": "code",
   "execution_count": 137,
   "id": "a25d898b",
   "metadata": {},
   "outputs": [],
   "source": [
    "dff.dropna(inplace=True)"
   ]
  },
  {
   "cell_type": "code",
   "execution_count": 138,
   "id": "3a44d9d3",
   "metadata": {},
   "outputs": [
    {
     "data": {
      "text/plain": [
       "0.7542372881355932"
      ]
     },
     "execution_count": 138,
     "metadata": {},
     "output_type": "execute_result"
    }
   ],
   "source": [
    "y = dff[\"OUTCOME\"]\n",
    "X = dff.drop(['OUTCOME'], axis=1)\n",
    "X_train, X_test, y_train, y_test = train_test_split(X, y, test_size=0.30, random_state=17)\n",
    "rf_model = RandomForestClassifier(random_state=46).fit(X_train, y_train)\n",
    "y_pred = rf_model.predict(X_test)\n",
    "accuracy_score(y_pred, y_test)"
   ]
  },
  {
   "cell_type": "code",
   "execution_count": null,
   "id": "beb0868a",
   "metadata": {},
   "outputs": [],
   "source": []
  }
 ],
 "metadata": {
  "kernelspec": {
   "display_name": "Python 3 (ipykernel)",
   "language": "python",
   "name": "python3"
  },
  "language_info": {
   "codemirror_mode": {
    "name": "ipython",
    "version": 3
   },
   "file_extension": ".py",
   "mimetype": "text/x-python",
   "name": "python",
   "nbconvert_exporter": "python",
   "pygments_lexer": "ipython3",
   "version": "3.9.7"
  }
 },
 "nbformat": 4,
 "nbformat_minor": 5
}
