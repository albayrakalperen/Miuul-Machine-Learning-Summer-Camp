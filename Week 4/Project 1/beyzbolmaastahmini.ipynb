{
 "cells": [
  {
   "cell_type": "code",
   "execution_count": 68,
   "id": "2e6a6270",
   "metadata": {},
   "outputs": [],
   "source": [
    "import numpy as np\n",
    "import pandas as pd\n",
    "import matplotlib.pyplot as plt\n",
    "import seaborn as sns\n",
    "\n",
    "from sklearn.ensemble import RandomForestClassifier\n",
    "from sklearn.linear_model import LinearRegression\n",
    "from sklearn.metrics import mean_squared_error, mean_absolute_error\n",
    "from sklearn.model_selection import train_test_split, cross_val_score\n",
    "from sklearn.preprocessing import LabelEncoder\n",
    "from sklearn.preprocessing import StandardScaler, MinMaxScaler\n",
    "from sklearn.model_selection import train_test_split\n",
    "from sklearn.metrics import accuracy_score, precision_score, recall_score, f1_score,roc_auc_score\n",
    "import warnings"
   ]
  },
  {
   "cell_type": "code",
   "execution_count": 2,
   "id": "726545dc",
   "metadata": {},
   "outputs": [],
   "source": [
    "pd.set_option('display.float_format', lambda x: '%.2f' % x)"
   ]
  },
  {
   "cell_type": "code",
   "execution_count": 3,
   "id": "4eb2cf03",
   "metadata": {},
   "outputs": [],
   "source": [
    "df = pd.read_csv('hitters.csv')"
   ]
  },
  {
   "cell_type": "code",
   "execution_count": 4,
   "id": "1abc3657",
   "metadata": {},
   "outputs": [
    {
     "data": {
      "text/html": [
       "<div>\n",
       "<style scoped>\n",
       "    .dataframe tbody tr th:only-of-type {\n",
       "        vertical-align: middle;\n",
       "    }\n",
       "\n",
       "    .dataframe tbody tr th {\n",
       "        vertical-align: top;\n",
       "    }\n",
       "\n",
       "    .dataframe thead th {\n",
       "        text-align: right;\n",
       "    }\n",
       "</style>\n",
       "<table border=\"1\" class=\"dataframe\">\n",
       "  <thead>\n",
       "    <tr style=\"text-align: right;\">\n",
       "      <th></th>\n",
       "      <th>AtBat</th>\n",
       "      <th>Hits</th>\n",
       "      <th>HmRun</th>\n",
       "      <th>Runs</th>\n",
       "      <th>RBI</th>\n",
       "      <th>Walks</th>\n",
       "      <th>Years</th>\n",
       "      <th>CAtBat</th>\n",
       "      <th>CHits</th>\n",
       "      <th>CHmRun</th>\n",
       "      <th>CRuns</th>\n",
       "      <th>CRBI</th>\n",
       "      <th>CWalks</th>\n",
       "      <th>League</th>\n",
       "      <th>Division</th>\n",
       "      <th>PutOuts</th>\n",
       "      <th>Assists</th>\n",
       "      <th>Errors</th>\n",
       "      <th>Salary</th>\n",
       "      <th>NewLeague</th>\n",
       "    </tr>\n",
       "  </thead>\n",
       "  <tbody>\n",
       "    <tr>\n",
       "      <th>0</th>\n",
       "      <td>293</td>\n",
       "      <td>66</td>\n",
       "      <td>1</td>\n",
       "      <td>30</td>\n",
       "      <td>29</td>\n",
       "      <td>14</td>\n",
       "      <td>1</td>\n",
       "      <td>293</td>\n",
       "      <td>66</td>\n",
       "      <td>1</td>\n",
       "      <td>30</td>\n",
       "      <td>29</td>\n",
       "      <td>14</td>\n",
       "      <td>A</td>\n",
       "      <td>E</td>\n",
       "      <td>446</td>\n",
       "      <td>33</td>\n",
       "      <td>20</td>\n",
       "      <td>NaN</td>\n",
       "      <td>A</td>\n",
       "    </tr>\n",
       "    <tr>\n",
       "      <th>1</th>\n",
       "      <td>315</td>\n",
       "      <td>81</td>\n",
       "      <td>7</td>\n",
       "      <td>24</td>\n",
       "      <td>38</td>\n",
       "      <td>39</td>\n",
       "      <td>14</td>\n",
       "      <td>3449</td>\n",
       "      <td>835</td>\n",
       "      <td>69</td>\n",
       "      <td>321</td>\n",
       "      <td>414</td>\n",
       "      <td>375</td>\n",
       "      <td>N</td>\n",
       "      <td>W</td>\n",
       "      <td>632</td>\n",
       "      <td>43</td>\n",
       "      <td>10</td>\n",
       "      <td>475.00</td>\n",
       "      <td>N</td>\n",
       "    </tr>\n",
       "    <tr>\n",
       "      <th>2</th>\n",
       "      <td>479</td>\n",
       "      <td>130</td>\n",
       "      <td>18</td>\n",
       "      <td>66</td>\n",
       "      <td>72</td>\n",
       "      <td>76</td>\n",
       "      <td>3</td>\n",
       "      <td>1624</td>\n",
       "      <td>457</td>\n",
       "      <td>63</td>\n",
       "      <td>224</td>\n",
       "      <td>266</td>\n",
       "      <td>263</td>\n",
       "      <td>A</td>\n",
       "      <td>W</td>\n",
       "      <td>880</td>\n",
       "      <td>82</td>\n",
       "      <td>14</td>\n",
       "      <td>480.00</td>\n",
       "      <td>A</td>\n",
       "    </tr>\n",
       "    <tr>\n",
       "      <th>3</th>\n",
       "      <td>496</td>\n",
       "      <td>141</td>\n",
       "      <td>20</td>\n",
       "      <td>65</td>\n",
       "      <td>78</td>\n",
       "      <td>37</td>\n",
       "      <td>11</td>\n",
       "      <td>5628</td>\n",
       "      <td>1575</td>\n",
       "      <td>225</td>\n",
       "      <td>828</td>\n",
       "      <td>838</td>\n",
       "      <td>354</td>\n",
       "      <td>N</td>\n",
       "      <td>E</td>\n",
       "      <td>200</td>\n",
       "      <td>11</td>\n",
       "      <td>3</td>\n",
       "      <td>500.00</td>\n",
       "      <td>N</td>\n",
       "    </tr>\n",
       "    <tr>\n",
       "      <th>4</th>\n",
       "      <td>321</td>\n",
       "      <td>87</td>\n",
       "      <td>10</td>\n",
       "      <td>39</td>\n",
       "      <td>42</td>\n",
       "      <td>30</td>\n",
       "      <td>2</td>\n",
       "      <td>396</td>\n",
       "      <td>101</td>\n",
       "      <td>12</td>\n",
       "      <td>48</td>\n",
       "      <td>46</td>\n",
       "      <td>33</td>\n",
       "      <td>N</td>\n",
       "      <td>E</td>\n",
       "      <td>805</td>\n",
       "      <td>40</td>\n",
       "      <td>4</td>\n",
       "      <td>91.50</td>\n",
       "      <td>N</td>\n",
       "    </tr>\n",
       "  </tbody>\n",
       "</table>\n",
       "</div>"
      ],
      "text/plain": [
       "   AtBat  Hits  HmRun  Runs  RBI  Walks  Years  CAtBat  CHits  CHmRun  CRuns  \\\n",
       "0    293    66      1    30   29     14      1     293     66       1     30   \n",
       "1    315    81      7    24   38     39     14    3449    835      69    321   \n",
       "2    479   130     18    66   72     76      3    1624    457      63    224   \n",
       "3    496   141     20    65   78     37     11    5628   1575     225    828   \n",
       "4    321    87     10    39   42     30      2     396    101      12     48   \n",
       "\n",
       "   CRBI  CWalks League Division  PutOuts  Assists  Errors  Salary NewLeague  \n",
       "0    29      14      A        E      446       33      20     NaN         A  \n",
       "1   414     375      N        W      632       43      10  475.00         N  \n",
       "2   266     263      A        W      880       82      14  480.00         A  \n",
       "3   838     354      N        E      200       11       3  500.00         N  \n",
       "4    46      33      N        E      805       40       4   91.50         N  "
      ]
     },
     "execution_count": 4,
     "metadata": {},
     "output_type": "execute_result"
    }
   ],
   "source": [
    "df.head()"
   ]
  },
  {
   "cell_type": "markdown",
   "id": "8487c452",
   "metadata": {},
   "source": [
    "## Genel Resim"
   ]
  },
  {
   "cell_type": "code",
   "execution_count": 5,
   "id": "832781f9",
   "metadata": {},
   "outputs": [],
   "source": [
    "def check_df(dataframe, head=5):\n",
    "    print(\"##################### Shape #####################\")\n",
    "    print(dataframe.shape)\n",
    "    print(\"##################### Types #####################\")\n",
    "    print(dataframe.dtypes)\n",
    "    print(\"##################### Head #####################\")\n",
    "    print(dataframe.head(head))\n",
    "    print(\"##################### Tail #####################\")\n",
    "    print(dataframe.tail(head))\n",
    "    print(\"##################### NA #####################\")\n",
    "    print(dataframe.isnull().sum())\n",
    "    print(\"##################### Quantiles #####################\")\n",
    "    print(dataframe.quantile([0, 0.05, 0.50, 0.95, 0.99, 1]).T)"
   ]
  },
  {
   "cell_type": "code",
   "execution_count": 6,
   "id": "46cbad8e",
   "metadata": {
    "scrolled": true
   },
   "outputs": [
    {
     "name": "stdout",
     "output_type": "stream",
     "text": [
      "##################### Shape #####################\n",
      "(322, 20)\n",
      "##################### Types #####################\n",
      "AtBat          int64\n",
      "Hits           int64\n",
      "HmRun          int64\n",
      "Runs           int64\n",
      "RBI            int64\n",
      "Walks          int64\n",
      "Years          int64\n",
      "CAtBat         int64\n",
      "CHits          int64\n",
      "CHmRun         int64\n",
      "CRuns          int64\n",
      "CRBI           int64\n",
      "CWalks         int64\n",
      "League        object\n",
      "Division      object\n",
      "PutOuts        int64\n",
      "Assists        int64\n",
      "Errors         int64\n",
      "Salary       float64\n",
      "NewLeague     object\n",
      "dtype: object\n",
      "##################### Head #####################\n",
      "   AtBat  Hits  HmRun  Runs  RBI  Walks  Years  CAtBat  CHits  CHmRun  CRuns  \\\n",
      "0    293    66      1    30   29     14      1     293     66       1     30   \n",
      "1    315    81      7    24   38     39     14    3449    835      69    321   \n",
      "2    479   130     18    66   72     76      3    1624    457      63    224   \n",
      "3    496   141     20    65   78     37     11    5628   1575     225    828   \n",
      "4    321    87     10    39   42     30      2     396    101      12     48   \n",
      "\n",
      "   CRBI  CWalks League Division  PutOuts  Assists  Errors  Salary NewLeague  \n",
      "0    29      14      A        E      446       33      20     NaN         A  \n",
      "1   414     375      N        W      632       43      10  475.00         N  \n",
      "2   266     263      A        W      880       82      14  480.00         A  \n",
      "3   838     354      N        E      200       11       3  500.00         N  \n",
      "4    46      33      N        E      805       40       4   91.50         N  \n",
      "##################### Tail #####################\n",
      "     AtBat  Hits  HmRun  Runs  RBI  Walks  Years  CAtBat  CHits  CHmRun  \\\n",
      "317    497   127      7    65   48     37      5    2703    806      32   \n",
      "318    492   136      5    76   50     94     12    5511   1511      39   \n",
      "319    475   126      3    61   43     52      6    1700    433       7   \n",
      "320    573   144      9    85   60     78      8    3198    857      97   \n",
      "321    631   170      9    77   44     31     11    4908   1457      30   \n",
      "\n",
      "     CRuns  CRBI  CWalks League Division  PutOuts  Assists  Errors  Salary  \\\n",
      "317    379   311     138      N        E      325        9       3  700.00   \n",
      "318    897   451     875      A        E      313      381      20  875.00   \n",
      "319    217    93     146      A        W       37      113       7  385.00   \n",
      "320    470   420     332      A        E     1314      131      12  960.00   \n",
      "321    775   357     249      A        W      408        4       3 1000.00   \n",
      "\n",
      "    NewLeague  \n",
      "317         N  \n",
      "318         A  \n",
      "319         A  \n",
      "320         A  \n",
      "321         A  \n",
      "##################### NA #####################\n",
      "AtBat         0\n",
      "Hits          0\n",
      "HmRun         0\n",
      "Runs          0\n",
      "RBI           0\n",
      "Walks         0\n",
      "Years         0\n",
      "CAtBat        0\n",
      "CHits         0\n",
      "CHmRun        0\n",
      "CRuns         0\n",
      "CRBI          0\n",
      "CWalks        0\n",
      "League        0\n",
      "Division      0\n",
      "PutOuts       0\n",
      "Assists       0\n",
      "Errors        0\n",
      "Salary       59\n",
      "NewLeague     0\n",
      "dtype: int64\n",
      "##################### Quantiles #####################\n",
      "         0.00   0.05    0.50    0.95    0.99     1.00\n",
      "AtBat   16.00 161.00  379.50  609.90  658.59   687.00\n",
      "Hits     1.00  39.00   96.00  174.00  210.79   238.00\n",
      "HmRun    0.00   0.00    8.00   28.95   33.00    40.00\n",
      "Runs     0.00  17.00   48.00   94.00  107.79   130.00\n",
      "RBI      0.00  14.00   44.00   96.00  112.37   121.00\n",
      "Walks    0.00  11.05   35.00   78.00   93.58   105.00\n",
      "Years    1.00   1.00    6.00   17.00   19.79    24.00\n",
      "CAtBat  19.00 216.50 1928.00 7125.60 8749.97 14053.00\n",
      "CHits    4.00  54.00  508.00 2017.15 2500.34  4256.00\n",
      "CHmRun   0.00   2.00   37.50  265.65  373.12   548.00\n",
      "CRuns    1.00  27.00  247.00 1032.30 1174.37  2165.00\n",
      "CRBI     0.00  22.05  220.50 1071.75 1310.85  1659.00\n",
      "CWalks   0.00  15.05  170.50  817.60 1139.14  1566.00\n",
      "PutOuts  0.00  33.20  212.00  910.65 1301.19  1378.00\n",
      "Assists  0.00   0.00   39.50  431.45  478.16   492.00\n",
      "Errors   0.00   0.00    6.00   20.00   25.79    32.00\n",
      "Salary  67.50  86.60  425.00 1346.00 2032.89  2460.00\n"
     ]
    }
   ],
   "source": [
    "check_df(df)"
   ]
  },
  {
   "cell_type": "code",
   "execution_count": 7,
   "id": "0f664af3",
   "metadata": {},
   "outputs": [],
   "source": [
    "df.columns = [col.upper() for col in df.columns]"
   ]
  },
  {
   "cell_type": "code",
   "execution_count": 8,
   "id": "d6d2a9f3",
   "metadata": {},
   "outputs": [
    {
     "data": {
      "text/plain": [
       "Index(['ATBAT', 'HITS', 'HMRUN', 'RUNS', 'RBI', 'WALKS', 'YEARS', 'CATBAT',\n",
       "       'CHITS', 'CHMRUN', 'CRUNS', 'CRBI', 'CWALKS', 'LEAGUE', 'DIVISION',\n",
       "       'PUTOUTS', 'ASSISTS', 'ERRORS', 'SALARY', 'NEWLEAGUE'],\n",
       "      dtype='object')"
      ]
     },
     "execution_count": 8,
     "metadata": {},
     "output_type": "execute_result"
    }
   ],
   "source": [
    "df.columns "
   ]
  },
  {
   "cell_type": "markdown",
   "id": "da5efcfd",
   "metadata": {},
   "source": [
    "## Numerik ve Kategorik Değişkenlerin Yakalanması"
   ]
  },
  {
   "cell_type": "code",
   "execution_count": 9,
   "id": "3c9f4090",
   "metadata": {},
   "outputs": [],
   "source": [
    "def grab_col_names(dataframe, cat_th=10, car_th=20):\n",
    "    cat_cols = [col for col in dataframe.columns if dataframe[col].dtypes == \"O\"]\n",
    "    num_but_cat = [col for col in dataframe.columns if dataframe[col].nunique() < cat_th and dataframe[col].dtypes != \"O\"]\n",
    "    cat_but_car = [col for col in dataframe.columns if dataframe[col].nunique() > car_th and dataframe[col].dtypes == \"O\"]\n",
    "    cat_cols = cat_cols + num_but_cat\n",
    "    cat_cols = [col for col in cat_cols if col not in cat_but_car]\n",
    "\n",
    "    num_cols = [col for col in dataframe.columns if dataframe[col].dtypes != \"O\"]\n",
    "    num_cols = [col for col in num_cols if col not in num_but_cat]\n",
    "\n",
    "    print(f\"Observations: {dataframe.shape[0]}\")\n",
    "    print(f\"Variables: {dataframe.shape[1]}\")\n",
    "    print(f'cat_cols: {len(cat_cols)}')\n",
    "    print(f'num_cols: {len(num_cols)}')\n",
    "    print(f'cat_but_car: {len(cat_but_car)}')\n",
    "    print(f'num_but_cat: {len(num_but_cat)}')\n",
    "\n",
    "    return cat_cols, num_cols, cat_but_car"
   ]
  },
  {
   "cell_type": "code",
   "execution_count": 10,
   "id": "b92aa81e",
   "metadata": {},
   "outputs": [
    {
     "name": "stdout",
     "output_type": "stream",
     "text": [
      "Observations: 322\n",
      "Variables: 20\n",
      "cat_cols: 3\n",
      "num_cols: 17\n",
      "cat_but_car: 0\n",
      "num_but_cat: 0\n"
     ]
    }
   ],
   "source": [
    "cat_cols, num_cols, cat_but_car = grab_col_names(df)"
   ]
  },
  {
   "cell_type": "code",
   "execution_count": 11,
   "id": "687d496d",
   "metadata": {},
   "outputs": [
    {
     "data": {
      "text/plain": [
       "['LEAGUE', 'DIVISION', 'NEWLEAGUE']"
      ]
     },
     "execution_count": 11,
     "metadata": {},
     "output_type": "execute_result"
    }
   ],
   "source": [
    "cat_cols"
   ]
  },
  {
   "cell_type": "code",
   "execution_count": 12,
   "id": "f1ccb6a1",
   "metadata": {},
   "outputs": [
    {
     "data": {
      "text/plain": [
       "['ATBAT',\n",
       " 'HITS',\n",
       " 'HMRUN',\n",
       " 'RUNS',\n",
       " 'RBI',\n",
       " 'WALKS',\n",
       " 'YEARS',\n",
       " 'CATBAT',\n",
       " 'CHITS',\n",
       " 'CHMRUN',\n",
       " 'CRUNS',\n",
       " 'CRBI',\n",
       " 'CWALKS',\n",
       " 'PUTOUTS',\n",
       " 'ASSISTS',\n",
       " 'ERRORS',\n",
       " 'SALARY']"
      ]
     },
     "execution_count": 12,
     "metadata": {},
     "output_type": "execute_result"
    }
   ],
   "source": [
    "num_cols"
   ]
  },
  {
   "cell_type": "markdown",
   "id": "4964b2b7",
   "metadata": {},
   "source": [
    "## Numerik ve Kategorik Değişkenlerin Analizi"
   ]
  },
  {
   "cell_type": "code",
   "execution_count": 13,
   "id": "8335221b",
   "metadata": {},
   "outputs": [],
   "source": [
    "def cat_summary(dataframe, col_name, plot=False):\n",
    "    print(pd.DataFrame({col_name: dataframe[col_name].value_counts(),\n",
    "                        \"Ratio\": 100 * dataframe[col_name].value_counts() / len(dataframe)}))\n",
    "    print(\"##########################################\")\n",
    "    if plot:\n",
    "        sns.countplot(x=dataframe[col_name], data=dataframe)\n",
    "        plt.show()"
   ]
  },
  {
   "cell_type": "code",
   "execution_count": 14,
   "id": "e40c3840",
   "metadata": {},
   "outputs": [
    {
     "name": "stdout",
     "output_type": "stream",
     "text": [
      "   LEAGUE  Ratio\n",
      "A     175  54.35\n",
      "N     147  45.65\n",
      "##########################################\n",
      "   DIVISION  Ratio\n",
      "W       165  51.24\n",
      "E       157  48.76\n",
      "##########################################\n",
      "   NEWLEAGUE  Ratio\n",
      "A        176  54.66\n",
      "N        146  45.34\n",
      "##########################################\n"
     ]
    }
   ],
   "source": [
    "for col in cat_cols:\n",
    "    cat_summary(df, col)"
   ]
  },
  {
   "cell_type": "code",
   "execution_count": 15,
   "id": "9ed2b642",
   "metadata": {},
   "outputs": [],
   "source": [
    "def num_summary(dataframe, numerical_col, plot=False):\n",
    "    quantiles = [0.05, 0.10, 0.20, 0.30, 0.40, 0.50, 0.60, 0.70, 0.80, 0.90, 0.95, 0.99]\n",
    "    print(dataframe[numerical_col].describe(quantiles).T)\n",
    "\n",
    "    if plot:\n",
    "        dataframe[numerical_col].hist(bins=20)\n",
    "        plt.xlabel(numerical_col)\n",
    "        plt.title(numerical_col)\n",
    "        plt.show()"
   ]
  },
  {
   "cell_type": "code",
   "execution_count": 16,
   "id": "fb36f34e",
   "metadata": {
    "scrolled": true
   },
   "outputs": [
    {
     "name": "stdout",
     "output_type": "stream",
     "text": [
      "count   322.00\n",
      "mean    380.93\n",
      "std     153.40\n",
      "min      16.00\n",
      "5%      161.00\n",
      "10%     194.10\n",
      "20%     221.80\n",
      "30%     281.30\n",
      "40%     321.80\n",
      "50%     379.50\n",
      "60%     430.20\n",
      "70%     490.00\n",
      "80%     535.60\n",
      "90%     584.90\n",
      "95%     609.90\n",
      "99%     658.59\n",
      "max     687.00\n",
      "Name: ATBAT, dtype: float64\n"
     ]
    },
    {
     "data": {
      "image/png": "[encoded data removed]",
      "text/plain": [
       "<Figure size 432x288 with 1 Axes>"
      ]
     },
     "metadata": {
      "needs_background": "light"
     },
     "output_type": "display_data"
    },
    {
     "name": "stdout",
     "output_type": "stream",
     "text": [
      "count   322.00\n",
      "mean    101.02\n",
      "std      46.45\n",
      "min       1.00\n",
      "5%       39.00\n",
      "10%      45.10\n",
      "20%      57.00\n",
      "30%      70.00\n",
      "40%      82.00\n",
      "50%      96.00\n",
      "60%     113.00\n",
      "70%     128.70\n",
      "80%     144.00\n",
      "90%     163.00\n",
      "95%     174.00\n",
      "99%     210.79\n",
      "max     238.00\n",
      "Name: HITS, dtype: float64\n"
     ]
    },
    {
     "data": {
      "image/png": "[encoded data removed]",
      "text/plain": [
       "<Figure size 432x288 with 1 Axes>"
      ]
     },
     "metadata": {
      "needs_background": "light"
     },
     "output_type": "display_data"
    },
    {
     "name": "stdout",
     "output_type": "stream",
     "text": [
      "count   322.00\n",
      "mean     10.77\n",
      "std       8.71\n",
      "min       0.00\n",
      "5%        0.00\n",
      "10%       1.00\n",
      "20%       3.00\n",
      "30%       5.00\n",
      "40%       6.00\n",
      "50%       8.00\n",
      "60%      10.60\n",
      "70%      14.00\n",
      "80%      18.00\n",
      "90%      24.00\n",
      "95%      28.95\n",
      "99%      33.00\n",
      "max      40.00\n",
      "Name: HMRUN, dtype: float64\n"
     ]
    },
    {
     "data": {
      "image/png": "[encoded data removed]",
      "text/plain": [
       "<Figure size 432x288 with 1 Axes>"
      ]
     },
     "metadata": {
      "needs_background": "light"
     },
     "output_type": "display_data"
    },
    {
     "name": "stdout",
     "output_type": "stream",
     "text": [
      "count   322.00\n",
      "mean     50.91\n",
      "std      26.02\n",
      "min       0.00\n",
      "5%       17.00\n",
      "10%      20.10\n",
      "20%      27.00\n",
      "30%      33.00\n",
      "40%      41.00\n",
      "50%      48.00\n",
      "60%      55.60\n",
      "70%      66.00\n",
      "80%      75.80\n",
      "90%      89.00\n",
      "95%      94.00\n",
      "99%     107.79\n",
      "max     130.00\n",
      "Name: RUNS, dtype: float64\n"
     ]
    },
    {
     "data": {
      "image/png": "[encoded data removed]",
      "text/plain": [
       "<Figure size 432x288 with 1 Axes>"
      ]
     },
     "metadata": {
      "needs_background": "light"
     },
     "output_type": "display_data"
    },
    {
     "name": "stdout",
     "output_type": "stream",
     "text": [
      "count   322.00\n",
      "mean     48.03\n",
      "std      26.17\n",
      "min       0.00\n",
      "5%       14.00\n",
      "10%      19.00\n",
      "20%      26.00\n",
      "30%      30.00\n",
      "40%      36.40\n",
      "50%      44.00\n",
      "60%      49.00\n",
      "70%      58.00\n",
      "80%      73.00\n",
      "90%      86.00\n",
      "95%      96.00\n",
      "99%     112.37\n",
      "max     121.00\n",
      "Name: RBI, dtype: float64\n"
     ]
    },
    {
     "data": {
      "image/png": "[encoded data removed]",
      "text/plain": [
       "<Figure size 432x288 with 1 Axes>"
      ]
     },
     "metadata": {
      "needs_background": "light"
     },
     "output_type": "display_data"
    },
    {
     "name": "stdout",
     "output_type": "stream",
     "text": [
      "count   322.00\n",
      "mean     38.74\n",
      "std      21.64\n",
      "min       0.00\n",
      "5%       11.05\n",
      "10%      15.00\n",
      "20%      20.00\n",
      "30%      24.00\n",
      "40%      30.00\n",
      "50%      35.00\n",
      "60%      40.00\n",
      "70%      48.70\n",
      "80%      59.00\n",
      "90%      69.90\n",
      "95%      78.00\n",
      "99%      93.58\n",
      "max     105.00\n",
      "Name: WALKS, dtype: float64\n"
     ]
    },
    {
     "data": {
      "image/png": "[encoded data removed]",
      "text/plain": [
       "<Figure size 432x288 with 1 Axes>"
      ]
     },
     "metadata": {
      "needs_background": "light"
     },
     "output_type": "display_data"
    },
    {
     "name": "stdout",
     "output_type": "stream",
     "text": [
      "count   322.00\n",
      "mean      7.44\n",
      "std       4.93\n",
      "min       1.00\n",
      "5%        1.00\n",
      "10%       2.00\n",
      "20%       3.00\n",
      "30%       4.00\n",
      "40%       5.00\n",
      "50%       6.00\n",
      "60%       7.60\n",
      "70%      10.00\n",
      "80%      12.00\n",
      "90%      15.00\n",
      "95%      17.00\n",
      "99%      19.79\n",
      "max      24.00\n",
      "Name: YEARS, dtype: float64\n"
     ]
    },
    {
     "data": {
      "image/png": "[encoded data removed]",
      "text/plain": [
       "<Figure size 432x288 with 1 Axes>"
      ]
     },
     "metadata": {
      "needs_background": "light"
     },
     "output_type": "display_data"
    },
    {
     "name": "stdout",
     "output_type": "stream",
     "text": [
      "count     322.00\n",
      "mean     2648.68\n",
      "std      2324.21\n",
      "min        19.00\n",
      "5%        216.50\n",
      "10%       342.20\n",
      "20%       667.60\n",
      "30%       963.40\n",
      "40%      1402.20\n",
      "50%      1928.00\n",
      "60%      2654.00\n",
      "70%      3365.00\n",
      "80%      4483.00\n",
      "90%      6123.40\n",
      "95%      7125.60\n",
      "99%      8749.97\n",
      "max     14053.00\n",
      "Name: CATBAT, dtype: float64\n"
     ]
    },
    {
     "data": {
      "image/png": "[encoded data removed]",
      "text/plain": [
       "<Figure size 432x288 with 1 Axes>"
      ]
     },
     "metadata": {
      "needs_background": "light"
     },
     "output_type": "display_data"
    },
    {
     "name": "stdout",
     "output_type": "stream",
     "text": [
      "count    322.00\n",
      "mean     717.57\n",
      "std      654.47\n",
      "min        4.00\n",
      "5%        54.00\n",
      "10%       86.00\n",
      "20%      164.60\n",
      "30%      238.00\n",
      "40%      355.80\n",
      "50%      508.00\n",
      "60%      708.20\n",
      "70%      911.10\n",
      "80%     1229.20\n",
      "90%     1659.60\n",
      "95%     2017.15\n",
      "99%     2500.34\n",
      "max     4256.00\n",
      "Name: CHITS, dtype: float64\n"
     ]
    },
    {
     "data": {
      "image/png": "[encoded data removed]",
      "text/plain": [
       "<Figure size 432x288 with 1 Axes>"
      ]
     },
     "metadata": {
      "needs_background": "light"
     },
     "output_type": "display_data"
    },
    {
     "name": "stdout",
     "output_type": "stream",
     "text": [
      "count   322.00\n",
      "mean     69.49\n",
      "std      86.27\n",
      "min       0.00\n",
      "5%        2.00\n",
      "10%       4.00\n",
      "20%      10.20\n",
      "30%      16.30\n",
      "40%      27.40\n",
      "50%      37.50\n",
      "60%      51.20\n",
      "70%      72.40\n",
      "80%     103.80\n",
      "90%     194.90\n",
      "95%     265.65\n",
      "99%     373.12\n",
      "max     548.00\n",
      "Name: CHMRUN, dtype: float64\n"
     ]
    },
    {
     "data": {
      "image/png": "[encoded data removed]",
      "text/plain": [
       "<Figure size 432x288 with 1 Axes>"
      ]
     },
     "metadata": {
      "needs_background": "light"
     },
     "output_type": "display_data"
    },
    {
     "name": "stdout",
     "output_type": "stream",
     "text": [
      "count    322.00\n",
      "mean     358.80\n",
      "std      334.11\n",
      "min        1.00\n",
      "5%        27.00\n",
      "10%       38.10\n",
      "20%       80.40\n",
      "30%      117.30\n",
      "40%      181.00\n",
      "50%      247.00\n",
      "60%      333.00\n",
      "70%      443.40\n",
      "80%      627.20\n",
      "90%      895.70\n",
      "95%     1032.30\n",
      "99%     1174.37\n",
      "max     2165.00\n",
      "Name: CRUNS, dtype: float64\n"
     ]
    },
    {
     "data": {
      "image/png": "[encoded data removed]",
      "text/plain": [
       "<Figure size 432x288 with 1 Axes>"
      ]
     },
     "metadata": {
      "needs_background": "light"
     },
     "output_type": "display_data"
    },
    {
     "name": "stdout",
     "output_type": "stream",
     "text": [
      "count    322.00\n",
      "mean     330.12\n",
      "std      333.22\n",
      "min        0.00\n",
      "5%        22.05\n",
      "10%       34.10\n",
      "20%       70.20\n",
      "30%      106.30\n",
      "40%      149.00\n",
      "50%      220.50\n",
      "60%      303.60\n",
      "70%      379.10\n",
      "80%      496.20\n",
      "90%      861.60\n",
      "95%     1071.75\n",
      "99%     1310.85\n",
      "max     1659.00\n",
      "Name: CRBI, dtype: float64\n"
     ]
    },
    {
     "data": {
      "image/png": "[encoded data removed]",
      "text/plain": [
       "<Figure size 432x288 with 1 Axes>"
      ]
     },
     "metadata": {
      "needs_background": "light"
     },
     "output_type": "display_data"
    },
    {
     "name": "stdout",
     "output_type": "stream",
     "text": [
      "count    322.00\n",
      "mean     260.24\n",
      "std      267.06\n",
      "min        0.00\n",
      "5%        15.05\n",
      "10%       30.10\n",
      "20%       55.00\n",
      "30%       82.00\n",
      "40%      117.40\n",
      "50%      170.50\n",
      "60%      226.60\n",
      "70%      300.70\n",
      "80%      421.00\n",
      "90%      643.90\n",
      "95%      817.60\n",
      "99%     1139.14\n",
      "max     1566.00\n",
      "Name: CWALKS, dtype: float64\n"
     ]
    },
    {
     "data": {
      "image/png": "[encoded data removed]",
      "text/plain": [
       "<Figure size 432x288 with 1 Axes>"
      ]
     },
     "metadata": {
      "needs_background": "light"
     },
     "output_type": "display_data"
    },
    {
     "name": "stdout",
     "output_type": "stream",
     "text": [
      "count    322.00\n",
      "mean     288.94\n",
      "std      280.70\n",
      "min        0.00\n",
      "5%        33.20\n",
      "10%       62.20\n",
      "20%       99.60\n",
      "30%      132.00\n",
      "40%      167.00\n",
      "50%      212.00\n",
      "60%      257.40\n",
      "70%      303.00\n",
      "80%      365.80\n",
      "90%      685.60\n",
      "95%      910.65\n",
      "99%     1301.19\n",
      "max     1378.00\n",
      "Name: PUTOUTS, dtype: float64\n"
     ]
    },
    {
     "data": {
      "image/png": "[encoded data removed]",
      "text/plain": [
       "<Figure size 432x288 with 1 Axes>"
      ]
     },
     "metadata": {
      "needs_background": "light"
     },
     "output_type": "display_data"
    },
    {
     "name": "stdout",
     "output_type": "stream",
     "text": [
      "count   322.00\n",
      "mean    106.91\n",
      "std     136.85\n",
      "min       0.00\n",
      "5%        0.00\n",
      "10%       2.00\n",
      "20%       5.20\n",
      "30%       9.00\n",
      "40%      15.40\n",
      "50%      39.50\n",
      "60%      76.80\n",
      "70%     134.80\n",
      "80%     210.80\n",
      "90%     353.30\n",
      "95%     431.45\n",
      "99%     478.16\n",
      "max     492.00\n",
      "Name: ASSISTS, dtype: float64\n"
     ]
    },
    {
     "data": {
      "image/png": "[encoded data removed]",
      "text/plain": [
       "<Figure size 432x288 with 1 Axes>"
      ]
     },
     "metadata": {
      "needs_background": "light"
     },
     "output_type": "display_data"
    },
    {
     "name": "stdout",
     "output_type": "stream",
     "text": [
      "count   322.00\n",
      "mean      8.04\n",
      "std       6.37\n",
      "min       0.00\n",
      "5%        0.00\n",
      "10%       1.00\n",
      "20%       3.00\n",
      "30%       4.00\n",
      "40%       5.00\n",
      "50%       6.00\n",
      "60%       8.00\n",
      "70%      10.00\n",
      "80%      13.00\n",
      "90%      17.00\n",
      "95%      20.00\n",
      "99%      25.79\n",
      "max      32.00\n",
      "Name: ERRORS, dtype: float64\n"
     ]
    },
    {
     "data": {
      "image/png": "[encoded data removed]",
      "text/plain": [
       "<Figure size 432x288 with 1 Axes>"
      ]
     },
     "metadata": {
      "needs_background": "light"
     },
     "output_type": "display_data"
    },
    {
     "name": "stdout",
     "output_type": "stream",
     "text": [
      "count    263.00\n",
      "mean     535.93\n",
      "std      451.12\n",
      "min       67.50\n",
      "5%        86.60\n",
      "10%      100.00\n",
      "20%      155.00\n",
      "30%      221.00\n",
      "40%      300.00\n",
      "50%      425.00\n",
      "60%      538.00\n",
      "70%      700.00\n",
      "80%      809.00\n",
      "90%     1048.67\n",
      "95%     1346.00\n",
      "99%     2032.89\n",
      "max     2460.00\n",
      "Name: SALARY, dtype: float64\n"
     ]
    },
    {
     "data": {
      "image/png": "[encoded data removed]",
      "text/plain": [
       "<Figure size 432x288 with 1 Axes>"
      ]
     },
     "metadata": {
      "needs_background": "light"
     },
     "output_type": "display_data"
    }
   ],
   "source": [
    "for col in num_cols:\n",
    "    num_summary(df, col, plot=True)"
   ]
  },
  {
   "cell_type": "code",
   "execution_count": 17,
   "id": "93b676af",
   "metadata": {},
   "outputs": [
    {
     "data": {
      "text/plain": [
       "4       4\n",
       "6       7\n",
       "7       9\n",
       "8      19\n",
       "17     16\n",
       "       ..\n",
       "294    11\n",
       "301    20\n",
       "309     9\n",
       "314    11\n",
       "315    15\n",
       "Name: ERRORS, Length: 69, dtype: int64"
      ]
     },
     "execution_count": 17,
     "metadata": {},
     "output_type": "execute_result"
    }
   ],
   "source": [
    "df_low_salary = df[df['SALARY'] < 200]\n",
    "df_low_salary['ERRORS']"
   ]
  },
  {
   "cell_type": "code",
   "execution_count": 18,
   "id": "47b5d26b",
   "metadata": {},
   "outputs": [
    {
     "data": {
      "text/plain": [
       "<AxesSubplot:xlabel='SALARY', ylabel='ERRORS'>"
      ]
     },
     "execution_count": 18,
     "metadata": {},
     "output_type": "execute_result"
    },
    {
     "data": {
      "image/png": "[encoded data removed]",
      "text/plain": [
       "<Figure size 432x288 with 1 Axes>"
      ]
     },
     "metadata": {
      "needs_background": "light"
     },
     "output_type": "display_data"
    }
   ],
   "source": [
    "sns.scatterplot(x=\"SALARY\", y=\"ERRORS\", data=df_low_salary)"
   ]
  },
  {
   "cell_type": "markdown",
   "id": "d2159438",
   "metadata": {},
   "source": [
    "## Hedef Değişken Analizi"
   ]
  },
  {
   "cell_type": "code",
   "execution_count": 19,
   "id": "e803c715",
   "metadata": {},
   "outputs": [],
   "source": [
    "def target_summary_with_num(dataframe, target, numerical_col):\n",
    "    print(dataframe.groupby(target).agg({numerical_col: \"mean\"}), end=\"\\n\\n\\n\")"
   ]
  },
  {
   "cell_type": "code",
   "execution_count": 20,
   "id": "1797c9b7",
   "metadata": {},
   "outputs": [
    {
     "name": "stdout",
     "output_type": "stream",
     "text": [
      "         ATBAT\n",
      "SALARY        \n",
      "67.50   181.00\n",
      "68.00   209.00\n",
      "70.00   248.60\n",
      "75.00   236.40\n",
      "80.00   399.00\n",
      "...        ...\n",
      "1940.00 514.00\n",
      "1975.00 677.00\n",
      "2127.33  20.00\n",
      "2412.50 618.00\n",
      "2460.00 495.00\n",
      "\n",
      "[150 rows x 1 columns]\n",
      "\n",
      "\n",
      "          HITS\n",
      "SALARY        \n",
      "67.50    41.00\n",
      "68.00    54.00\n",
      "70.00    57.40\n",
      "75.00    58.20\n",
      "80.00   102.00\n",
      "...        ...\n",
      "1940.00 144.00\n",
      "1975.00 238.00\n",
      "2127.33   1.00\n",
      "2412.50 200.00\n",
      "2460.00 151.00\n",
      "\n",
      "[150 rows x 1 columns]\n",
      "\n",
      "\n",
      "         HMRUN\n",
      "SALARY        \n",
      "67.50     1.00\n",
      "68.00     3.00\n",
      "70.00     3.20\n",
      "75.00     3.00\n",
      "80.00     3.00\n",
      "...        ...\n",
      "1940.00   0.00\n",
      "1975.00  31.00\n",
      "2127.33   0.00\n",
      "2412.50  20.00\n",
      "2460.00  17.00\n",
      "\n",
      "[150 rows x 1 columns]\n",
      "\n",
      "\n",
      "          RUNS\n",
      "SALARY        \n",
      "67.50    15.00\n",
      "68.00    25.00\n",
      "70.00    27.80\n",
      "75.00    25.20\n",
      "80.00    56.00\n",
      "...        ...\n",
      "1940.00  67.00\n",
      "1975.00 117.00\n",
      "2127.33   0.00\n",
      "2412.50  98.00\n",
      "2460.00  61.00\n",
      "\n",
      "[150 rows x 1 columns]\n",
      "\n",
      "\n",
      "           RBI\n",
      "SALARY        \n",
      "67.50    21.00\n",
      "68.00    14.00\n",
      "70.00    22.40\n",
      "75.00    22.80\n",
      "80.00    34.00\n",
      "...        ...\n",
      "1940.00  54.00\n",
      "1975.00 113.00\n",
      "2127.33   0.00\n",
      "2412.50 110.00\n",
      "2460.00  84.00\n",
      "\n",
      "[150 rows x 1 columns]\n",
      "\n",
      "\n",
      "         WALKS\n",
      "SALARY        \n",
      "67.50    33.00\n",
      "68.00    12.00\n",
      "70.00    22.20\n",
      "75.00    21.60\n",
      "80.00    34.00\n",
      "...        ...\n",
      "1940.00  79.00\n",
      "1975.00  53.00\n",
      "2127.33   0.00\n",
      "2412.50  62.00\n",
      "2460.00  78.00\n",
      "\n",
      "[150 rows x 1 columns]\n",
      "\n",
      "\n",
      "         YEARS\n",
      "SALARY        \n",
      "67.50     2.00\n",
      "68.00     1.00\n",
      "70.00     1.40\n",
      "75.00     2.00\n",
      "80.00     5.00\n",
      "...        ...\n",
      "1940.00   9.00\n",
      "1975.00   5.00\n",
      "2127.33   2.00\n",
      "2412.50  13.00\n",
      "2460.00  10.00\n",
      "\n",
      "[150 rows x 1 columns]\n",
      "\n",
      "\n",
      "         CATBAT\n",
      "SALARY         \n",
      "67.50    232.00\n",
      "68.00    209.00\n",
      "70.00    256.80\n",
      "75.00    309.20\n",
      "80.00    670.00\n",
      "...         ...\n",
      "1940.00 4739.00\n",
      "1975.00 2223.00\n",
      "2127.33   41.00\n",
      "2412.50 7127.00\n",
      "2460.00 5624.00\n",
      "\n",
      "[150 rows x 1 columns]\n",
      "\n",
      "\n",
      "          CHITS\n",
      "SALARY         \n",
      "67.50     50.00\n",
      "68.00     54.00\n",
      "70.00     59.60\n",
      "75.00     73.60\n",
      "80.00    167.00\n",
      "...         ...\n",
      "1940.00 1169.00\n",
      "1975.00  737.00\n",
      "2127.33    9.00\n",
      "2412.50 2163.00\n",
      "2460.00 1679.00\n",
      "\n",
      "[150 rows x 1 columns]\n",
      "\n",
      "\n",
      "         CHMRUN\n",
      "SALARY         \n",
      "67.50      4.00\n",
      "68.00      3.00\n",
      "70.00      3.20\n",
      "75.00      3.60\n",
      "80.00      4.00\n",
      "...         ...\n",
      "1940.00   13.00\n",
      "1975.00   93.00\n",
      "2127.33    2.00\n",
      "2412.50  351.00\n",
      "2460.00  275.00\n",
      "\n",
      "[150 rows x 1 columns]\n",
      "\n",
      "\n",
      "          CRUNS\n",
      "SALARY         \n",
      "67.50     20.00\n",
      "68.00     25.00\n",
      "70.00     29.60\n",
      "75.00     33.00\n",
      "80.00     89.00\n",
      "...         ...\n",
      "1940.00  583.00\n",
      "1975.00  349.00\n",
      "2127.33    6.00\n",
      "2412.50 1104.00\n",
      "2460.00  884.00\n",
      "\n",
      "[150 rows x 1 columns]\n",
      "\n",
      "\n",
      "           CRBI\n",
      "SALARY         \n",
      "67.50     29.00\n",
      "68.00     14.00\n",
      "70.00     23.20\n",
      "75.00     27.00\n",
      "80.00     48.00\n",
      "...         ...\n",
      "1940.00  374.00\n",
      "1975.00  401.00\n",
      "2127.33    7.00\n",
      "2412.50 1289.00\n",
      "2460.00 1015.00\n",
      "\n",
      "[150 rows x 1 columns]\n",
      "\n",
      "\n",
      "         CWALKS\n",
      "SALARY         \n",
      "67.50     45.00\n",
      "68.00     12.00\n",
      "70.00     23.60\n",
      "75.00     25.60\n",
      "80.00     54.00\n",
      "...         ...\n",
      "1940.00  528.00\n",
      "1975.00  171.00\n",
      "2127.33    4.00\n",
      "2412.50  564.00\n",
      "2460.00  709.00\n",
      "\n",
      "[150 rows x 1 columns]\n",
      "\n",
      "\n",
      "         PUTOUTS\n",
      "SALARY          \n",
      "67.50     326.00\n",
      "68.00     102.00\n",
      "70.00      86.40\n",
      "75.00     210.20\n",
      "80.00     211.00\n",
      "...          ...\n",
      "1940.00   229.00\n",
      "1975.00  1377.00\n",
      "2127.33    78.00\n",
      "2412.50   330.00\n",
      "2460.00  1045.00\n",
      "\n",
      "[150 rows x 1 columns]\n",
      "\n",
      "\n",
      "         ASSISTS\n",
      "SALARY          \n",
      "67.50      29.00\n",
      "68.00       6.00\n",
      "70.00      82.20\n",
      "75.00     110.60\n",
      "80.00       9.00\n",
      "...          ...\n",
      "1940.00   453.00\n",
      "1975.00   100.00\n",
      "2127.33   220.00\n",
      "2412.50    16.00\n",
      "2460.00    88.00\n",
      "\n",
      "[150 rows x 1 columns]\n",
      "\n",
      "\n",
      "         ERRORS\n",
      "SALARY         \n",
      "67.50      5.00\n",
      "68.00      3.00\n",
      "70.00     12.60\n",
      "75.00      8.60\n",
      "80.00      3.00\n",
      "...         ...\n",
      "1940.00   15.00\n",
      "1975.00    6.00\n",
      "2127.33    6.00\n",
      "2412.50    8.00\n",
      "2460.00   13.00\n",
      "\n",
      "[150 rows x 1 columns]\n",
      "\n",
      "\n",
      "         SALARY\n",
      "SALARY         \n",
      "67.50     67.50\n",
      "68.00     68.00\n",
      "70.00     70.00\n",
      "75.00     75.00\n",
      "80.00     80.00\n",
      "...         ...\n",
      "1940.00 1940.00\n",
      "1975.00 1975.00\n",
      "2127.33 2127.33\n",
      "2412.50 2412.50\n",
      "2460.00 2460.00\n",
      "\n",
      "[150 rows x 1 columns]\n",
      "\n",
      "\n"
     ]
    }
   ],
   "source": [
    "for col in num_cols:\n",
    "    target_summary_with_num(df, \"SALARY\", col)"
   ]
  },
  {
   "cell_type": "code",
   "execution_count": 21,
   "id": "c04202dc",
   "metadata": {},
   "outputs": [],
   "source": [
    "def target_summary_with_cat(dataframe, target, categorical_col):\n",
    "    print(categorical_col)\n",
    "    print(pd.DataFrame({\"TARGET_MEAN\": dataframe.groupby(categorical_col)[target].mean(),\n",
    "                        \"Count\": dataframe[categorical_col].value_counts(),\n",
    "                        \"Ratio\": 100 * dataframe[categorical_col].value_counts() / len(dataframe)}), end=\"\\n\\n\\n\")"
   ]
  },
  {
   "cell_type": "code",
   "execution_count": 22,
   "id": "bfc37296",
   "metadata": {
    "scrolled": true
   },
   "outputs": [
    {
     "name": "stdout",
     "output_type": "stream",
     "text": [
      "LEAGUE\n",
      "   TARGET_MEAN  Count  Ratio\n",
      "A       542.00    175  54.35\n",
      "N       529.12    147  45.65\n",
      "\n",
      "\n",
      "DIVISION\n",
      "   TARGET_MEAN  Count  Ratio\n",
      "E       624.27    157  48.76\n",
      "W       450.88    165  51.24\n",
      "\n",
      "\n",
      "NEWLEAGUE\n",
      "   TARGET_MEAN  Count  Ratio\n",
      "A       537.11    176  54.66\n",
      "N       534.55    146  45.34\n",
      "\n",
      "\n"
     ]
    }
   ],
   "source": [
    "for col in cat_cols:\n",
    "    target_summary_with_cat(df, \"SALARY\", col)"
   ]
  },
  {
   "cell_type": "markdown",
   "id": "3a98bf53",
   "metadata": {},
   "source": [
    "## Korelasyon Analizi"
   ]
  },
  {
   "cell_type": "code",
   "execution_count": 23,
   "id": "b26a7e22",
   "metadata": {},
   "outputs": [
    {
     "data": {
      "text/html": [
       "<div>\n",
       "<style scoped>\n",
       "    .dataframe tbody tr th:only-of-type {\n",
       "        vertical-align: middle;\n",
       "    }\n",
       "\n",
       "    .dataframe tbody tr th {\n",
       "        vertical-align: top;\n",
       "    }\n",
       "\n",
       "    .dataframe thead th {\n",
       "        text-align: right;\n",
       "    }\n",
       "</style>\n",
       "<table border=\"1\" class=\"dataframe\">\n",
       "  <thead>\n",
       "    <tr style=\"text-align: right;\">\n",
       "      <th></th>\n",
       "      <th>ATBAT</th>\n",
       "      <th>HITS</th>\n",
       "      <th>HMRUN</th>\n",
       "      <th>RUNS</th>\n",
       "      <th>RBI</th>\n",
       "      <th>WALKS</th>\n",
       "      <th>YEARS</th>\n",
       "      <th>CATBAT</th>\n",
       "      <th>CHITS</th>\n",
       "      <th>CHMRUN</th>\n",
       "      <th>CRUNS</th>\n",
       "      <th>CRBI</th>\n",
       "      <th>CWALKS</th>\n",
       "      <th>PUTOUTS</th>\n",
       "      <th>ASSISTS</th>\n",
       "      <th>ERRORS</th>\n",
       "      <th>SALARY</th>\n",
       "    </tr>\n",
       "  </thead>\n",
       "  <tbody>\n",
       "    <tr>\n",
       "      <th>ATBAT</th>\n",
       "      <td>1.00</td>\n",
       "      <td>0.97</td>\n",
       "      <td>0.59</td>\n",
       "      <td>0.91</td>\n",
       "      <td>0.82</td>\n",
       "      <td>0.67</td>\n",
       "      <td>0.05</td>\n",
       "      <td>0.24</td>\n",
       "      <td>0.25</td>\n",
       "      <td>0.24</td>\n",
       "      <td>0.27</td>\n",
       "      <td>0.24</td>\n",
       "      <td>0.17</td>\n",
       "      <td>0.32</td>\n",
       "      <td>0.35</td>\n",
       "      <td>0.35</td>\n",
       "      <td>0.39</td>\n",
       "    </tr>\n",
       "    <tr>\n",
       "      <th>HITS</th>\n",
       "      <td>0.97</td>\n",
       "      <td>1.00</td>\n",
       "      <td>0.56</td>\n",
       "      <td>0.92</td>\n",
       "      <td>0.81</td>\n",
       "      <td>0.64</td>\n",
       "      <td>0.04</td>\n",
       "      <td>0.23</td>\n",
       "      <td>0.26</td>\n",
       "      <td>0.20</td>\n",
       "      <td>0.26</td>\n",
       "      <td>0.23</td>\n",
       "      <td>0.15</td>\n",
       "      <td>0.31</td>\n",
       "      <td>0.32</td>\n",
       "      <td>0.31</td>\n",
       "      <td>0.44</td>\n",
       "    </tr>\n",
       "    <tr>\n",
       "      <th>HMRUN</th>\n",
       "      <td>0.59</td>\n",
       "      <td>0.56</td>\n",
       "      <td>1.00</td>\n",
       "      <td>0.65</td>\n",
       "      <td>0.86</td>\n",
       "      <td>0.48</td>\n",
       "      <td>0.12</td>\n",
       "      <td>0.22</td>\n",
       "      <td>0.22</td>\n",
       "      <td>0.49</td>\n",
       "      <td>0.26</td>\n",
       "      <td>0.35</td>\n",
       "      <td>0.23</td>\n",
       "      <td>0.28</td>\n",
       "      <td>-0.11</td>\n",
       "      <td>0.04</td>\n",
       "      <td>0.34</td>\n",
       "    </tr>\n",
       "    <tr>\n",
       "      <th>RUNS</th>\n",
       "      <td>0.91</td>\n",
       "      <td>0.92</td>\n",
       "      <td>0.65</td>\n",
       "      <td>1.00</td>\n",
       "      <td>0.80</td>\n",
       "      <td>0.73</td>\n",
       "      <td>0.00</td>\n",
       "      <td>0.19</td>\n",
       "      <td>0.20</td>\n",
       "      <td>0.23</td>\n",
       "      <td>0.25</td>\n",
       "      <td>0.21</td>\n",
       "      <td>0.18</td>\n",
       "      <td>0.28</td>\n",
       "      <td>0.22</td>\n",
       "      <td>0.24</td>\n",
       "      <td>0.42</td>\n",
       "    </tr>\n",
       "    <tr>\n",
       "      <th>RBI</th>\n",
       "      <td>0.82</td>\n",
       "      <td>0.81</td>\n",
       "      <td>0.86</td>\n",
       "      <td>0.80</td>\n",
       "      <td>1.00</td>\n",
       "      <td>0.62</td>\n",
       "      <td>0.15</td>\n",
       "      <td>0.29</td>\n",
       "      <td>0.31</td>\n",
       "      <td>0.44</td>\n",
       "      <td>0.32</td>\n",
       "      <td>0.39</td>\n",
       "      <td>0.25</td>\n",
       "      <td>0.34</td>\n",
       "      <td>0.11</td>\n",
       "      <td>0.19</td>\n",
       "      <td>0.45</td>\n",
       "    </tr>\n",
       "    <tr>\n",
       "      <th>WALKS</th>\n",
       "      <td>0.67</td>\n",
       "      <td>0.64</td>\n",
       "      <td>0.48</td>\n",
       "      <td>0.73</td>\n",
       "      <td>0.62</td>\n",
       "      <td>1.00</td>\n",
       "      <td>0.14</td>\n",
       "      <td>0.28</td>\n",
       "      <td>0.28</td>\n",
       "      <td>0.33</td>\n",
       "      <td>0.34</td>\n",
       "      <td>0.31</td>\n",
       "      <td>0.42</td>\n",
       "      <td>0.30</td>\n",
       "      <td>0.15</td>\n",
       "      <td>0.13</td>\n",
       "      <td>0.44</td>\n",
       "    </tr>\n",
       "    <tr>\n",
       "      <th>YEARS</th>\n",
       "      <td>0.05</td>\n",
       "      <td>0.04</td>\n",
       "      <td>0.12</td>\n",
       "      <td>0.00</td>\n",
       "      <td>0.15</td>\n",
       "      <td>0.14</td>\n",
       "      <td>1.00</td>\n",
       "      <td>0.92</td>\n",
       "      <td>0.90</td>\n",
       "      <td>0.73</td>\n",
       "      <td>0.88</td>\n",
       "      <td>0.87</td>\n",
       "      <td>0.84</td>\n",
       "      <td>-0.00</td>\n",
       "      <td>-0.08</td>\n",
       "      <td>-0.16</td>\n",
       "      <td>0.40</td>\n",
       "    </tr>\n",
       "    <tr>\n",
       "      <th>CATBAT</th>\n",
       "      <td>0.24</td>\n",
       "      <td>0.23</td>\n",
       "      <td>0.22</td>\n",
       "      <td>0.19</td>\n",
       "      <td>0.29</td>\n",
       "      <td>0.28</td>\n",
       "      <td>0.92</td>\n",
       "      <td>1.00</td>\n",
       "      <td>1.00</td>\n",
       "      <td>0.80</td>\n",
       "      <td>0.98</td>\n",
       "      <td>0.95</td>\n",
       "      <td>0.91</td>\n",
       "      <td>0.06</td>\n",
       "      <td>0.00</td>\n",
       "      <td>-0.07</td>\n",
       "      <td>0.53</td>\n",
       "    </tr>\n",
       "    <tr>\n",
       "      <th>CHITS</th>\n",
       "      <td>0.25</td>\n",
       "      <td>0.26</td>\n",
       "      <td>0.22</td>\n",
       "      <td>0.20</td>\n",
       "      <td>0.31</td>\n",
       "      <td>0.28</td>\n",
       "      <td>0.90</td>\n",
       "      <td>1.00</td>\n",
       "      <td>1.00</td>\n",
       "      <td>0.78</td>\n",
       "      <td>0.98</td>\n",
       "      <td>0.95</td>\n",
       "      <td>0.89</td>\n",
       "      <td>0.08</td>\n",
       "      <td>-0.00</td>\n",
       "      <td>-0.06</td>\n",
       "      <td>0.55</td>\n",
       "    </tr>\n",
       "    <tr>\n",
       "      <th>CHMRUN</th>\n",
       "      <td>0.24</td>\n",
       "      <td>0.20</td>\n",
       "      <td>0.49</td>\n",
       "      <td>0.23</td>\n",
       "      <td>0.44</td>\n",
       "      <td>0.33</td>\n",
       "      <td>0.73</td>\n",
       "      <td>0.80</td>\n",
       "      <td>0.78</td>\n",
       "      <td>1.00</td>\n",
       "      <td>0.82</td>\n",
       "      <td>0.93</td>\n",
       "      <td>0.80</td>\n",
       "      <td>0.11</td>\n",
       "      <td>-0.16</td>\n",
       "      <td>-0.14</td>\n",
       "      <td>0.52</td>\n",
       "    </tr>\n",
       "    <tr>\n",
       "      <th>CRUNS</th>\n",
       "      <td>0.27</td>\n",
       "      <td>0.26</td>\n",
       "      <td>0.26</td>\n",
       "      <td>0.25</td>\n",
       "      <td>0.32</td>\n",
       "      <td>0.34</td>\n",
       "      <td>0.88</td>\n",
       "      <td>0.98</td>\n",
       "      <td>0.98</td>\n",
       "      <td>0.82</td>\n",
       "      <td>1.00</td>\n",
       "      <td>0.94</td>\n",
       "      <td>0.93</td>\n",
       "      <td>0.06</td>\n",
       "      <td>-0.02</td>\n",
       "      <td>-0.08</td>\n",
       "      <td>0.56</td>\n",
       "    </tr>\n",
       "    <tr>\n",
       "      <th>CRBI</th>\n",
       "      <td>0.24</td>\n",
       "      <td>0.23</td>\n",
       "      <td>0.35</td>\n",
       "      <td>0.21</td>\n",
       "      <td>0.39</td>\n",
       "      <td>0.31</td>\n",
       "      <td>0.87</td>\n",
       "      <td>0.95</td>\n",
       "      <td>0.95</td>\n",
       "      <td>0.93</td>\n",
       "      <td>0.94</td>\n",
       "      <td>1.00</td>\n",
       "      <td>0.88</td>\n",
       "      <td>0.11</td>\n",
       "      <td>-0.08</td>\n",
       "      <td>-0.10</td>\n",
       "      <td>0.57</td>\n",
       "    </tr>\n",
       "    <tr>\n",
       "      <th>CWALKS</th>\n",
       "      <td>0.17</td>\n",
       "      <td>0.15</td>\n",
       "      <td>0.23</td>\n",
       "      <td>0.18</td>\n",
       "      <td>0.25</td>\n",
       "      <td>0.42</td>\n",
       "      <td>0.84</td>\n",
       "      <td>0.91</td>\n",
       "      <td>0.89</td>\n",
       "      <td>0.80</td>\n",
       "      <td>0.93</td>\n",
       "      <td>0.88</td>\n",
       "      <td>1.00</td>\n",
       "      <td>0.06</td>\n",
       "      <td>-0.04</td>\n",
       "      <td>-0.12</td>\n",
       "      <td>0.49</td>\n",
       "    </tr>\n",
       "    <tr>\n",
       "      <th>PUTOUTS</th>\n",
       "      <td>0.32</td>\n",
       "      <td>0.31</td>\n",
       "      <td>0.28</td>\n",
       "      <td>0.28</td>\n",
       "      <td>0.34</td>\n",
       "      <td>0.30</td>\n",
       "      <td>-0.00</td>\n",
       "      <td>0.06</td>\n",
       "      <td>0.08</td>\n",
       "      <td>0.11</td>\n",
       "      <td>0.06</td>\n",
       "      <td>0.11</td>\n",
       "      <td>0.06</td>\n",
       "      <td>1.00</td>\n",
       "      <td>-0.03</td>\n",
       "      <td>0.11</td>\n",
       "      <td>0.30</td>\n",
       "    </tr>\n",
       "    <tr>\n",
       "      <th>ASSISTS</th>\n",
       "      <td>0.35</td>\n",
       "      <td>0.32</td>\n",
       "      <td>-0.11</td>\n",
       "      <td>0.22</td>\n",
       "      <td>0.11</td>\n",
       "      <td>0.15</td>\n",
       "      <td>-0.08</td>\n",
       "      <td>0.00</td>\n",
       "      <td>-0.00</td>\n",
       "      <td>-0.16</td>\n",
       "      <td>-0.02</td>\n",
       "      <td>-0.08</td>\n",
       "      <td>-0.04</td>\n",
       "      <td>-0.03</td>\n",
       "      <td>1.00</td>\n",
       "      <td>0.71</td>\n",
       "      <td>0.03</td>\n",
       "    </tr>\n",
       "    <tr>\n",
       "      <th>ERRORS</th>\n",
       "      <td>0.35</td>\n",
       "      <td>0.31</td>\n",
       "      <td>0.04</td>\n",
       "      <td>0.24</td>\n",
       "      <td>0.19</td>\n",
       "      <td>0.13</td>\n",
       "      <td>-0.16</td>\n",
       "      <td>-0.07</td>\n",
       "      <td>-0.06</td>\n",
       "      <td>-0.14</td>\n",
       "      <td>-0.08</td>\n",
       "      <td>-0.10</td>\n",
       "      <td>-0.12</td>\n",
       "      <td>0.11</td>\n",
       "      <td>0.71</td>\n",
       "      <td>1.00</td>\n",
       "      <td>-0.01</td>\n",
       "    </tr>\n",
       "    <tr>\n",
       "      <th>SALARY</th>\n",
       "      <td>0.39</td>\n",
       "      <td>0.44</td>\n",
       "      <td>0.34</td>\n",
       "      <td>0.42</td>\n",
       "      <td>0.45</td>\n",
       "      <td>0.44</td>\n",
       "      <td>0.40</td>\n",
       "      <td>0.53</td>\n",
       "      <td>0.55</td>\n",
       "      <td>0.52</td>\n",
       "      <td>0.56</td>\n",
       "      <td>0.57</td>\n",
       "      <td>0.49</td>\n",
       "      <td>0.30</td>\n",
       "      <td>0.03</td>\n",
       "      <td>-0.01</td>\n",
       "      <td>1.00</td>\n",
       "    </tr>\n",
       "  </tbody>\n",
       "</table>\n",
       "</div>"
      ],
      "text/plain": [
       "         ATBAT  HITS  HMRUN  RUNS  RBI  WALKS  YEARS  CATBAT  CHITS  CHMRUN  \\\n",
       "ATBAT     1.00  0.97   0.59  0.91 0.82   0.67   0.05    0.24   0.25    0.24   \n",
       "HITS      0.97  1.00   0.56  0.92 0.81   0.64   0.04    0.23   0.26    0.20   \n",
       "HMRUN     0.59  0.56   1.00  0.65 0.86   0.48   0.12    0.22   0.22    0.49   \n",
       "RUNS      0.91  0.92   0.65  1.00 0.80   0.73   0.00    0.19   0.20    0.23   \n",
       "RBI       0.82  0.81   0.86  0.80 1.00   0.62   0.15    0.29   0.31    0.44   \n",
       "WALKS     0.67  0.64   0.48  0.73 0.62   1.00   0.14    0.28   0.28    0.33   \n",
       "YEARS     0.05  0.04   0.12  0.00 0.15   0.14   1.00    0.92   0.90    0.73   \n",
       "CATBAT    0.24  0.23   0.22  0.19 0.29   0.28   0.92    1.00   1.00    0.80   \n",
       "CHITS     0.25  0.26   0.22  0.20 0.31   0.28   0.90    1.00   1.00    0.78   \n",
       "CHMRUN    0.24  0.20   0.49  0.23 0.44   0.33   0.73    0.80   0.78    1.00   \n",
       "CRUNS     0.27  0.26   0.26  0.25 0.32   0.34   0.88    0.98   0.98    0.82   \n",
       "CRBI      0.24  0.23   0.35  0.21 0.39   0.31   0.87    0.95   0.95    0.93   \n",
       "CWALKS    0.17  0.15   0.23  0.18 0.25   0.42   0.84    0.91   0.89    0.80   \n",
       "PUTOUTS   0.32  0.31   0.28  0.28 0.34   0.30  -0.00    0.06   0.08    0.11   \n",
       "ASSISTS   0.35  0.32  -0.11  0.22 0.11   0.15  -0.08    0.00  -0.00   -0.16   \n",
       "ERRORS    0.35  0.31   0.04  0.24 0.19   0.13  -0.16   -0.07  -0.06   -0.14   \n",
       "SALARY    0.39  0.44   0.34  0.42 0.45   0.44   0.40    0.53   0.55    0.52   \n",
       "\n",
       "         CRUNS  CRBI  CWALKS  PUTOUTS  ASSISTS  ERRORS  SALARY  \n",
       "ATBAT     0.27  0.24    0.17     0.32     0.35    0.35    0.39  \n",
       "HITS      0.26  0.23    0.15     0.31     0.32    0.31    0.44  \n",
       "HMRUN     0.26  0.35    0.23     0.28    -0.11    0.04    0.34  \n",
       "RUNS      0.25  0.21    0.18     0.28     0.22    0.24    0.42  \n",
       "RBI       0.32  0.39    0.25     0.34     0.11    0.19    0.45  \n",
       "WALKS     0.34  0.31    0.42     0.30     0.15    0.13    0.44  \n",
       "YEARS     0.88  0.87    0.84    -0.00    -0.08   -0.16    0.40  \n",
       "CATBAT    0.98  0.95    0.91     0.06     0.00   -0.07    0.53  \n",
       "CHITS     0.98  0.95    0.89     0.08    -0.00   -0.06    0.55  \n",
       "CHMRUN    0.82  0.93    0.80     0.11    -0.16   -0.14    0.52  \n",
       "CRUNS     1.00  0.94    0.93     0.06    -0.02   -0.08    0.56  \n",
       "CRBI      0.94  1.00    0.88     0.11    -0.08   -0.10    0.57  \n",
       "CWALKS    0.93  0.88    1.00     0.06    -0.04   -0.12    0.49  \n",
       "PUTOUTS   0.06  0.11    0.06     1.00    -0.03    0.11    0.30  \n",
       "ASSISTS  -0.02 -0.08   -0.04    -0.03     1.00    0.71    0.03  \n",
       "ERRORS   -0.08 -0.10   -0.12     0.11     0.71    1.00   -0.01  \n",
       "SALARY    0.56  0.57    0.49     0.30     0.03   -0.01    1.00  "
      ]
     },
     "execution_count": 23,
     "metadata": {},
     "output_type": "execute_result"
    }
   ],
   "source": [
    "df[num_cols].corr()\n",
    "\n",
    "df.corr()"
   ]
  },
  {
   "cell_type": "code",
   "execution_count": 24,
   "id": "0d28b175",
   "metadata": {},
   "outputs": [
    {
     "data": {
      "image/png": "[encoded data removed]",
      "text/plain": [
       "<Figure size 1296x936 with 2 Axes>"
      ]
     },
     "metadata": {
      "needs_background": "light"
     },
     "output_type": "display_data"
    }
   ],
   "source": [
    "f, ax = plt.subplots(figsize=[18, 13])\n",
    "sns.heatmap(df[num_cols].corr(), annot=True, fmt=\".2f\", ax=ax, cmap=\"magma\")\n",
    "ax.set_title(\"Correlation Matrix\", fontsize=20)\n",
    "plt.show()"
   ]
  },
  {
   "cell_type": "markdown",
   "id": "25d62554",
   "metadata": {},
   "source": [
    "## Eksik Gözlem Analizi"
   ]
  },
  {
   "cell_type": "code",
   "execution_count": 25,
   "id": "8b741ce0",
   "metadata": {},
   "outputs": [
    {
     "data": {
      "text/plain": [
       "ATBAT        False\n",
       "HITS         False\n",
       "HMRUN        False\n",
       "RUNS         False\n",
       "RBI          False\n",
       "WALKS        False\n",
       "YEARS        False\n",
       "CATBAT       False\n",
       "CHITS        False\n",
       "CHMRUN       False\n",
       "CRUNS        False\n",
       "CRBI         False\n",
       "CWALKS       False\n",
       "LEAGUE       False\n",
       "DIVISION     False\n",
       "PUTOUTS      False\n",
       "ASSISTS      False\n",
       "ERRORS       False\n",
       "SALARY        True\n",
       "NEWLEAGUE    False\n",
       "dtype: bool"
      ]
     },
     "execution_count": 25,
     "metadata": {},
     "output_type": "execute_result"
    }
   ],
   "source": [
    "df.isnull().any()"
   ]
  },
  {
   "cell_type": "code",
   "execution_count": 26,
   "id": "e8d48e1b",
   "metadata": {},
   "outputs": [],
   "source": [
    "def missing_values_table(dataframe, na_name=False):\n",
    "    na_columns = [col for col in dataframe.columns if dataframe[col].isnull().sum() > 0]\n",
    "    n_miss = dataframe[na_columns].isnull().sum().sort_values(ascending=False)\n",
    "    ratio = (dataframe[na_columns].isnull().sum() / dataframe.shape[0] * 100).sort_values(ascending=False)\n",
    "    missing_df = pd.concat([n_miss, np.round(ratio, 2)], axis=1, keys=['n_miss', 'ratio'])\n",
    "    print(missing_df, end=\"\\n\")\n",
    "    if na_name:\n",
    "        return na_columns"
   ]
  },
  {
   "cell_type": "code",
   "execution_count": 27,
   "id": "41e65232",
   "metadata": {},
   "outputs": [
    {
     "name": "stdout",
     "output_type": "stream",
     "text": [
      "        n_miss  ratio\n",
      "SALARY      59  18.32\n"
     ]
    }
   ],
   "source": [
    "na_columns = missing_values_table(df, na_name=True)"
   ]
  },
  {
   "cell_type": "code",
   "execution_count": 28,
   "id": "5448184e",
   "metadata": {},
   "outputs": [],
   "source": [
    "df[\"SALARY\"].fillna(df[\"SALARY\"].median(), inplace=True)"
   ]
  },
  {
   "cell_type": "markdown",
   "id": "4a551965",
   "metadata": {},
   "source": [
    "## Aykırı Değer Analizi"
   ]
  },
  {
   "cell_type": "code",
   "execution_count": 29,
   "id": "e530c2ff",
   "metadata": {},
   "outputs": [],
   "source": [
    "def outlier_thresholds(dataframe, col_name, q1=0.05, q3=0.95):\n",
    "    quartile1 = dataframe[col_name].quantile(q1)\n",
    "    quartile3 = dataframe[col_name].quantile(q3)\n",
    "    interquantile_range = quartile3 - quartile1\n",
    "    up_limit = quartile3 + 1.5 * interquantile_range\n",
    "    low_limit = quartile1 - 1.5 * interquantile_range\n",
    "    return low_limit, up_limit\n",
    "\n",
    "\n",
    "def check_outlier(dataframe, col_name):\n",
    "    low_limit, up_limit = outlier_thresholds(dataframe, col_name)\n",
    "    if dataframe[(dataframe[col_name] > up_limit) | (dataframe[col_name] < low_limit)].any(axis=None):\n",
    "        return True\n",
    "    else:\n",
    "        return False\n",
    "\n",
    "\n",
    "def replace_with_thresholds(dataframe, variable, q1=0.05, q3=0.95):\n",
    "    low_limit, up_limit = outlier_thresholds(dataframe, variable, q1=0.05, q3=0.95)\n",
    "    dataframe.loc[(dataframe[variable] < low_limit), variable] = low_limit\n",
    "    dataframe.loc[(dataframe[variable] > up_limit), variable] = up_limit"
   ]
  },
  {
   "cell_type": "code",
   "execution_count": 30,
   "id": "10ae12f5",
   "metadata": {},
   "outputs": [
    {
     "name": "stdout",
     "output_type": "stream",
     "text": [
      "ATBAT False\n",
      "HITS False\n",
      "HMRUN False\n",
      "RUNS False\n",
      "RBI False\n",
      "WALKS False\n",
      "YEARS False\n",
      "CATBAT False\n",
      "CHITS False\n",
      "CHMRUN False\n",
      "CRUNS False\n",
      "CRBI False\n",
      "CWALKS False\n",
      "PUTOUTS False\n",
      "ASSISTS False\n",
      "ERRORS False\n",
      "SALARY False\n"
     ]
    }
   ],
   "source": [
    "for col in num_cols:\n",
    "    print(col, check_outlier(df, col))\n",
    "    if check_outlier(df, col):\n",
    "        replace_with_thresholds(df, col)"
   ]
  },
  {
   "cell_type": "markdown",
   "id": "a41504c3",
   "metadata": {},
   "source": [
    "## Base Model Kurulumu"
   ]
  },
  {
   "cell_type": "code",
   "execution_count": 31,
   "id": "0455acef",
   "metadata": {},
   "outputs": [],
   "source": [
    "dff = df.copy()"
   ]
  },
  {
   "cell_type": "code",
   "execution_count": 32,
   "id": "5983e772",
   "metadata": {},
   "outputs": [],
   "source": [
    "def one_hot_encoder(dataframe, categorical_cols, drop_first=False):\n",
    "    dataframe = pd.get_dummies(dataframe, columns=categorical_cols, drop_first=drop_first)\n",
    "    return dataframe"
   ]
  },
  {
   "cell_type": "code",
   "execution_count": 33,
   "id": "18693381",
   "metadata": {},
   "outputs": [],
   "source": [
    "dff = one_hot_encoder(dff, cat_cols, drop_first=True)"
   ]
  },
  {
   "cell_type": "code",
   "execution_count": 34,
   "id": "9c5ac2c2",
   "metadata": {},
   "outputs": [
    {
     "data": {
      "text/plain": [
       "0.37913394826121294"
      ]
     },
     "execution_count": 34,
     "metadata": {},
     "output_type": "execute_result"
    }
   ],
   "source": [
    "y = dff[\"SALARY\"]\n",
    "X = dff.drop([\"SALARY\"], axis=1)\n",
    "\n",
    "X_train, X_test, y_train, y_test = train_test_split(X, y, test_size=0.30, random_state=17)\n",
    "\n",
    "lin_model = LinearRegression().fit(X_train, y_train)\n",
    "y_pred = lin_model.predict(X_test)\n",
    "\n",
    "lin_model.score(X_test, y_test)"
   ]
  },
  {
   "cell_type": "markdown",
   "id": "e125679e",
   "metadata": {},
   "source": [
    "## Özellik Çıkarımı"
   ]
  },
  {
   "cell_type": "code",
   "execution_count": 35,
   "id": "7ae8e82f",
   "metadata": {},
   "outputs": [],
   "source": [
    "# Major liginde 5 yıldan fazla oynayan ve oynamayan oyuncular\n",
    "df.loc[df['YEARS'] > 5, 'NEW_YEARS_CAT'] = 'experienced'\n",
    "df.loc[df['YEARS'] <= 5, 'NEW_YEARS_CAT'] = 'rookie'"
   ]
  },
  {
   "cell_type": "code",
   "execution_count": 36,
   "id": "65f893cb",
   "metadata": {},
   "outputs": [],
   "source": [
    "# Oyuncunun kariyeri boyunca yaptığı başarılı işlerin oynadığı süreye göre ortalaması\n",
    "df['NEW_CAREER_YEARS'] = (df['CATBAT'] + df['CHITS'] + df['CHMRUN'] + df['CRUNS'] + df['CRBI'] + df['CWALKS']) / df['YEARS']"
   ]
  },
  {
   "cell_type": "code",
   "execution_count": 37,
   "id": "40b4daf9",
   "metadata": {},
   "outputs": [],
   "source": [
    "# Oyuncunun home run puanı alabilme kabiliyeti\n",
    "df.loc[df['HMRUN'] >= 10, 'NEW_HMRUN_CAT'] = 'homerunner'\n",
    "df.loc[df['HMRUN'] < 10, 'NEW_HMRUN_CAT'] = 'not_homerunner'"
   ]
  },
  {
   "cell_type": "code",
   "execution_count": 38,
   "id": "02e5254b",
   "metadata": {},
   "outputs": [],
   "source": [
    "# Oyuncunun 1986-1987 yıllarındaki vuruşlarını skora çevirme oranı\n",
    "df['NEW_RUNS_ATBAT'] = df['RUNS'] / df['ATBAT']"
   ]
  },
  {
   "cell_type": "code",
   "execution_count": 39,
   "id": "a16678f6",
   "metadata": {},
   "outputs": [],
   "source": [
    "# Oyuncunun 1986-1987 yıllarındaki net hata katkısı\n",
    "df['NEW_ERRORS_RBI'] = df['WALKS'] - df['ERRORS']"
   ]
  },
  {
   "cell_type": "code",
   "execution_count": 40,
   "id": "3e2d4920",
   "metadata": {},
   "outputs": [],
   "source": [
    "# Oyuncunun yer aldığı bölge ve lig\n"
   ]
  },
  {
   "cell_type": "code",
   "execution_count": 41,
   "id": "c68e4d02",
   "metadata": {},
   "outputs": [
    {
     "name": "stdout",
     "output_type": "stream",
     "text": [
      "Observations: 322\n",
      "Variables: 25\n",
      "cat_cols: 5\n",
      "num_cols: 20\n",
      "cat_but_car: 0\n",
      "num_but_cat: 0\n"
     ]
    }
   ],
   "source": [
    "cat_cols, num_cols, cat_but_car = grab_col_names(df)"
   ]
  },
  {
   "cell_type": "markdown",
   "id": "32167033",
   "metadata": {},
   "source": [
    "## Encoding"
   ]
  },
  {
   "cell_type": "code",
   "execution_count": 42,
   "id": "e8d5185b",
   "metadata": {},
   "outputs": [],
   "source": [
    "def label_encoder(dataframe, binary_col):\n",
    "    labelencoder = LabelEncoder()\n",
    "    dataframe[binary_col] = labelencoder.fit_transform(dataframe[binary_col])\n",
    "    return dataframe"
   ]
  },
  {
   "cell_type": "code",
   "execution_count": 43,
   "id": "4c9f7cdb",
   "metadata": {},
   "outputs": [
    {
     "data": {
      "text/plain": [
       "['LEAGUE', 'DIVISION', 'NEWLEAGUE', 'NEW_YEARS_CAT', 'NEW_HMRUN_CAT']"
      ]
     },
     "execution_count": 43,
     "metadata": {},
     "output_type": "execute_result"
    }
   ],
   "source": [
    "binary_cols = [col for col in df.columns if df[col].dtypes == \"O\" and df[col].nunique() == 2]\n",
    "binary_cols"
   ]
  },
  {
   "cell_type": "code",
   "execution_count": 44,
   "id": "ea045100",
   "metadata": {},
   "outputs": [],
   "source": [
    "for col in binary_cols:\n",
    "    df = label_encoder(df, col)"
   ]
  },
  {
   "cell_type": "code",
   "execution_count": 45,
   "id": "7c15937c",
   "metadata": {},
   "outputs": [
    {
     "data": {
      "text/plain": [
       "['LEAGUE', 'DIVISION', 'NEWLEAGUE', 'NEW_YEARS_CAT', 'NEW_HMRUN_CAT']"
      ]
     },
     "execution_count": 45,
     "metadata": {},
     "output_type": "execute_result"
    }
   ],
   "source": [
    "cat_cols "
   ]
  },
  {
   "cell_type": "code",
   "execution_count": 46,
   "id": "69c0e38b",
   "metadata": {},
   "outputs": [],
   "source": [
    "def one_hot_encoder(dataframe, categorical_cols, drop_first=False):\n",
    "    dataframe = pd.get_dummies(dataframe, columns=categorical_cols, drop_first=drop_first)\n",
    "    return dataframe"
   ]
  },
  {
   "cell_type": "code",
   "execution_count": 47,
   "id": "55358ab3",
   "metadata": {},
   "outputs": [],
   "source": [
    "df = one_hot_encoder(df, cat_cols, drop_first=True)"
   ]
  },
  {
   "cell_type": "markdown",
   "id": "323a965a",
   "metadata": {},
   "source": [
    "## Scaling"
   ]
  },
  {
   "cell_type": "code",
   "execution_count": 48,
   "id": "dfcbea42",
   "metadata": {
    "scrolled": true
   },
   "outputs": [
    {
     "data": {
      "text/html": [
       "<div>\n",
       "<style scoped>\n",
       "    .dataframe tbody tr th:only-of-type {\n",
       "        vertical-align: middle;\n",
       "    }\n",
       "\n",
       "    .dataframe tbody tr th {\n",
       "        vertical-align: top;\n",
       "    }\n",
       "\n",
       "    .dataframe thead th {\n",
       "        text-align: right;\n",
       "    }\n",
       "</style>\n",
       "<table border=\"1\" class=\"dataframe\">\n",
       "  <thead>\n",
       "    <tr style=\"text-align: right;\">\n",
       "      <th></th>\n",
       "      <th>ATBAT</th>\n",
       "      <th>HITS</th>\n",
       "      <th>HMRUN</th>\n",
       "      <th>RUNS</th>\n",
       "      <th>RBI</th>\n",
       "      <th>WALKS</th>\n",
       "      <th>YEARS</th>\n",
       "      <th>CATBAT</th>\n",
       "      <th>CHITS</th>\n",
       "      <th>CHMRUN</th>\n",
       "      <th>...</th>\n",
       "      <th>ERRORS</th>\n",
       "      <th>SALARY</th>\n",
       "      <th>NEW_CAREER_YEARS</th>\n",
       "      <th>NEW_RUNS_ATBAT</th>\n",
       "      <th>NEW_ERRORS_RBI</th>\n",
       "      <th>LEAGUE_1</th>\n",
       "      <th>DIVISION_1</th>\n",
       "      <th>NEWLEAGUE_1</th>\n",
       "      <th>NEW_YEARS_CAT_1</th>\n",
       "      <th>NEW_HMRUN_CAT_1</th>\n",
       "    </tr>\n",
       "  </thead>\n",
       "  <tbody>\n",
       "    <tr>\n",
       "      <th>0</th>\n",
       "      <td>0.41</td>\n",
       "      <td>0.27</td>\n",
       "      <td>0.03</td>\n",
       "      <td>0.23</td>\n",
       "      <td>0.24</td>\n",
       "      <td>0.13</td>\n",
       "      <td>0.00</td>\n",
       "      <td>0.02</td>\n",
       "      <td>0.01</td>\n",
       "      <td>0.00</td>\n",
       "      <td>...</td>\n",
       "      <td>0.62</td>\n",
       "      <td>0.15</td>\n",
       "      <td>0.41</td>\n",
       "      <td>0.44</td>\n",
       "      <td>0.05</td>\n",
       "      <td>0</td>\n",
       "      <td>0</td>\n",
       "      <td>0</td>\n",
       "      <td>1</td>\n",
       "      <td>1</td>\n",
       "    </tr>\n",
       "    <tr>\n",
       "      <th>1</th>\n",
       "      <td>0.45</td>\n",
       "      <td>0.34</td>\n",
       "      <td>0.18</td>\n",
       "      <td>0.18</td>\n",
       "      <td>0.31</td>\n",
       "      <td>0.37</td>\n",
       "      <td>0.57</td>\n",
       "      <td>0.24</td>\n",
       "      <td>0.20</td>\n",
       "      <td>0.13</td>\n",
       "      <td>...</td>\n",
       "      <td>0.31</td>\n",
       "      <td>0.17</td>\n",
       "      <td>0.37</td>\n",
       "      <td>0.33</td>\n",
       "      <td>0.39</td>\n",
       "      <td>1</td>\n",
       "      <td>1</td>\n",
       "      <td>1</td>\n",
       "      <td>0</td>\n",
       "      <td>1</td>\n",
       "    </tr>\n",
       "    <tr>\n",
       "      <th>2</th>\n",
       "      <td>0.69</td>\n",
       "      <td>0.54</td>\n",
       "      <td>0.45</td>\n",
       "      <td>0.51</td>\n",
       "      <td>0.60</td>\n",
       "      <td>0.72</td>\n",
       "      <td>0.09</td>\n",
       "      <td>0.11</td>\n",
       "      <td>0.11</td>\n",
       "      <td>0.11</td>\n",
       "      <td>...</td>\n",
       "      <td>0.44</td>\n",
       "      <td>0.17</td>\n",
       "      <td>0.93</td>\n",
       "      <td>0.59</td>\n",
       "      <td>0.71</td>\n",
       "      <td>0</td>\n",
       "      <td>1</td>\n",
       "      <td>0</td>\n",
       "      <td>1</td>\n",
       "      <td>0</td>\n",
       "    </tr>\n",
       "    <tr>\n",
       "      <th>3</th>\n",
       "      <td>0.72</td>\n",
       "      <td>0.59</td>\n",
       "      <td>0.50</td>\n",
       "      <td>0.50</td>\n",
       "      <td>0.64</td>\n",
       "      <td>0.35</td>\n",
       "      <td>0.43</td>\n",
       "      <td>0.40</td>\n",
       "      <td>0.37</td>\n",
       "      <td>0.41</td>\n",
       "      <td>...</td>\n",
       "      <td>0.09</td>\n",
       "      <td>0.18</td>\n",
       "      <td>0.83</td>\n",
       "      <td>0.56</td>\n",
       "      <td>0.44</td>\n",
       "      <td>1</td>\n",
       "      <td>0</td>\n",
       "      <td>1</td>\n",
       "      <td>0</td>\n",
       "      <td>0</td>\n",
       "    </tr>\n",
       "    <tr>\n",
       "      <th>4</th>\n",
       "      <td>0.45</td>\n",
       "      <td>0.36</td>\n",
       "      <td>0.25</td>\n",
       "      <td>0.30</td>\n",
       "      <td>0.35</td>\n",
       "      <td>0.29</td>\n",
       "      <td>0.04</td>\n",
       "      <td>0.03</td>\n",
       "      <td>0.02</td>\n",
       "      <td>0.02</td>\n",
       "      <td>...</td>\n",
       "      <td>0.12</td>\n",
       "      <td>0.01</td>\n",
       "      <td>0.30</td>\n",
       "      <td>0.52</td>\n",
       "      <td>0.36</td>\n",
       "      <td>1</td>\n",
       "      <td>0</td>\n",
       "      <td>1</td>\n",
       "      <td>1</td>\n",
       "      <td>0</td>\n",
       "    </tr>\n",
       "  </tbody>\n",
       "</table>\n",
       "<p>5 rows × 25 columns</p>\n",
       "</div>"
      ],
      "text/plain": [
       "   ATBAT  HITS  HMRUN  RUNS  RBI  WALKS  YEARS  CATBAT  CHITS  CHMRUN  ...  \\\n",
       "0   0.41  0.27   0.03  0.23 0.24   0.13   0.00    0.02   0.01    0.00  ...   \n",
       "1   0.45  0.34   0.18  0.18 0.31   0.37   0.57    0.24   0.20    0.13  ...   \n",
       "2   0.69  0.54   0.45  0.51 0.60   0.72   0.09    0.11   0.11    0.11  ...   \n",
       "3   0.72  0.59   0.50  0.50 0.64   0.35   0.43    0.40   0.37    0.41  ...   \n",
       "4   0.45  0.36   0.25  0.30 0.35   0.29   0.04    0.03   0.02    0.02  ...   \n",
       "\n",
       "   ERRORS  SALARY  NEW_CAREER_YEARS  NEW_RUNS_ATBAT  NEW_ERRORS_RBI  LEAGUE_1  \\\n",
       "0    0.62    0.15              0.41            0.44            0.05         0   \n",
       "1    0.31    0.17              0.37            0.33            0.39         1   \n",
       "2    0.44    0.17              0.93            0.59            0.71         0   \n",
       "3    0.09    0.18              0.83            0.56            0.44         1   \n",
       "4    0.12    0.01              0.30            0.52            0.36         1   \n",
       "\n",
       "   DIVISION_1  NEWLEAGUE_1  NEW_YEARS_CAT_1  NEW_HMRUN_CAT_1  \n",
       "0           0            0                1                1  \n",
       "1           1            1                0                1  \n",
       "2           1            0                1                0  \n",
       "3           0            1                0                0  \n",
       "4           0            1                1                0  \n",
       "\n",
       "[5 rows x 25 columns]"
      ]
     },
     "execution_count": 48,
     "metadata": {},
     "output_type": "execute_result"
    }
   ],
   "source": [
    "scaler = MinMaxScaler()\n",
    "df[num_cols] = scaler.fit_transform(df[num_cols])\n",
    "df.head()"
   ]
  },
  {
   "cell_type": "markdown",
   "id": "cc5a1615",
   "metadata": {},
   "source": [
    "## Modelleme"
   ]
  },
  {
   "cell_type": "code",
   "execution_count": 61,
   "id": "b34f2e53",
   "metadata": {},
   "outputs": [
    {
     "data": {
      "text/plain": [
       "0.46343096719855004"
      ]
     },
     "execution_count": 61,
     "metadata": {},
     "output_type": "execute_result"
    }
   ],
   "source": [
    "y = df[\"SALARY\"]\n",
    "X = df.drop([\"SALARY\"], axis=1)\n",
    "\n",
    "X_train, X_test, y_train, y_test = train_test_split(X, y, test_size=0.30, random_state=17)\n",
    "\n",
    "reg_model = LinearRegression().fit(X_train, y_train)\n",
    "y_pred = reg_model.predict(X_test)\n",
    "\n",
    "reg_model.score(X_test, y_test)"
   ]
  },
  {
   "cell_type": "code",
   "execution_count": 62,
   "id": "67538ab4",
   "metadata": {},
   "outputs": [
    {
     "data": {
      "text/plain": [
       "array([-6.46154243e-01, -1.64022061e-02, -9.98905586e-02,  7.82764200e-01,\n",
       "        9.30773754e-02,  1.20340284e-01, -4.10589361e-01, -1.11248921e+00,\n",
       "        1.47769299e+00,  5.76668660e-02,  5.16899954e-01,  2.37988416e-01,\n",
       "       -3.95672070e-01,  2.56648726e-02,  6.74776560e-02,  1.86772262e-02,\n",
       "        5.90179808e-03, -6.35984216e-01,  1.16874355e-01,  1.52580956e-02,\n",
       "       -3.88659063e-02, -1.46173491e-03, -1.38145240e-01, -2.95768352e-02])"
      ]
     },
     "execution_count": 62,
     "metadata": {},
     "output_type": "execute_result"
    }
   ],
   "source": [
    "reg_model.coef_"
   ]
  },
  {
   "cell_type": "code",
   "execution_count": 63,
   "id": "f8cbf478",
   "metadata": {
    "scrolled": true
   },
   "outputs": [
    {
     "data": {
      "text/plain": [
       "0.5526643616944702"
      ]
     },
     "execution_count": 63,
     "metadata": {},
     "output_type": "execute_result"
    }
   ],
   "source": [
    "reg_model.intercept_"
   ]
  }
 ],
 "metadata": {
  "kernelspec": {
   "display_name": "Python 3 (ipykernel)",
   "language": "python",
   "name": "python3"
  },
  "language_info": {
   "codemirror_mode": {
    "name": "ipython",
    "version": 3
   },
   "file_extension": ".py",
   "mimetype": "text/x-python",
   "name": "python",
   "nbconvert_exporter": "python",
   "pygments_lexer": "ipython3",
   "version": "3.9.7"
  }
 },
 "nbformat": 4,
 "nbformat_minor": 5
}
